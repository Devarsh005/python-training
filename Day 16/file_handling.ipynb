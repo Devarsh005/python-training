{
 "cells": [
  {
   "cell_type": "code",
   "execution_count": 31,
   "id": "2ab90d61",
   "metadata": {},
   "outputs": [],
   "source": [
    "f = open(\"Devarsh_documents.txt\",'w')"
   ]
  },
  {
   "cell_type": "code",
   "execution_count": 32,
   "id": "5b9552f2",
   "metadata": {},
   "outputs": [
    {
     "data": {
      "text/plain": [
       "49"
      ]
     },
     "execution_count": 32,
     "metadata": {},
     "output_type": "execute_result"
    }
   ],
   "source": [
    "f.write(\"Hello user! This is new Line \\n My name is Devarsh\")"
   ]
  },
  {
   "cell_type": "code",
   "execution_count": 34,
   "id": "f2caf6df",
   "metadata": {},
   "outputs": [
    {
     "data": {
      "text/plain": [
       "'Hello user! This is new Line \\n My name is Devarsh'"
      ]
     },
     "execution_count": 34,
     "metadata": {},
     "output_type": "execute_result"
    }
   ],
   "source": [
    "f = open(\"Devarsh_documents.txt\",'r')\n",
    "f.read()"
   ]
  },
  {
   "cell_type": "code",
   "execution_count": 35,
   "id": "5e190fb4",
   "metadata": {},
   "outputs": [
    {
     "data": {
      "text/plain": [
       "21"
      ]
     },
     "execution_count": 35,
     "metadata": {},
     "output_type": "execute_result"
    }
   ],
   "source": [
    "f = open(\"Devarsh_documents.txt\",\"a\")\n",
    "f.write(\"this is appended text\")"
   ]
  },
  {
   "cell_type": "code",
   "execution_count": 36,
   "id": "4e0f387e",
   "metadata": {},
   "outputs": [
    {
     "data": {
      "text/plain": [
       "'Hello user! This is new Line \\n My name is Devarshthis is appended text'"
      ]
     },
     "execution_count": 36,
     "metadata": {},
     "output_type": "execute_result"
    }
   ],
   "source": [
    "f = open(\"Devarsh_documents.txt\",\"r\")\n",
    "f.read()"
   ]
  },
  {
   "cell_type": "code",
   "execution_count": 37,
   "id": "bb6cf8fd",
   "metadata": {},
   "outputs": [],
   "source": [
    "f.close()"
   ]
  },
  {
   "cell_type": "code",
   "execution_count": 39,
   "id": "d6543bc3",
   "metadata": {},
   "outputs": [
    {
     "data": {
      "text/plain": [
       "18"
      ]
     },
     "execution_count": 39,
     "metadata": {},
     "output_type": "execute_result"
    }
   ],
   "source": [
    "f = open(\"Devarsh_documents.txt\",\"a\")\n",
    "f.write(\"hello good morning\")"
   ]
  },
  {
   "cell_type": "code",
   "execution_count": 40,
   "id": "75abab2b",
   "metadata": {},
   "outputs": [],
   "source": [
    "f.close()"
   ]
  },
  {
   "cell_type": "code",
   "execution_count": 41,
   "id": "4dc50686",
   "metadata": {},
   "outputs": [
    {
     "ename": "ValueError",
     "evalue": "I/O operation on closed file.",
     "output_type": "error",
     "traceback": [
      "\u001b[1;31m---------------------------------------------------------------------------\u001b[0m",
      "\u001b[1;31mValueError\u001b[0m                                Traceback (most recent call last)",
      "Cell \u001b[1;32mIn[41], line 1\u001b[0m\n\u001b[1;32m----> 1\u001b[0m f\u001b[38;5;241m.\u001b[39mwrite(\u001b[38;5;124m\"\u001b[39m\u001b[38;5;130;01m\\n\u001b[39;00m\u001b[38;5;124mhllojchdcgcbdycggbcjbc\u001b[39m\u001b[38;5;124m\"\u001b[39m)\n",
      "\u001b[1;31mValueError\u001b[0m: I/O operation on closed file."
     ]
    }
   ],
   "source": [
    "f.write(\"\\nhllojchdcgcbdycggbcjbc\")"
   ]
  },
  {
   "cell_type": "code",
   "execution_count": 56,
   "id": "d54674cf",
   "metadata": {},
   "outputs": [],
   "source": [
    "file1 = open(\"first.txt\",\"r\")"
   ]
  },
  {
   "cell_type": "code",
   "execution_count": 59,
   "id": "97effa6d",
   "metadata": {},
   "outputs": [
    {
     "name": "stdout",
     "output_type": "stream",
     "text": [
      "114\n"
     ]
    }
   ],
   "source": [
    "file2 = open(\"second.txt\",\"a\")\n",
    "file2.write(file1.read())\n",
    "print(file2.tell())\n",
    "file2.close()"
   ]
  },
  {
   "cell_type": "code",
   "execution_count": 58,
   "id": "8ce3b8a2",
   "metadata": {},
   "outputs": [
    {
     "data": {
      "text/plain": [
       "38"
      ]
     },
     "execution_count": 58,
     "metadata": {},
     "output_type": "execute_result"
    }
   ],
   "source": [
    "file1.tell()"
   ]
  },
  {
   "cell_type": "code",
   "execution_count": 60,
   "id": "74640561",
   "metadata": {},
   "outputs": [
    {
     "data": {
      "text/plain": [
       "114"
      ]
     },
     "execution_count": 60,
     "metadata": {},
     "output_type": "execute_result"
    }
   ],
   "source": [
    "file2 = open('second.txt','a')\n",
    "file2.tell()"
   ]
  },
  {
   "cell_type": "markdown",
   "id": "20e411d9",
   "metadata": {},
   "source": [
    "# how to to write csv file using python"
   ]
  },
  {
   "cell_type": "code",
   "execution_count": 64,
   "id": "86c3ae5c",
   "metadata": {},
   "outputs": [],
   "source": [
    "field = ['Name', 'Branch', 'Year', 'CGPA']\n",
    "data=[\n",
    "        ['Nikhil', 'COE', '2', '9.0'],\n",
    "    ['Sanchit', 'COE', '2', '9.1'],\n",
    "    ['Aditya', 'IT', '2', '9.3'],\n",
    "    ['Sagar', 'SE', '1', '9.5'],\n",
    "    ['Prateek', 'MCE', '3', '7.8'],\n",
    "    ['Sahil', 'EP', '2', '9.1']\n",
    "]"
   ]
  },
  {
   "cell_type": "code",
   "execution_count": 61,
   "id": "4034928e",
   "metadata": {},
   "outputs": [],
   "source": [
    "import csv"
   ]
  },
  {
   "cell_type": "code",
   "execution_count": 62,
   "id": "b5bffc9f",
   "metadata": {},
   "outputs": [],
   "source": [
    "file = open(\"Data.csv\",mode='w')"
   ]
  },
  {
   "cell_type": "code",
   "execution_count": 65,
   "id": "743c2b78",
   "metadata": {},
   "outputs": [],
   "source": [
    "# create a object to write csv file using a built in csv write class\n",
    "csvWriter = csv.writer(file)\n",
    "csvWriter.writerow(field)\n",
    "csvWriter.writerows(data)"
   ]
  },
  {
   "cell_type": "code",
   "execution_count": 66,
   "id": "f15c8942",
   "metadata": {},
   "outputs": [],
   "source": [
    "file.close()"
   ]
  },
  {
   "cell_type": "markdown",
   "id": "0bcce1af",
   "metadata": {},
   "source": [
    "### csv reader"
   ]
  },
  {
   "cell_type": "code",
   "execution_count": 70,
   "id": "cc14fbe4",
   "metadata": {},
   "outputs": [],
   "source": [
    "file = open(\"Data.csv\",\"r\")\n",
    "csvReader = csv.reader(file)\n"
   ]
  },
  {
   "cell_type": "code",
   "execution_count": 72,
   "id": "82736fa6",
   "metadata": {},
   "outputs": [
    {
     "name": "stdout",
     "output_type": "stream",
     "text": [
      "['Name', 'Branch', 'Year', 'CGPA']\n",
      "[]\n",
      "['Nikhil', 'COE', '2', '9.0']\n",
      "[]\n",
      "['Sanchit', 'COE', '2', '9.1']\n",
      "[]\n",
      "['Aditya', 'IT', '2', '9.3']\n",
      "[]\n",
      "['Sagar', 'SE', '1', '9.5']\n",
      "[]\n",
      "['Prateek', 'MCE', '3', '7.8']\n",
      "[]\n",
      "['Sahil', 'EP', '2', '9.1']\n",
      "[]\n"
     ]
    }
   ],
   "source": [
    "for line in csvReader:\n",
    "    print(line)"
   ]
  },
  {
   "cell_type": "code",
   "execution_count": null,
   "id": "d4e19cab",
   "metadata": {},
   "outputs": [],
   "source": []
  }
 ],
 "metadata": {
  "kernelspec": {
   "display_name": "base",
   "language": "python",
   "name": "python3"
  },
  "language_info": {
   "codemirror_mode": {
    "name": "ipython",
    "version": 3
   },
   "file_extension": ".py",
   "mimetype": "text/x-python",
   "name": "python",
   "nbconvert_exporter": "python",
   "pygments_lexer": "ipython3",
   "version": "3.11.5"
  }
 },
 "nbformat": 4,
 "nbformat_minor": 5
}
