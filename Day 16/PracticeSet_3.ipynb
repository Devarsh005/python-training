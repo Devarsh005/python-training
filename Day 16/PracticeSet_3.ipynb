{
 "cells": [
  {
   "cell_type": "markdown",
   "id": "f3838a87",
   "metadata": {},
   "source": [
    "### 1. Write a Python program to copy the contents of one text file into another"
   ]
  },
  {
   "cell_type": "code",
   "execution_count": 15,
   "id": "747bafe1",
   "metadata": {},
   "outputs": [],
   "source": [
    "file1 = open(\"first.txt\",\"r\")\n",
    "file2 = open(\"second.txt\",\"w\")\n"
   ]
  },
  {
   "cell_type": "code",
   "execution_count": 16,
   "id": "5d8828fa",
   "metadata": {},
   "outputs": [],
   "source": [
    "file2.write(file1.read())\n",
    "file2.close()"
   ]
  },
  {
   "cell_type": "code",
   "execution_count": 17,
   "id": "c0d0a27c",
   "metadata": {},
   "outputs": [
    {
     "data": {
      "text/plain": [
       "'Hello user!\\nThis is First text file\\n'"
      ]
     },
     "execution_count": 17,
     "metadata": {},
     "output_type": "execute_result"
    }
   ],
   "source": [
    "file2= open(\"second.txt\",'r')\n",
    "file2.read()"
   ]
  },
  {
   "cell_type": "markdown",
   "id": "50e4612d",
   "metadata": {},
   "source": [
    "### 2. Given a CSV file with student names and scores, find the student with the highest score"
   ]
  },
  {
   "cell_type": "code",
   "execution_count": 4,
   "id": "821d85a6",
   "metadata": {},
   "outputs": [],
   "source": [
    "fields = ['name','score']\n",
    "data =[\n",
    "    ['Mohit',99],\n",
    "    [\"Avinash\",95],\n",
    "    [\"Sanket\",90],\n",
    "    [\"kalpan\",93],\n",
    "    ['vatsal',88],\n",
    "    ['Aakash',91],\n",
    "]"
   ]
  },
  {
   "cell_type": "code",
   "execution_count": 5,
   "id": "c0c2dc29",
   "metadata": {},
   "outputs": [],
   "source": [
    "import csv"
   ]
  },
  {
   "cell_type": "code",
   "execution_count": 6,
   "id": "5ca66a3c",
   "metadata": {},
   "outputs": [],
   "source": [
    "# fisrt -> create a csv file using csv write class\n",
    "newfile = open(\"students.csv\",\"w\",newline=\"\")\n",
    "writingObjet  = csv.writer(newfile)\n",
    "\n",
    "# first write header\n",
    "writingObjet.writerow(fields)\n",
    "# second write data \n",
    "writingObjet.writerows(data)\n",
    "newfile.close()"
   ]
  },
  {
   "cell_type": "code",
   "execution_count": 8,
   "id": "813db40d",
   "metadata": {},
   "outputs": [],
   "source": [
    "file = open(\"students.csv\",\"r\")\n",
    "file_read_object = csv.reader(file)\n"
   ]
  },
  {
   "cell_type": "code",
   "execution_count": 9,
   "id": "991f991c",
   "metadata": {},
   "outputs": [],
   "source": [
    "data =[]\n",
    "for line in file_read_object:\n",
    "    data.append(line)"
   ]
  },
  {
   "cell_type": "code",
   "execution_count": 10,
   "id": "1f041150",
   "metadata": {},
   "outputs": [
    {
     "data": {
      "text/plain": [
       "[['name', 'score'],\n",
       " ['Mohit', '99'],\n",
       " ['Avinash', '95'],\n",
       " ['Sanket', '90'],\n",
       " ['kalpan', '93'],\n",
       " ['vatsal', '88'],\n",
       " ['Aakash', '91']]"
      ]
     },
     "execution_count": 10,
     "metadata": {},
     "output_type": "execute_result"
    }
   ],
   "source": [
    "data"
   ]
  },
  {
   "cell_type": "code",
   "execution_count": 56,
   "id": "ef50f503",
   "metadata": {},
   "outputs": [],
   "source": [
    "def high_score(data): \n",
    "    score=[]\n",
    "    for j in range(1,len(data)):\n",
    "        score.append(int(data[j][1]))\n",
    "    max_score = max(score)\n",
    "    for j in range(1,len(data)):\n",
    "        if (data[j][1]==str(max_score)):\n",
    "            return data[j][0]\n",
    "    return max_score\n"
   ]
  },
  {
   "cell_type": "markdown",
   "id": "eec48532",
   "metadata": {},
   "source": [
    "### 3. Implement a program that reads a text file and counts the number of words and lines in it\n"
   ]
  },
  {
   "cell_type": "code",
   "execution_count": null,
   "id": "5b69f32d",
   "metadata": {},
   "outputs": [
    {
     "name": "stdout",
     "output_type": "stream",
     "text": [
      "the number of words in file is 36\n",
      "the number of lines in file is 0\n"
     ]
    }
   ],
   "source": [
    "file = open(\"first.txt\",\"r\")\n",
    "print(f\"the number of words in file is {len(file.read())}\")\n",
    "file.close()"
   ]
  },
  {
   "cell_type": "code",
   "execution_count": 75,
   "id": "ddbb7ad5",
   "metadata": {},
   "outputs": [
    {
     "name": "stdout",
     "output_type": "stream",
     "text": [
      "the number of lines in file is 2\n"
     ]
    }
   ],
   "source": [
    "file = open(\"first.txt\",\"r\")\n",
    "print(f\"the number of lines in file is {len(file.readlines())}\")\n",
    "file.close()"
   ]
  },
  {
   "cell_type": "markdown",
   "id": "cc7bc5f6",
   "metadata": {},
   "source": [
    "### 4. Create a function that takes a list of sentences and writes them to a new text file, each on a new line\n"
   ]
  },
  {
   "cell_type": "code",
   "execution_count": null,
   "id": "97cf8525",
   "metadata": {},
   "outputs": [],
   "source": [
    "file = open(\"newFile.txt\",\"a\",newline=\"\")\n",
    "list_of_senetenses = [\"hello , how are you!\",\"This is user file\",\"which is created by a function\"]\n",
    "def list_to_file_writing(file,list_of_senetenses):\n",
    "    for i in list_of_senetenses:\n",
    "        file.write(i+\"\\n\")\n",
    "\n",
    "list_to_file_writing(file,list_of_senetenses)\n",
    "file.close()\n",
    "\n",
    "\n",
    "# file.close()\n",
    "# for i in list_of_senetenses:\n",
    "#     file.write(i+\"\\n\")\n",
    "# file.flush()\n",
    "# file.truncate(0)"
   ]
  },
  {
   "cell_type": "markdown",
   "id": "478252a6",
   "metadata": {},
   "source": [
    "### 5. Given a CSV file with employee details (name, age, salary), calculate the average salary of all employees"
   ]
  },
  {
   "cell_type": "code",
   "execution_count": 113,
   "id": "2489bf51",
   "metadata": {},
   "outputs": [],
   "source": [
    "field = ['name','age','salary']\n",
    "\n",
    "Data = [\n",
    "    ['pushpa',23,1_00_000],\n",
    "    ['naran',45,90_000],\n",
    "    ['rekha',32,78_000]\n",
    "]\n",
    "\n",
    "# csv writing\n",
    "import csv\n",
    "# create a object for csv writing,\n",
    "# before that u must have file  which on you can perform \n",
    "file = open(\"emplyees.csv\",\"w\",newline=\"\")\n",
    "employee_object = csv.writer(file)\n",
    "employee_object.writerow(field)\n",
    "employee_object.writerows(Data)\n",
    "file.close()"
   ]
  },
  {
   "cell_type": "code",
   "execution_count": 122,
   "id": "5027553f",
   "metadata": {},
   "outputs": [
    {
     "name": "stdout",
     "output_type": "stream",
     "text": [
      "[['name', 'age', 'salary'], ['pushpa', '23', '100000'], ['naran', '45', '90000'], ['rekha', '32', '78000']]\n",
      "Average of employess salry is  67000.0\n"
     ]
    }
   ],
   "source": [
    "file = open('emplyees.csv',\"r\")\n",
    "file_reader = csv.reader(file)\n",
    "# for i in file_reader:\n",
    "#     print(i)\n",
    "average = 0\n",
    "new_data = []\n",
    "for i in file_reader:\n",
    "    new_data.append(i)\n",
    "print(new_data)\n",
    "for i in range(1,len(new_data)):\n",
    "    average+= int(new_data[i][2])\n",
    "\n",
    "print(f\"Average of employess salry is  {average/len(new_data)}\")\n"
   ]
  },
  {
   "cell_type": "markdown",
   "id": "4545b6dd",
   "metadata": {},
   "source": [
    "### 6. Write a program that reads a CSV file and finds the total sales revenue for a specific product"
   ]
  },
  {
   "cell_type": "code",
   "execution_count": 127,
   "id": "c5e8ff7f",
   "metadata": {},
   "outputs": [
    {
     "name": "stdout",
     "output_type": "stream",
     "text": [
      "['Month', 'Cream', 'Detergent', 'Moisturizer', 'Sanitizer', 'Shampoo', 'Soap', 'Total Units', 'Total Profit']\n",
      "['Jan', '5100', '9600', '1525', '1550', '1200', '2510', '21485', '211500']\n",
      "['Feb', '5000', '6500', '1225', '1250', '2100', '2640', '18715', '183800']\n",
      "['Mar', '4450', '9950', '1365', '1390', '3550', '2150', '22855', '225200']\n",
      "['Apr', '5770', '9270', '1155', '1180', '1870', '3410', '22655', '223200']\n",
      "['May', '4460', '8160', '1765', '1790', '1560', '3610', '21345', '210100']\n",
      "['Jun', '4790', '7890', '1580', '1605', '1890', '2770', '20525', '201900']\n",
      "['Jul', '4680', '9380', '1145', '1170', '1780', '2990', '21145', '296000']\n",
      "['Aug', '5760', '10360', '1425', '1450', '2860', '3710', '25565', '361900']\n",
      "['Sep', '6000', '8500', '1805', '1830', '2100', '3550', '23785', '234500']\n",
      "['Oct', '8200', '10700', '1915', '1940', '2300', '2000', '27055', '267200']\n",
      "['Nov', '7200', '13700', '2125', '2150', '2400', '2350', '29925', '413300']\n",
      "['Dec', '7300', '14800', '1785', '1810', '1800', '2910', '30405', '300700']\n"
     ]
    }
   ],
   "source": [
    "sales_data_file = open(\"Product Sales Data.csv\",\"r\")\n",
    "sales_data = csv.reader(sales_data_file)\n",
    "for i in sales_data:\n",
    "    print(i)"
   ]
  },
  {
   "cell_type": "code",
   "execution_count": 131,
   "id": "ec186954",
   "metadata": {},
   "outputs": [
    {
     "data": {
      "text/plain": [
       "5"
      ]
     },
     "execution_count": 131,
     "metadata": {},
     "output_type": "execute_result"
    }
   ],
   "source": [
    "# i just work on , total revenue for a shampoo product\n",
    "sales_data_file = open(\"Product Sales Data.csv\",\"r\")\n",
    "sales_data = csv.reader(sales_data_file)\n",
    "sales_data_list = []\n",
    "for i in sales_data:\n",
    "    sales_data_list.append(i)\n",
    "# print(sales_data_list)\n",
    "sales_data_list[0].index(\"Shampoo\")\n"
   ]
  },
  {
   "cell_type": "code",
   "execution_count": 138,
   "id": "95619b28",
   "metadata": {},
   "outputs": [
    {
     "data": {
      "text/plain": [
       "25410"
      ]
     },
     "execution_count": 138,
     "metadata": {},
     "output_type": "execute_result"
    }
   ],
   "source": [
    "shampoo_total_sale = 0\n",
    "for i in range(1,len(sales_data_list)):\n",
    "    shampoo_total_sale += int(sales_data_list[i][5])\n",
    "shampoo_total_sale"
   ]
  },
  {
   "cell_type": "markdown",
   "id": "1de91f02",
   "metadata": {},
   "source": [
    "### 7. Given a text file with a list of numbers, write a function that finds the sum of all numbers in the file"
   ]
  },
  {
   "cell_type": "code",
   "execution_count": 178,
   "id": "4bafaf70",
   "metadata": {},
   "outputs": [
    {
     "name": "stdout",
     "output_type": "stream",
     "text": [
      "['1', '2', '3']\n",
      "3\n"
     ]
    },
    {
     "data": {
      "text/plain": [
       "6"
      ]
     },
     "execution_count": 178,
     "metadata": {},
     "output_type": "execute_result"
    }
   ],
   "source": [
    "numbers =[]\n",
    "with open(\"list of numvers.txt\",\"r\") as numbers_file:\n",
    "    for number in numbers_file:\n",
    "        numbers.extend(number.strip('[]').split(','))\n",
    "print(numbers)\n",
    "print(len(numbers))\n",
    "def sum_of_numbers(num):\n",
    "    sum =0 \n",
    "    for i in range(len(num)):\n",
    "        sum += int(num[i])\n",
    "    return sum\n",
    "sum_of_numbers(numbers)\n",
    "    \n",
    "# print(stored_number_file)\n",
    "\n"
   ]
  },
  {
   "cell_type": "markdown",
   "id": "58cb20e4",
   "metadata": {},
   "source": [
    "### 9. Write a function that reads a JSON file and extracts specific information from it\n"
   ]
  },
  {
   "cell_type": "code",
   "execution_count": 193,
   "id": "472be0f7",
   "metadata": {},
   "outputs": [
    {
     "name": "stdout",
     "output_type": "stream",
     "text": [
      "Alice Johnson, Manager  75000\n",
      "Bob Smith, Engineer  65000\n",
      "Carol White, Designer  60000\n"
     ]
    }
   ],
   "source": [
    "import json\n",
    "with open(\"employee.json\",\"r\") as employee_file:\n",
    "    jsonData = json.load(employee_file)\n",
    "for i in jsonData:\n",
    "    print(f\"{i['name']}, {i['position']}  {i['salary']}\")"
   ]
  },
  {
   "cell_type": "markdown",
   "id": "f54cea2d",
   "metadata": {},
   "source": [
    "### 10. Given a CSV file with temperature data for each day of the week, find the average temperature for each day. "
   ]
  },
  {
   "cell_type": "code",
   "execution_count": null,
   "id": "5d221230",
   "metadata": {},
   "outputs": [],
   "source": [
    "same like above"
   ]
  },
  {
   "cell_type": "code",
   "execution_count": null,
   "id": "93e78024",
   "metadata": {},
   "outputs": [],
   "source": []
  }
 ],
 "metadata": {
  "kernelspec": {
   "display_name": "base",
   "language": "python",
   "name": "python3"
  },
  "language_info": {
   "codemirror_mode": {
    "name": "ipython",
    "version": 3
   },
   "file_extension": ".py",
   "mimetype": "text/x-python",
   "name": "python",
   "nbconvert_exporter": "python",
   "pygments_lexer": "ipython3",
   "version": "3.11.5"
  }
 },
 "nbformat": 4,
 "nbformat_minor": 5
}
