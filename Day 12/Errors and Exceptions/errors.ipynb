{
 "cells": [
  {
   "cell_type": "markdown",
   "id": "15d522b6",
   "metadata": {},
   "source": [
    "# Error exception \n"
   ]
  },
  {
   "cell_type": "code",
   "execution_count": 1,
   "id": "cbceec45",
   "metadata": {},
   "outputs": [],
   "source": [
    "# code copy from datacamp\n",
    "def divide(x,y):\n",
    "    try:\n",
    "        result = x/y\n",
    "    except ZeroDivisionError:\n",
    "        print(\"Please change 'y' argument to non-zero value\")\n",
    "    except:\n",
    "        print(\"Something went wrong\")\n",
    "    else:\n",
    "        print(f\"Your answer is {result}\")\n",
    "    finally:\n",
    "        print(\"\\033[92m Code by DataCamp\\033[00m\")\n"
   ]
  },
  {
   "cell_type": "code",
   "execution_count": 2,
   "id": "338c29f6",
   "metadata": {},
   "outputs": [
    {
     "name": "stdout",
     "output_type": "stream",
     "text": [
      "Please change 'y' argument to non-zero value\n",
      "\u001b[92m Code by DataCamp\u001b[00m\n"
     ]
    }
   ],
   "source": [
    "divide(10,0)"
   ]
  },
  {
   "cell_type": "code",
   "execution_count": 3,
   "id": "e77f1fcd",
   "metadata": {},
   "outputs": [
    {
     "name": "stdout",
     "output_type": "stream",
     "text": [
      "Something went wrong\n",
      "\u001b[92m Code by DataCamp\u001b[00m\n"
     ]
    }
   ],
   "source": [
    "divide(1,'hello')"
   ]
  },
  {
   "cell_type": "code",
   "execution_count": 4,
   "id": "71bbcab1",
   "metadata": {},
   "outputs": [
    {
     "name": "stdout",
     "output_type": "stream",
     "text": [
      "Your answer is 5.0\n",
      "\u001b[92m Code by DataCamp\u001b[00m\n"
     ]
    }
   ],
   "source": [
    "divide(100,20)"
   ]
  },
  {
   "cell_type": "markdown",
   "id": "ac9937e4",
   "metadata": {},
   "source": [
    "# nested Exception handling"
   ]
  },
  {
   "cell_type": "code",
   "execution_count": 8,
   "id": "405e78f1",
   "metadata": {},
   "outputs": [],
   "source": [
    "def divide(x,y):\n",
    "    \n",
    "    try:\n",
    "        value = 50\n",
    "        x.append(value)\n",
    "    \n",
    "    except AttributeError as atr_err:\n",
    "        print(atr_err)\n",
    "        \n",
    "    else:\n",
    "        try:\n",
    "            result = [i / y for i in x]\n",
    "            print( result )\n",
    "        except ZeroDivisionError:\n",
    "            print(\"Please change 'y' argument to non-zero value\")\n",
    "\n",
    "    finally:\n",
    "        print(\"\\033[92m Code by DataCamp\\033[00m\")"
   ]
  },
  {
   "cell_type": "code",
   "execution_count": 13,
   "id": "9bcfc646",
   "metadata": {},
   "outputs": [
    {
     "name": "stdout",
     "output_type": "stream",
     "text": [
      "[2.0, 2.4, 10.0]\n",
      "\u001b[92m Code by DataCamp\u001b[00m\n"
     ]
    }
   ],
   "source": [
    "divide([10,12],5)"
   ]
  },
  {
   "cell_type": "code",
   "execution_count": 14,
   "id": "a44624d3",
   "metadata": {},
   "outputs": [
    {
     "ename": "SyntaxError",
     "evalue": "'return' outside function (3087138930.py, line 1)",
     "output_type": "error",
     "traceback": [
      "\u001b[1;36m  Cell \u001b[1;32mIn[14], line 1\u001b[1;36m\u001b[0m\n\u001b[1;33m    return datacma\u001b[0m\n\u001b[1;37m    ^\u001b[0m\n\u001b[1;31mSyntaxError\u001b[0m\u001b[1;31m:\u001b[0m 'return' outside function\n"
     ]
    }
   ],
   "source": [
    "return datacma"
   ]
  },
  {
   "cell_type": "code",
   "execution_count": 15,
   "id": "abf2b866",
   "metadata": {},
   "outputs": [
    {
     "ename": "IndentationError",
     "evalue": "expected an indented block after function definition on line 1 (1450250614.py, line 2)",
     "output_type": "error",
     "traceback": [
      "\u001b[1;36m  Cell \u001b[1;32mIn[15], line 2\u001b[1;36m\u001b[0m\n\u001b[1;33m    return fy\u001b[0m\n\u001b[1;37m    ^\u001b[0m\n\u001b[1;31mIndentationError\u001b[0m\u001b[1;31m:\u001b[0m expected an indented block after function definition on line 1\n"
     ]
    }
   ],
   "source": [
    "def dun():\n",
    "return fy"
   ]
  },
  {
   "cell_type": "code",
   "execution_count": 16,
   "id": "861134e9",
   "metadata": {},
   "outputs": [
    {
     "ename": "ZeroDivisionError",
     "evalue": "division by zero",
     "output_type": "error",
     "traceback": [
      "\u001b[1;31m---------------------------------------------------------------------------\u001b[0m",
      "\u001b[1;31mZeroDivisionError\u001b[0m                         Traceback (most recent call last)",
      "Cell \u001b[1;32mIn[16], line 1\u001b[0m\n\u001b[1;32m----> 1\u001b[0m test \u001b[38;5;241m=\u001b[39m \u001b[38;5;241m1\u001b[39m\u001b[38;5;241m/\u001b[39m\u001b[38;5;241m0\u001b[39m\n",
      "\u001b[1;31mZeroDivisionError\u001b[0m: division by zero"
     ]
    }
   ],
   "source": [
    "test = 1/0"
   ]
  },
  {
   "cell_type": "code",
   "execution_count": 17,
   "id": "f69949b6",
   "metadata": {},
   "outputs": [
    {
     "ename": "NameError",
     "evalue": "name 'test' is not defined",
     "output_type": "error",
     "traceback": [
      "\u001b[1;31m---------------------------------------------------------------------------\u001b[0m",
      "\u001b[1;31mNameError\u001b[0m                                 Traceback (most recent call last)",
      "Cell \u001b[1;32mIn[17], line 1\u001b[0m\n\u001b[1;32m----> 1\u001b[0m y \u001b[38;5;241m=\u001b[39m test\n",
      "\u001b[1;31mNameError\u001b[0m: name 'test' is not defined"
     ]
    }
   ],
   "source": [
    "y = test"
   ]
  },
  {
   "cell_type": "code",
   "execution_count": 27,
   "id": "246816bc",
   "metadata": {},
   "outputs": [
    {
     "ename": "AssertionError",
     "evalue": "invalid , y not equal to 10",
     "output_type": "error",
     "traceback": [
      "\u001b[1;31m---------------------------------------------------------------------------\u001b[0m",
      "\u001b[1;31mAssertionError\u001b[0m                            Traceback (most recent call last)",
      "Cell \u001b[1;32mIn[27], line 3\u001b[0m\n\u001b[0;32m      1\u001b[0m x\u001b[38;5;241m=\u001b[39m\u001b[38;5;241m1\u001b[39m\n\u001b[0;32m      2\u001b[0m y\u001b[38;5;241m=\u001b[39m\u001b[38;5;241m10\u001b[39m\n\u001b[1;32m----> 3\u001b[0m \u001b[38;5;28;01massert\u001b[39;00m y \u001b[38;5;241m!=\u001b[39m \u001b[38;5;241m10\u001b[39m ,\u001b[38;5;124m\"\u001b[39m\u001b[38;5;124minvalid , y not equal to 10\u001b[39m\u001b[38;5;124m\"\u001b[39m\n\u001b[0;32m      4\u001b[0m \u001b[38;5;28mprint\u001b[39m(x\u001b[38;5;241m/\u001b[39my)\n",
      "\u001b[1;31mAssertionError\u001b[0m: invalid , y not equal to 10"
     ]
    }
   ],
   "source": [
    "x=1\n",
    "y=10\n",
    "assert y != 10 ,\"invalid , y not equal to 10\"\n",
    "print(x/y)"
   ]
  },
  {
   "cell_type": "markdown",
   "id": "51ab82c6",
   "metadata": {},
   "source": [
    "### EOFError"
   ]
  },
  {
   "cell_type": "code",
   "execution_count": 28,
   "id": "0b4ad5f2",
   "metadata": {},
   "outputs": [
    {
     "name": "stdout",
     "output_type": "stream",
     "text": [
      "\n"
     ]
    }
   ],
   "source": [
    "x = input()\n",
    "print(x)"
   ]
  },
  {
   "cell_type": "code",
   "execution_count": 2,
   "id": "89d7c924",
   "metadata": {},
   "outputs": [
    {
     "ename": "ValueError",
     "evalue": "invalid literal for int() with base 10: ''",
     "output_type": "error",
     "traceback": [
      "\u001b[1;31m---------------------------------------------------------------------------\u001b[0m",
      "\u001b[1;31mValueError\u001b[0m                                Traceback (most recent call last)",
      "Cell \u001b[1;32mIn[2], line 2\u001b[0m\n\u001b[0;32m      1\u001b[0m \u001b[38;5;28;01mtry\u001b[39;00m:\n\u001b[1;32m----> 2\u001b[0m     n \u001b[38;5;241m=\u001b[39m \u001b[38;5;28mint\u001b[39m(\u001b[38;5;28minput\u001b[39m(\u001b[38;5;124m\"\u001b[39m\u001b[38;5;124menter a vlaue\u001b[39m\u001b[38;5;124m\"\u001b[39m))\n\u001b[0;32m      3\u001b[0m \u001b[38;5;28;01mexcept\u001b[39;00m \u001b[38;5;167;01mEOFError\u001b[39;00m:\n\u001b[0;32m      4\u001b[0m     \u001b[38;5;28mprint\u001b[39m(\u001b[38;5;124m\"\u001b[39m\u001b[38;5;124mit occures when no input is entered\u001b[39m\u001b[38;5;124m\"\u001b[39m)\n",
      "\u001b[1;31mValueError\u001b[0m: invalid literal for int() with base 10: ''"
     ]
    }
   ],
   "source": [
    "try:\n",
    "    n = int(input(\"enter a vlaue\"))\n",
    "except EOFError:\n",
    "    print(\"it occures when no input is entered\")"
   ]
  },
  {
   "cell_type": "code",
   "execution_count": null,
   "id": "365107c7",
   "metadata": {},
   "outputs": [
    {
     "ename": "AttributeError",
     "evalue": "'int' object has no attribute 'append'",
     "output_type": "error",
     "traceback": [
      "\u001b[1;31m---------------------------------------------------------------------------\u001b[0m",
      "\u001b[1;31mAttributeError\u001b[0m                            Traceback (most recent call last)",
      "Cell \u001b[1;32mIn[3], line 2\u001b[0m\n\u001b[0;32m      1\u001b[0m x \u001b[38;5;241m=\u001b[39m \u001b[38;5;241m10\u001b[39m\n\u001b[1;32m----> 2\u001b[0m x\u001b[38;5;241m.\u001b[39mappend()\n",
      "\u001b[1;31mAttributeError\u001b[0m: 'int' object has no attribute 'append'"
     ]
    }
   ],
   "source": [
    "x = 10\n",
    "x.append(9)"
   ]
  },
  {
   "cell_type": "code",
   "execution_count": 6,
   "id": "6af78714",
   "metadata": {},
   "outputs": [
    {
     "name": "stdout",
     "output_type": "stream",
     "text": [
      "'int' object has no attribute 'append'\n",
      "we cannot append in int data types\n"
     ]
    }
   ],
   "source": [
    "try :\n",
    "    x=10\n",
    "    x.append(9)\n",
    "except AttributeError as err:\n",
    "    print(err)\n",
    "    print('we cannot append in int data types')"
   ]
  },
  {
   "cell_type": "code",
   "execution_count": 9,
   "id": "28f940eb",
   "metadata": {},
   "outputs": [
    {
     "ename": "IndentationError",
     "evalue": "unexpected indent (2848502086.py, line 5)",
     "output_type": "error",
     "traceback": [
      "\u001b[1;36m  Cell \u001b[1;32mIn[9], line 5\u001b[1;36m\u001b[0m\n\u001b[1;33m    return total\u001b[0m\n\u001b[1;37m    ^\u001b[0m\n\u001b[1;31mIndentationError\u001b[0m\u001b[1;31m:\u001b[0m unexpected indent\n"
     ]
    }
   ],
   "source": [
    "numbers = [3.50, 4.90, 6.60, 3.40]\n",
    "\n",
    "def s(purchases):\n",
    "    total = sum(numbers)\n",
    "     return total\n",
    "\n",
    "total_numbers = s(numbers)\n",
    "print(total_numbers)"
   ]
  },
  {
   "cell_type": "markdown",
   "id": "688b9ded",
   "metadata": {},
   "source": [
    "# basic exception\n"
   ]
  },
  {
   "cell_type": "code",
   "execution_count": 11,
   "id": "a754cd4f",
   "metadata": {},
   "outputs": [
    {
     "name": "stdout",
     "output_type": "stream",
     "text": [
      "error\n"
     ]
    }
   ],
   "source": [
    "try:\n",
    "    print(t)\n",
    "except:\n",
    "    print('error')"
   ]
  },
  {
   "cell_type": "markdown",
   "id": "3fb401e0",
   "metadata": {},
   "source": [
    "# multiple exception "
   ]
  },
  {
   "cell_type": "code",
   "execution_count": 12,
   "id": "39b0d127",
   "metadata": {},
   "outputs": [
    {
     "name": "stdout",
     "output_type": "stream",
     "text": [
      "10 is not divisable by zero\n"
     ]
    }
   ],
   "source": [
    "try:\n",
    "    x = 10/0\n",
    "except ZeroDivisionError:\n",
    "    print(\"10 is not divisable by zero\")\n",
    "except:\n",
    "    print(\"this is another exception except zeroDivisionError\")\n"
   ]
  },
  {
   "cell_type": "code",
   "execution_count": null,
   "id": "6f5e41b9",
   "metadata": {},
   "outputs": [
    {
     "name": "stdout",
     "output_type": "stream",
     "text": [
      "this is another exception except zeroDivisionError\n"
     ]
    }
   ],
   "source": [
    "string = 'hathi'\n",
    "try:\n",
    "    x = 10/string\n",
    "except ZeroDivisionError:\n",
    "    print(\"10 is not divisable by zero\")\n",
    "except ValueError:\n",
    "    print(\"this is another exception except zeroDivisionError\")\n"
   ]
  },
  {
   "cell_type": "code",
   "execution_count": 14,
   "id": "59f53884",
   "metadata": {},
   "outputs": [
    {
     "name": "stdout",
     "output_type": "stream",
     "text": [
      "'data.csv' not found\n"
     ]
    }
   ],
   "source": [
    "try:\n",
    "    with open('data.csv') as file:\n",
    "        file.read()\n",
    "except:\n",
    "    print(\"\\'data.csv\\' not found\")"
   ]
  },
  {
   "cell_type": "markdown",
   "id": "c6e45787",
   "metadata": {},
   "source": [
    "# try except else "
   ]
  },
  {
   "cell_type": "code",
   "execution_count": 15,
   "id": "1d3e969b",
   "metadata": {},
   "outputs": [
    {
     "name": "stdout",
     "output_type": "stream",
     "text": [
      "division by zero\n"
     ]
    }
   ],
   "source": [
    "try:\n",
    "    x = 10/0\n",
    "except ZeroDivisionError as err:\n",
    "    print(err)\n",
    "else:\n",
    "    print(\"the result of x is \"+x)\n"
   ]
  },
  {
   "cell_type": "code",
   "execution_count": 17,
   "id": "e53d8136",
   "metadata": {},
   "outputs": [
    {
     "name": "stdout",
     "output_type": "stream",
     "text": [
      "3.3333333333333335\n"
     ]
    }
   ],
   "source": [
    "try:\n",
    "    x = 10/3\n",
    "except ZeroDivisionError as err:\n",
    "    print(err)\n",
    "else:\n",
    "    print(x)\n"
   ]
  },
  {
   "cell_type": "code",
   "execution_count": 19,
   "id": "43108831",
   "metadata": {},
   "outputs": [
    {
     "name": "stdout",
     "output_type": "stream",
     "text": [
      "9 is greater than len of list x 4\n"
     ]
    }
   ],
   "source": [
    "x = [5,8,9,13]\n",
    "\n",
    "def find_thr_nth_valeu(x,n):\n",
    "    try:\n",
    "        result = x[n]\n",
    "    except IndexError:\n",
    "        print(f'{n} is greater than len of list x {len(x)}')\n",
    "\n",
    "find_thr_nth_valeu(x,9)\n"
   ]
  },
  {
   "cell_type": "markdown",
   "id": "1c9316d4",
   "metadata": {},
   "source": [
    "# finally\n"
   ]
  },
  {
   "cell_type": "code",
   "execution_count": null,
   "id": "402325f3",
   "metadata": {},
   "outputs": [],
   "source": [
    "def divide(x,n):\n",
    "    try :\n",
    "       result =  x/n\n",
    "    except ZeroDivisionError:\n",
    "        print('int is not divisable by 0')\n",
    "    except:\n",
    "        print(\"something else exception\")\n",
    "    else:\n",
    "        print(f\"the output is {result}\")\n",
    "    finally:\n",
    "        print(\"this is finally , it\\'s always runs\")\n"
   ]
  },
  {
   "cell_type": "code",
   "execution_count": 21,
   "id": "7f776a12",
   "metadata": {},
   "outputs": [
    {
     "name": "stdout",
     "output_type": "stream",
     "text": [
      "the output is 5.0\n",
      "this is finally , it's always runs\n"
     ]
    }
   ],
   "source": [
    "divide(10,2)"
   ]
  },
  {
   "cell_type": "code",
   "execution_count": 22,
   "id": "619e2ce8",
   "metadata": {},
   "outputs": [
    {
     "name": "stdout",
     "output_type": "stream",
     "text": [
      "int is not divisable by 0\n",
      "this is finally , it's always runs\n"
     ]
    }
   ],
   "source": [
    "divide(20,0)"
   ]
  },
  {
   "cell_type": "code",
   "execution_count": 23,
   "id": "f05039f4",
   "metadata": {},
   "outputs": [
    {
     "name": "stdout",
     "output_type": "stream",
     "text": [
      "something else exception\n",
      "this is finally , it's always runs\n"
     ]
    }
   ],
   "source": [
    "divide(20,'hll')"
   ]
  },
  {
   "cell_type": "markdown",
   "id": "28030fed",
   "metadata": {},
   "source": [
    "## nested exception handling"
   ]
  },
  {
   "cell_type": "code",
   "execution_count": 37,
   "id": "64dbfd15",
   "metadata": {},
   "outputs": [
    {
     "name": "stdout",
     "output_type": "stream",
     "text": [
      "x value is must be greater than 20\n"
     ]
    }
   ],
   "source": [
    "# this is the example of nested exception\n",
    "\n",
    "def nested_exception(x):\n",
    "    try:\n",
    "        if x>20:\n",
    "            try:\n",
    "                x.append(30)\n",
    "            except AttributeError as err:\n",
    "                print('err')\n",
    "        else:\n",
    "            raise ValueError('x value is must be greater than 20')\n",
    "    except ValueError as err:\n",
    "       print(err)\n",
    "\n",
    "nested_exception(10)\n",
    "\n"
   ]
  },
  {
   "cell_type": "code",
   "execution_count": 33,
   "id": "03d8b77c",
   "metadata": {},
   "outputs": [
    {
     "ename": "ValueError",
     "evalue": "x is must be less than 100",
     "output_type": "error",
     "traceback": [
      "\u001b[1;31m---------------------------------------------------------------------------\u001b[0m",
      "\u001b[1;31mValueError\u001b[0m                                Traceback (most recent call last)",
      "Cell \u001b[1;32mIn[33], line 3\u001b[0m\n\u001b[0;32m      1\u001b[0m x \u001b[38;5;241m=\u001b[39m \u001b[38;5;241m100\u001b[39m\n\u001b[0;32m      2\u001b[0m \u001b[38;5;28;01mif\u001b[39;00m x \u001b[38;5;241m>\u001b[39m\u001b[38;5;241m50\u001b[39m:\n\u001b[1;32m----> 3\u001b[0m     \u001b[38;5;28;01mraise\u001b[39;00m \u001b[38;5;167;01mValueError\u001b[39;00m(\u001b[38;5;124m\"\u001b[39m\u001b[38;5;124mx is must be less than 100\u001b[39m\u001b[38;5;124m\"\u001b[39m)\n",
      "\u001b[1;31mValueError\u001b[0m: x is must be less than 100"
     ]
    }
   ],
   "source": [
    "x = 100\n",
    "if x >50:\n",
    "    raise ValueError(\"x is must be less than 100\")\n"
   ]
  },
  {
   "cell_type": "code",
   "execution_count": 34,
   "id": "c58fa420",
   "metadata": {},
   "outputs": [
    {
     "ename": "Exception",
     "evalue": "add value lower than 1000",
     "output_type": "error",
     "traceback": [
      "\u001b[1;31m---------------------------------------------------------------------------\u001b[0m",
      "\u001b[1;31mException\u001b[0m                                 Traceback (most recent call last)",
      "Cell \u001b[1;32mIn[34], line 3\u001b[0m\n\u001b[0;32m      1\u001b[0m value \u001b[38;5;241m=\u001b[39m \u001b[38;5;241m1200\u001b[39m\n\u001b[0;32m      2\u001b[0m \u001b[38;5;28;01mif\u001b[39;00m value\u001b[38;5;241m>\u001b[39m\u001b[38;5;241m1000\u001b[39m:\n\u001b[1;32m----> 3\u001b[0m     \u001b[38;5;28;01mraise\u001b[39;00m \u001b[38;5;167;01mException\u001b[39;00m(\u001b[38;5;124m'\u001b[39m\u001b[38;5;124madd value lower than 1000\u001b[39m\u001b[38;5;124m'\u001b[39m)\n\u001b[0;32m      4\u001b[0m \u001b[38;5;28;01melse\u001b[39;00m:\n\u001b[0;32m      5\u001b[0m     \u001b[38;5;28mprint\u001b[39m(\u001b[38;5;124m\"\u001b[39m\u001b[38;5;124mdone\u001b[39m\u001b[38;5;124m\"\u001b[39m)\n",
      "\u001b[1;31mException\u001b[0m: add value lower than 1000"
     ]
    }
   ],
   "source": [
    "value = 1200\n",
    "if value>1000:\n",
    "    raise Exception('add value lower than 1000')\n",
    "else:\n",
    "    print(\"done\")"
   ]
  },
  {
   "cell_type": "code",
   "execution_count": 42,
   "id": "c57cce32",
   "metadata": {},
   "outputs": [
    {
     "name": "stdout",
     "output_type": "stream",
     "text": [
      "'int' object has no attribute 'append'\n"
     ]
    }
   ],
   "source": [
    "def nested_exception(x):\n",
    "    try:\n",
    "        if x>20:\n",
    "            try:\n",
    "                x.append(30)\n",
    "            except AttributeError as err:\n",
    "                print(err)\n",
    "    except:\n",
    "       print('err')\n",
    "\n",
    "nested_exception(30)"
   ]
  },
  {
   "cell_type": "code",
   "execution_count": null,
   "id": "5469b51f",
   "metadata": {},
   "outputs": [
    {
     "ename": "NameError",
     "evalue": "name 'somen' is not defined",
     "output_type": "error",
     "traceback": [
      "\u001b[1;31m---------------------------------------------------------------------------\u001b[0m",
      "\u001b[1;31mNameError\u001b[0m                                 Traceback (most recent call last)",
      "Cell \u001b[1;32mIn[44], line 3\u001b[0m\n\u001b[0;32m      1\u001b[0m \u001b[38;5;28;01mdef\u001b[39;00m \u001b[38;5;21mgreet\u001b[39m(someonn):\n\u001b[0;32m      2\u001b[0m     \u001b[38;5;28mprint\u001b[39m(\u001b[38;5;124m\"\u001b[39m\u001b[38;5;124mhello\u001b[39m\u001b[38;5;124m\"\u001b[39m\u001b[38;5;241m+\u001b[39msomen)\n\u001b[1;32m----> 3\u001b[0m greet(\u001b[38;5;124m'\u001b[39m\u001b[38;5;124mchad\u001b[39m\u001b[38;5;124m'\u001b[39m)\n",
      "Cell \u001b[1;32mIn[44], line 2\u001b[0m, in \u001b[0;36mgreet\u001b[1;34m(someonn)\u001b[0m\n\u001b[0;32m      1\u001b[0m \u001b[38;5;28;01mdef\u001b[39;00m \u001b[38;5;21mgreet\u001b[39m(someonn):\n\u001b[1;32m----> 2\u001b[0m     \u001b[38;5;28mprint\u001b[39m(\u001b[38;5;124m\"\u001b[39m\u001b[38;5;124mhello\u001b[39m\u001b[38;5;124m\"\u001b[39m\u001b[38;5;241m+\u001b[39msomen)\n",
      "\u001b[1;31mNameError\u001b[0m: name 'somen' is not defined"
     ]
    }
   ],
   "source": [
    "def greet(someone):\n",
    "    print(\"hello\"+somen)\n",
    "greet('chad')"
   ]
  },
  {
   "cell_type": "code",
   "execution_count": 54,
   "id": "898e6f5e",
   "metadata": {},
   "outputs": [
    {
     "name": "stdout",
     "output_type": "stream",
     "text": [
      "division by zero\n",
      "<class 'ZeroDivisionError'>\n"
     ]
    }
   ],
   "source": [
    "try:\n",
    "    x=10/0\n",
    "except Exception as e:\n",
    "    print(e)\n",
    "    print(type(e))"
   ]
  },
  {
   "cell_type": "code",
   "execution_count": null,
   "id": "71b710f1",
   "metadata": {},
   "outputs": [],
   "source": []
  },
  {
   "cell_type": "code",
   "execution_count": null,
   "id": "8268b044",
   "metadata": {},
   "outputs": [],
   "source": []
  }
 ],
 "metadata": {
  "kernelspec": {
   "display_name": "base",
   "language": "python",
   "name": "python3"
  },
  "language_info": {
   "codemirror_mode": {
    "name": "ipython",
    "version": 3
   },
   "file_extension": ".py",
   "mimetype": "text/x-python",
   "name": "python",
   "nbconvert_exporter": "python",
   "pygments_lexer": "ipython3",
   "version": "3.11.5"
  }
 },
 "nbformat": 4,
 "nbformat_minor": 5
}
