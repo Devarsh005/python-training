{
 "cells": [
  {
   "cell_type": "markdown",
   "id": "4c0cab0b",
   "metadata": {},
   "source": [
    "# loops"
   ]
  },
  {
   "cell_type": "markdown",
   "id": "7c0cade2",
   "metadata": {},
   "source": [
    "## for loop"
   ]
  },
  {
   "cell_type": "code",
   "execution_count": 3,
   "id": "98bc22a8",
   "metadata": {},
   "outputs": [],
   "source": [
    "a_list = [1, 2, 3, 4, 5, 6, 7, 8, 9, 10]\n",
    "a_tuple = (1, 2, 3, 4, 5, 6, 7, 8, 9, 10)\n",
    "a_dict = {\"a\":1, \"b\":2, \"d\":3, \"e\":4, \"f\":5, \"g\":6, \"h\":7, \"i\":8, \"j\":9, \"k\":10}\n"
   ]
  },
  {
   "cell_type": "markdown",
   "id": "f23b3f15",
   "metadata": {},
   "source": [
    "### iterate over a list\n"
   ]
  },
  {
   "cell_type": "code",
   "execution_count": 4,
   "id": "7c565fe3",
   "metadata": {},
   "outputs": [
    {
     "name": "stdout",
     "output_type": "stream",
     "text": [
      "1  2  3  4  5  6  7  8  9  10  "
     ]
    }
   ],
   "source": [
    "# i have a a_list\n",
    "# i need to iterate it one by one \n",
    "for list_value in a_list:\n",
    "    print(list_value,end='  ')"
   ]
  },
  {
   "cell_type": "markdown",
   "id": "aa8fe77e",
   "metadata": {},
   "source": [
    "### iterate over a tuple\n"
   ]
  },
  {
   "cell_type": "code",
   "execution_count": 5,
   "id": "b642243f",
   "metadata": {},
   "outputs": [
    {
     "name": "stdout",
     "output_type": "stream",
     "text": [
      "1  2  3  4  5  6  7  8  9  10  "
     ]
    }
   ],
   "source": [
    "for tuple_item in a_tuple:\n",
    "    print(tuple_item,end='  ')"
   ]
  },
  {
   "cell_type": "code",
   "execution_count": 6,
   "id": "0e918a87",
   "metadata": {},
   "outputs": [
    {
     "name": "stdout",
     "output_type": "stream",
     "text": [
      "{'a': 1, 'b': 2, 'd': 3, 'e': 4, 'f': 5, 'g': 6, 'h': 7, 'i': 8, 'j': 9, 'k': 10}\n"
     ]
    }
   ],
   "source": [
    "print(a_dict)"
   ]
  },
  {
   "cell_type": "markdown",
   "id": "a6aaae68",
   "metadata": {},
   "source": [
    "### iterate over a dictionary"
   ]
  },
  {
   "cell_type": "code",
   "execution_count": 7,
   "id": "6543dba8",
   "metadata": {},
   "outputs": [
    {
     "name": "stdout",
     "output_type": "stream",
     "text": [
      "a  b  d  e  f  g  h  i  j  k  \n",
      "1 2 3 4 5 6 7 8 9 10 \n",
      "a : 1\n",
      "b : 2\n",
      "d : 3\n",
      "e : 4\n",
      "f : 5\n",
      "g : 6\n",
      "h : 7\n",
      "i : 8\n",
      "j : 9\n",
      "k : 10\n"
     ]
    }
   ],
   "source": [
    "for dict_key in a_dict:\n",
    "    print(dict_key,end='  ')\n",
    "print()\n",
    "for dict_value in a_dict.values():\n",
    "    print(dict_value, end=' ')\n",
    "print()\n",
    "for key,value in a_dict.items():\n",
    "    print(f\"{key} : {value}\")"
   ]
  },
  {
   "cell_type": "code",
   "execution_count": 8,
   "id": "66c048c7",
   "metadata": {},
   "outputs": [
    {
     "ename": "TypeError",
     "evalue": "'builtin_function_or_method' object is not iterable",
     "output_type": "error",
     "traceback": [
      "\u001b[1;31m---------------------------------------------------------------------------\u001b[0m",
      "\u001b[1;31mTypeError\u001b[0m                                 Traceback (most recent call last)",
      "Cell \u001b[1;32mIn[8], line 1\u001b[0m\n\u001b[1;32m----> 1\u001b[0m \u001b[38;5;28;01mfor\u001b[39;00m key,value \u001b[38;5;129;01min\u001b[39;00m a_dict\u001b[38;5;241m.\u001b[39mitems:\n\u001b[0;32m      2\u001b[0m     \u001b[38;5;28mprint\u001b[39m(\u001b[38;5;124mf\u001b[39m\u001b[38;5;124m\"\u001b[39m\u001b[38;5;132;01m{\u001b[39;00mkey\u001b[38;5;132;01m}\u001b[39;00m\u001b[38;5;124m : \u001b[39m\u001b[38;5;132;01m{\u001b[39;00mvalue\u001b[38;5;132;01m}\u001b[39;00m\u001b[38;5;124m\"\u001b[39m)\n",
      "\u001b[1;31mTypeError\u001b[0m: 'builtin_function_or_method' object is not iterable"
     ]
    }
   ],
   "source": [
    "for key,value in a_dict.items:\n",
    "    print(f\"{key} : {value}\")"
   ]
  },
  {
   "cell_type": "code",
   "execution_count": null,
   "id": "8cfacf1e",
   "metadata": {},
   "outputs": [
    {
     "name": "stdout",
     "output_type": "stream",
     "text": [
      "dict_items([('a', 1), ('b', 2), ('d', 3), ('e', 4), ('f', 5), ('g', 6), ('h', 7), ('i', 8), ('j', 9), ('k', 10)])\n"
     ]
    }
   ],
   "source": [
    "print(a_dict.items())"
   ]
  },
  {
   "cell_type": "code",
   "execution_count": null,
   "id": "384292f9",
   "metadata": {},
   "outputs": [
    {
     "name": "stdout",
     "output_type": "stream",
     "text": [
      "dict_keys(['a', 'b', 'd', 'e', 'f', 'g', 'h', 'i', 'j', 'k'])\n"
     ]
    }
   ],
   "source": [
    "print(a_dict.keys())"
   ]
  },
  {
   "cell_type": "code",
   "execution_count": null,
   "id": "5f477292",
   "metadata": {},
   "outputs": [
    {
     "name": "stdout",
     "output_type": "stream",
     "text": [
      "dict_values([1, 2, 3, 4, 5, 6, 7, 8, 9, 10])\n"
     ]
    }
   ],
   "source": [
    "print(a_dict.values())"
   ]
  },
  {
   "cell_type": "markdown",
   "id": "22d83b68",
   "metadata": {},
   "source": [
    "### try iterate on a set"
   ]
  },
  {
   "cell_type": "code",
   "execution_count": null,
   "id": "1a2635e2",
   "metadata": {},
   "outputs": [
    {
     "name": "stdout",
     "output_type": "stream",
     "text": [
      "48\n",
      "2\n",
      "3\n",
      "98\n"
     ]
    }
   ],
   "source": [
    "a_set = {2,3,48,98}\n",
    "for i in a_set:\n",
    "    print(i)"
   ]
  }
 ],
 "metadata": {
  "kernelspec": {
   "display_name": "Python 3",
   "language": "python",
   "name": "python3"
  },
  "language_info": {
   "codemirror_mode": {
    "name": "ipython",
    "version": 3
   },
   "file_extension": ".py",
   "mimetype": "text/x-python",
   "name": "python",
   "nbconvert_exporter": "python",
   "pygments_lexer": "ipython3",
   "version": "3.10.10"
  }
 },
 "nbformat": 4,
 "nbformat_minor": 5
}
