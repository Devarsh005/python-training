{
 "cells": [
  {
   "cell_type": "markdown",
   "id": "9dfb7d02",
   "metadata": {},
   "source": [
    "## write a python program to calculate area of rectange given it's length and width"
   ]
  },
  {
   "cell_type": "code",
   "execution_count": 2,
   "id": "20189cb7",
   "metadata": {},
   "outputs": [
    {
     "name": "stdout",
     "output_type": "stream",
     "text": [
      "200\n"
     ]
    }
   ],
   "source": [
    "length = 10\n",
    "width = 20\n",
    "\n",
    "area = length * width\n",
    "print(area)"
   ]
  },
  {
   "cell_type": "markdown",
   "id": "1f73f05d",
   "metadata": {},
   "source": [
    "## create a program that user's name and age as input and prints a greeting message"
   ]
  },
  {
   "cell_type": "code",
   "execution_count": 4,
   "id": "846e9274",
   "metadata": {},
   "outputs": [
    {
     "name": "stdout",
     "output_type": "stream",
     "text": [
      "hello Devarsh ,welcome !\n"
     ]
    }
   ],
   "source": [
    "name = input('enter a  name')\n",
    "age = input('enter a age')\n",
    "\n",
    "print(f\"hello {name} ,welcome !\")"
   ]
  },
  {
   "cell_type": "code",
   "execution_count": 5,
   "id": "698a6846",
   "metadata": {},
   "outputs": [
    {
     "name": "stdout",
     "output_type": "stream",
     "text": [
      "17 is odd number\n"
     ]
    }
   ],
   "source": [
    "n = 17\n",
    "\n",
    "if n % 2 == 0:\n",
    "    print(f'{n} is even number')\n",
    "else :\n",
    "    print(f'{n} is odd number')"
   ]
  },
  {
   "cell_type": "markdown",
   "id": "fdef7f83",
   "metadata": {},
   "source": [
    "### Given a list of numbers, find the maximum and minimum values."
   ]
  },
  {
   "cell_type": "code",
   "execution_count": 3,
   "id": "80056835",
   "metadata": {},
   "outputs": [
    {
     "name": "stdout",
     "output_type": "stream",
     "text": [
      "90\n",
      "2\n"
     ]
    }
   ],
   "source": [
    "my_list =  [2,4,3,90,67,8,55]\n",
    "\n",
    "for i in my_list:\n",
    "    maxi = max(my_list)\n",
    "    mini = min(my_list)\n",
    "print(maxi)\n",
    "print(mini)"
   ]
  },
  {
   "cell_type": "markdown",
   "id": "eb098557",
   "metadata": {},
   "source": [
    "### Create a Python function to check if a given string is a palindrome"
   ]
  },
  {
   "cell_type": "code",
   "execution_count": 9,
   "id": "686e540d",
   "metadata": {},
   "outputs": [
    {
     "name": "stdout",
     "output_type": "stream",
     "text": [
      "yes it's pallindrome number\n",
      "121\n"
     ]
    }
   ],
   "source": [
    "input_string = \"121\"\n",
    "\n",
    "reversed_string = input_string[::-1]\n",
    "\n",
    "if input_string == reversed_string:\n",
    "    print(\"yes it's pallindrome number\")\n",
    "else:\n",
    "    print ('not pallindrome number' )"
   ]
  },
  {
   "cell_type": "markdown",
   "id": "4ea1ac64",
   "metadata": {},
   "source": [
    "### Calculate the compound interest for a given principal amount, interest rate, and time period"
   ]
  },
  {
   "cell_type": "code",
   "execution_count": 19,
   "id": "33bfdb9a",
   "metadata": {},
   "outputs": [
    {
     "name": "stdout",
     "output_type": "stream",
     "text": [
      "586.8743229440006\n"
     ]
    }
   ],
   "source": [
    "principal_amount = 1000\n",
    "interest_rate = 8\n",
    "time_period = 6\n",
    "\n",
    "p = principal_amount \n",
    "r = interest_rate\n",
    "n = time_period\n",
    "\n",
    "compound_interest = (p*(1+((r/100)))**n)-p\n",
    "\n",
    "print(compound_interest)"
   ]
  },
  {
   "cell_type": "markdown",
   "id": "cec3c28b",
   "metadata": {},
   "source": [
    "### Write a program that converts a given number of days into years, weeks, and days"
   ]
  },
  {
   "cell_type": "code",
   "execution_count": 23,
   "id": "2d347430",
   "metadata": {},
   "outputs": [
    {
     "name": "stdout",
     "output_type": "stream",
     "text": [
      "2 years 5 weeks 4 days\n"
     ]
    }
   ],
   "source": [
    "given_days = 769\n",
    "\n",
    "year = given_days // 365\n",
    "week = (given_days - year*365)//7\n",
    "days = ((given_days - year*365)-7*week)\n",
    "\n",
    "print(f'{year} years {week} weeks {days} days')"
   ]
  },
  {
   "cell_type": "code",
   "execution_count": 26,
   "id": "9929e24e",
   "metadata": {},
   "outputs": [
    {
     "name": "stdout",
     "output_type": "stream",
     "text": [
      "2 years 5 weeks 4 days\n"
     ]
    }
   ],
   "source": [
    "# second solution\n",
    "\n",
    "def year_week_days(given_days):\n",
    "    remaining = 0\n",
    "    year = given_days // 365\n",
    "    remaining = given_days - year*365\n",
    "    week = remaining // 7\n",
    "    remaining -= week*7\n",
    "    days = remaining\n",
    "    \n",
    "    return print(f'{year} years {week} weeks {days} days')\n",
    "year_week_days(769)"
   ]
  },
  {
   "cell_type": "markdown",
   "id": "d721aebb",
   "metadata": {},
   "source": [
    "### Given a list of integers, find the sum of all positive numbers"
   ]
  },
  {
   "cell_type": "code",
   "execution_count": 35,
   "id": "045fbef3",
   "metadata": {},
   "outputs": [
    {
     "name": "stdout",
     "output_type": "stream",
     "text": [
      "31\n"
     ]
    }
   ],
   "source": [
    "from typing import List\n",
    "# given_list = list(range(-200,200,7))\n",
    "given_list = [3,-3,6,8,9,5,-8,-22,-777]\n",
    "def sum_of_positiveNumbers(given_list:List[int])->int:\n",
    "    sum = 0\n",
    "    for i in given_list:\n",
    "        if i>0:\n",
    "            sum += i\n",
    "    return print(sum)\n",
    "sum_of_positiveNumbers(given_list)\n",
    "# pyhton interpreter cannot raise error of type hints \n",
    "# type hints error run by mypy , which is module in python \n",
    "\n"
   ]
  },
  {
   "cell_type": "markdown",
   "id": "3f8cd985",
   "metadata": {},
   "source": [
    "### Create a program that takes a sentence as input and counts the number of words in it"
   ]
  },
  {
   "cell_type": "code",
   "execution_count": 17,
   "id": "4d21ad82",
   "metadata": {},
   "outputs": [
    {
     "name": "stdout",
     "output_type": "stream",
     "text": [
      "this : 3\n",
      "is : 2\n",
      "Devarsh : 1\n",
      "car : 1\n"
     ]
    }
   ],
   "source": [
    "input_string = 'this is Devarsh this is car this'\n",
    "\n",
    "# def CountSentense(input_string): \n",
    "#     input_string = input_string.split(' ')\n",
    "#     list=[]\n",
    "#     for i in input_string:\n",
    "#         if i not in list:\n",
    "#             list.append(i)\n",
    "#         print(f'{list[i]}->{input_string.count(i)}')\n",
    "# CountSentense(input_string)\n",
    "list=[]\n",
    "input_string = input_string.split(' ')  \n",
    "for i in input_string:\n",
    "    if i not in list:\n",
    "        list.append(i)\n",
    "        count = input_string.count(i)\n",
    "        print(f'{i} : {count}')\n",
    "# print(list)\n",
    "    \n",
    "\n",
    "# print(i)"
   ]
  },
  {
   "cell_type": "code",
   "execution_count": null,
   "id": "b170349c",
   "metadata": {},
   "outputs": [],
   "source": []
  },
  {
   "cell_type": "markdown",
   "id": "f2af0696",
   "metadata": {},
   "source": [
    "### Implement a program that swaps the values of two variables."
   ]
  },
  {
   "cell_type": "code",
   "execution_count": 64,
   "id": "036f3ea1",
   "metadata": {},
   "outputs": [
    {
     "name": "stdout",
     "output_type": "stream",
     "text": [
      "Before : ((2, 3))\n",
      "after ((3, 2))\n"
     ]
    }
   ],
   "source": [
    "def swap(num1,num2):\n",
    "   print(f'Before : ({num1,num2})')\n",
    "   num1,num2 = num2,num1\n",
    "   print(f'after ({num1,num2})')\n",
    "swap(2,3)"
   ]
  },
  {
   "cell_type": "markdown",
   "id": "d5cbbc06",
   "metadata": {},
   "source": [
    "### Given a list of numbers, create a function to find the sum of all positive numbers."
   ]
  },
  {
   "cell_type": "code",
   "execution_count": 65,
   "id": "5a00ecdb",
   "metadata": {},
   "outputs": [
    {
     "name": "stdout",
     "output_type": "stream",
     "text": [
      "31\n"
     ]
    }
   ],
   "source": [
    "given_list = [3,-3,6,8,9,5,-8,-22,-777]\n",
    "def sum_of_positiveNumbers(given_list):\n",
    "    sum = 0\n",
    "    for i in given_list:\n",
    "        if i>0:\n",
    "            sum += i\n",
    "    return print(sum)\n",
    "sum_of_positiveNumbers(given_list)"
   ]
  },
  {
   "cell_type": "markdown",
   "id": "39a9260e",
   "metadata": {},
   "source": [
    "### Create a program that takes a temperature in Celsius and converts it to Kelvin."
   ]
  },
  {
   "cell_type": "code",
   "execution_count": 67,
   "id": "96d96da9",
   "metadata": {},
   "outputs": [
    {
     "name": "stdout",
     "output_type": "stream",
     "text": [
      "274.15\n"
     ]
    }
   ],
   "source": [
    "celcius = float(input('enter temprature in celcius'))\n",
    "\n",
    "kelvin = celcius + 273.15\n",
    "print(kelvin)"
   ]
  },
  {
   "cell_type": "markdown",
   "id": "3ce86ee9",
   "metadata": {},
   "source": [
    "### Implement a program that checks if a given string is a palindrome"
   ]
  },
  {
   "cell_type": "code",
   "execution_count": 73,
   "id": "0bcf3958",
   "metadata": {},
   "outputs": [
    {
     "name": "stdout",
     "output_type": "stream",
     "text": [
      "yes\n"
     ]
    }
   ],
   "source": [
    "given_string = input('enter a string')\n",
    "\n",
    "reversed_string = given_string[::-1]\n",
    "\n",
    "if(given_string == reversed_string):\n",
    "    print('yes')\n",
    "else:\n",
    "    print('no')"
   ]
  },
  {
   "cell_type": "markdown",
   "id": "d7bfae16",
   "metadata": {},
   "source": [
    "### Create a function to reverse a given string"
   ]
  },
  {
   "cell_type": "code",
   "execution_count": 75,
   "id": "476d880b",
   "metadata": {},
   "outputs": [
    {
     "name": "stdout",
     "output_type": "stream",
     "text": [
      "gnirts a si siht\n"
     ]
    }
   ],
   "source": [
    "given_string = input('enter a string')\n",
    "def reverse_a_string(given_string):\n",
    "    return print(given_string[::-1])\n",
    "reverse_a_string(given_string)"
   ]
  },
  {
   "cell_type": "markdown",
   "id": "eb2f08fb",
   "metadata": {},
   "source": [
    "### Concatenate a list of names into a single string separated by spaces."
   ]
  },
  {
   "cell_type": "code",
   "execution_count": 87,
   "id": "4cf48a58",
   "metadata": {},
   "outputs": [
    {
     "name": "stdout",
     "output_type": "stream",
     "text": [
      "Devarsh Rathod hello devarsh \n"
     ]
    }
   ],
   "source": [
    "# using string concatiknatio\n",
    "given_list_name = ['Devarsh','Rathod','hello','devarsh']\n",
    "new_string = ''\n",
    "for i in given_list_name:\n",
    "    new_string+=i+\" \"\n",
    "print(new_string)"
   ]
  },
  {
   "cell_type": "code",
   "execution_count": 95,
   "id": "f5d02fca",
   "metadata": {},
   "outputs": [
    {
     "name": "stdout",
     "output_type": "stream",
     "text": [
      "Devarsh Rathod hello devarsh\n"
     ]
    }
   ],
   "source": [
    "# using join function\n",
    "given_list_name\n",
    "new_string=\" \".join(given_list_name)\n",
    "print(new_string)"
   ]
  },
  {
   "cell_type": "markdown",
   "id": "1b584551",
   "metadata": {},
   "source": [
    "### Write a Python program to check if a given string is a pangram (contains all letters of the alphabet)"
   ]
  },
  {
   "cell_type": "code",
   "execution_count": null,
   "id": "b2d0ad2c",
   "metadata": {},
   "outputs": [
    {
     "name": "stdout",
     "output_type": "stream",
     "text": [
      "False\n"
     ]
    }
   ],
   "source": [
    "alphabet ='abcdefghijklmnopqrstuvwxyz'\n",
    "cr_string = \"abcdefghijklmnogubhjbgfubopqrstuvwxyzabcdefghijklmnopqrstuvwxyz\"\n",
    "print(cr_string in alphabet)"
   ]
  },
  {
   "cell_type": "markdown",
   "id": "883d0022",
   "metadata": {},
   "source": [
    "### Calculate the area and circumference of a circle, given its radius\n"
   ]
  },
  {
   "cell_type": "code",
   "execution_count": 104,
   "id": "5727c80c",
   "metadata": {},
   "outputs": [
    {
     "name": "stdout",
     "output_type": "stream",
     "text": [
      "12.566370614359172\n"
     ]
    }
   ],
   "source": [
    "import math\n",
    "radius = 2\n",
    "r = radius\n",
    "pi = math.pi\n",
    "area_of_circle = pi*(r**2)\n",
    "print(area_of_circle)"
   ]
  },
  {
   "cell_type": "markdown",
   "id": "971cc691",
   "metadata": {},
   "source": [
    "### Implement a program that converts a given number of minutes into hours and minutes"
   ]
  },
  {
   "cell_type": "code",
   "execution_count": 109,
   "id": "6c6df0a8",
   "metadata": {},
   "outputs": [
    {
     "name": "stdout",
     "output_type": "stream",
     "text": [
      "6hour 6minute\n"
     ]
    }
   ],
   "source": [
    "given_minutes = 366\n",
    "\n",
    "hour = given_minutes//60\n",
    "minutes = given_minutes - hour*60\n",
    "print(f'{hour}hour {minutes}minute')"
   ]
  },
  {
   "cell_type": "markdown",
   "id": "09f7220a",
   "metadata": {},
   "source": [
    "### Create a function to count the number of vowels in a given string"
   ]
  },
  {
   "cell_type": "code",
   "execution_count": 123,
   "id": "ad8b2458",
   "metadata": {},
   "outputs": [
    {
     "name": "stdout",
     "output_type": "stream",
     "text": [
      "hello everyone how are you?\n",
      "11\n"
     ]
    }
   ],
   "source": [
    "given_string = 'hello everyone how are you?'\n",
    "print(given_string)\n",
    "vowel_count =0\n",
    "for i in given_string:\n",
    "    if i in ['a','e','i','o','u']:\n",
    "        vowel_count+=1\n",
    "print(vowel_count)\n",
    "\n"
   ]
  },
  {
   "cell_type": "markdown",
   "id": "88313c3e",
   "metadata": {},
   "source": [
    "### Write a program to check if a number is prime."
   ]
  },
  {
   "cell_type": "code",
   "execution_count": null,
   "id": "01a35aa4",
   "metadata": {},
   "outputs": [
    {
     "name": "stdout",
     "output_type": "stream",
     "text": [
      "not prime\n"
     ]
    }
   ],
   "source": [
    "number = 111\n",
    "for i in range(2,round(number/2)):\n",
    "    if number % i == 0:\n",
    "        print('not prime')\n",
    "        break\n",
    "else:\n",
    "    print('it\\'s prime number ')\n",
    "    "
   ]
  },
  {
   "cell_type": "markdown",
   "id": "e5510658",
   "metadata": {},
   "source": [
    "### Create a program that takes a year as input and checks if it is a leap year or not"
   ]
  },
  {
   "cell_type": "code",
   "execution_count": 151,
   "id": "273ede77",
   "metadata": {},
   "outputs": [
    {
     "name": "stdout",
     "output_type": "stream",
     "text": [
      "it's not a leap year\n"
     ]
    }
   ],
   "source": [
    "year = 2900\n",
    "\n",
    "if year %100 ==0:\n",
    "    if year % 400 == 0:\n",
    "        print('it\\'s a leap year')\n",
    "    else:\n",
    "        print('it\\'s not a leap year')\n",
    "elif year % 4 == 0 :\n",
    "    print('it\\'s a leap year')\n",
    "else:\n",
    "    print('it\\'s not a leap year')"
   ]
  },
  {
   "cell_type": "markdown",
   "id": "9cf70267",
   "metadata": {},
   "source": [
    "### Given a list of integers, find all the even numbers and store them in a new list)"
   ]
  },
  {
   "cell_type": "code",
   "execution_count": 153,
   "id": "867642f4",
   "metadata": {},
   "outputs": [
    {
     "data": {
      "text/plain": [
       "[3, -3, 6, 8, 9, 5, -8, -22, -777]"
      ]
     },
     "execution_count": 153,
     "metadata": {},
     "output_type": "execute_result"
    }
   ],
   "source": [
    "given_list"
   ]
  },
  {
   "cell_type": "code",
   "execution_count": 155,
   "id": "782795c6",
   "metadata": {},
   "outputs": [
    {
     "name": "stdout",
     "output_type": "stream",
     "text": [
      "[6, 8, -8, -22]\n"
     ]
    }
   ],
   "source": [
    "new_list =[]\n",
    "for i in given_list:\n",
    "    if i % 2 == 0:\n",
    "        new_list.append(i)\n",
    "print(new_list)"
   ]
  },
  {
   "cell_type": "markdown",
   "id": "d7f42711",
   "metadata": {},
   "source": [
    "### Write a Python program to check if a given number is a prime number"
   ]
  },
  {
   "cell_type": "code",
   "execution_count": 163,
   "id": "6dab2962",
   "metadata": {},
   "outputs": [
    {
     "name": "stdout",
     "output_type": "stream",
     "text": [
      "not prime\n"
     ]
    }
   ],
   "source": [
    "number = 111\n",
    "for i in range(2,round(number/2)):\n",
    "    if number % i == 0:\n",
    "        print('not prime')\n",
    "        break\n",
    "else:\n",
    "    print('it\\'s prime number ')\n",
    "    "
   ]
  },
  {
   "cell_type": "markdown",
   "id": "2ed44ac0",
   "metadata": {},
   "source": [
    "### Create a program that generates the Fibonacci sequence up to a given number of terms)\n"
   ]
  },
  {
   "cell_type": "code",
   "execution_count": 162,
   "id": "7beef559",
   "metadata": {},
   "outputs": [
    {
     "name": "stdout",
     "output_type": "stream",
     "text": [
      "[0, 1, 1, 2, 3, 5, 8, 13, 21, 34, 55, 89]\n"
     ]
    }
   ],
   "source": [
    "number = 12\n",
    "def fib(number):\n",
    "    second_last = 0\n",
    "    last = 1\n",
    "    empty_list = []\n",
    "    for i in range(number):\n",
    "        new = second_last + last\n",
    "        empty_list.append(second_last)\n",
    "        second_last = last\n",
    "        last = new\n",
    "    return empty_list\n",
    "x = fib(number)\n",
    "print(x)"
   ]
  },
  {
   "cell_type": "markdown",
   "id": "102f37ee",
   "metadata": {},
   "source": [
    "### Given a list of names, print all names starting with the letter 'A'"
   ]
  },
  {
   "cell_type": "code",
   "execution_count": 168,
   "id": "4d239543",
   "metadata": {},
   "outputs": [
    {
     "name": "stdout",
     "output_type": "stream",
     "text": [
      "['anil', 'abhu', 'amber']\n"
     ]
    }
   ],
   "source": [
    "given_list_name = ['anil','abhu','devarsh','amber']\n",
    "empty_list =[]\n",
    "for i in given_list_name:\n",
    "    if i.startswith(\"a\"):\n",
    "        empty_list.append(i)\n",
    "print(empty_list)"
   ]
  },
  {
   "cell_type": "markdown",
   "id": "0da7534e",
   "metadata": {},
   "source": [
    "### Implement a program that prints the multiplication table of a given number"
   ]
  },
  {
   "cell_type": "code",
   "execution_count": 176,
   "id": "d5cf895b",
   "metadata": {},
   "outputs": [
    {
     "name": "stdout",
     "output_type": "stream",
     "text": [
      "5 * 1  5\n",
      "5 * 2  10\n",
      "5 * 3  15\n",
      "5 * 4  20\n",
      "5 * 5  25\n",
      "5 * 6  30\n",
      "5 * 7  35\n",
      "5 * 8  40\n",
      "5 * 9  45\n",
      "5 * 10  50\n"
     ]
    }
   ],
   "source": [
    "def multiplication_table(number):\n",
    "    for i in range(1,11):\n",
    "        print(f'{number} * {i}  {number*i}')\n",
    "number = int(input('enter a number'))\n",
    "multiplication_table(number)"
   ]
  },
  {
   "cell_type": "markdown",
   "id": "eb6cf088",
   "metadata": {},
   "source": [
    "### Write a program that calculates the factorial of a given number"
   ]
  },
  {
   "cell_type": "code",
   "execution_count": 182,
   "id": "9438a6e9",
   "metadata": {},
   "outputs": [
    {
     "name": "stdout",
     "output_type": "stream",
     "text": [
      "120\n"
     ]
    }
   ],
   "source": [
    "number = 5\n",
    "\n",
    "def fact(number):\n",
    "    result = 1\n",
    "    while number>=1:\n",
    "        result = result * number\n",
    "        number-=1\n",
    "    return result\n",
    "print(fact(number))"
   ]
  },
  {
   "cell_type": "markdown",
   "id": "b51a1a16",
   "metadata": {},
   "source": [
    "### Create a loop that prints all prime numbers between 1 and 50"
   ]
  },
  {
   "cell_type": "code",
   "execution_count": 188,
   "id": "d1e5f40d",
   "metadata": {},
   "outputs": [
    {
     "name": "stdout",
     "output_type": "stream",
     "text": [
      "1 2 3 5 7 11 13 17 19 23 29 31 37 41 43 47 "
     ]
    }
   ],
   "source": [
    "for i in range(1,50):\n",
    "    division = (i//2)+1\n",
    "    for j in range(2,division):\n",
    "        if (i % j) == 0:\n",
    "            break\n",
    "    else:\n",
    "        print(i,end=' ')"
   ]
  },
  {
   "cell_type": "markdown",
   "id": "363e0d4a",
   "metadata": {},
   "source": [
    "### Given a list of words, count the number of words with more than five characters)"
   ]
  },
  {
   "cell_type": "code",
   "execution_count": 193,
   "id": "d5911898",
   "metadata": {},
   "outputs": [
    {
     "name": "stdout",
     "output_type": "stream",
     "text": [
      "devarsh\n"
     ]
    }
   ],
   "source": [
    "given_list_name\n",
    "for i in given_list_name:\n",
    "    if len(i)>5:\n",
    "        print(i)"
   ]
  },
  {
   "cell_type": "markdown",
   "id": "16623abd",
   "metadata": {},
   "source": [
    "### Calculate the sum of digits of a given number."
   ]
  },
  {
   "cell_type": "code",
   "execution_count": 208,
   "id": "2b02c169",
   "metadata": {},
   "outputs": [
    {
     "name": "stdout",
     "output_type": "stream",
     "text": [
      "27\n"
     ]
    }
   ],
   "source": [
    "\n",
    "given_number = 38475\n",
    "result =0\n",
    "given_number= str(given_number)\n",
    "n = len(given_number)\n",
    "for i in range(n):\n",
    "    result += int(given_number[i])\n",
    "print(result)"
   ]
  }
 ],
 "metadata": {
  "kernelspec": {
   "display_name": "Python 3",
   "language": "python",
   "name": "python3"
  },
  "language_info": {
   "codemirror_mode": {
    "name": "ipython",
    "version": 3
   },
   "file_extension": ".py",
   "mimetype": "text/x-python",
   "name": "python",
   "nbconvert_exporter": "python",
   "pygments_lexer": "ipython3",
   "version": "3.10.10"
  }
 },
 "nbformat": 4,
 "nbformat_minor": 5
}
