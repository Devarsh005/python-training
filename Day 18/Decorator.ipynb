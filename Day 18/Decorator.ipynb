{
 "cells": [
  {
   "cell_type": "code",
   "execution_count": 10,
   "id": "a24df437",
   "metadata": {},
   "outputs": [
    {
     "name": "stdout",
     "output_type": "stream",
     "text": [
      "hi yasoob\n"
     ]
    }
   ],
   "source": [
    "def hi(name=\"yasoob\"):\n",
    "    return \"hi \"+name\n",
    "print(hi())"
   ]
  },
  {
   "cell_type": "code",
   "execution_count": 11,
   "id": "db370984",
   "metadata": {},
   "outputs": [],
   "source": [
    "greet = hi\n"
   ]
  },
  {
   "cell_type": "code",
   "execution_count": 12,
   "id": "16b4dbc7",
   "metadata": {},
   "outputs": [
    {
     "name": "stdout",
     "output_type": "stream",
     "text": [
      "hi yasoob\n"
     ]
    }
   ],
   "source": [
    "print(greet())"
   ]
  },
  {
   "cell_type": "code",
   "execution_count": 13,
   "id": "e7341a7f",
   "metadata": {},
   "outputs": [],
   "source": [
    "del hi"
   ]
  },
  {
   "cell_type": "code",
   "execution_count": null,
   "id": "43db3800",
   "metadata": {},
   "outputs": [
    {
     "ename": "NameError",
     "evalue": "name 'hi' is not defined",
     "output_type": "error",
     "traceback": [
      "\u001b[1;31m---------------------------------------------------------------------------\u001b[0m",
      "\u001b[1;31mNameError\u001b[0m                                 Traceback (most recent call last)",
      "Cell \u001b[1;32mIn[14], line 1\u001b[0m\n\u001b[1;32m----> 1\u001b[0m \u001b[38;5;28mprint\u001b[39m(hi())\n",
      "\u001b[1;31mNameError\u001b[0m: name 'hi' is not defined"
     ]
    }
   ],
   "source": [
    "# print(hi())"
   ]
  },
  {
   "cell_type": "code",
   "execution_count": 15,
   "id": "61851b29",
   "metadata": {},
   "outputs": [
    {
     "name": "stdout",
     "output_type": "stream",
     "text": [
      "hi yasoob\n"
     ]
    }
   ],
   "source": [
    "print(greet())"
   ]
  },
  {
   "cell_type": "code",
   "execution_count": 16,
   "id": "b8a45ad7",
   "metadata": {},
   "outputs": [
    {
     "name": "stdout",
     "output_type": "stream",
     "text": [
      "you are in hi function\n",
      "you are in greet function\n",
      "you are in welcome function\n"
     ]
    }
   ],
   "source": [
    "def hi(name=\"Devarsh\"):\n",
    "    print(\"you are in hi function\")\n",
    "\n",
    "    def greet():\n",
    "        print(\"you are in greet function\")\n",
    "    def welcome():\n",
    "        print(\"you are in welcome function\")\n",
    "    greet()\n",
    "    welcome()\n",
    "hi()\n",
    "# greet() # NameError: name 'greet' is not defined\n"
   ]
  },
  {
   "cell_type": "code",
   "execution_count": 17,
   "id": "78e25f85",
   "metadata": {},
   "outputs": [
    {
     "data": {
      "text/plain": [
       "'greet function'"
      ]
     },
     "execution_count": 17,
     "metadata": {},
     "output_type": "execute_result"
    }
   ],
   "source": [
    "def hi(name = 'yasoob'):\n",
    "    def greet():\n",
    "        return \"greet function\"\n",
    "    def welcome():\n",
    "        return \"welcome function \" + name\n",
    "    if name == \"yasoob\":\n",
    "        return greet()\n",
    "    else:\n",
    "        return welcome()\n",
    "    \n",
    "hi()\n"
   ]
  },
  {
   "cell_type": "code",
   "execution_count": 18,
   "id": "9ada3814",
   "metadata": {},
   "outputs": [
    {
     "data": {
      "text/plain": [
       "'welcome function Devarsg'"
      ]
     },
     "execution_count": 18,
     "metadata": {},
     "output_type": "execute_result"
    }
   ],
   "source": [
    "hi(\"Devarsg\")"
   ]
  },
  {
   "cell_type": "code",
   "execution_count": 19,
   "id": "eaedd186",
   "metadata": {},
   "outputs": [
    {
     "name": "stdout",
     "output_type": "stream",
     "text": [
      "greet function\n"
     ]
    }
   ],
   "source": [
    "print(hi())"
   ]
  },
  {
   "cell_type": "code",
   "execution_count": 20,
   "id": "81c33094",
   "metadata": {},
   "outputs": [
    {
     "name": "stdout",
     "output_type": "stream",
     "text": [
      "<function hi at 0x000001C7746234C0>\n",
      "<function hi at 0x000001C7746234C0>\n",
      "<class 'function'>\n",
      "greet function\n"
     ]
    }
   ],
   "source": [
    "a = hi\n",
    "print(hi)\n",
    "print(a)\n",
    "print(type(a))\n",
    "print(a())"
   ]
  },
  {
   "cell_type": "code",
   "execution_count": null,
   "id": "7bd3f44d",
   "metadata": {},
   "outputs": [],
   "source": []
  },
  {
   "cell_type": "code",
   "execution_count": 21,
   "id": "cc901571",
   "metadata": {},
   "outputs": [
    {
     "name": "stdout",
     "output_type": "stream",
     "text": [
      "before hi\n",
      "hello Devarsh\n"
     ]
    }
   ],
   "source": [
    "def hi():\n",
    "    return \"hello Devarsh\"\n",
    "def beforehi(hi):\n",
    "    print(\"before hi\")\n",
    "    print(hi())\n",
    "beforehi(hi)"
   ]
  },
  {
   "cell_type": "code",
   "execution_count": null,
   "id": "0a61c1c7",
   "metadata": {},
   "outputs": [],
   "source": []
  },
  {
   "cell_type": "code",
   "execution_count": 22,
   "id": "4cd8fbb9",
   "metadata": {},
   "outputs": [
    {
     "name": "stdout",
     "output_type": "stream",
     "text": [
      "I am the function which needs some decoration to remove my foul smell\n",
      "None\n",
      "i am doing some boring work\n",
      "I am the function which needs some decoration to remove my foul smell\n",
      "i am doing some exciting works\n"
     ]
    }
   ],
   "source": [
    "def new_decorator(a_func):\n",
    "    def wrapFunction():\n",
    "        print(\"i am doing some boring work\")\n",
    "        a_func()\n",
    "        print(\"i am doing some exciting works\")\n",
    "    return wrapFunction\n",
    "def a_function_requiring_decoration():\n",
    "    print(\"I am the function which needs some decoration to remove my foul smell\")\n",
    "print(a_function_requiring_decoration())\n",
    "a_function_requiring_decoration = new_decorator(a_function_requiring_decoration)\n",
    "a_function_requiring_decoration()\n",
    "\n",
    "\n"
   ]
  },
  {
   "cell_type": "code",
   "execution_count": 23,
   "id": "db97be20",
   "metadata": {},
   "outputs": [
    {
     "name": "stdout",
     "output_type": "stream",
     "text": [
      "i am doing some boring work\n",
      "I am the function which needs some decoration to remove my foul smell\n",
      "i am doing some exciting works\n"
     ]
    }
   ],
   "source": [
    "a_function_requiring_decoration()"
   ]
  },
  {
   "cell_type": "code",
   "execution_count": 24,
   "id": "ee487c8e",
   "metadata": {},
   "outputs": [
    {
     "name": "stdout",
     "output_type": "stream",
     "text": [
      "person age is 22 and he is married False\n"
     ]
    }
   ],
   "source": [
    "def person_info(name):\n",
    "    print(\"this is the persion Details\")\n",
    "    print(f\"The person name is {name}\")\n",
    "def more_details():\n",
    "    def details():\n",
    "        age = 22\n",
    "        married = False\n",
    "        print(f\"person age is {age} and he is married {married}\")\n",
    "    return details\n",
    "more_details()()"
   ]
  },
  {
   "cell_type": "code",
   "execution_count": 25,
   "id": "8dc52668",
   "metadata": {},
   "outputs": [
    {
     "name": "stdout",
     "output_type": "stream",
     "text": [
      "this is the persion Details\n",
      "The person name is Devarsh\n"
     ]
    }
   ],
   "source": [
    "person_info(\"Devarsh\")"
   ]
  },
  {
   "cell_type": "code",
   "execution_count": 30,
   "id": "6c393a11",
   "metadata": {},
   "outputs": [],
   "source": [
    "person_info = more_details()"
   ]
  },
  {
   "cell_type": "code",
   "execution_count": 31,
   "id": "7d71d0ba",
   "metadata": {},
   "outputs": [
    {
     "name": "stdout",
     "output_type": "stream",
     "text": [
      "person age is 22 and he is married False\n"
     ]
    }
   ],
   "source": [
    "person_info()"
   ]
  },
  {
   "cell_type": "code",
   "execution_count": 32,
   "id": "6c0bc51c",
   "metadata": {},
   "outputs": [
    {
     "data": {
      "text/plain": [
       "<function __main__.more_details.<locals>.details()>"
      ]
     },
     "execution_count": 32,
     "metadata": {},
     "output_type": "execute_result"
    }
   ],
   "source": [
    "person_info"
   ]
  },
  {
   "cell_type": "code",
   "execution_count": 33,
   "id": "eacb8585",
   "metadata": {},
   "outputs": [
    {
     "name": "stdout",
     "output_type": "stream",
     "text": [
      "details\n"
     ]
    }
   ],
   "source": [
    "print(person_info.__name__)"
   ]
  },
  {
   "cell_type": "code",
   "execution_count": null,
   "id": "8c8d9148",
   "metadata": {},
   "outputs": [],
   "source": []
  },
  {
   "cell_type": "code",
   "execution_count": 43,
   "id": "db4c4e07",
   "metadata": {},
   "outputs": [
    {
     "data": {
      "text/plain": [
       "100"
      ]
     },
     "execution_count": 43,
     "metadata": {},
     "output_type": "execute_result"
    }
   ],
   "source": [
    "def outer(x):\n",
    "    def inner(y):\n",
    "        return x + y\n",
    "    return inner\n",
    "\n",
    "add_four = outer(25)\n",
    "add_four = add_four(75)\n",
    "add_four"
   ]
  },
  {
   "cell_type": "code",
   "execution_count": 48,
   "id": "54e40bf2",
   "metadata": {},
   "outputs": [
    {
     "data": {
      "text/plain": [
       "'inner is 3'"
      ]
     },
     "execution_count": 48,
     "metadata": {},
     "output_type": "execute_result"
    }
   ],
   "source": [
    "def inner(y):\n",
    "    return f\"inner is {y}\"\n",
    "x = inner\n",
    "x(3)"
   ]
  },
  {
   "cell_type": "code",
   "execution_count": 50,
   "id": "a5a26092",
   "metadata": {},
   "outputs": [
    {
     "data": {
      "text/plain": [
       "30"
      ]
     },
     "execution_count": 50,
     "metadata": {},
     "output_type": "execute_result"
    }
   ],
   "source": [
    "def add(a,b):\n",
    "    return a+b\n",
    "def calculate(add,a,b):\n",
    "    return add(a,b)\n",
    "calculate(add,10,20)"
   ]
  },
  {
   "cell_type": "code",
   "execution_count": null,
   "id": "c1b50505",
   "metadata": {},
   "outputs": [],
   "source": []
  },
  {
   "cell_type": "code",
   "execution_count": 51,
   "id": "409c20a9",
   "metadata": {},
   "outputs": [
    {
     "name": "stdout",
     "output_type": "stream",
     "text": [
      "I got decorated\n",
      "I am ordinary\n"
     ]
    }
   ],
   "source": [
    "def make_pretty(func):\n",
    "    # define the inner function \n",
    "    def inner():\n",
    "        # add some additional behavior to decorated function\n",
    "        print(\"I got decorated\")\n",
    "\n",
    "        # call original function\n",
    "        func()\n",
    "    # return the inner function\n",
    "    return inner\n",
    "\n",
    "# define ordinary function\n",
    "def ordinary():\n",
    "    print(\"I am ordinary\")\n",
    "    \n",
    "# decorate the ordinary function\n",
    "decorated_func = make_pretty(ordinary)\n",
    "\n",
    "# call the decorated function\n",
    "decorated_func()"
   ]
  },
  {
   "cell_type": "code",
   "execution_count": 59,
   "id": "d2e2daa9",
   "metadata": {},
   "outputs": [
    {
     "name": "stdout",
     "output_type": "stream",
     "text": [
      "i got declared mohit\n",
      "I am ordinary\n"
     ]
    }
   ],
   "source": [
    "def make_pretty(func):\n",
    "    def inner(name):\n",
    "        print(f\"i got declared {name}\")\n",
    "        func()\n",
    "    return inner\n",
    "# @make_pretty\n",
    "def ordinary():\n",
    "    print(\"I am ordinary\")\n",
    "# ordinary()\n",
    "ordinary = make_pretty(ordinary)\n",
    "ordinary(\"mohit\")"
   ]
  },
  {
   "cell_type": "code",
   "execution_count": null,
   "id": "51fafc4a",
   "metadata": {},
   "outputs": [],
   "source": []
  },
  {
   "cell_type": "code",
   "execution_count": 66,
   "id": "f049c042",
   "metadata": {},
   "outputs": [
    {
     "data": {
      "text/plain": [
       "'ZeroDivisionError error occured'"
      ]
     },
     "execution_count": 66,
     "metadata": {},
     "output_type": "execute_result"
    }
   ],
   "source": [
    "@smart_divide\n",
    "def divide(a,b):\n",
    "    return a/b\n",
    "\n",
    "def smart_divide(func):\n",
    "    def inner(a,b):\n",
    "        if b == 0:\n",
    "            return \"ZeroDivisionError error occured\"\n",
    "        else:\n",
    "            return func(a,b)\n",
    "    return inner\n",
    "\n",
    "# smart_divide(divide)(2,0)\n",
    "divide(2,0)"
   ]
  },
  {
   "cell_type": "code",
   "execution_count": 67,
   "id": "422b9aee",
   "metadata": {},
   "outputs": [
    {
     "data": {
      "text/plain": [
       "5.0"
      ]
     },
     "execution_count": 67,
     "metadata": {},
     "output_type": "execute_result"
    }
   ],
   "source": [
    "divide(10,2)"
   ]
  },
  {
   "cell_type": "code",
   "execution_count": 68,
   "id": "28e51aac",
   "metadata": {},
   "outputs": [
    {
     "name": "stdout",
     "output_type": "stream",
     "text": [
      "***************\n",
      "%%%%%%%%%%%%%%%\n",
      "Hello\n",
      "%%%%%%%%%%%%%%%\n",
      "***************\n"
     ]
    }
   ],
   "source": [
    "def star(func):\n",
    "    def inner(*args, **kwargs):\n",
    "        print(\"*\" * 15)\n",
    "        func(*args, **kwargs)\n",
    "        print(\"*\" * 15)\n",
    "    return inner\n",
    "\n",
    "\n",
    "def percent(func):\n",
    "    def inner(*args, **kwargs):\n",
    "        print(\"%\" * 15)\n",
    "        func(*args, **kwargs)\n",
    "        print(\"%\" * 15)\n",
    "    return inner\n",
    "\n",
    "\n",
    "@star\n",
    "@percent\n",
    "def printer(msg):\n",
    "    print(msg)\n",
    "\n",
    "printer(\"Hello\")"
   ]
  },
  {
   "cell_type": "code",
   "execution_count": 77,
   "id": "4fbb6873",
   "metadata": {},
   "outputs": [
    {
     "name": "stdout",
     "output_type": "stream",
     "text": [
      "Devarsh\n"
     ]
    },
    {
     "data": {
      "text/plain": [
       "'hello'"
      ]
     },
     "execution_count": 77,
     "metadata": {},
     "output_type": "execute_result"
    }
   ],
   "source": [
    "def sum(msg):\n",
    "    print(msg)\n",
    "def func(*args,**kwargs):\n",
    "    sum(*args)\n",
    "    return \"hello\"\n",
    "func(\"Devarsh\")\n"
   ]
  },
  {
   "cell_type": "code",
   "execution_count": 106,
   "id": "c7cf601d",
   "metadata": {},
   "outputs": [
    {
     "name": "stdout",
     "output_type": "stream",
     "text": [
      "wrapper\n",
      "Help on function wrapper in module __main__:\n",
      "\n",
      "wrapper()\n",
      "\n"
     ]
    }
   ],
   "source": [
    "# create a decorater \n",
    "def say_hi():\n",
    "    return 'hello there'\n",
    "\n",
    "def upper_case_decorator(func):\n",
    "    def wrapper():\n",
    "        f = func()\n",
    "        return f.upper()\n",
    "    return wrapper\n",
    "say_hi = upper_case_decorator(say_hi)\n",
    "say_hi()\n",
    "print(say_hi.__name__)\n",
    "help(say_hi)"
   ]
  },
  {
   "cell_type": "code",
   "execution_count": 99,
   "id": "370339d2",
   "metadata": {},
   "outputs": [],
   "source": [
    "from functools import wraps"
   ]
  },
  {
   "cell_type": "code",
   "execution_count": 105,
   "id": "bda73e37",
   "metadata": {},
   "outputs": [
    {
     "name": "stdout",
     "output_type": "stream",
     "text": [
      "say_hi\n",
      "Help on function say_hi in module __main__:\n",
      "\n",
      "say_hi()\n",
      "\n"
     ]
    }
   ],
   "source": [
    "# now using @decorator\n",
    "def upper_case_decorator(func):\n",
    "    @wraps(func)\n",
    "    def wrapper():\n",
    "        f = func()\n",
    "        return f.upper()\n",
    "    return wrapper\n",
    "\n",
    "@upper_case_decorator\n",
    "def say_hi():\n",
    "    return 'hello there'\n",
    "say_hi()\n",
    "print(say_hi.__name__)\n",
    "help(say_hi)"
   ]
  },
  {
   "cell_type": "code",
   "execution_count": 86,
   "id": "0d8ac03e",
   "metadata": {},
   "outputs": [],
   "source": [
    "def split_string(func):\n",
    "    def wrapper():\n",
    "        f = func()\n",
    "        return f.split()\n",
    "    return wrapper"
   ]
  },
  {
   "cell_type": "code",
   "execution_count": 89,
   "id": "3d0bead5",
   "metadata": {},
   "outputs": [
    {
     "data": {
      "text/plain": [
       "['HELLO', 'THERE']"
      ]
     },
     "execution_count": 89,
     "metadata": {},
     "output_type": "execute_result"
    }
   ],
   "source": [
    "@split_string\n",
    "@upper_case_decorator\n",
    "def say_hi():\n",
    "    return \"hello there\"\n",
    "say_hi()"
   ]
  },
  {
   "cell_type": "code",
   "execution_count": 108,
   "id": "6589c01a",
   "metadata": {},
   "outputs": [
    {
     "name": "stdout",
     "output_type": "stream",
     "text": [
      "ahmedabad baroda\n"
     ]
    },
    {
     "data": {
      "text/plain": [
       "'city 1 is ahmedabad and city2 is baroda'"
      ]
     },
     "execution_count": 108,
     "metadata": {},
     "output_type": "execute_result"
    }
   ],
   "source": [
    "def decorator_with_arguments(func):\n",
    "    @wraps(func)\n",
    "    def wrapper_accepting_arguments(a,b):\n",
    "        print(a,b)\n",
    "        return func(a,b)\n",
    "    return wrapper_accepting_arguments  \n",
    "\n",
    "@decorator_with_arguments\n",
    "def cities(city1,city2):\n",
    "    return f\"city 1 is {city1} and city2 is {city2}\"\n",
    "\n",
    "cities(\"ahmedabad\",'baroda')\n"
   ]
  },
  {
   "cell_type": "code",
   "execution_count": 19,
   "id": "1af62c81",
   "metadata": {},
   "outputs": [],
   "source": [
    "def myDecorator(function):\n",
    "    def wrapper(*args,**kwargs):\n",
    "        print(\"before function runs\")\n",
    "        result = function(*args,**kwargs)\n",
    "        print(\"after function runs\")\n",
    "        return result\n",
    "    return wrapper"
   ]
  },
  {
   "cell_type": "code",
   "execution_count": 20,
   "id": "77341e3b",
   "metadata": {},
   "outputs": [
    {
     "name": "stdout",
     "output_type": "stream",
     "text": [
      "say hello bob\n"
     ]
    }
   ],
   "source": [
    "def greet(name):\n",
    "    print(f'say hello {name}')\n",
    "greet(\"bob\")\n",
    "\n"
   ]
  },
  {
   "cell_type": "code",
   "execution_count": 21,
   "id": "a7163ff0",
   "metadata": {},
   "outputs": [
    {
     "name": "stdout",
     "output_type": "stream",
     "text": [
      "before function runs\n",
      "say hello bob\n",
      "after function runs\n"
     ]
    }
   ],
   "source": [
    "@myDecorator\n",
    "def greet(name):\n",
    "    print(f\"say hello {name}\")\n",
    "greet('bob')"
   ]
  },
  {
   "cell_type": "code",
   "execution_count": 22,
   "id": "0500c4aa",
   "metadata": {},
   "outputs": [],
   "source": [
    "# @myDecorator\n",
    "# def add(num1,num2):\n",
    "#     return num1+num2\n",
    "# add(20,34)"
   ]
  },
  {
   "cell_type": "code",
   "execution_count": 23,
   "id": "8c05c306",
   "metadata": {},
   "outputs": [
    {
     "name": "stdout",
     "output_type": "stream",
     "text": [
      "before function runs\n",
      "after function runs\n",
      "resul is 30\n"
     ]
    }
   ],
   "source": [
    "@myDecorator\n",
    "def add(num1,num2):\n",
    "    return (num1 + num2)\n",
    "result = add(20,10)\n",
    "print(f\"resul is {result}\")\n"
   ]
  },
  {
   "cell_type": "code",
   "execution_count": null,
   "id": "4886812d",
   "metadata": {},
   "outputs": [],
   "source": []
  }
 ],
 "metadata": {
  "kernelspec": {
   "display_name": "base",
   "language": "python",
   "name": "python3"
  },
  "language_info": {
   "codemirror_mode": {
    "name": "ipython",
    "version": 3
   },
   "file_extension": ".py",
   "mimetype": "text/x-python",
   "name": "python",
   "nbconvert_exporter": "python",
   "pygments_lexer": "ipython3",
   "version": "3.11.5"
  }
 },
 "nbformat": 4,
 "nbformat_minor": 5
}
