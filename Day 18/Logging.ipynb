{
 "cells": [
  {
   "cell_type": "markdown",
   "id": "219cabce",
   "metadata": {},
   "source": [
    "# Logging in python"
   ]
  },
  {
   "cell_type": "code",
   "execution_count": 2,
   "id": "adfdfa2b",
   "metadata": {},
   "outputs": [
    {
     "name": "stderr",
     "output_type": "stream",
     "text": [
      "ERROR:root:Devarsh raise when error is occured\n"
     ]
    }
   ],
   "source": [
    "import logging\n",
    "name = \"Devarsh\"\n",
    "logging.error(\"%s raise when error is occured\",name)"
   ]
  },
  {
   "cell_type": "code",
   "execution_count": 1,
   "id": "87473bd2",
   "metadata": {},
   "outputs": [
    {
     "name": "stderr",
     "output_type": "stream",
     "text": [
      "DEBUG:root:this is debug message\n",
      "INFO:root:this is info message\n",
      "WARNING:root:this is warning message\n",
      "ERROR:root:this is error message\n",
      "CRITICAL:root:this is critical message\n"
     ]
    }
   ],
   "source": [
    "import logging\n",
    "def main():\n",
    "    logging.basicConfig(level = logging.DEBUG)\n",
    "\n",
    "    logging.debug(\"this is debug message\")\n",
    "    logging.info(\"this is info message\")\n",
    "    logging.warning(\"this is warning message\")\n",
    "    logging.error(\"this is error message\")\n",
    "    logging.critical(\"this is critical message\")\n",
    "\n",
    "main()"
   ]
  },
  {
   "cell_type": "code",
   "execution_count": 9,
   "id": "2641807e",
   "metadata": {},
   "outputs": [],
   "source": [
    "logging.debug(\"this will not logged\")"
   ]
  },
  {
   "cell_type": "code",
   "execution_count": 4,
   "id": "42d4d887",
   "metadata": {},
   "outputs": [],
   "source": [
    "logging.info(\"this is info\")"
   ]
  },
  {
   "cell_type": "code",
   "execution_count": 5,
   "id": "3b6012c0",
   "metadata": {},
   "outputs": [
    {
     "name": "stderr",
     "output_type": "stream",
     "text": [
      "WARNING:root:this is warning message\n"
     ]
    }
   ],
   "source": [
    "logging.warning(\"this is warning message\")"
   ]
  },
  {
   "cell_type": "code",
   "execution_count": 6,
   "id": "02d93213",
   "metadata": {},
   "outputs": [
    {
     "name": "stderr",
     "output_type": "stream",
     "text": [
      "ERROR:root:this is error message\n"
     ]
    }
   ],
   "source": [
    "logging.error(\"this is error message\")"
   ]
  },
  {
   "cell_type": "code",
   "execution_count": 7,
   "id": "8415f740",
   "metadata": {},
   "outputs": [
    {
     "name": "stderr",
     "output_type": "stream",
     "text": [
      "CRITICAL:root:this is critical message\n"
     ]
    }
   ],
   "source": [
    "logging.critical(\"this is critical message\")"
   ]
  },
  {
   "cell_type": "markdown",
   "id": "102767d2",
   "metadata": {},
   "source": [
    "### Adjusting the Log Level\n",
    "To set up your basic logging configuration and adjust the log level, the logging module comes with a basicConfig() function. As a Python developer, this camel-cased function name may look unusual to you as it doesn’t follow the PEP 8 naming conventions:"
   ]
  },
  {
   "cell_type": "code",
   "execution_count": 1,
   "id": "aba8d20e",
   "metadata": {},
   "outputs": [
    {
     "name": "stderr",
     "output_type": "stream",
     "text": [
      "DEBUG:root:this will get logged\n"
     ]
    }
   ],
   "source": [
    "import logging\n",
    "logging.basicConfig(level=logging.DEBUG)\n",
    "logging.debug(\"this will get logged\")"
   ]
  },
  {
   "cell_type": "code",
   "execution_count": 2,
   "id": "75ddf8ee",
   "metadata": {},
   "outputs": [
    {
     "name": "stderr",
     "output_type": "stream",
     "text": [
      "ERROR:root:this is error log\n"
     ]
    }
   ],
   "source": [
    "import logging\n",
    "logging.basicConfig(format=\"%(levelname)s: %(name)s : %(message)s\")\n",
    "logging.error(\"this is error log\")"
   ]
  },
  {
   "cell_type": "code",
   "execution_count": 1,
   "id": "03d5e79a",
   "metadata": {},
   "outputs": [
    {
     "name": "stderr",
     "output_type": "stream",
     "text": [
      "root:WARNING:this is warning message\n"
     ]
    }
   ],
   "source": [
    "import logging\n",
    "logging.basicConfig(\n",
    "    format = \"{name}:{levelname}:{message}\",\n",
    "    style= \"{\"\n",
    ")\n",
    "logging.warning(\"this is warning message\")"
   ]
  },
  {
   "cell_type": "code",
   "execution_count": 1,
   "id": "03fd4607",
   "metadata": {},
   "outputs": [
    {
     "name": "stderr",
     "output_type": "stream",
     "text": [
      "2025-05-19 15:17 - WARNING - this is warning message\n"
     ]
    }
   ],
   "source": [
    "import logging\n",
    "logging.basicConfig(\n",
    "    format = \"{asctime} - {levelname} - {message}\",\n",
    "    style= \"{\",\n",
    "    datefmt=\"%Y-%m-%d %H:%M\",\n",
    ")\n",
    "logging.warning(\"this is warning message\")"
   ]
  },
  {
   "cell_type": "code",
   "execution_count": 1,
   "id": "b4240662",
   "metadata": {},
   "outputs": [
    {
     "name": "stderr",
     "output_type": "stream",
     "text": [
      "2025-05-19 15:15 - ERROR - Something went wrong!\n"
     ]
    }
   ],
   "source": [
    "import logging\n",
    "logging.basicConfig(\n",
    "    format=\"{asctime} - {levelname} - {message}\",\n",
    "    style=\"{\",\n",
    "    datefmt=\"%Y-%m-%d %H:%M\",\n",
    ")\n",
    "\n",
    "logging.error(\"Something went wrong!\")"
   ]
  },
  {
   "cell_type": "code",
   "execution_count": 1,
   "id": "efc0cba2",
   "metadata": {},
   "outputs": [],
   "source": [
    "import logging\n",
    "logging.basicConfig(\n",
    "    filename=\"app.log\",\n",
    "    encoding=\"utf-8\",\n",
    "    filemode=\"a\",\n",
    "    format = \"{asctime} - {levelname} - {message}\",\n",
    "    style= \"{\",\n",
    "    datefmt = \"%d - %m - %Y %H:%M\",\n",
    ")\n",
    "logging.warning(\"this is warning , save me\")"
   ]
  },
  {
   "cell_type": "code",
   "execution_count": 2,
   "id": "be3293fa",
   "metadata": {},
   "outputs": [],
   "source": [
    "import logging\n",
    "logger = logging.getLogger(__name__)"
   ]
  },
  {
   "cell_type": "code",
   "execution_count": null,
   "id": "0bf0d03d",
   "metadata": {},
   "outputs": [],
   "source": []
  },
  {
   "cell_type": "code",
   "execution_count": null,
   "id": "56dd18bd",
   "metadata": {},
   "outputs": [],
   "source": []
  }
 ],
 "metadata": {
  "kernelspec": {
   "display_name": "base",
   "language": "python",
   "name": "python3"
  },
  "language_info": {
   "codemirror_mode": {
    "name": "ipython",
    "version": 3
   },
   "file_extension": ".py",
   "mimetype": "text/x-python",
   "name": "python",
   "nbconvert_exporter": "python",
   "pygments_lexer": "ipython3",
   "version": "3.11.5"
  }
 },
 "nbformat": 4,
 "nbformat_minor": 5
}
