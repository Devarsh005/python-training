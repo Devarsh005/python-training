{
 "cells": [
  {
   "cell_type": "markdown",
   "id": "9bbf52c8",
   "metadata": {},
   "source": [
    "## what is function?\n",
    "- functions is reusable-code of block ."
   ]
  },
  {
   "cell_type": "markdown",
   "id": "0da1c830",
   "metadata": {},
   "source": [
    "# signature of function\n",
    "def function(arh1,argh2):\n",
    "    return something"
   ]
  },
  {
   "cell_type": "code",
   "execution_count": 5,
   "id": "213264fb",
   "metadata": {},
   "outputs": [
    {
     "name": "stdout",
     "output_type": "stream",
     "text": [
      "this functiona name is noreturn function\n",
      "this function don' give any return value None\n"
     ]
    }
   ],
   "source": [
    "def no_return():\n",
    "    print('this functiona name is noreturn function')\n",
    "print(f'this function don\\' give any return value {no_return()}')"
   ]
  },
  {
   "cell_type": "markdown",
   "id": "718d6600",
   "metadata": {},
   "source": [
    "### required arguments"
   ]
  },
  {
   "cell_type": "code",
   "execution_count": 2,
   "id": "725760f4",
   "metadata": {},
   "outputs": [
    {
     "name": "stdout",
     "output_type": "stream",
     "text": [
      "20 hello nacho\n"
     ]
    }
   ],
   "source": [
    "def required_arguments(arg1,arg2,arg3):\n",
    "    print(arg1,arg2,arg3)\n",
    "required_arguments(20,'hello','nacho')"
   ]
  },
  {
   "cell_type": "code",
   "execution_count": null,
   "id": "4bc45d6a",
   "metadata": {},
   "outputs": [],
   "source": [
    "# if arguments are not pass then raise typeError: missing positional arguments\n",
    "required_arguments(10,'g')  # TypeError: required_arguments() missing 1 required positional argument: 'arg3'"
   ]
  },
  {
   "cell_type": "markdown",
   "id": "e95ab70e",
   "metadata": {},
   "source": [
    "### keyword arguments"
   ]
  },
  {
   "cell_type": "code",
   "execution_count": 10,
   "id": "3291061b",
   "metadata": {},
   "outputs": [
    {
     "name": "stdout",
     "output_type": "stream",
     "text": [
      "2000 hello bolo\n"
     ]
    }
   ],
   "source": [
    "required_arguments(arg3='bolo',arg1=2000,arg2='hello')"
   ]
  },
  {
   "cell_type": "code",
   "execution_count": 5,
   "id": "ff9a0ab2",
   "metadata": {},
   "outputs": [
    {
     "name": "stdout",
     "output_type": "stream",
     "text": [
      "hallo 2 jpyhon\n"
     ]
    }
   ],
   "source": [
    "required_arguments('hallo',arg2=2,arg3='jpyhon')"
   ]
  },
  {
   "cell_type": "code",
   "execution_count": 6,
   "id": "54a26c01",
   "metadata": {},
   "outputs": [
    {
     "ename": "SyntaxError",
     "evalue": "positional argument follows keyword argument (4148164573.py, line 1)",
     "output_type": "error",
     "traceback": [
      "\u001b[1;36m  Cell \u001b[1;32mIn[6], line 1\u001b[1;36m\u001b[0m\n\u001b[1;33m    required_arguments(arg1=2,arg2='jpyhon','hallo')\u001b[0m\n\u001b[1;37m                                                   ^\u001b[0m\n\u001b[1;31mSyntaxError\u001b[0m\u001b[1;31m:\u001b[0m positional argument follows keyword argument\n"
     ]
    }
   ],
   "source": [
    "required_arguments(arg1=2,arg2='jpyhon','hallo')"
   ]
  },
  {
   "cell_type": "code",
   "execution_count": 14,
   "id": "1295f606",
   "metadata": {},
   "outputs": [
    {
     "ename": "SyntaxError",
     "evalue": "positional argument follows keyword argument (2516612488.py, line 1)",
     "output_type": "error",
     "traceback": [
      "\u001b[1;36m  Cell \u001b[1;32mIn[14], line 1\u001b[1;36m\u001b[0m\n\u001b[1;33m    required_arguments(arg1=2,10,arg3='jpyhon')\u001b[0m\n\u001b[1;37m                                              ^\u001b[0m\n\u001b[1;31mSyntaxError\u001b[0m\u001b[1;31m:\u001b[0m positional argument follows keyword argument\n"
     ]
    }
   ],
   "source": [
    "required_arguments(arg1=2,10,arg3='jpyhon')"
   ]
  },
  {
   "cell_type": "code",
   "execution_count": 17,
   "id": "aaf55740",
   "metadata": {},
   "outputs": [
    {
     "name": "stdout",
     "output_type": "stream",
     "text": [
      "10 2 jpyhon\n"
     ]
    }
   ],
   "source": [
    "required_arguments(10,arg3='jpyhon',arg2=2)"
   ]
  },
  {
   "cell_type": "markdown",
   "id": "0ee550fe",
   "metadata": {},
   "source": [
    "### default arguments"
   ]
  },
  {
   "cell_type": "code",
   "execution_count": 47,
   "id": "9dc3ceea",
   "metadata": {},
   "outputs": [
    {
     "name": "stdout",
     "output_type": "stream",
     "text": [
      "10 jpyho devr\n",
      "10 2 hello\n"
     ]
    }
   ],
   "source": [
    "def default_arguments(arg1,arg3='jpyhon',arg2=2):\n",
    "    print(arg1,arg2,arg3)\n",
    "default_arguments(10,'devr','jpyho')\n",
    "default_arguments(10,'hello')"
   ]
  },
  {
   "cell_type": "markdown",
   "id": "c906af31",
   "metadata": {},
   "source": [
    "### *args"
   ]
  },
  {
   "cell_type": "code",
   "execution_count": 19,
   "id": "20f859e0",
   "metadata": {},
   "outputs": [
    {
     "name": "stdout",
     "output_type": "stream",
     "text": [
      "10\n",
      "20\n",
      "30\n"
     ]
    }
   ],
   "source": [
    "def positional_arguments(*args):\n",
    "    for i in args:\n",
    "        print(i)\n",
    "positional_arguments(10,20,30)"
   ]
  },
  {
   "cell_type": "code",
   "execution_count": 20,
   "id": "651fdb62",
   "metadata": {},
   "outputs": [
    {
     "name": "stdout",
     "output_type": "stream",
     "text": [
      "10\n",
      "20\n",
      "30\n",
      "-20\n",
      "hello\n",
      "never\n"
     ]
    }
   ],
   "source": [
    "positional_arguments(10,20,30,-20,'hello','never')"
   ]
  },
  {
   "cell_type": "markdown",
   "id": "eedc0794",
   "metadata": {},
   "source": [
    "### keyword arguments"
   ]
  },
  {
   "cell_type": "code",
   "execution_count": 37,
   "id": "42b9931f",
   "metadata": {},
   "outputs": [
    {
     "name": "stdout",
     "output_type": "stream",
     "text": [
      "arg1 - > 10\n",
      "arg2 - > 20\n",
      "arg3 - > [20, 'hello']\n",
      "arg4 - > (2, 3, 'hello')\n",
      "arg5 - > {'name': 'devarsh', 'age': 22}\n",
      "arg6 - > {'sachin', 'devarsh', 20, 10, 30}\n"
     ]
    }
   ],
   "source": [
    "def keyword_arguments(**kwargs):\n",
    "    for key,value in kwargs.items():\n",
    "        print(f\"{key} - > {value}\")\n",
    "keyword_arguments(arg1=10,arg2=20 , arg3 = [20,'hello'],arg4 = (2,3,'hello',),arg5 ={'name':'devarsh','age':22}, arg6 = {20,30,30,10,'devarsh','sachin','devarsh'})"
   ]
  },
  {
   "cell_type": "markdown",
   "id": "b5f66f74",
   "metadata": {},
   "source": [
    "### lambda function"
   ]
  },
  {
   "cell_type": "code",
   "execution_count": 38,
   "id": "53f68065",
   "metadata": {},
   "outputs": [
    {
     "name": "stdout",
     "output_type": "stream",
     "text": [
      "4\n",
      "100\n",
      "16\n",
      "81\n",
      "64\n"
     ]
    }
   ],
   "source": [
    "square_of_numbers = lambda x:x**2\n",
    "\n",
    "print(square_of_numbers(2))\n",
    "print(square_of_numbers(10))\n",
    "print(square_of_numbers(4))\n",
    "print(square_of_numbers(9))\n",
    "print(square_of_numbers(8))"
   ]
  },
  {
   "cell_type": "markdown",
   "id": "8ce28225",
   "metadata": {},
   "source": [
    "### pass a small function as a an argument"
   ]
  },
  {
   "cell_type": "code",
   "execution_count": 42,
   "id": "7f440758",
   "metadata": {},
   "outputs": [
    {
     "name": "stdout",
     "output_type": "stream",
     "text": [
      "[(4, 'four'), (1, 'one'), (3, 'three'), (2, 'two')]\n",
      "[(1, 'one'), (2, 'two'), (3, 'three'), (4, 'four')]\n"
     ]
    }
   ],
   "source": [
    "pairs = [(1,'one') , (2,'two') , (3,'three') , (4,'four')]\n",
    "pairs.sort(key=lambda x:x[1])\n",
    "print(pairs)\n",
    "pairs.sort(key=lambda x:x[0])\n",
    "print(pairs)"
   ]
  },
  {
   "cell_type": "code",
   "execution_count": null,
   "id": "db3a2444",
   "metadata": {},
   "outputs": [],
   "source": []
  },
  {
   "cell_type": "code",
   "execution_count": null,
   "id": "5f548223",
   "metadata": {},
   "outputs": [],
   "source": []
  },
  {
   "cell_type": "code",
   "execution_count": null,
   "id": "588284d9",
   "metadata": {},
   "outputs": [],
   "source": []
  }
 ],
 "metadata": {
  "kernelspec": {
   "display_name": "base",
   "language": "python",
   "name": "python3"
  },
  "language_info": {
   "codemirror_mode": {
    "name": "ipython",
    "version": 3
   },
   "file_extension": ".py",
   "mimetype": "text/x-python",
   "name": "python",
   "nbconvert_exporter": "python",
   "pygments_lexer": "ipython3",
   "version": "3.11.5"
  }
 },
 "nbformat": 4,
 "nbformat_minor": 5
}
