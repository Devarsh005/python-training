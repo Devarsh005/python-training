{
 "cells": [
  {
   "cell_type": "markdown",
   "id": "c94c5c4f",
   "metadata": {},
   "source": [
    "# Memory management"
   ]
  },
  {
   "cell_type": "code",
   "execution_count": 2,
   "id": "498b5287",
   "metadata": {},
   "outputs": [
    {
     "name": "stdout",
     "output_type": "stream",
     "text": [
      "True\n"
     ]
    }
   ],
   "source": [
    "a = 256\n",
    "b=256\n",
    "print(a is b)"
   ]
  },
  {
   "cell_type": "code",
   "execution_count": 3,
   "id": "3d860a40",
   "metadata": {},
   "outputs": [
    {
     "name": "stdout",
     "output_type": "stream",
     "text": [
      "False\n"
     ]
    }
   ],
   "source": [
    "a = 257\n",
    "b = 257\n",
    "print(a is b)"
   ]
  },
  {
   "cell_type": "code",
   "execution_count": 4,
   "id": "72ca2cf6",
   "metadata": {},
   "outputs": [
    {
     "name": "stdout",
     "output_type": "stream",
     "text": [
      "False\n"
     ]
    }
   ],
   "source": [
    "a = []\n",
    "b = []\n",
    "print(a is b)"
   ]
  },
  {
   "cell_type": "code",
   "execution_count": 6,
   "id": "d0be9ec5",
   "metadata": {},
   "outputs": [
    {
     "name": "stdout",
     "output_type": "stream",
     "text": [
      "True\n",
      "<class 'tuple'>\n"
     ]
    }
   ],
   "source": [
    "a = ()\n",
    "b = ()\n",
    "print(a is b)\n",
    "print(type(a))"
   ]
  },
  {
   "cell_type": "code",
   "execution_count": 7,
   "id": "e4a1e38d",
   "metadata": {},
   "outputs": [
    {
     "name": "stdout",
     "output_type": "stream",
     "text": [
      "True\n"
     ]
    }
   ],
   "source": [
    "a,b = 257,257\n",
    "print(a is b)"
   ]
  },
  {
   "cell_type": "code",
   "execution_count": null,
   "id": "b9a206d2",
   "metadata": {},
   "outputs": [
    {
     "name": "stdout",
     "output_type": "stream",
     "text": [
      "False\n"
     ]
    }
   ],
   "source": [
    "class b:\n",
    "    pass\n",
    "# here two empty objcets of b class is locate in different memory location\n",
    "print(b() is b()) "
   ]
  },
  {
   "cell_type": "code",
   "execution_count": 14,
   "id": "790d87eb",
   "metadata": {},
   "outputs": [
    {
     "name": "stdout",
     "output_type": "stream",
     "text": [
      "2480496391088\n",
      "2480496392944\n"
     ]
    }
   ],
   "source": [
    "print(id(257))\n",
    "a=257\n",
    "print(id(a))"
   ]
  },
  {
   "cell_type": "code",
   "execution_count": 21,
   "id": "63b64a0f",
   "metadata": {},
   "outputs": [
    {
     "name": "stdout",
     "output_type": "stream",
     "text": [
      "140734302565128\n",
      "140734302565128\n",
      "140734302556776\n",
      "140734302556776\n",
      "2480497919408\n",
      "2480497919568\n",
      "2480497918096\n",
      "2480497918096\n",
      "140734302557256\n",
      "140734302557256\n",
      "2480497918608\n",
      "2480497918384\n"
     ]
    }
   ],
   "source": [
    "# now see here for -5 to 256 numbers\n",
    "print(id(256))\n",
    "a= 256 \n",
    "print(id(a))\n",
    "\n",
    "# another example\n",
    "print(id(-5))\n",
    "a = -5\n",
    "print(id(a))\n",
    "# let's take another example which is out of -5 to 256 \n",
    "print(id(-6))\n",
    "a=-6\n",
    "print(id(a))\n",
    "# here above for -6 there are allocate in different memory allocation\n",
    "# mow let's see memory referencing\n",
    "a = -6\n",
    "b =a\n",
    "print(id(a))\n",
    "print(id(b))\n",
    "# conclusion->> between -5 to 256 have special memory allocation in pyhton \n",
    "# because without doing a=b just taking value same and they are refering the same value point \n",
    "# and in another case where out of (-5,256) giving same value but they don't point the same id\n",
    "# here's one example\n",
    "\n",
    "a=10\n",
    "b=10\n",
    "print(id(a))\n",
    "print(id(b))\n",
    "# and out of range\n",
    "a = 1000\n",
    "b = 1000\n",
    "print(id(a))\n",
    "print(id(b))"
   ]
  },
  {
   "cell_type": "markdown",
   "id": "ef114a2b",
   "metadata": {},
   "source": [
    "## python pass by object reference"
   ]
  },
  {
   "cell_type": "code",
   "execution_count": 25,
   "id": "076c715e",
   "metadata": {},
   "outputs": [
    {
     "name": "stdout",
     "output_type": "stream",
     "text": [
      "before updating 20\n",
      "after updating 20\n"
     ]
    }
   ],
   "source": [
    "def sum(number1,number2):\n",
    "    number1 = number1 + number2\n",
    "    return number1\n",
    "num1 = 20\n",
    "num2 = 30\n",
    "print(f\"before updating {num1}\")\n",
    "result_of_sum = sum(num1,num2)\n",
    "print(f\"after updating {num1}\")"
   ]
  },
  {
   "cell_type": "code",
   "execution_count": 26,
   "id": "d266b99e",
   "metadata": {},
   "outputs": [
    {
     "name": "stdout",
     "output_type": "stream",
     "text": [
      "before updaing list ['a', 'b', 'c', 'd', 'e']\n",
      "after updaing list ['a', 'b', 'c', 'd', 'e', 's']\n"
     ]
    }
   ],
   "source": [
    "# now take one list -> because list is mutable\n",
    "\n",
    "alphabatical_list = ['a','b','c','d','e']\n",
    "\n",
    "def append_the_alphabatic(xhar,list_alphabatic):\n",
    "    list_alphabatic.append(xhar)\n",
    "    return\n",
    "print(f'before updaing list {alphabatical_list}')\n",
    "append_the_alphabatic('s',alphabatical_list)\n",
    "print(f'after updaing list {alphabatical_list}')\n",
    "\n"
   ]
  },
  {
   "cell_type": "code",
   "execution_count": null,
   "id": "06396eb9",
   "metadata": {},
   "outputs": [],
   "source": []
  }
 ],
 "metadata": {
  "kernelspec": {
   "display_name": "base",
   "language": "python",
   "name": "python3"
  },
  "language_info": {
   "codemirror_mode": {
    "name": "ipython",
    "version": 3
   },
   "file_extension": ".py",
   "mimetype": "text/x-python",
   "name": "python",
   "nbconvert_exporter": "python",
   "pygments_lexer": "ipython3",
   "version": "3.11.5"
  }
 },
 "nbformat": 4,
 "nbformat_minor": 5
}
