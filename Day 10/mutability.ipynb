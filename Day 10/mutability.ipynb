{
 "cells": [
  {
   "cell_type": "code",
   "execution_count": 1,
   "id": "769721a5",
   "metadata": {},
   "outputs": [],
   "source": [
    "a=10"
   ]
  },
  {
   "cell_type": "code",
   "execution_count": 2,
   "id": "bb072a52",
   "metadata": {},
   "outputs": [],
   "source": [
    "b=10"
   ]
  },
  {
   "cell_type": "code",
   "execution_count": 3,
   "id": "37541c6e",
   "metadata": {},
   "outputs": [
    {
     "data": {
      "text/plain": [
       "140734302557256"
      ]
     },
     "execution_count": 3,
     "metadata": {},
     "output_type": "execute_result"
    }
   ],
   "source": [
    "id(a)"
   ]
  },
  {
   "cell_type": "code",
   "execution_count": 4,
   "id": "758c708f",
   "metadata": {},
   "outputs": [
    {
     "data": {
      "text/plain": [
       "140734302557256"
      ]
     },
     "execution_count": 4,
     "metadata": {},
     "output_type": "execute_result"
    }
   ],
   "source": [
    "id(b)"
   ]
  },
  {
   "cell_type": "code",
   "execution_count": 5,
   "id": "d74e01e3",
   "metadata": {},
   "outputs": [
    {
     "data": {
      "text/plain": [
       "True"
      ]
     },
     "execution_count": 5,
     "metadata": {},
     "output_type": "execute_result"
    }
   ],
   "source": [
    "a is b"
   ]
  },
  {
   "cell_type": "code",
   "execution_count": 6,
   "id": "9de54bfc",
   "metadata": {},
   "outputs": [
    {
     "data": {
      "text/plain": [
       "True"
      ]
     },
     "execution_count": 6,
     "metadata": {},
     "output_type": "execute_result"
    }
   ],
   "source": [
    "b is a"
   ]
  },
  {
   "cell_type": "code",
   "execution_count": 7,
   "id": "f00b58dc",
   "metadata": {},
   "outputs": [],
   "source": [
    "a=20"
   ]
  },
  {
   "cell_type": "code",
   "execution_count": 8,
   "id": "147799db",
   "metadata": {},
   "outputs": [
    {
     "data": {
      "text/plain": [
       "False"
      ]
     },
     "execution_count": 8,
     "metadata": {},
     "output_type": "execute_result"
    }
   ],
   "source": [
    "a is b"
   ]
  },
  {
   "cell_type": "code",
   "execution_count": 10,
   "id": "4fbf57e4",
   "metadata": {},
   "outputs": [
    {
     "data": {
      "text/plain": [
       "10"
      ]
     },
     "execution_count": 10,
     "metadata": {},
     "output_type": "execute_result"
    }
   ],
   "source": [
    "b"
   ]
  },
  {
   "cell_type": "code",
   "execution_count": 11,
   "id": "e315a4d4",
   "metadata": {},
   "outputs": [
    {
     "data": {
      "text/plain": [
       "20"
      ]
     },
     "execution_count": 11,
     "metadata": {},
     "output_type": "execute_result"
    }
   ],
   "source": [
    "a"
   ]
  },
  {
   "cell_type": "code",
   "execution_count": 12,
   "id": "586655bc",
   "metadata": {},
   "outputs": [],
   "source": [
    "first_list_of_numbers = [1,2,3,4,5]\n",
    "second_list_of_numbers = [1,2,3,4,5]\n"
   ]
  },
  {
   "cell_type": "code",
   "execution_count": 13,
   "id": "e63b84ef",
   "metadata": {},
   "outputs": [
    {
     "data": {
      "text/plain": [
       "3093301178752"
      ]
     },
     "execution_count": 13,
     "metadata": {},
     "output_type": "execute_result"
    }
   ],
   "source": [
    "id(first_list_of_numbers)"
   ]
  },
  {
   "cell_type": "code",
   "execution_count": 14,
   "id": "764bb6c6",
   "metadata": {},
   "outputs": [
    {
     "data": {
      "text/plain": [
       "3093300893376"
      ]
     },
     "execution_count": 14,
     "metadata": {},
     "output_type": "execute_result"
    }
   ],
   "source": [
    "id(second_list_of_numbers)"
   ]
  },
  {
   "cell_type": "code",
   "execution_count": 15,
   "id": "37f6f70f",
   "metadata": {},
   "outputs": [],
   "source": [
    "first_list_of_numbers.append(6)\n",
    "first_list_of_numbers.append(7)"
   ]
  },
  {
   "cell_type": "code",
   "execution_count": 16,
   "id": "7b2221cb",
   "metadata": {},
   "outputs": [
    {
     "data": {
      "text/plain": [
       "[1, 2, 3, 4, 5, 6, 7]"
      ]
     },
     "execution_count": 16,
     "metadata": {},
     "output_type": "execute_result"
    }
   ],
   "source": [
    "first_list_of_numbers"
   ]
  },
  {
   "cell_type": "code",
   "execution_count": 17,
   "id": "885d2834",
   "metadata": {},
   "outputs": [
    {
     "data": {
      "text/plain": [
       "[1, 2, 3, 4, 5]"
      ]
     },
     "execution_count": 17,
     "metadata": {},
     "output_type": "execute_result"
    }
   ],
   "source": [
    "second_list_of_numbers"
   ]
  },
  {
   "cell_type": "code",
   "execution_count": 18,
   "id": "67b552dc",
   "metadata": {},
   "outputs": [
    {
     "data": {
      "text/plain": [
       "3093301178752"
      ]
     },
     "execution_count": 18,
     "metadata": {},
     "output_type": "execute_result"
    }
   ],
   "source": [
    "id(first_list_of_numbers)"
   ]
  },
  {
   "cell_type": "code",
   "execution_count": 19,
   "id": "0b88ad39",
   "metadata": {},
   "outputs": [
    {
     "data": {
      "text/plain": [
       "3093300893376"
      ]
     },
     "execution_count": 19,
     "metadata": {},
     "output_type": "execute_result"
    }
   ],
   "source": [
    "id(second_list_of_numbers)"
   ]
  },
  {
   "cell_type": "code",
   "execution_count": 24,
   "id": "a00699a2",
   "metadata": {},
   "outputs": [
    {
     "name": "stdout",
     "output_type": "stream",
     "text": [
      "1->140734302556968\n",
      "2->140734302557000\n",
      "3->140734302557032\n",
      "4->140734302557064\n",
      "5->140734302557096\n",
      "6->140734302557128\n",
      "7->140734302557160\n",
      "1->140734302556968\n",
      "2->140734302557000\n",
      "3->140734302557032\n",
      "4->140734302557064\n",
      "5->140734302557096\n"
     ]
    }
   ],
   "source": [
    "for i in first_list_of_numbers:\n",
    "    print(f'{i}->{id(i)}')\n",
    "for i in second_list_of_numbers:\n",
    "    print(f'{i}->{id(i)}')\n",
    "# this is twist \n",
    "# id(first_list_of_numbers) and id(second_list_of_numbers) are not same but id(first_list_of_numbers[0]) == id(second_list_of_numbers[0])"
   ]
  },
  {
   "cell_type": "markdown",
   "id": "f8cdc82a",
   "metadata": {},
   "source": [
    " __Create a program to take two int inputs from user and if those two inputs are pointing to same memory location then print True else print False.__"
   ]
  },
  {
   "cell_type": "code",
   "execution_count": 28,
   "id": "bf9c92d6",
   "metadata": {},
   "outputs": [
    {
     "name": "stdout",
     "output_type": "stream",
     "text": [
      "False\n"
     ]
    }
   ],
   "source": [
    "input_number_one = int(input('enter first number'))\n",
    "input_number_two = int(input('enter second number'))\n",
    "if id(input_number_one) == id(input_number_two):\n",
    "    print(True)\n",
    "else:\n",
    "    print(False)"
   ]
  },
  {
   "cell_type": "markdown",
   "id": "d044521e",
   "metadata": {},
   "source": [
    "# tricky stuff"
   ]
  },
  {
   "cell_type": "code",
   "execution_count": 39,
   "id": "c5853472",
   "metadata": {},
   "outputs": [
    {
     "name": "stdout",
     "output_type": "stream",
     "text": [
      "same\n",
      "same\n",
      "same\n",
      "same\n",
      "#gfg\n",
      "#gfg\n",
      "not same\n",
      "not same\n"
     ]
    }
   ],
   "source": [
    "first_list = [1,2,'anant','raghav',2.3,700,'devarsh','#gfg']\n",
    "second_list = ['anant','devarsh',1,2,2.3,'#gfg']\n",
    "# check 'anant' id \n",
    "if id(first_list[2]) == id(second_list[0]):\n",
    "    print('same')\n",
    "else:\n",
    "    print('not same')\n",
    "# check 'devarsh' id\n",
    "if id(first_list[6]) == id(second_list[1]):\n",
    "    print('same')\n",
    "else:\n",
    "    print('not same')\n",
    "# check for 2\n",
    "if id(first_list[1]) == id(second_list[3]):\n",
    "    print('same')\n",
    "else:\n",
    "    print('not same')\n",
    "# check for '1' \n",
    "if id(first_list[0]) == id(second_list[2]):\n",
    "    print('same')\n",
    "else:\n",
    "    print('not same')\n",
    "# check for '#gfg'\n",
    "print(first_list[7])\n",
    "print(second_list[5])\n",
    "if id(first_list[7]) == id(second_list[5]):\n",
    "    print('same')\n",
    "else:\n",
    "    print('not same')\n",
    "if id(first_list[4]) == id(second_list[4]):\n",
    "    print('same')\n",
    "else:\n",
    "    print('not same')"
   ]
  },
  {
   "cell_type": "code",
   "execution_count": 40,
   "id": "a557140e",
   "metadata": {},
   "outputs": [
    {
     "name": "stdout",
     "output_type": "stream",
     "text": [
      "not same\n"
     ]
    }
   ],
   "source": [
    "first_list = ['anant','raghav',2.3,700,'devarsh','#gfg']\n",
    "second_list = ['anant','raghav',1,2,2.3,'#gfg']\n",
    "first_list = [1,2,'anant','raghav',2.3,700,'devarsh','#gfg']\n",
    "if id(first_list[1]) == id(second_list[1]):\n",
    "    print('same')\n",
    "else:\n",
    "    print('not same')"
   ]
  },
  {
   "cell_type": "code",
   "execution_count": null,
   "id": "ca853f51",
   "metadata": {},
   "outputs": [],
   "source": []
  }
 ],
 "metadata": {
  "kernelspec": {
   "display_name": "base",
   "language": "python",
   "name": "python3"
  },
  "language_info": {
   "codemirror_mode": {
    "name": "ipython",
    "version": 3
   },
   "file_extension": ".py",
   "mimetype": "text/x-python",
   "name": "python",
   "nbconvert_exporter": "python",
   "pygments_lexer": "ipython3",
   "version": "3.11.5"
  }
 },
 "nbformat": 4,
 "nbformat_minor": 5
}
