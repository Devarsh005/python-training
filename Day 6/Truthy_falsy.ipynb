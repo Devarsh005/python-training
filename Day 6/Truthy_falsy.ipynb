{
 "cells": [
  {
   "cell_type": "markdown",
   "id": "4ce5ae06",
   "metadata": {},
   "source": [
    "## truthy and Falsy values"
   ]
  },
  {
   "cell_type": "code",
   "execution_count": null,
   "id": "31235874",
   "metadata": {},
   "outputs": [
    {
     "name": "stdout",
     "output_type": "stream",
     "text": [
      "False\n"
     ]
    }
   ],
   "source": [
    "if 5<3:\n",
    "    print('True')\n",
    "else:\n",
    "    print('False')"
   ]
  },
  {
   "cell_type": "markdown",
   "id": "72b225c1",
   "metadata": {},
   "source": [
    "- in above code if have some expression to react "
   ]
  },
  {
   "cell_type": "markdown",
   "id": "7450f25b",
   "metadata": {},
   "source": [
    "- but below code doesn't have any expression it's just have only value"
   ]
  },
  {
   "cell_type": "code",
   "execution_count": 28,
   "id": "41f874fa",
   "metadata": {},
   "outputs": [
    {
     "name": "stdout",
     "output_type": "stream",
     "text": [
      "True\n",
      "False\n",
      "True\n"
     ]
    }
   ],
   "source": [
    "if 5:\n",
    "    print('True')\n",
    "else:\n",
    "    print('False')\n",
    "if 0:\n",
    "    print('True')\n",
    "else:\n",
    "    print('False')\n",
    "if -2:\n",
    "    print('True')\n",
    "else:\n",
    "    print('False')"
   ]
  },
  {
   "cell_type": "markdown",
   "id": "bb78d8ab",
   "metadata": {},
   "source": [
    "- in above cell for 0 -> False"
   ]
  },
  {
   "cell_type": "markdown",
   "id": "4d41074c",
   "metadata": {},
   "source": [
    "- Values that evaluate to False are considered **Falsy**.\n",
    "- Values that evaluate to True are considered **Truthy**."
   ]
  },
  {
   "cell_type": "markdown",
   "id": "e54f496a",
   "metadata": {},
   "source": [
    "#### we can check the value is truthy or falsy by using bool()"
   ]
  },
  {
   "cell_type": "code",
   "execution_count": 31,
   "id": "1e2c28fe",
   "metadata": {},
   "outputs": [
    {
     "data": {
      "text/plain": [
       "False"
      ]
     },
     "execution_count": 31,
     "metadata": {},
     "output_type": "execute_result"
    }
   ],
   "source": [
    "bool(0)"
   ]
  },
  {
   "cell_type": "code",
   "execution_count": 32,
   "id": "c8cfe26f",
   "metadata": {},
   "outputs": [
    {
     "data": {
      "text/plain": [
       "False"
      ]
     },
     "execution_count": 32,
     "metadata": {},
     "output_type": "execute_result"
    }
   ],
   "source": [
    "bool({})"
   ]
  },
  {
   "cell_type": "code",
   "execution_count": 33,
   "id": "57a4d758",
   "metadata": {},
   "outputs": [
    {
     "data": {
      "text/plain": [
       "False"
      ]
     },
     "execution_count": 33,
     "metadata": {},
     "output_type": "execute_result"
    }
   ],
   "source": [
    "bool([])"
   ]
  },
  {
   "cell_type": "code",
   "execution_count": 34,
   "id": "1dc4bdbd",
   "metadata": {},
   "outputs": [
    {
     "data": {
      "text/plain": [
       "False"
      ]
     },
     "execution_count": 34,
     "metadata": {},
     "output_type": "execute_result"
    }
   ],
   "source": [
    "bool(())"
   ]
  },
  {
   "cell_type": "code",
   "execution_count": 35,
   "id": "4b735687",
   "metadata": {},
   "outputs": [
    {
     "data": {
      "text/plain": [
       "True"
      ]
     },
     "execution_count": 35,
     "metadata": {},
     "output_type": "execute_result"
    }
   ],
   "source": [
    "bool(1)"
   ]
  },
  {
   "cell_type": "code",
   "execution_count": 36,
   "id": "ac73c8ae",
   "metadata": {},
   "outputs": [
    {
     "data": {
      "text/plain": [
       "True"
      ]
     },
     "execution_count": 36,
     "metadata": {},
     "output_type": "execute_result"
    }
   ],
   "source": [
    "bool([1])"
   ]
  },
  {
   "cell_type": "code",
   "execution_count": 37,
   "id": "215d30a0",
   "metadata": {},
   "outputs": [
    {
     "data": {
      "text/plain": [
       "False"
      ]
     },
     "execution_count": 37,
     "metadata": {},
     "output_type": "execute_result"
    }
   ],
   "source": [
    "bool(None)"
   ]
  },
  {
   "cell_type": "code",
   "execution_count": 38,
   "id": "e203e6b6",
   "metadata": {},
   "outputs": [
    {
     "data": {
      "text/plain": [
       "False"
      ]
     },
     "execution_count": 38,
     "metadata": {},
     "output_type": "execute_result"
    }
   ],
   "source": [
    "bool( )"
   ]
  },
  {
   "cell_type": "code",
   "execution_count": 39,
   "id": "b86061c7",
   "metadata": {},
   "outputs": [
    {
     "data": {
      "text/plain": [
       "False"
      ]
     },
     "execution_count": 39,
     "metadata": {},
     "output_type": "execute_result"
    }
   ],
   "source": [
    "bool(    )"
   ]
  },
  {
   "cell_type": "code",
   "execution_count": 40,
   "id": "b09d31bb",
   "metadata": {},
   "outputs": [
    {
     "data": {
      "text/plain": [
       "True"
      ]
     },
     "execution_count": 40,
     "metadata": {},
     "output_type": "execute_result"
    }
   ],
   "source": [
    "bool('   ')"
   ]
  },
  {
   "cell_type": "code",
   "execution_count": 41,
   "id": "114d3d5e",
   "metadata": {},
   "outputs": [
    {
     "data": {
      "text/plain": [
       "False"
      ]
     },
     "execution_count": 41,
     "metadata": {},
     "output_type": "execute_result"
    }
   ],
   "source": [
    "bool('')"
   ]
  },
  {
   "cell_type": "code",
   "execution_count": null,
   "id": "493b7f6c",
   "metadata": {},
   "outputs": [],
   "source": [
    "def print_even(data:list):\n",
    "    if data:\n",
    "        for value in data:\n",
    "            if(value%2 == 0 ):\n",
    "                print(value)\n",
    "    else:\n",
    "        print('data cannot be empty')"
   ]
  },
  {
   "cell_type": "code",
   "execution_count": 44,
   "id": "c3fb5671",
   "metadata": {},
   "outputs": [
    {
     "name": "stdout",
     "output_type": "stream",
     "text": [
      "2\n",
      "4\n"
     ]
    }
   ],
   "source": [
    "print_even([2,3,4])"
   ]
  },
  {
   "cell_type": "code",
   "execution_count": 46,
   "metadata": {},
   "outputs": [
    {
     "name": "stdout",
     "output_type": "stream",
     "text": [
      "data cannot be empty\n"
     ]
    }
   ],
   "source": [
    "print_even(\"\")"
   ]
  },
  {
   "cell_type": "code",
   "execution_count": 24,
   "id": "2fbaf698",
   "metadata": {},
   "outputs": [
    {
     "name": "stdout",
     "output_type": "stream",
     "text": [
      "<class '__main__.account'>\n"
     ]
    }
   ],
   "source": [
    "class account:\n",
    "    def __init__(self,balance):\n",
    "        self.balance = balance\n",
    "print(account)\n"
   ]
  },
  {
   "cell_type": "code",
   "execution_count": 25,
   "id": "5ba4c22f",
   "metadata": {},
   "outputs": [
    {
     "data": {
      "text/plain": [
       "True"
      ]
     },
     "execution_count": 25,
     "metadata": {},
     "output_type": "execute_result"
    }
   ],
   "source": [
    "acc = account(20)\n",
    "bool(acc)"
   ]
  },
  {
   "cell_type": "code",
   "execution_count": 26,
   "id": "c4f0f408",
   "metadata": {},
   "outputs": [
    {
     "data": {
      "text/plain": [
       "True"
      ]
     },
     "execution_count": 26,
     "metadata": {},
     "output_type": "execute_result"
    }
   ],
   "source": [
    "acc2 = account(-1)\n",
    "bool(acc2)"
   ]
  },
  {
   "cell_type": "markdown",
   "id": "97245007",
   "metadata": {},
   "source": [
    "### we can customize method using bool dunder method"
   ]
  },
  {
   "cell_type": "code",
   "execution_count": 19,
   "id": "5cf22fc7",
   "metadata": {},
   "outputs": [],
   "source": [
    "class account:\n",
    "    def __init__(self,balance):\n",
    "        self.balance = balance\n",
    "    def __bool__(self):\n",
    "        return self.balance>0"
   ]
  },
  {
   "cell_type": "code",
   "execution_count": 21,
   "id": "072b8488",
   "metadata": {},
   "outputs": [
    {
     "data": {
      "text/plain": [
       "False"
      ]
     },
     "execution_count": 21,
     "metadata": {},
     "output_type": "execute_result"
    }
   ],
   "source": [
    "acc3 = account(-10)\n",
    "bool(acc3)"
   ]
  },
  {
   "cell_type": "markdown",
   "id": "3871cc81",
   "metadata": {},
   "source": [
    "***now you can see the above example account(-1) give True and after creating custom objects it's now give false***"
   ]
  },
  {
   "cell_type": "markdown",
   "id": "dd572bf3",
   "metadata": {},
   "source": []
  }
 ],
 "metadata": {
  "kernelspec": {
   "display_name": "Python 3",
   "language": "python",
   "name": "python3"
  },
  "language_info": {
   "codemirror_mode": {
    "name": "ipython",
    "version": 3
   },
   "file_extension": ".py",
   "mimetype": "text/x-python",
   "name": "python",
   "nbconvert_exporter": "python",
   "pygments_lexer": "ipython3",
   "version": "3.10.10"
  }
 },
 "nbformat": 4,
 "nbformat_minor": 5
}
