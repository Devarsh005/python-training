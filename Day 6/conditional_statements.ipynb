{
 "cells": [
  {
   "cell_type": "code",
   "execution_count": 1,
   "id": "3d820e18",
   "metadata": {},
   "outputs": [
    {
     "name": "stdout",
     "output_type": "stream",
     "text": [
      "true\n"
     ]
    }
   ],
   "source": [
    "if True:\n",
    "    print(\"true\")\n",
    "if False:\n",
    "    print(False)"
   ]
  },
  {
   "cell_type": "code",
   "execution_count": 2,
   "id": "752db83a",
   "metadata": {},
   "outputs": [
    {
     "name": "stdout",
     "output_type": "stream",
     "text": [
      "2000 is larger\n"
     ]
    }
   ],
   "source": [
    "a = 100\n",
    "b = 12\n",
    "c = 2000\n",
    "\n",
    "# large among three\n",
    "if a>b and a>c:\n",
    "    print(f'{a} is large')\n",
    "elif b>a and b>c:\n",
    "    print(f\"{b} is larger\")\n",
    "else:\n",
    "    print(f'{c} is larger')"
   ]
  },
  {
   "cell_type": "code",
   "execution_count": 4,
   "id": "6955a66a",
   "metadata": {},
   "outputs": [
    {
     "name": "stdout",
     "output_type": "stream",
     "text": [
      "100 is middle number\n"
     ]
    }
   ],
   "source": [
    "# finding the middle number\n",
    "if b<a<c or b>a>c:\n",
    "    print(f\"{a} is middle number\")\n",
    "elif(a<b<c or a>b>c):\n",
    "    print(f\"{b} is middle number\")\n",
    "else:\n",
    "    print(f\"{c} is middle number\")"
   ]
  },
  {
   "cell_type": "code",
   "execution_count": 12,
   "id": "6800d955",
   "metadata": {},
   "outputs": [
    {
     "name": "stdout",
     "output_type": "stream",
     "text": [
      "true\n",
      "False\n",
      "true\n",
      "2572755993104\n",
      "2572755993104\n",
      "2572755995984\n",
      "2572830965104\n"
     ]
    }
   ],
   "source": [
    "a=100\n",
    "b=100.00\n",
    "if a==b:\n",
    "    print('true')\n",
    "else:\n",
    "    print('False')\n",
    "if a is b:\n",
    "    print('true')\n",
    "else:\n",
    "    print('False')\n",
    "# bcz a and b value are same but object are not same in memory\n",
    "x=10\n",
    "y=x\n",
    "if x is y:\n",
    "    print(\"true\")\n",
    "else:\n",
    "    print('false')\n",
    "    # reason \n",
    "print(id(x))\n",
    "print(id(y))\n",
    "# and id of a and b\n",
    "print(id(a))\n",
    "print(id(b))"
   ]
  },
  {
   "cell_type": "code",
   "execution_count": 1,
   "id": "ca6f7d71",
   "metadata": {},
   "outputs": [
    {
     "name": "stdout",
     "output_type": "stream",
     "text": [
      "false\n",
      "2330979730256\n",
      "2331060285360\n"
     ]
    }
   ],
   "source": [
    "a = 20\n",
    "# b = input('enetr a number 20')\n",
    "if a is b:\n",
    "    print(\"true\")\n",
    "else:\n",
    "    print(\"false\")\n",
    "print(id(a))\n",
    "print(id(b))"
   ]
  },
  {
   "cell_type": "markdown",
   "id": "73f575ca",
   "metadata": {},
   "source": [
    "## python documentation"
   ]
  },
  {
   "cell_type": "code",
   "execution_count": 9,
   "id": "afc5641f",
   "metadata": {},
   "outputs": [
    {
     "name": "stdout",
     "output_type": "stream",
     "text": [
      "{'Hans': 'inactive', '景太郎': 'active', 'newKey': 'hellochai'}\n",
      "{'Hans': 'active', '景太郎': 'active', 'newKey': 'hellochai'}\n"
     ]
    }
   ],
   "source": [
    "users = {'Hans': 'active', 'Éléonore': 'inactive', '景太郎': 'active'}\n",
    "\n",
    "# Strategy:  Iterate over a copy\n",
    "for user, status in users.copy().items():\n",
    "    if status == 'inactive':\n",
    "        del users[user]\n",
    "\n",
    "# Strategy:  Create a new collection\n",
    "active_users = {}\n",
    "for user, status in users.items():\n",
    "    if status == 'active':\n",
    "        active_users[user] = status\n",
    "users['newKey']='hellochai'\n",
    "copy_of_user = users.copy()\n",
    "copy_of_user['Hans']='inactive'\n",
    "print(copy_of_user)\n",
    "print(users)"
   ]
  },
  {
   "cell_type": "markdown",
   "id": "1dc54dc1",
   "metadata": {},
   "source": [
    "### range() Function"
   ]
  },
  {
   "cell_type": "code",
   "execution_count": 11,
   "id": "b7b5ff04",
   "metadata": {},
   "outputs": [
    {
     "name": "stdout",
     "output_type": "stream",
     "text": [
      "0\n",
      "1\n",
      "2\n",
      "3\n",
      "4\n",
      "5\n",
      "6\n",
      "7\n",
      "8\n",
      "9\n"
     ]
    }
   ],
   "source": [
    "# Range function\n",
    "for i in range(10):\n",
    "    print(i)"
   ]
  },
  {
   "cell_type": "code",
   "execution_count": 31,
   "id": "c09e9a73",
   "metadata": {},
   "outputs": [
    {
     "name": "stdout",
     "output_type": "stream",
     "text": [
      "0\n",
      "3\n",
      "6\n",
      "9\n",
      "12\n",
      "15\n",
      "18\n"
     ]
    }
   ],
   "source": [
    "for i in range(0,20,3):\n",
    "    # range(start,end,step)\n",
    "    print(i)"
   ]
  },
  {
   "cell_type": "code",
   "execution_count": 33,
   "id": "9d736266",
   "metadata": {},
   "outputs": [
    {
     "name": "stdout",
     "output_type": "stream",
     "text": [
      "[0, 2, 4, 6, 8, 10, 12, 14, 16, 18]\n"
     ]
    }
   ],
   "source": [
    "# create a loist using range function\n",
    "my_list = list(range(0,20,2))\n",
    "print(my_list)"
   ]
  },
  {
   "cell_type": "code",
   "execution_count": 37,
   "id": "51bf75ed",
   "metadata": {},
   "outputs": [
    {
     "name": "stdout",
     "output_type": "stream",
     "text": [
      "[0, 3, 6, 9, 12, 15, 18]\n"
     ]
    }
   ],
   "source": [
    "# another way to create a list using range funtion\n",
    "my_list = [i for i in range(0,20,3)]\n",
    "print(my_list)"
   ]
  },
  {
   "cell_type": "markdown",
   "id": "bb2361f9",
   "metadata": {},
   "source": [
    "***To iterate over the indices of a sequence, you can combine range() and len() as follows:***"
   ]
  },
  {
   "cell_type": "code",
   "execution_count": 40,
   "id": "b2d7fe36",
   "metadata": {},
   "outputs": [
    {
     "data": {
      "text/plain": [
       "[0, 3, 6, 9, 12, 15, 18]"
      ]
     },
     "execution_count": 40,
     "metadata": {},
     "output_type": "execute_result"
    }
   ],
   "source": [
    "my_list"
   ]
  },
  {
   "cell_type": "code",
   "execution_count": 41,
   "id": "134c40ea",
   "metadata": {},
   "outputs": [
    {
     "name": "stdout",
     "output_type": "stream",
     "text": [
      "0 0\n",
      "1 3\n",
      "2 6\n",
      "3 9\n",
      "4 12\n",
      "5 15\n",
      "6 18\n"
     ]
    }
   ],
   "source": [
    "for i in range(len(my_list)):\n",
    "    print(i,my_list[i])"
   ]
  },
  {
   "cell_type": "markdown",
   "id": "410a3e37",
   "metadata": {},
   "source": [
    "### break and continue statements"
   ]
  },
  {
   "cell_type": "code",
   "execution_count": 61,
   "id": "82696006",
   "metadata": {},
   "outputs": [
    {
     "name": "stdout",
     "output_type": "stream",
     "text": [
      "odd\n",
      "first even value 2\n"
     ]
    }
   ],
   "source": [
    "for i in range(1,10):\n",
    "    if(i%2 ==0):\n",
    "        print('first even value',i)\n",
    "        break\n",
    "    else:\n",
    "        print('odd')"
   ]
  },
  {
   "cell_type": "code",
   "execution_count": 62,
   "id": "3e33a102",
   "metadata": {},
   "outputs": [
    {
     "name": "stdout",
     "output_type": "stream",
     "text": [
      "1 odd\n",
      "3 odd\n",
      "5 odd\n",
      "7 odd\n",
      "9 odd\n"
     ]
    }
   ],
   "source": [
    "for i in range(10):\n",
    "    if(i%2 == 0):\n",
    "        continue\n",
    "        print('even')\n",
    "    else:\n",
    "        print(i,'odd')"
   ]
  },
  {
   "cell_type": "code",
   "execution_count": 65,
   "id": "33aacf08",
   "metadata": {},
   "outputs": [
    {
     "name": "stdout",
     "output_type": "stream",
     "text": [
      "2 is a prime number\n",
      "3 is a prime number\n",
      "4 equals 2 * 2\n",
      "5 is a prime number\n",
      "6 equals 2 * 3\n",
      "7 is a prime number\n",
      "8 equals 2 * 4\n",
      "9 equals 3 * 3\n"
     ]
    }
   ],
   "source": [
    "for n in range(2, 10):\n",
    "    for x in range(2, n):\n",
    "        if n % x == 0:\n",
    "            print(n, 'equals', x, '*', n//x)\n",
    "            break\n",
    "    else:\n",
    "        # loop fell through without finding a factor\n",
    "        print(n, 'is a prime number')"
   ]
  },
  {
   "cell_type": "code",
   "execution_count": 71,
   "id": "787e2e77",
   "metadata": {},
   "outputs": [
    {
     "name": "stdout",
     "output_type": "stream",
     "text": [
      "2 is a prime number\n",
      "3 is a prime number\n",
      "4 equals 2 * 2\n",
      "5 is a prime number\n",
      "6 equals 2 * 3\n",
      "7 is a prime number\n",
      "8 equals 2 * 4\n",
      "9 equals 3 * 3\n"
     ]
    }
   ],
   "source": [
    "for n in range(2,10):\n",
    "    for x in range(2,n):\n",
    "        if n % x == 0:\n",
    "            print(n, 'equals', x, '*', n//x)\n",
    "            break\n",
    "    else:\n",
    "         print(n, 'is a prime number')"
   ]
  },
  {
   "cell_type": "code",
   "execution_count": null,
   "id": "2a2b06ed",
   "metadata": {},
   "outputs": [],
   "source": []
  },
  {
   "cell_type": "code",
   "execution_count": 13,
   "id": "ec1b6e69",
   "metadata": {},
   "outputs": [
    {
     "name": "stdout",
     "output_type": "stream",
     "text": [
      "h\n",
      "e\n",
      "l\n",
      "l\n",
      "o\n"
     ]
    }
   ],
   "source": [
    "for i in 'hello':\n",
    "    print(i)"
   ]
  },
  {
   "cell_type": "code",
   "execution_count": null,
   "id": "c2e7988e",
   "metadata": {},
   "outputs": [
    {
     "ename": "TypeError",
     "evalue": "'list' object cannot be interpreted as an integer",
     "output_type": "error",
     "traceback": [
      "\u001b[1;31m---------------------------------------------------------------------------\u001b[0m",
      "\u001b[1;31mTypeError\u001b[0m                                 Traceback (most recent call last)",
      "Cell \u001b[1;32mIn[26], line 2\u001b[0m\n\u001b[0;32m      1\u001b[0m my_tuple \u001b[38;5;241m=\u001b[39m (\u001b[38;5;241m1\u001b[39m,\u001b[38;5;241m2\u001b[39m,\u001b[38;5;241m3\u001b[39m,\u001b[38;5;241m4\u001b[39m,\u001b[38;5;124m'\u001b[39m\u001b[38;5;124mhello\u001b[39m\u001b[38;5;124m'\u001b[39m)\n\u001b[1;32m----> 2\u001b[0m \u001b[38;5;28;01mfor\u001b[39;00m i \u001b[38;5;129;01min\u001b[39;00m \u001b[38;5;28;43mrange\u001b[39;49m\u001b[43m(\u001b[49m\u001b[43mli\u001b[49m\u001b[43m)\u001b[49m:\n\u001b[0;32m      3\u001b[0m     \u001b[38;5;28mprint\u001b[39m(i)\n",
      "\u001b[1;31mTypeError\u001b[0m: 'list' object cannot be interpreted as an integer"
     ]
    }
   ],
   "source": [
    "# for knowing error\n",
    "my_tuple = (1,2,3,4,'hello')\n",
    "for i in range(li):\n",
    "    print(i)\n"
   ]
  },
  {
   "cell_type": "markdown",
   "id": "2ea97732",
   "metadata": {},
   "source": [
    "## match-case"
   ]
  },
  {
   "cell_type": "code",
   "execution_count": null,
   "id": "92800256",
   "metadata": {},
   "outputs": [
    {
     "name": "stdout",
     "output_type": "stream",
     "text": [
      "0\n"
     ]
    }
   ],
   "source": [
    "def f(x):\n",
    "    match x:\n",
    "        case 'a':\n",
    "            return 1\n",
    "        case 'b':\n",
    "            return 2\n",
    "        case _:\n",
    "            return 0\n",
    "my_function = f('l') # if nothing match then _ return default value\n",
    "print(my_function)"
   ]
  },
  {
   "cell_type": "code",
   "execution_count": null,
   "id": "b5038e58",
   "metadata": {},
   "outputs": [],
   "source": []
  },
  {
   "cell_type": "code",
   "execution_count": null,
   "id": "3113653e",
   "metadata": {},
   "outputs": [],
   "source": []
  },
  {
   "cell_type": "code",
   "execution_count": null,
   "id": "269f6dad",
   "metadata": {},
   "outputs": [],
   "source": []
  },
  {
   "cell_type": "code",
   "execution_count": null,
   "id": "29ea352b",
   "metadata": {},
   "outputs": [],
   "source": []
  },
  {
   "cell_type": "code",
   "execution_count": null,
   "id": "0b9abe94",
   "metadata": {},
   "outputs": [],
   "source": []
  }
 ],
 "metadata": {
  "kernelspec": {
   "display_name": "Python 3",
   "language": "python",
   "name": "python3"
  },
  "language_info": {
   "codemirror_mode": {
    "name": "ipython",
    "version": 3
   },
   "file_extension": ".py",
   "mimetype": "text/x-python",
   "name": "python",
   "nbconvert_exporter": "python",
   "pygments_lexer": "ipython3",
   "version": "3.10.10"
  }
 },
 "nbformat": 4,
 "nbformat_minor": 5
}
