{
 "cells": [
  {
   "cell_type": "markdown",
   "id": "92c947f1",
   "metadata": {},
   "source": [
    "### 1. Given two lists of numbers, concatenate them into a single list"
   ]
  },
  {
   "cell_type": "code",
   "execution_count": 23,
   "id": "0c3492c1",
   "metadata": {},
   "outputs": [
    {
     "name": "stdout",
     "output_type": "stream",
     "text": [
      "[1, 2, 3, 4, 5, 6, 7, 8, 0, 8, 4, 5, 6, 3, 4, 0, 91]\n"
     ]
    }
   ],
   "source": [
    "list1 = [1,2,3,4,5,6,7,8,0]\n",
    "list2 = [8,4,5,6,3,4,0,91]\n",
    "new_list = list1+list2\n",
    "print(new_list)"
   ]
  },
  {
   "cell_type": "code",
   "execution_count": 24,
   "id": "29e0c4dd",
   "metadata": {},
   "outputs": [],
   "source": [
    "# second method\n",
    "# new = list1.extend(list2)\n",
    "# print(list1)"
   ]
  },
  {
   "cell_type": "markdown",
   "id": "0a2fd7d3",
   "metadata": {},
   "source": [
    "### 2. Write a program that finds the largest and smallest elements in a list"
   ]
  },
  {
   "cell_type": "code",
   "execution_count": 259,
   "id": "2f23b55d",
   "metadata": {},
   "outputs": [
    {
     "data": {
      "text/plain": [
       "[1, 2, 3, 4, 5, 6, 7, 8, 0]"
      ]
     },
     "execution_count": 259,
     "metadata": {},
     "output_type": "execute_result"
    }
   ],
   "source": [
    "list1"
   ]
  },
  {
   "cell_type": "code",
   "execution_count": 262,
   "id": "713f1de4",
   "metadata": {},
   "outputs": [
    {
     "name": "stdout",
     "output_type": "stream",
     "text": [
      "8\n",
      "0\n"
     ]
    }
   ],
   "source": [
    "max = 0\n",
    "for item in list1:\n",
    "    if item > max:\n",
    "        max=item\n",
    "print(max)\n",
    "min = 0\n",
    "for item in list1:\n",
    "    if item < min:\n",
    "        min=item\n",
    "print(min)"
   ]
  },
  {
   "cell_type": "code",
   "execution_count": 26,
   "id": "1a400cf0",
   "metadata": {},
   "outputs": [
    {
     "name": "stdout",
     "output_type": "stream",
     "text": [
      "8 0\n"
     ]
    }
   ],
   "source": [
    "largest_element = max(list1)\n",
    "smallest_element = min(list1)\n",
    "print(largest_element,smallest_element)"
   ]
  },
  {
   "cell_type": "markdown",
   "id": "6569c037",
   "metadata": {},
   "source": [
    "### 3. Implement a function that takes a list of numbers and returns a new list with the squared values"
   ]
  },
  {
   "cell_type": "code",
   "execution_count": 27,
   "id": "8772e224",
   "metadata": {},
   "outputs": [
    {
     "data": {
      "text/plain": [
       "[1, 2, 3, 4, 5, 6, 7, 8, 0]"
      ]
     },
     "execution_count": 27,
     "metadata": {},
     "output_type": "execute_result"
    }
   ],
   "source": [
    "list1"
   ]
  },
  {
   "cell_type": "code",
   "execution_count": 28,
   "id": "f3044be0",
   "metadata": {},
   "outputs": [
    {
     "name": "stdout",
     "output_type": "stream",
     "text": [
      "[1, 4, 9, 16, 25, 36, 49, 64, 0]\n"
     ]
    }
   ],
   "source": [
    "def sqaure(list):\n",
    "    squared_list = []\n",
    "    for i in list:\n",
    "        squared_list.append(i**2)\n",
    "    return print(squared_list)\n",
    "sqaure(list1)"
   ]
  },
  {
   "cell_type": "markdown",
   "id": "51d3f8b5",
   "metadata": {},
   "source": [
    "### 4. Create a program that finds the common elements between two lists and stores them in a new list"
   ]
  },
  {
   "cell_type": "code",
   "execution_count": 33,
   "id": "d3176a22",
   "metadata": {},
   "outputs": [
    {
     "name": "stdout",
     "output_type": "stream",
     "text": [
      "[1, 2, 3, 4, 5, 6, 7, 8, 0]\n",
      "[8, 4, 5, 6, 3, 4, 0, 91]\n"
     ]
    }
   ],
   "source": [
    "print(list1)\n",
    "print(list2)"
   ]
  },
  {
   "cell_type": "code",
   "execution_count": 36,
   "id": "4ed9c2b5",
   "metadata": {},
   "outputs": [
    {
     "name": "stdout",
     "output_type": "stream",
     "text": [
      "[3, 4, 5, 6, 8, 0]\n"
     ]
    }
   ],
   "source": [
    "new_list =[]\n",
    "for i in list1:\n",
    "    if i in list2:\n",
    "        new_list.append(i)\n",
    "print(new_list)\n"
   ]
  },
  {
   "cell_type": "markdown",
   "id": "3b0ac034",
   "metadata": {},
   "source": [
    "### 5. Given a list of words, find the word with the maximum length and its length"
   ]
  },
  {
   "cell_type": "code",
   "execution_count": 43,
   "id": "95aa2337",
   "metadata": {},
   "outputs": [
    {
     "name": "stdout",
     "output_type": "stream",
     "text": [
      "chcocochips 11\n"
     ]
    }
   ],
   "source": [
    "list_of_words = ['applw','tomato','beljian','chcocochips','aeroplane','helmet']\n",
    "max=0\n",
    "word=''\n",
    "for i in list_of_words:\n",
    "    if len(i)> max:\n",
    "        max = len(i)\n",
    "        word =i\n",
    "print(word,max)"
   ]
  },
  {
   "cell_type": "markdown",
   "id": "6ddf16ba",
   "metadata": {},
   "source": [
    "### 6. Write a Python program to count the occurrences of each element in a given list\n"
   ]
  },
  {
   "cell_type": "code",
   "execution_count": 49,
   "id": "76d5b71a",
   "metadata": {},
   "outputs": [],
   "source": [
    "given_list =[2,3,4,5,6,7,8,9,2,3,4,5,6,7,8,9,2,3,4,5,6,7,78,1,3,4,5,6,6,7,8,99,'Devarsh','rathod','mohit','kali','devo','bhopu','sanko','bhopo','sanko','kalu','hwllo','wp']"
   ]
  },
  {
   "cell_type": "code",
   "execution_count": 55,
   "id": "018d0913",
   "metadata": {},
   "outputs": [
    {
     "name": "stdout",
     "output_type": "stream",
     "text": [
      "[1, 2, 3, 4, 5, 6, 7, 8, 9, 'Devarsh', 'rathod', 'sanko', 'wp', 'kalu', 'devo', 'bhopo', 78, 'bhopu', 'hwllo', 99, 'mohit', 'kali']\n"
     ]
    }
   ],
   "source": [
    "create_set = list(set(given_list))\n",
    "print(create_set)"
   ]
  },
  {
   "cell_type": "code",
   "execution_count": 56,
   "id": "3cda582a",
   "metadata": {},
   "outputs": [
    {
     "name": "stdout",
     "output_type": "stream",
     "text": [
      "1:1\n",
      "2:3\n",
      "3:4\n",
      "4:4\n",
      "5:4\n",
      "6:5\n",
      "7:4\n",
      "8:3\n",
      "9:2\n",
      "Devarsh:1\n",
      "rathod:1\n",
      "sanko:2\n",
      "wp:1\n",
      "kalu:1\n",
      "devo:1\n",
      "bhopo:1\n",
      "78:1\n",
      "bhopu:1\n",
      "hwllo:1\n",
      "99:1\n",
      "mohit:1\n",
      "kali:1\n"
     ]
    }
   ],
   "source": [
    "for i in create_set:\n",
    "    if i in given_list:\n",
    "        print(f'{i}:{given_list.count(i)}')"
   ]
  },
  {
   "cell_type": "markdown",
   "id": "e304242a",
   "metadata": {},
   "source": [
    "### 7. Given a list of names, remove all duplicate names and print the unique names"
   ]
  },
  {
   "cell_type": "code",
   "execution_count": 58,
   "id": "6e91c16c",
   "metadata": {},
   "outputs": [
    {
     "name": "stdout",
     "output_type": "stream",
     "text": [
      "['hwllo', 'Devarsh', 'rathod', 'sanko', 'kalu', 'mohit', 'bhopu', 'devo', 'bhopo', 'kali']\n"
     ]
    }
   ],
   "source": [
    "list_of_duplicate_name = ['Devarsh','rathod','mohit','kali','devo','bhopu','sanko','bhopo','sanko','kalu','hwllo']\n",
    "unique_name = list(set(list_of_duplicate_name))\n",
    "print(unique_name)"
   ]
  },
  {
   "cell_type": "markdown",
   "id": "cdeaa96d",
   "metadata": {},
   "source": [
    "### 8. Create a function that takes a list of strings and returns the list sorted by the length of the strings"
   ]
  },
  {
   "cell_type": "code",
   "execution_count": 92,
   "id": "623ec01d",
   "metadata": {},
   "outputs": [
    {
     "data": {
      "text/plain": [
       "['kali',\n",
       " 'devo',\n",
       " 'kalu',\n",
       " 'mohit',\n",
       " 'bhopu',\n",
       " 'sanko',\n",
       " 'bhopo',\n",
       " 'sanko',\n",
       " 'hwllo',\n",
       " 'rathod',\n",
       " 'Devarsh']"
      ]
     },
     "execution_count": 92,
     "metadata": {},
     "output_type": "execute_result"
    }
   ],
   "source": [
    "list_of_duplicate_name = ['Devarsh','rathod','mohit','kali','devo','bhopu','sanko','bhopo','sanko','kalu','hwllo']\n",
    "# x=[]\n",
    "# y=[]\n",
    "# for item in list_of_duplicate_name:\n",
    "#     x.append(len(item))\n",
    "# print(x)\n",
    "# x = sorted(x)\n",
    "# for i in x:\n",
    "#      y.append(list_of_duplicate_name[i])\n",
    "# print(y)\n",
    "# print(list_of_duplicate_name)\n",
    "# print(x)\n",
    "def fun(li):\n",
    "    return len(li)\n",
    "def sorted_list_by_length(li):\n",
    "    li.sort(key=fun)\n",
    "    return li\n",
    "\n",
    "sorted_list_by_length(list_of_duplicate_name)\n"
   ]
  },
  {
   "cell_type": "markdown",
   "id": "adf3873a",
   "metadata": {},
   "source": [
    "### 9. Write a program that checks if a given list is sorted in ascending order"
   ]
  },
  {
   "cell_type": "code",
   "execution_count": 282,
   "id": "335a7493",
   "metadata": {},
   "outputs": [
    {
     "name": "stdout",
     "output_type": "stream",
     "text": [
      "no\n"
     ]
    }
   ],
   "source": [
    "integer_wali_ist = [9,8,7,6]\n",
    "# integer_wali_ist = [1,2,3,4,5]\n",
    "\n",
    "def isSorted_list(input_list):\n",
    "    li = sorted(input_list)\n",
    "    if integer_wali_ist == li:\n",
    "        print('yes')\n",
    "    else:\n",
    "        print('no')\n",
    "isSorted_list(integer_wali_ist)"
   ]
  },
  {
   "cell_type": "markdown",
   "id": "5a75a78e",
   "metadata": {},
   "source": [
    "### 10. Implement a function that takes two lists and returns their union (all unique elements from both lists)."
   ]
  },
  {
   "cell_type": "code",
   "execution_count": 111,
   "id": "620e4dc3",
   "metadata": {},
   "outputs": [
    {
     "data": {
      "text/plain": [
       "[1, 2, 3, 4, 5, 6, 7, 8, 0]"
      ]
     },
     "execution_count": 111,
     "metadata": {},
     "output_type": "execute_result"
    }
   ],
   "source": [
    "list1"
   ]
  },
  {
   "cell_type": "code",
   "execution_count": 112,
   "id": "7c77f369",
   "metadata": {},
   "outputs": [
    {
     "data": {
      "text/plain": [
       "[8, 4, 5, 6, 3, 4, 0, 91]"
      ]
     },
     "execution_count": 112,
     "metadata": {},
     "output_type": "execute_result"
    }
   ],
   "source": [
    "list2"
   ]
  },
  {
   "cell_type": "code",
   "execution_count": 113,
   "id": "e53c9e19",
   "metadata": {},
   "outputs": [
    {
     "name": "stdout",
     "output_type": "stream",
     "text": [
      "{0, 1, 2, 3, 4, 5, 6, 7, 8, 91}\n"
     ]
    }
   ],
   "source": [
    "union = set(list1) | set(list2)\n",
    "print(union)"
   ]
  },
  {
   "cell_type": "markdown",
   "id": "e5ab944f",
   "metadata": {},
   "source": [
    "### 11. Given two dictionaries, merge them into a single dictionary"
   ]
  },
  {
   "cell_type": "code",
   "execution_count": 127,
   "id": "55207de7",
   "metadata": {},
   "outputs": [
    {
     "name": "stdout",
     "output_type": "stream",
     "text": [
      "{'devarsh': 22, 'mohit': 23, 'bhopo': 22, 'sanko': 21, 'kalpo': 21, 'vatsal': 24}\n"
     ]
    }
   ],
   "source": [
    "dict1={'devarsh':22,\"mohit\":23,\"bhopo\":22}\n",
    "dict2 ={'sanko':21,'kalpo':21,'vatsal':24}\n",
    "dict1.update(dict2)\n",
    "print(dict1)\n"
   ]
  },
  {
   "cell_type": "markdown",
   "id": "635c791a",
   "metadata": {},
   "source": [
    "<!-- using ** asterick method -->"
   ]
  },
  {
   "cell_type": "code",
   "execution_count": 133,
   "id": "2f644da9",
   "metadata": {},
   "outputs": [
    {
     "name": "stdout",
     "output_type": "stream",
     "text": [
      "{'sanko': 21, 'kalpo': 21, 'vatsal': 24, 'devarsh': 22, 'mohit': 23, 'bhopo': 22}\n"
     ]
    }
   ],
   "source": [
    "new_dict = {**dict2,**dict1}\n",
    "print(new_dict)"
   ]
  },
  {
   "cell_type": "markdown",
   "id": "c403ba73",
   "metadata": {},
   "source": [
    "### 12. Write a program that finds the most frequent element in a list"
   ]
  },
  {
   "cell_type": "code",
   "execution_count": 249,
   "id": "cd0e4c6b",
   "metadata": {},
   "outputs": [],
   "source": [
    "# give_list = [2,3,4,5,3,3,9,7,3,9]\n",
    "# x=0\n",
    "# for i in give_list:\n",
    "#     x = give_list.count(i)\n",
    "# print(x)\n"
   ]
  },
  {
   "cell_type": "markdown",
   "id": "d0c280a8",
   "metadata": {},
   "source": [
    "### 13. Implement a function that removes a key-value pair from a dictionary"
   ]
  },
  {
   "cell_type": "code",
   "execution_count": 154,
   "id": "9e0269a8",
   "metadata": {},
   "outputs": [
    {
     "name": "stdout",
     "output_type": "stream",
     "text": [
      "{'devarsh': 22, 'mohit': 23}\n"
     ]
    }
   ],
   "source": [
    "dict1={'devarsh':22,\"mohit\":23,\"bhopo\":22}\n",
    "del dict1['bhopo']\n",
    "print(dict1)"
   ]
  },
  {
   "cell_type": "markdown",
   "id": "c8faa330",
   "metadata": {},
   "source": [
    "### 14. Create a program that checks if two sets have any elements in common"
   ]
  },
  {
   "cell_type": "code",
   "execution_count": 155,
   "id": "4d1b1569",
   "metadata": {},
   "outputs": [
    {
     "name": "stdout",
     "output_type": "stream",
     "text": [
      "{9, 4, 7}\n"
     ]
    }
   ],
   "source": [
    "set1 ={1,4,7,9,22,11,66}\n",
    "set2 ={2,6,4,9,10,7}\n",
    "result = set1 & set2\n",
    "print(result)"
   ]
  },
  {
   "cell_type": "markdown",
   "id": "cbba8c89",
   "metadata": {},
   "source": [
    "### 15. Given a list of dictionaries, find the dictionary with the highest value for a specific key\n"
   ]
  },
  {
   "cell_type": "code",
   "execution_count": 285,
   "id": "8223633f",
   "metadata": {},
   "outputs": [
    {
     "name": "stdout",
     "output_type": "stream",
     "text": [
      "age 29\n"
     ]
    }
   ],
   "source": [
    "list_of_dictionary = [ {'name':'Devarsh', 'age':22},\n",
    "                      {'name':'Mohit','age':23},\n",
    "                      {'name':'Avinash','age':29} \n",
    "                      ]\n",
    "age = 0\n",
    "value=0\n",
    "for dictionaty in list_of_dictionary:\n",
    "    for key,value in dictionaty.items():\n",
    "        if key == 'age':\n",
    "            if(key > 'age'):\n",
    "                age = key\n",
    "                value= value\n",
    "print(key,value)\n",
    "\n",
    "# for i in list:\n",
    "#     print(i)"
   ]
  },
  {
   "cell_type": "markdown",
   "id": "48838a86",
   "metadata": {},
   "source": [
    "### 16. Write a Python program that counts the number of occurrences of each character in a given string using a dictionary"
   ]
  },
  {
   "cell_type": "code",
   "execution_count": null,
   "id": "b4a30efc",
   "metadata": {},
   "outputs": [
    {
     "name": "stdout",
     "output_type": "stream",
     "text": [
      "{'h': 2, 'e': 2, 'l': 4, 'o': 2, ' ': 1}\n"
     ]
    }
   ],
   "source": [
    "string_dictionary = {\n",
    "    'name':'hello hello'\n",
    "}\n",
    "counting = []\n",
    "value_list = []\n",
    "for value in string_dictionary.values():\n",
    "   for char in value:\n",
    "      if char not in value_list:\n",
    "         value_list.append(char)\n",
    "         counting.append(value.count(char))\n",
    "\n",
    "new_dictionary= dict(zip(value_list,counting))\n",
    "print(new_dictionary)"
   ]
  },
  {
   "cell_type": "markdown",
   "id": "ac40c81b",
   "metadata": {},
   "source": [
    "### 17. Given two sets, find the union, intersection, and difference between them"
   ]
  },
  {
   "cell_type": "code",
   "execution_count": 198,
   "id": "b721a269",
   "metadata": {},
   "outputs": [
    {
     "name": "stdout",
     "output_type": "stream",
     "text": [
      "union {0.1, 1, 2, 3, 4, 0.9, 7, 10, 78, 20, 90, -34, -90, -20, 56}\n",
      "intersection {3}\n",
      "diff {0.1, 1, 2, 4, -20, 20}\n"
     ]
    }
   ],
   "source": [
    "set1 = {1,2,3,4,0.10,20,-20}\n",
    "set2 = {56,78,90,-90,-34,.90,7,3,10}\n",
    "union = set1 | set2\n",
    "intersection = set1 & set2\n",
    "diff = set1 - set2\n",
    "print(f'union {union}')\n",
    "print(f'intersection {intersection}')\n",
    "print(f'diff {diff}')"
   ]
  },
  {
   "cell_type": "markdown",
   "id": "5994519b",
   "metadata": {},
   "source": [
    "### 18. Create a function that takes a list of dictionaries and sorts them based on a specified key"
   ]
  },
  {
   "cell_type": "code",
   "execution_count": 337,
   "id": "0fdef239",
   "metadata": {},
   "outputs": [
    {
     "name": "stdout",
     "output_type": "stream",
     "text": [
      "[{'name': 'Devarsh', 'age': 22}, {'name': 'Mohit', 'age': 23}, {'name': 'Avinash', 'age': 29}]\n"
     ]
    }
   ],
   "source": [
    "list_of_dictionary = [ {'name':'Avinash','age':29} ,\n",
    "                      {'name':'Devarsh', 'age':22},\n",
    "                      {'name':'Mohit','age':23},\n",
    "                      ]\n",
    "def myfunc(e):\n",
    "    return e['age']\n",
    "# dictionary does not have a sorting method\n",
    "new_dictionary = sorted(list_of_dictionary,key=myfunc)\n",
    "print(new_dictionary)\n"
   ]
  },
  {
   "cell_type": "markdown",
   "id": "784da09f",
   "metadata": {},
   "source": [
    "### 19. Write a program that finds the average value of all the elements in a list of dictionaries"
   ]
  },
  {
   "cell_type": "code",
   "execution_count": null,
   "id": "7292e7da",
   "metadata": {},
   "outputs": [
    {
     "name": "stdout",
     "output_type": "stream",
     "text": [
      "24.666666666666668\n"
     ]
    }
   ],
   "source": [
    "list_of_dictionary = [ {'name':'Devarsh', 'age':22},\n",
    "                      {'name':'Mohit','age':23},\n",
    "                      {'name':'Avinash','age':29} \n",
    "                      ]\n",
    "def average(list_of_dictionary):\n",
    "    sum = 0\n",
    "    list =[]\n",
    "    for dictionary in list_of_dictionary:\n",
    "        list.append(dictionary['age'])\n",
    "    n = len(list)\n",
    "    for item in list:\n",
    "        sum = sum + item\n",
    "    average = sum / n\n",
    "    return average\n",
    "result = average(list_of_dictionary)\n",
    "print(result)"
   ]
  },
  {
   "cell_type": "markdown",
   "id": "3a9e7f2e",
   "metadata": {},
   "source": [
    "### 20. Implement a function that takes a list of strings and returns a set of unique characters in all strings."
   ]
  },
  {
   "cell_type": "code",
   "execution_count": 341,
   "id": "c541ed11",
   "metadata": {},
   "outputs": [
    {
     "data": {
      "text/plain": [
       "[{'a', 'i', 'j', 'n', 'v'},\n",
       " {'a', 'n', 'r', 'y'},\n",
       " {'c', 'h', 'i', 'k', 'l', 'o'},\n",
       " {'a', 'c', 'd', 'e', 'h', 'k', 'n'}]"
      ]
     },
     "execution_count": 341,
     "metadata": {},
     "output_type": "execute_result"
    }
   ],
   "source": [
    "list10 = ['navjivan' ,'narayan' ,'hillock' ,'chandkheda']\n",
    "empty_list10 =[]\n",
    "def unique_char_of_string(li):\n",
    "    for string in li:\n",
    "        empty_set = set()\n",
    "        for char in string:\n",
    "            empty_set.add(char)\n",
    "        empty_list10.append(empty_set)\n",
    "    return empty_list10\n",
    "unique_char_of_string(list10)"
   ]
  }
 ],
 "metadata": {
  "kernelspec": {
   "display_name": "Python 3",
   "language": "python",
   "name": "python3"
  },
  "language_info": {
   "codemirror_mode": {
    "name": "ipython",
    "version": 3
   },
   "file_extension": ".py",
   "mimetype": "text/x-python",
   "name": "python",
   "nbconvert_exporter": "python",
   "pygments_lexer": "ipython3",
   "version": "3.10.10"
  }
 },
 "nbformat": 4,
 "nbformat_minor": 5
}
