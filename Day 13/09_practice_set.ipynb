{
 "cells": [
  {
   "cell_type": "markdown",
   "id": "55c5af85",
   "metadata": {},
   "source": [
    "### Create a class representing a Student with attributes like name, age, and grades."
   ]
  },
  {
   "cell_type": "code",
   "execution_count": 1,
   "id": "b94bbd84",
   "metadata": {},
   "outputs": [],
   "source": [
    "class student :\n",
    "    def __init__(self,name,age,grades):\n",
    "        self.name = name\n",
    "        self.age = age\n",
    "        self.grades = grades\n"
   ]
  },
  {
   "cell_type": "markdown",
   "id": "242c1cba",
   "metadata": {},
   "source": [
    "### Given a CSV file with employee details (name, position, salary), create a class to represent an employee."
   ]
  },
  {
   "cell_type": "code",
   "execution_count": null,
   "id": "7de33f39",
   "metadata": {},
   "outputs": [],
   "source": [
    "class employee:\n",
    "    def __init__(self,name,position,salary):\n",
    "        self.name = name\n",
    "        self.position = position\n",
    "        self.salary = salary"
   ]
  },
  {
   "cell_type": "markdown",
   "id": "fc045daa",
   "metadata": {},
   "source": [
    "### Implement a program that simulates a basic bank account using a BankAccount class"
   ]
  },
  {
   "cell_type": "code",
   "execution_count": 128,
   "id": "bb7c6adc",
   "metadata": {},
   "outputs": [
    {
     "name": "stdout",
     "output_type": "stream",
     "text": [
      "0\n"
     ]
    }
   ],
   "source": [
    "class Bank:\n",
    "    starting_balance = 0\n",
    "    def __init__(self,name,acc_number):\n",
    "        self.name = name\n",
    "        self.balance = Bank.starting_balance\n",
    "        self.acc_number = acc_number\n",
    "    def deposit(self,amount):\n",
    "        self.amount = amount\n",
    "        self.balance += self.amount\n",
    "    def withdraw(self,amount):\n",
    "        self.amount = amount\n",
    "        self.balance-=self.amount\n",
    "    \n",
    "\n",
    "Mohit = Bank(\"BOB\",78001000)\n",
    "print(Mohit.balance)\n",
    "\n"
   ]
  },
  {
   "cell_type": "code",
   "execution_count": 129,
   "id": "f0315377",
   "metadata": {},
   "outputs": [
    {
     "name": "stdout",
     "output_type": "stream",
     "text": [
      "299\n"
     ]
    }
   ],
   "source": [
    "Mohit.deposit(299)\n",
    "print(Mohit.balance)"
   ]
  },
  {
   "cell_type": "code",
   "execution_count": 130,
   "id": "729006a7",
   "metadata": {},
   "outputs": [
    {
     "name": "stdout",
     "output_type": "stream",
     "text": [
      "599\n"
     ]
    }
   ],
   "source": [
    "Mohit.deposit(300)\n",
    "print(Mohit.balance)"
   ]
  },
  {
   "cell_type": "code",
   "execution_count": 131,
   "id": "df24735a",
   "metadata": {},
   "outputs": [
    {
     "name": "stdout",
     "output_type": "stream",
     "text": [
      "300\n"
     ]
    }
   ],
   "source": [
    "Mohit.withdraw(299)\n",
    "print(Mohit.balance)"
   ]
  },
  {
   "cell_type": "markdown",
   "id": "6bdd8030",
   "metadata": {},
   "source": [
    "### Write a Python program that uses a Rectangle class to calculate the area and perimeter of a rectangle"
   ]
  },
  {
   "cell_type": "code",
   "execution_count": 16,
   "id": "cb3613c4",
   "metadata": {},
   "outputs": [
    {
     "name": "stdout",
     "output_type": "stream",
     "text": [
      "20\n",
      "16\n"
     ]
    }
   ],
   "source": [
    "class rectangle :\n",
    "    def __init__(self):\n",
    "        pass\n",
    "        # self.width = width\n",
    "        # self.height = height\n",
    "    def area(self,width,height):\n",
    "        return width*height\n",
    "    def perimeter(self,h,w):\n",
    "        return 2*(h+w)\n",
    "obj = rectangle()\n",
    "print(obj.area(4,5))\n",
    "print(obj.perimeter(3,5))"
   ]
  },
  {
   "cell_type": "markdown",
   "id": "1843621d",
   "metadata": {},
   "source": [
    "### Create a class representing a Car with attributes like make, model, and year."
   ]
  },
  {
   "cell_type": "code",
   "execution_count": null,
   "id": "1a21e3dd",
   "metadata": {},
   "outputs": [],
   "source": [
    "class Car:\n",
    "    def __init__(self,make,model,year):\n",
    "        self.make = make\n",
    "        self.model = model\n",
    "        self.year = year\n"
   ]
  },
  {
   "cell_type": "markdown",
   "id": "119d1bcd",
   "metadata": {},
   "source": [
    "### Given a JSON file with customer data, create a Customer class to store and manipulate the data."
   ]
  },
  {
   "cell_type": "code",
   "execution_count": 13,
   "id": "0a63c4e5",
   "metadata": {},
   "outputs": [],
   "source": [
    "import json\n",
    "class Customer:\n",
    "    def __init__(self,name,position,salary):\n",
    "        self.name = name\n",
    "        self.position = position\n",
    "        self.salary = salary\n",
    "    def store_data(self):\n",
    "        with open('customer.json','w') as customer_file:\n",
    "            json.dump({'name':self.name,'position':self.position,'salry':self.salary},customer_file)"
   ]
  },
  {
   "cell_type": "code",
   "execution_count": 14,
   "id": "0a5acc0e",
   "metadata": {},
   "outputs": [],
   "source": [
    "obj = Customer(\"Mohit\",'finance-officer',1_00_000)\n",
    "obj.store_data()"
   ]
  },
  {
   "cell_type": "code",
   "execution_count": 15,
   "id": "dc82964a",
   "metadata": {},
   "outputs": [],
   "source": [
    "obj1 = Customer(\"Avinash\",\"AI Developer\",1_00_000)\n",
    "obj1.store_data()"
   ]
  },
  {
   "cell_type": "markdown",
   "id": "2c704477",
   "metadata": {},
   "source": [
    "### 7. Write a program that uses a Person class to keep track of a person's name, age, and address."
   ]
  },
  {
   "cell_type": "code",
   "execution_count": 26,
   "id": "abbd976a",
   "metadata": {},
   "outputs": [
    {
     "name": "stdout",
     "output_type": "stream",
     "text": [
      "name: Deva age: 22 address: Methan\n"
     ]
    }
   ],
   "source": [
    "class person :\n",
    "    def __init__(self,name,age,address):\n",
    "        self.name = name\n",
    "        self.age = age\n",
    "        self.address = address\n",
    "    def __str__(self):\n",
    "        return f\"name: {self.name} age: {self.age} address: {self.address}\"\n",
    "person_object = person(\"Deva\",22,\"Methan\")\n",
    "print(person_object)\n"
   ]
  },
  {
   "cell_type": "markdown",
   "id": "d79ea0dc",
   "metadata": {},
   "source": [
    "### 8. Implement a program that uses a Circle class to calculate the area and circumference of multiple circles3\n"
   ]
  },
  {
   "cell_type": "code",
   "execution_count": 34,
   "id": "6dbef34f",
   "metadata": {},
   "outputs": [
    {
     "data": {
      "text/plain": [
       "28.274333882308138"
      ]
     },
     "execution_count": 34,
     "metadata": {},
     "output_type": "execute_result"
    }
   ],
   "source": [
    "import math\n",
    "class circle:\n",
    "    def __init__(self,radius):\n",
    "        self.radius = radius\n",
    "    def area(self):\n",
    "        return math.pi * self.radius**2\n",
    "    def circumference(self):\n",
    "        return 2 * math.pi * self.radius\n",
    "circle3 = circle(3)\n",
    "circle3.area()\n"
   ]
  },
  {
   "cell_type": "code",
   "execution_count": 35,
   "id": "ad86502b",
   "metadata": {},
   "outputs": [
    {
     "data": {
      "text/plain": [
       "18.84955592153876"
      ]
     },
     "execution_count": 35,
     "metadata": {},
     "output_type": "execute_result"
    }
   ],
   "source": [
    "circle3.circumference()"
   ]
  },
  {
   "cell_type": "markdown",
   "id": "551a1f33",
   "metadata": {},
   "source": [
    "### 9. Given a CSV file with product details (name, price, quantity), create a Product class to manage the data.\n"
   ]
  },
  {
   "cell_type": "code",
   "execution_count": 36,
   "id": "23399c99",
   "metadata": {},
   "outputs": [],
   "source": [
    "class Product :\n",
    "    def __init__(self,name,price,quantity):\n",
    "        self.name = name\n",
    "        self.price = price\n",
    "        self.quantity = quantity\n"
   ]
  },
  {
   "cell_type": "markdown",
   "id": "72e9fa5c",
   "metadata": {},
   "source": [
    "### 10. Create a class to represent a Movie with attributes like title, director, and rating.\n"
   ]
  },
  {
   "cell_type": "code",
   "execution_count": 37,
   "id": "35ca2a67",
   "metadata": {},
   "outputs": [],
   "source": [
    "class Movie:\n",
    "    def __init__(self,title,director,rating):\n",
    "        self.title = title\n",
    "        self.director = director\n",
    "        self.rating = rating"
   ]
  },
  {
   "cell_type": "markdown",
   "id": "4046408d",
   "metadata": {},
   "source": [
    "### 11. Create a base class Shape with methods to calculate area and perimeter and derive classes Circle and Square."
   ]
  },
  {
   "cell_type": "code",
   "execution_count": 61,
   "id": "5de5efbf",
   "metadata": {},
   "outputs": [
    {
     "data": {
      "text/plain": [
       "18.84955592153876"
      ]
     },
     "execution_count": 61,
     "metadata": {},
     "output_type": "execute_result"
    }
   ],
   "source": [
    "class Shape:\n",
    "    def area(self):\n",
    "        pass\n",
    "    def perimeter(self):\n",
    "        pass\n",
    "class circles(Shape):\n",
    "    def __init__(self,radius):\n",
    "        self.radius = radius\n",
    "    def area(self):\n",
    "        return math.pi * self.radius**2\n",
    "    def perimeter(self):\n",
    "        return 2*math.pi*self.radius\n",
    "class square():\n",
    "    def __init__(self,length):\n",
    "        self.length = length\n",
    "        super().__init__()\n",
    "    def area(self):\n",
    "        return self.length**2\n",
    "    def perimeter(self):\n",
    "       return self.length*2\n",
    "    \n",
    "\n",
    "objc = circles(3)\n",
    "objc.perimeter()"
   ]
  },
  {
   "cell_type": "code",
   "execution_count": 63,
   "id": "d6ad0297",
   "metadata": {},
   "outputs": [
    {
     "data": {
      "text/plain": [
       "4"
      ]
     },
     "execution_count": 63,
     "metadata": {},
     "output_type": "execute_result"
    }
   ],
   "source": [
    "square_object = square(2)\n",
    "# square_object.area()\n",
    "square_object.perimeter()"
   ]
  },
  {
   "cell_type": "markdown",
   "id": "98de0d0c",
   "metadata": {},
   "source": [
    "### 12. Implement a class hierarchy to represent different types of employees (Manager, Engineer) with their attributes.\n"
   ]
  },
  {
   "cell_type": "code",
   "execution_count": 84,
   "id": "7bedefd9",
   "metadata": {},
   "outputs": [],
   "source": [
    "class Employee :\n",
    "    increment = 2\n",
    "    def __init__(self,name,salary,department):\n",
    "        self.name = name\n",
    "        self.salary = salary\n",
    "        self.department = department\n",
    "    def display(self):\n",
    "        return f\" person name :{self.name} salary is : {self.salary} department is : {self.department}\"\n",
    "    def update_salary(self):\n",
    "        self.salary += Employee.increment*self.salary /100\n",
    "        return self.salary"
   ]
  },
  {
   "cell_type": "code",
   "execution_count": 85,
   "id": "a90a07a0",
   "metadata": {},
   "outputs": [],
   "source": [
    "class Manager(Employee):\n",
    "    def __init__(self,name,salary,department):\n",
    "        super().__init__(name,salary,department)\n",
    "    def task(self):\n",
    "        return f\"Manager will give taks to engineer\"\n",
    "class Engineer(Employee):\n",
    "    def __init__(self, name, salary, department):\n",
    "        super().__init__(name, salary, department)\n",
    "    def code(self):\n",
    "        return f\"Engineer will do the code\""
   ]
  },
  {
   "cell_type": "code",
   "execution_count": 86,
   "id": "33d08f91",
   "metadata": {},
   "outputs": [],
   "source": [
    "manager_object = Manager(\"hari\",1_00_000,\"civil\")\n",
    "Engineer_object = Engineer('nikhil',20_000,'it')\n"
   ]
  },
  {
   "cell_type": "code",
   "execution_count": 87,
   "id": "5f9abb82",
   "metadata": {},
   "outputs": [
    {
     "data": {
      "text/plain": [
       "' person name :hari salary is : 100000 department is : civil'"
      ]
     },
     "execution_count": 87,
     "metadata": {},
     "output_type": "execute_result"
    }
   ],
   "source": [
    "manager_object.display()"
   ]
  },
  {
   "cell_type": "code",
   "execution_count": 88,
   "id": "5219e229",
   "metadata": {},
   "outputs": [
    {
     "data": {
      "text/plain": [
       "' person name :nikhil salary is : 20000 department is : it'"
      ]
     },
     "execution_count": 88,
     "metadata": {},
     "output_type": "execute_result"
    }
   ],
   "source": [
    "Engineer_object.display()"
   ]
  },
  {
   "cell_type": "code",
   "execution_count": 90,
   "id": "b9b4c910",
   "metadata": {},
   "outputs": [
    {
     "data": {
      "text/plain": [
       "20400.0"
      ]
     },
     "execution_count": 90,
     "metadata": {},
     "output_type": "execute_result"
    }
   ],
   "source": [
    "Engineer_object.update_salary()"
   ]
  },
  {
   "cell_type": "markdown",
   "id": "13fa1c30",
   "metadata": {},
   "source": [
    "### 13 . Write a Python program that uses inheritance to represent a hierarchy of shapes (Triangle, Rectangle, etc.)\n"
   ]
  },
  {
   "cell_type": "code",
   "execution_count": 93,
   "id": "977f5116",
   "metadata": {},
   "outputs": [],
   "source": [
    "class Shapes:\n",
    "    def __init__(self,name):\n",
    "        self.name = name\n",
    "class Triangle(Shapes):\n",
    "    def __init__(self, sides):\n",
    "        super().__init__(name)\n",
    "        self.sides = sides\n",
    "class Rectangle(Shapes):\n",
    "    def __init__(self, name,length_a,length_b):\n",
    "        super().__init__(name)\n",
    "        self.length_a = length_a\n",
    "        self.length_b = length_b\n",
    "\n"
   ]
  },
  {
   "cell_type": "code",
   "execution_count": 94,
   "id": "66b0ac5b",
   "metadata": {},
   "outputs": [],
   "source": [
    "rectangle_object = Rectangle(\"Rectangle\",20,30)\n"
   ]
  },
  {
   "cell_type": "markdown",
   "id": "0c79bfd8",
   "metadata": {},
   "source": [
    "### 14. Create a class hierarchy to represent different types of animals (Birds, Fish) with their attributes and methods.\n"
   ]
  },
  {
   "cell_type": "code",
   "execution_count": 100,
   "id": "dc535c4f",
   "metadata": {},
   "outputs": [],
   "source": [
    "class Animal:\n",
    "    def __init__(self,wings,name):\n",
    "        self.wings = wings\n",
    "        self.name = name\n",
    "class Bird(Animal):\n",
    "    def __init__(self, wings,name,legs):\n",
    "        super().__init__(wings,name)\n",
    "        self.legs = legs\n",
    "    def fly(self):\n",
    "        return f\"{self.name} has {self.legs} legs\"\n",
    "class Fish(Animal):\n",
    "    def __init__(self, wings, name):\n",
    "        super().__init__(wings, name)\n",
    "    def swim(self):\n",
    "        return f\"{self.name} is swimming with help of her {self.wings}\"\n",
    "        "
   ]
  },
  {
   "cell_type": "code",
   "execution_count": 101,
   "id": "1d1ac8e6",
   "metadata": {},
   "outputs": [
    {
     "data": {
      "text/plain": [
       "'peocock has 2 legs'"
      ]
     },
     "execution_count": 101,
     "metadata": {},
     "output_type": "execute_result"
    }
   ],
   "source": [
    "peocock = Bird(2,'peocock',2)\n",
    "peocock.fly()"
   ]
  },
  {
   "cell_type": "code",
   "execution_count": 102,
   "id": "7e65f883",
   "metadata": {},
   "outputs": [
    {
     "data": {
      "text/plain": [
       "'dolphin is swimming with help of her 2'"
      ]
     },
     "execution_count": 102,
     "metadata": {},
     "output_type": "execute_result"
    }
   ],
   "source": [
    "dolphin = Fish(2,'dolphin')\n",
    "dolphin.swim()"
   ]
  },
  {
   "cell_type": "markdown",
   "id": "3becf4da",
   "metadata": {},
   "source": [
    "### 15. Given a JSON file with product details (name, price, quantity), create a Product class with encapsulated attributes"
   ]
  },
  {
   "cell_type": "code",
   "execution_count": 110,
   "id": "d860b916",
   "metadata": {},
   "outputs": [
    {
     "name": "stdout",
     "output_type": "stream",
     "text": [
      "onion\n"
     ]
    },
    {
     "ename": "AttributeError",
     "evalue": "'product' object has no attribute '__quantity'",
     "output_type": "error",
     "traceback": [
      "\u001b[1;31m---------------------------------------------------------------------------\u001b[0m",
      "\u001b[1;31mAttributeError\u001b[0m                            Traceback (most recent call last)",
      "Cell \u001b[1;32mIn[110], line 8\u001b[0m\n\u001b[0;32m      6\u001b[0m onion \u001b[38;5;241m=\u001b[39m product(\u001b[38;5;124m\"\u001b[39m\u001b[38;5;124monion\u001b[39m\u001b[38;5;124m\"\u001b[39m,\u001b[38;5;241m20\u001b[39m,\u001b[38;5;241m100\u001b[39m)\n\u001b[0;32m      7\u001b[0m \u001b[38;5;28mprint\u001b[39m(onion\u001b[38;5;241m.\u001b[39mname)\n\u001b[1;32m----> 8\u001b[0m \u001b[38;5;28mprint\u001b[39m(onion\u001b[38;5;241m.\u001b[39m__quantity)\n",
      "\u001b[1;31mAttributeError\u001b[0m: 'product' object has no attribute '__quantity'"
     ]
    }
   ],
   "source": [
    "class product:\n",
    "    def __init__(self,name,price,quantity):\n",
    "        self.name = name\n",
    "        self.price = price\n",
    "        self.__quantity = quantity\n",
    "onion = product(\"onion\",20,100)\n",
    "print(onion.name)\n",
    "print(onion.__quantity)"
   ]
  },
  {
   "cell_type": "markdown",
   "id": "6d5ee1c9",
   "metadata": {},
   "source": [
    "### 16. Implement a program that uses inheritance to represent a hierarchy of vehicles (Car, Bike, Truck, etc.)"
   ]
  },
  {
   "cell_type": "code",
   "execution_count": null,
   "id": "238af043",
   "metadata": {},
   "outputs": [],
   "source": [
    "class Vehicles:\n",
    "    def __init__(self,brand,tyre):\n",
    "        self.brand = brand\n",
    "        self.tyre = tyre\n",
    "class Car(Vehicles):\n",
    "    def __init__(self, brand, tyre):\n",
    "        super().__init__(brand, tyre)\n",
    "class Bike(Vehicles):\n",
    "    def __init__(self, brand, tyre):\n",
    "        super().__init__(brand, tyre)\n",
    "class Truck(Vehicles):\n",
    "    def __init__(self, brand, tyre):\n",
    "        super().__init__(brand, tyre)"
   ]
  },
  {
   "cell_type": "markdown",
   "id": "333db1a0",
   "metadata": {},
   "source": [
    "### 17. Write a Python program that uses encapsulation to protect sensitive information in a User class."
   ]
  },
  {
   "cell_type": "code",
   "execution_count": 115,
   "id": "2ac3eaad",
   "metadata": {},
   "outputs": [
    {
     "name": "stdout",
     "output_type": "stream",
     "text": [
      "onion\n",
      "100\n"
     ]
    }
   ],
   "source": [
    "class product:\n",
    "    def __init__(self,name,price,quantity):\n",
    "        self.name = name\n",
    "        self.price = price\n",
    "        self.__quantity = quantity\n",
    "    def quantity_getter(self):\n",
    "        print(self.__quantity)\n",
    "\n",
    "onion = product(\"onion\",20,100)\n",
    "print(onion.name)\n",
    "# print(onion.__quantity)\n",
    "onion.quantity_getter()"
   ]
  },
  {
   "cell_type": "code",
   "execution_count": null,
   "id": "3c8d8b21",
   "metadata": {},
   "outputs": [],
   "source": []
  }
 ],
 "metadata": {
  "kernelspec": {
   "display_name": "base",
   "language": "python",
   "name": "python3"
  },
  "language_info": {
   "codemirror_mode": {
    "name": "ipython",
    "version": 3
   },
   "file_extension": ".py",
   "mimetype": "text/x-python",
   "name": "python",
   "nbconvert_exporter": "python",
   "pygments_lexer": "ipython3",
   "version": "3.11.5"
  }
 },
 "nbformat": 4,
 "nbformat_minor": 5
}
