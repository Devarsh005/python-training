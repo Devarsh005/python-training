{
 "cells": [
  {
   "cell_type": "code",
   "execution_count": 50,
   "id": "5732be82",
   "metadata": {},
   "outputs": [],
   "source": [
    "class employee:\n",
    "    num_of_emp = 0\n",
    "    raise_amount = 1.05\n",
    "\n",
    "    def __init__(self,first_name,last_name,salary):\n",
    "        self.first_name = first_name\n",
    "        self.last_name = last_name\n",
    "        self.salary = salary\n",
    "    def __str__(self):\n",
    "        return f\"firstName:{self.first_name}, last name {self.last_name}, salary {self.salary}\"\n",
    "    def fullName(self):\n",
    "        print(f\"{self.first_name} {self.last_name}\")\n",
    "    def updated_salary(self):\n",
    "        print(f'before increment {self.salary}')\n",
    "        self.salary = self.salary*self.raise_amount\n",
    "        return self.salary\n",
    "    # if i want to change in the class level variable then i nedd to doing through class method\n",
    "    @classmethod\n",
    "    def change_raise(cls):\n",
    "        cls.raise_amount = 1.9\n",
    "\n",
    "    \n",
    "    "
   ]
  },
  {
   "cell_type": "code",
   "execution_count": 51,
   "id": "f3e3738e",
   "metadata": {},
   "outputs": [
    {
     "name": "stdout",
     "output_type": "stream",
     "text": [
      "firstName:Mohit, last name prajapati, salary 100000\n"
     ]
    }
   ],
   "source": [
    "# create a object\n",
    "emp1 = employee('Mohit','prajapati',1_00_000)\n",
    "print(emp1)"
   ]
  },
  {
   "cell_type": "code",
   "execution_count": 11,
   "id": "43e5e883",
   "metadata": {},
   "outputs": [
    {
     "name": "stdout",
     "output_type": "stream",
     "text": [
      "Mohit prajapati\n"
     ]
    }
   ],
   "source": [
    "employee.fullName(emp1)"
   ]
  },
  {
   "cell_type": "code",
   "execution_count": 12,
   "id": "79f3bfdb",
   "metadata": {},
   "outputs": [
    {
     "name": "stdout",
     "output_type": "stream",
     "text": [
      "Mohit prajapati\n"
     ]
    }
   ],
   "source": [
    "# either \n",
    "emp1.fullName()"
   ]
  },
  {
   "cell_type": "code",
   "execution_count": 23,
   "id": "66350fa0",
   "metadata": {},
   "outputs": [
    {
     "name": "stdout",
     "output_type": "stream",
     "text": [
      "before increment 100000\n"
     ]
    },
    {
     "data": {
      "text/plain": [
       "105000.0"
      ]
     },
     "execution_count": 23,
     "metadata": {},
     "output_type": "execute_result"
    }
   ],
   "source": [
    "emp1.updated_salary()"
   ]
  },
  {
   "cell_type": "code",
   "execution_count": 24,
   "id": "1cfab0e1",
   "metadata": {},
   "outputs": [],
   "source": [
    "emp2 = employee('Avinash','prajapati',1_20_000)"
   ]
  },
  {
   "cell_type": "code",
   "execution_count": 25,
   "id": "c536f47b",
   "metadata": {},
   "outputs": [
    {
     "name": "stdout",
     "output_type": "stream",
     "text": [
      "before increment 120000\n"
     ]
    },
    {
     "data": {
      "text/plain": [
       "126000.0"
      ]
     },
     "execution_count": 25,
     "metadata": {},
     "output_type": "execute_result"
    }
   ],
   "source": [
    "emp2.updated_salary()"
   ]
  },
  {
   "cell_type": "code",
   "execution_count": 26,
   "id": "25c08073",
   "metadata": {},
   "outputs": [
    {
     "data": {
      "text/plain": [
       "{'first_name': 'Mohit', 'last_name': 'prajapati', 'salary': 105000.0}"
      ]
     },
     "execution_count": 26,
     "metadata": {},
     "output_type": "execute_result"
    }
   ],
   "source": [
    "emp1.__dict__"
   ]
  },
  {
   "cell_type": "code",
   "execution_count": 27,
   "id": "a9a0cdd4",
   "metadata": {},
   "outputs": [
    {
     "data": {
      "text/plain": [
       "{'first_name': 'Avinash', 'last_name': 'prajapati', 'salary': 126000.0}"
      ]
     },
     "execution_count": 27,
     "metadata": {},
     "output_type": "execute_result"
    }
   ],
   "source": [
    "emp2.__dict__"
   ]
  },
  {
   "cell_type": "code",
   "execution_count": 28,
   "id": "323d59c4",
   "metadata": {},
   "outputs": [
    {
     "data": {
      "text/plain": [
       "mappingproxy({'__module__': '__main__',\n",
       "              'num_of_emp': 0,\n",
       "              'raise_amount': 1.05,\n",
       "              '__init__': <function __main__.employee.__init__(self, first_name, last_name, salary)>,\n",
       "              '__str__': <function __main__.employee.__str__(self)>,\n",
       "              'fullName': <function __main__.employee.fullName(self)>,\n",
       "              'updated_salary': <function __main__.employee.updated_salary(self)>,\n",
       "              '__dict__': <attribute '__dict__' of 'employee' objects>,\n",
       "              '__weakref__': <attribute '__weakref__' of 'employee' objects>,\n",
       "              '__doc__': None})"
      ]
     },
     "execution_count": 28,
     "metadata": {},
     "output_type": "execute_result"
    }
   ],
   "source": [
    "employee.__dict__"
   ]
  },
  {
   "cell_type": "code",
   "execution_count": 60,
   "id": "95bbcfa6",
   "metadata": {},
   "outputs": [
    {
     "name": "stdout",
     "output_type": "stream",
     "text": [
      "1.9\n"
     ]
    }
   ],
   "source": [
    "print(employee.raise_amount)"
   ]
  },
  {
   "cell_type": "code",
   "execution_count": 55,
   "id": "2c370fcf",
   "metadata": {},
   "outputs": [],
   "source": [
    "employee.change_raise()"
   ]
  },
  {
   "cell_type": "code",
   "execution_count": 56,
   "id": "d6c750ae",
   "metadata": {},
   "outputs": [
    {
     "name": "stdout",
     "output_type": "stream",
     "text": [
      "1.9\n"
     ]
    }
   ],
   "source": [
    "print(employee.raise_amount)"
   ]
  },
  {
   "cell_type": "code",
   "execution_count": 57,
   "id": "1cc37411",
   "metadata": {},
   "outputs": [
    {
     "name": "stdout",
     "output_type": "stream",
     "text": [
      "1.9\n"
     ]
    }
   ],
   "source": [
    "print(emp1.raise_amount)"
   ]
  },
  {
   "cell_type": "code",
   "execution_count": 61,
   "id": "e8f13ff1",
   "metadata": {},
   "outputs": [
    {
     "name": "stdout",
     "output_type": "stream",
     "text": [
      "1.05\n"
     ]
    }
   ],
   "source": [
    "print(emp2.raise_amount)"
   ]
  },
  {
   "cell_type": "code",
   "execution_count": null,
   "id": "4ace6073",
   "metadata": {},
   "outputs": [],
   "source": []
  },
  {
   "cell_type": "code",
   "execution_count": null,
   "id": "aa1fd6ba",
   "metadata": {},
   "outputs": [],
   "source": []
  }
 ],
 "metadata": {
  "kernelspec": {
   "display_name": "base",
   "language": "python",
   "name": "python3"
  },
  "language_info": {
   "codemirror_mode": {
    "name": "ipython",
    "version": 3
   },
   "file_extension": ".py",
   "mimetype": "text/x-python",
   "name": "python",
   "nbconvert_exporter": "python",
   "pygments_lexer": "ipython3",
   "version": "3.11.5"
  }
 },
 "nbformat": 4,
 "nbformat_minor": 5
}
