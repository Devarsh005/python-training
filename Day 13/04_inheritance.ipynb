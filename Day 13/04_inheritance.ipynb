{
 "cells": [
  {
   "cell_type": "markdown",
   "id": "296e50f1",
   "metadata": {},
   "source": [
    "## how do you inherit from another class in python?"
   ]
  },
  {
   "cell_type": "code",
   "execution_count": null,
   "id": "584675d0",
   "metadata": {},
   "outputs": [],
   "source": [
    "class parent:\n",
    "    hair_color = 'brown'\n",
    "class child(parent):\n",
    "    # hair_color = 'black'\n",
    "    pass\n"
   ]
  },
  {
   "cell_type": "code",
   "execution_count": 5,
   "id": "3dd12a41",
   "metadata": {},
   "outputs": [
    {
     "data": {
      "text/plain": [
       "'brown'"
      ]
     },
     "execution_count": 5,
     "metadata": {},
     "output_type": "execute_result"
    }
   ],
   "source": [
    "child_class_object = child()\n",
    "child_class_object.hair_color"
   ]
  },
  {
   "cell_type": "code",
   "execution_count": 6,
   "id": "ad1eaf65",
   "metadata": {},
   "outputs": [],
   "source": [
    "class parent:\n",
    "    hair_color = 'brown'\n",
    "class child(parent):\n",
    "    hair_color = 'black'\n",
    "    pass\n"
   ]
  },
  {
   "cell_type": "code",
   "execution_count": 7,
   "id": "0d2d4e10",
   "metadata": {},
   "outputs": [
    {
     "data": {
      "text/plain": [
       "'black'"
      ]
     },
     "execution_count": 7,
     "metadata": {},
     "output_type": "execute_result"
    }
   ],
   "source": [
    "child_class_object = child()\n",
    "child_class_object.hair_color"
   ]
  },
  {
   "cell_type": "markdown",
   "id": "dcca1601",
   "metadata": {},
   "source": [
    "## some attributes you have but your parent's don't have\n"
   ]
  },
  {
   "cell_type": "code",
   "execution_count": 17,
   "id": "a02d298e",
   "metadata": {},
   "outputs": [],
   "source": [
    "class parents:\n",
    "    def __init__(self):\n",
    "        self.language = ['gujarati','hindi']\n",
    "    def speak_gujarti(self):\n",
    "        print('ee haloo, km 6o , majama 6o n')\n",
    "class childs(parents):\n",
    "    def __init__(self):\n",
    "        super().__init__()\n",
    "        self.language.append('englsh')\n",
    "    def speak_english(self):\n",
    "        print('hey , how are you!')\n",
    "child_object = childs()\n",
    "\n",
    "\n"
   ]
  },
  {
   "cell_type": "code",
   "execution_count": 18,
   "id": "0459152c",
   "metadata": {},
   "outputs": [
    {
     "name": "stdout",
     "output_type": "stream",
     "text": [
      "ee haloo, km 6o , majama 6o n\n"
     ]
    }
   ],
   "source": [
    "child_object.speak_gujarti()"
   ]
  },
  {
   "cell_type": "code",
   "execution_count": 19,
   "id": "65d2bd0c",
   "metadata": {},
   "outputs": [
    {
     "name": "stdout",
     "output_type": "stream",
     "text": [
      "hey , how are you!\n"
     ]
    }
   ],
   "source": [
    "child_object.speak_english()"
   ]
  },
  {
   "cell_type": "code",
   "execution_count": 20,
   "id": "b937e2bc",
   "metadata": {},
   "outputs": [
    {
     "data": {
      "text/plain": [
       "['gujarati', 'hindi', 'englsh']"
      ]
     },
     "execution_count": 20,
     "metadata": {},
     "output_type": "execute_result"
    }
   ],
   "source": [
    "child_object.language"
   ]
  },
  {
   "cell_type": "code",
   "execution_count": 21,
   "id": "4d91f49e",
   "metadata": {},
   "outputs": [
    {
     "data": {
      "text/plain": [
       "['gujarati', 'hindi']"
      ]
     },
     "execution_count": 21,
     "metadata": {},
     "output_type": "execute_result"
    }
   ],
   "source": [
    "parent_object = parents()\n",
    "parent_object.language"
   ]
  },
  {
   "cell_type": "markdown",
   "id": "dbf8e317",
   "metadata": {},
   "source": [
    "### multiple inheritance"
   ]
  },
  {
   "cell_type": "code",
   "execution_count": 24,
   "id": "ccd627b2",
   "metadata": {},
   "outputs": [],
   "source": [
    "# multiple_ingerited_object = child(parent,parents,childs)\n",
    "class multiple_inherited_class(childs,child,parent,parents):\n",
    "    pass"
   ]
  },
  {
   "cell_type": "code",
   "execution_count": null,
   "id": "5c925162",
   "metadata": {},
   "outputs": [],
   "source": []
  }
 ],
 "metadata": {
  "kernelspec": {
   "display_name": "base",
   "language": "python",
   "name": "python3"
  },
  "language_info": {
   "codemirror_mode": {
    "name": "ipython",
    "version": 3
   },
   "file_extension": ".py",
   "mimetype": "text/x-python",
   "name": "python",
   "nbconvert_exporter": "python",
   "pygments_lexer": "ipython3",
   "version": "3.11.5"
  }
 },
 "nbformat": 4,
 "nbformat_minor": 5
}
