{
 "cells": [
  {
   "cell_type": "markdown",
   "id": "dfbdcfda",
   "metadata": {},
   "source": [
    "## private variable"
   ]
  },
  {
   "cell_type": "code",
   "execution_count": 1,
   "id": "e40e8c40",
   "metadata": {},
   "outputs": [],
   "source": [
    "class parent:\n",
    "    def __init__(self,name,number,emailid):\n",
    "        self.name = name\n",
    "        self.__number = number\n",
    "        self.__emailid = emailid\n"
   ]
  },
  {
   "cell_type": "code",
   "execution_count": 3,
   "id": "9a825bc6",
   "metadata": {},
   "outputs": [
    {
     "data": {
      "text/plain": [
       "'Devarsh'"
      ]
     },
     "execution_count": 3,
     "metadata": {},
     "output_type": "execute_result"
    }
   ],
   "source": [
    "obj = parent('Devarsh',4798223423,'devarsh@65gmail.com')\n",
    "obj.name"
   ]
  },
  {
   "cell_type": "code",
   "execution_count": 5,
   "id": "a804af07",
   "metadata": {},
   "outputs": [
    {
     "ename": "AttributeError",
     "evalue": "'parent' object has no attribute 'emailid'",
     "output_type": "error",
     "traceback": [
      "\u001b[1;31m---------------------------------------------------------------------------\u001b[0m",
      "\u001b[1;31mAttributeError\u001b[0m                            Traceback (most recent call last)",
      "Cell \u001b[1;32mIn[5], line 1\u001b[0m\n\u001b[1;32m----> 1\u001b[0m obj\u001b[38;5;241m.\u001b[39memailid\n",
      "\u001b[1;31mAttributeError\u001b[0m: 'parent' object has no attribute 'emailid'"
     ]
    }
   ],
   "source": [
    "obj.emailid"
   ]
  },
  {
   "cell_type": "code",
   "execution_count": 6,
   "id": "71a4f2bc",
   "metadata": {},
   "outputs": [
    {
     "ename": "AttributeError",
     "evalue": "'parent' object has no attribute '__number'",
     "output_type": "error",
     "traceback": [
      "\u001b[1;31m---------------------------------------------------------------------------\u001b[0m",
      "\u001b[1;31mAttributeError\u001b[0m                            Traceback (most recent call last)",
      "Cell \u001b[1;32mIn[6], line 1\u001b[0m\n\u001b[1;32m----> 1\u001b[0m obj\u001b[38;5;241m.\u001b[39m__number\n",
      "\u001b[1;31mAttributeError\u001b[0m: 'parent' object has no attribute '__number'"
     ]
    }
   ],
   "source": [
    "obj.__number"
   ]
  },
  {
   "cell_type": "markdown",
   "id": "e73ad1e2",
   "metadata": {},
   "source": [
    "## up to this parents class two private variable cannot access directly through object "
   ]
  },
  {
   "cell_type": "code",
   "execution_count": 7,
   "id": "f3b197ee",
   "metadata": {},
   "outputs": [
    {
     "data": {
      "text/plain": [
       "'devarsh@65gmail.com'"
      ]
     },
     "execution_count": 7,
     "metadata": {},
     "output_type": "execute_result"
    }
   ],
   "source": [
    "obj._parent__emailid"
   ]
  },
  {
   "cell_type": "code",
   "execution_count": 8,
   "id": "36ef8ef8",
   "metadata": {},
   "outputs": [
    {
     "data": {
      "text/plain": [
       "4798223423"
      ]
     },
     "execution_count": 8,
     "metadata": {},
     "output_type": "execute_result"
    }
   ],
   "source": [
    "obj._parent__number"
   ]
  },
  {
   "cell_type": "markdown",
   "id": "bc2c51b6",
   "metadata": {},
   "source": [
    "### another method \n",
    "- **access using public method**"
   ]
  },
  {
   "cell_type": "code",
   "execution_count": 9,
   "id": "c52802f9",
   "metadata": {},
   "outputs": [],
   "source": [
    "class parent:\n",
    "    def __init__(self,name,number,emailid):\n",
    "        self.name = name\n",
    "        self.__number = number\n",
    "        self.__emailid = emailid\n",
    "    def get_public_varibale(self):\n",
    "        print(f\"the phone number is {self.__number}\")\n",
    "        print(f\"the emailid is {self.__emailid}\")"
   ]
  },
  {
   "cell_type": "code",
   "execution_count": 10,
   "id": "e8c8a854",
   "metadata": {},
   "outputs": [],
   "source": [
    "parent_object = parent('Devarsh',4798223423,'devarsh@65gmail.com')"
   ]
  },
  {
   "cell_type": "code",
   "execution_count": 11,
   "id": "da156c4a",
   "metadata": {},
   "outputs": [
    {
     "data": {
      "text/plain": [
       "'Devarsh'"
      ]
     },
     "execution_count": 11,
     "metadata": {},
     "output_type": "execute_result"
    }
   ],
   "source": [
    "parent_object.name"
   ]
  },
  {
   "cell_type": "code",
   "execution_count": 12,
   "id": "6568b3c3",
   "metadata": {},
   "outputs": [
    {
     "ename": "AttributeError",
     "evalue": "'parent' object has no attribute '__emailid'",
     "output_type": "error",
     "traceback": [
      "\u001b[1;31m---------------------------------------------------------------------------\u001b[0m",
      "\u001b[1;31mAttributeError\u001b[0m                            Traceback (most recent call last)",
      "Cell \u001b[1;32mIn[12], line 1\u001b[0m\n\u001b[1;32m----> 1\u001b[0m parent_object\u001b[38;5;241m.\u001b[39m__emailid\n",
      "\u001b[1;31mAttributeError\u001b[0m: 'parent' object has no attribute '__emailid'"
     ]
    }
   ],
   "source": [
    "parent_object.__emailid"
   ]
  },
  {
   "cell_type": "code",
   "execution_count": 13,
   "id": "e4c628e2",
   "metadata": {},
   "outputs": [
    {
     "name": "stdout",
     "output_type": "stream",
     "text": [
      "the phone number is 4798223423\n",
      "the emailid is devarsh@65gmail.com\n"
     ]
    }
   ],
   "source": [
    "parent_object.get_public_varibale()"
   ]
  },
  {
   "cell_type": "code",
   "execution_count": 16,
   "id": "fdfc2126",
   "metadata": {},
   "outputs": [
    {
     "data": {
      "text/plain": [
       "4798223423"
      ]
     },
     "execution_count": 16,
     "metadata": {},
     "output_type": "execute_result"
    }
   ],
   "source": [
    "parent_object._parent__number"
   ]
  },
  {
   "cell_type": "code",
   "execution_count": 17,
   "id": "50ea2e2b",
   "metadata": {},
   "outputs": [],
   "source": [
    "class Mapping:\n",
    "    def __init__(self, iterable):\n",
    "        self.items_list = []\n",
    "        self.__update(iterable)\n",
    "\n",
    "    def update(self, iterable):\n",
    "        for item in iterable:\n",
    "            self.items_list.append(item)\n",
    "\n",
    "    __update = update   # private copy of original update() method\n",
    "\n",
    "class MappingSubclass(Mapping):\n",
    "\n",
    "    def update(self, keys, values):\n",
    "        # provides new signature for update()\n",
    "        # but does not break __init__()\n",
    "        for item in zip(keys, values):\n",
    "            self.items_list.append(item)"
   ]
  },
  {
   "cell_type": "code",
   "execution_count": 22,
   "id": "37953ed1",
   "metadata": {},
   "outputs": [],
   "source": [
    "mapping_object = MappingSubclass([10,20,40,22,44])\n",
    "mapping_object.update((1,3,5,7),(10,20,30,40))"
   ]
  },
  {
   "cell_type": "code",
   "execution_count": 23,
   "id": "4796e3f3",
   "metadata": {},
   "outputs": [
    {
     "data": {
      "text/plain": [
       "[10, 20, 40, 22, 44, (1, 10), (3, 20), (5, 30), (7, 40)]"
      ]
     },
     "execution_count": 23,
     "metadata": {},
     "output_type": "execute_result"
    }
   ],
   "source": [
    "mapping_object.items_list"
   ]
  },
  {
   "cell_type": "code",
   "execution_count": null,
   "id": "7888141e",
   "metadata": {},
   "outputs": [],
   "source": []
  }
 ],
 "metadata": {
  "kernelspec": {
   "display_name": "base",
   "language": "python",
   "name": "python3"
  },
  "language_info": {
   "codemirror_mode": {
    "name": "ipython",
    "version": 3
   },
   "file_extension": ".py",
   "mimetype": "text/x-python",
   "name": "python",
   "nbconvert_exporter": "python",
   "pygments_lexer": "ipython3",
   "version": "3.11.5"
  }
 },
 "nbformat": 4,
 "nbformat_minor": 5
}
