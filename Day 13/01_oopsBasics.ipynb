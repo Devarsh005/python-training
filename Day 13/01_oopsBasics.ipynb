{
 "cells": [
  {
   "cell_type": "code",
   "execution_count": 19,
   "id": "bf717f36",
   "metadata": {},
   "outputs": [],
   "source": [
    "class myClass:\n",
    "    class_varibale = 'class variable is '\n",
    "    def __init__(self,instance_variable):\n",
    "        self.instance_variable = instance_variable\n",
    "    \n"
   ]
  },
  {
   "cell_type": "code",
   "execution_count": 21,
   "id": "e0c2324e",
   "metadata": {},
   "outputs": [],
   "source": [
    "obj = myClass(20)"
   ]
  },
  {
   "cell_type": "code",
   "execution_count": 15,
   "id": "734b4bd5",
   "metadata": {},
   "outputs": [
    {
     "name": "stdout",
     "output_type": "stream",
     "text": [
      "<class '__main__.myClass'>\n"
     ]
    }
   ],
   "source": [
    "print(myClass)"
   ]
  },
  {
   "cell_type": "code",
   "execution_count": 16,
   "id": "98b3391f",
   "metadata": {},
   "outputs": [
    {
     "name": "stdout",
     "output_type": "stream",
     "text": [
      "<__main__.myClass object at 0x0000012FBD887390>\n"
     ]
    }
   ],
   "source": [
    "print(obj)"
   ]
  },
  {
   "cell_type": "code",
   "execution_count": 17,
   "id": "dfc2e861",
   "metadata": {},
   "outputs": [
    {
     "data": {
      "text/plain": [
       "20"
      ]
     },
     "execution_count": 17,
     "metadata": {},
     "output_type": "execute_result"
    }
   ],
   "source": [
    "obj.instance_variable"
   ]
  },
  {
   "cell_type": "code",
   "execution_count": 22,
   "id": "874c8029",
   "metadata": {},
   "outputs": [
    {
     "data": {
      "text/plain": [
       "'class variable is '"
      ]
     },
     "execution_count": 22,
     "metadata": {},
     "output_type": "execute_result"
    }
   ],
   "source": [
    "obj.class_varibale"
   ]
  },
  {
   "cell_type": "markdown",
   "id": "6f4e8718",
   "metadata": {},
   "source": [
    "**example**"
   ]
  },
  {
   "cell_type": "code",
   "execution_count": 28,
   "id": "94e75f75",
   "metadata": {},
   "outputs": [],
   "source": [
    "class dog:\n",
    "    # class variable \n",
    "    bark = 'bhaun'\n",
    "    color = 'black'\n",
    "    def __init__(self,name,color,pet):\n",
    "        self.name = name\n",
    "        self.color = color\n",
    "        self.pet = pet\n",
    "\n"
   ]
  },
  {
   "cell_type": "code",
   "execution_count": 29,
   "id": "060919aa",
   "metadata": {},
   "outputs": [
    {
     "name": "stdout",
     "output_type": "stream",
     "text": [
      "True\n",
      "brown\n",
      "tiger\n",
      "bhaun\n"
     ]
    }
   ],
   "source": [
    "# create a object of dog\n",
    "desi_kutta = dog('tiger','brown',True)\n",
    "\n",
    "print(desi_kutta.pet)\n",
    "print(desi_kutta.color)\n",
    "print(desi_kutta.name)\n",
    "\n",
    "print(desi_kutta.bark)\n"
   ]
  },
  {
   "cell_type": "code",
   "execution_count": 32,
   "id": "c92da510",
   "metadata": {},
   "outputs": [
    {
     "name": "stdout",
     "output_type": "stream",
     "text": [
      "bhaun\n",
      "red\n"
     ]
    }
   ],
   "source": [
    "tyagi = dog('tyagi danger','red',False)\n",
    "print(tyagi.bark)\n",
    "print(tyagi.color)"
   ]
  },
  {
   "cell_type": "markdown",
   "id": "dd536382",
   "metadata": {},
   "source": [
    "### in above example we can see the priority of instance variable > class variable"
   ]
  },
  {
   "cell_type": "code",
   "execution_count": 33,
   "id": "04cfbeda",
   "metadata": {},
   "outputs": [],
   "source": [
    "class myclass:\n",
    "    a = 'abc'\n",
    "    b = 'def'\n"
   ]
  },
  {
   "cell_type": "code",
   "execution_count": 34,
   "id": "997f1297",
   "metadata": {},
   "outputs": [
    {
     "data": {
      "text/plain": [
       "'abc'"
      ]
     },
     "execution_count": 34,
     "metadata": {},
     "output_type": "execute_result"
    }
   ],
   "source": [
    "obj = myclass()\n",
    "obj.a"
   ]
  },
  {
   "cell_type": "code",
   "execution_count": 35,
   "id": "391e4b1a",
   "metadata": {},
   "outputs": [
    {
     "data": {
      "text/plain": [
       "'def'"
      ]
     },
     "execution_count": 35,
     "metadata": {},
     "output_type": "execute_result"
    }
   ],
   "source": [
    "obj.b"
   ]
  },
  {
   "cell_type": "code",
   "execution_count": 39,
   "id": "cf917ad3",
   "metadata": {},
   "outputs": [
    {
     "data": {
      "text/plain": [
       "'hello'"
      ]
     },
     "execution_count": 39,
     "metadata": {},
     "output_type": "execute_result"
    }
   ],
   "source": [
    "obj1 = myclass()\n",
    "obj1.a = 'hello'\n",
    "obj1.a"
   ]
  },
  {
   "cell_type": "code",
   "execution_count": 40,
   "id": "b07cc4e0",
   "metadata": {},
   "outputs": [
    {
     "data": {
      "text/plain": [
       "'def'"
      ]
     },
     "execution_count": 40,
     "metadata": {},
     "output_type": "execute_result"
    }
   ],
   "source": [
    "obj1.b"
   ]
  },
  {
   "cell_type": "code",
   "execution_count": 41,
   "id": "ff1485e3",
   "metadata": {},
   "outputs": [
    {
     "data": {
      "text/plain": [
       "'abc'"
      ]
     },
     "execution_count": 41,
     "metadata": {},
     "output_type": "execute_result"
    }
   ],
   "source": [
    "obj3 = myclass()\n",
    "obj3.a"
   ]
  },
  {
   "cell_type": "code",
   "execution_count": 48,
   "id": "2c61e8cf",
   "metadata": {},
   "outputs": [
    {
     "data": {
      "text/plain": [
       "30"
      ]
     },
     "execution_count": 48,
     "metadata": {},
     "output_type": "execute_result"
    }
   ],
   "source": [
    "def sum(self,x,y):\n",
    "    return x+y\n",
    "class mathClass:\n",
    "    def __init__(self,x,y):\n",
    "        self.x = x\n",
    "        self.y =y\n",
    "    s = sum\n",
    "math_object = mathClass(10,20)\n",
    "math_object.s(10,20)"
   ]
  },
  {
   "cell_type": "markdown",
   "id": "a3e854e7",
   "metadata": {},
   "source": [
    "### __Methods may call other methods by using method attributes of the self argument:__"
   ]
  },
  {
   "cell_type": "code",
   "execution_count": 51,
   "id": "123d93a3",
   "metadata": {},
   "outputs": [],
   "source": [
    "class base:\n",
    "    def __init__(self):\n",
    "        self.data =[]\n",
    "    def add(self,x):\n",
    "        self.data.append(x)\n",
    "    def addTwice(self,x):\n",
    "        self.add(x)\n",
    "        self.add(x)\n",
    "\n",
    "base_object = base()\n",
    "base_object.add(1)\n",
    "base_object.addTwice(2)"
   ]
  },
  {
   "cell_type": "code",
   "execution_count": 52,
   "id": "3794d56a",
   "metadata": {},
   "outputs": [
    {
     "name": "stdout",
     "output_type": "stream",
     "text": [
      "[1, 2, 2]\n"
     ]
    }
   ],
   "source": [
    "print(base_object.data)"
   ]
  },
  {
   "cell_type": "code",
   "execution_count": null,
   "id": "3c361d8e",
   "metadata": {},
   "outputs": [],
   "source": []
  }
 ],
 "metadata": {
  "kernelspec": {
   "display_name": "base",
   "language": "python",
   "name": "python3"
  },
  "language_info": {
   "codemirror_mode": {
    "name": "ipython",
    "version": 3
   },
   "file_extension": ".py",
   "mimetype": "text/x-python",
   "name": "python",
   "nbconvert_exporter": "python",
   "pygments_lexer": "ipython3",
   "version": "3.11.5"
  }
 },
 "nbformat": 4,
 "nbformat_minor": 5
}
