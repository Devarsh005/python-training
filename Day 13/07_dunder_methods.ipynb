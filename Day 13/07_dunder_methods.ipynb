{
 "cells": [
  {
   "cell_type": "code",
   "execution_count": 35,
   "id": "dcd1cb31",
   "metadata": {},
   "outputs": [],
   "source": [
    "class employee:\n",
    "    num_of_emp = 0\n",
    "    raise_amount = 1.05\n",
    "\n",
    "    def __init__(self,first_name,last_name,salary):\n",
    "        self.first_name = first_name\n",
    "        self.last_name = last_name\n",
    "        self.salary = salary\n",
    "    def __str__(self):\n",
    "        return f\"firstName:{self.first_name}, last name {self.last_name}, salary {self.salary}\"\n",
    "    def __repr__(self):\n",
    "        return f\"employee ('{self.first_name} ','{self.last_name}','{self.salary}')\"\n",
    "    def __add__(self,other):\n",
    "        return self.salary + other.salary\n",
    "    def fullName(self):\n",
    "        print(f\"{self.first_name} {self.last_name}\")\n",
    "    def updated_salary(self):\n",
    "        print(f'before increment {self.salary}')\n",
    "        self.salary = self.salary*self.raise_amount\n",
    "        return self.salary\n",
    "    # if i want to change in the class level variable then i nedd to doing through class method\n",
    "    @classmethod\n",
    "    def change_raise(cls,amount):\n",
    "        cls.raise_amount = amount\n",
    "\n",
    "    \n",
    "    "
   ]
  },
  {
   "cell_type": "code",
   "execution_count": 36,
   "id": "bb553a68",
   "metadata": {},
   "outputs": [
    {
     "name": "stdout",
     "output_type": "stream",
     "text": [
      "firstName:riyan, last name samsher, salary 20000\n"
     ]
    }
   ],
   "source": [
    "class developer(employee):\n",
    "    def __init__(self, first_name, last_name, salary,prgm_lang):\n",
    "        super().__init__(first_name, last_name, salary)\n",
    "        self.prgm_lang = prgm_lang\n",
    "\n",
    "dev1 = developer('riyan','samsher',20000,'python')\n",
    "print(dev1)\n",
    "\n",
    "    "
   ]
  },
  {
   "cell_type": "code",
   "execution_count": 15,
   "id": "631d1f09",
   "metadata": {},
   "outputs": [
    {
     "name": "stdout",
     "output_type": "stream",
     "text": [
      "riyan samsher\n"
     ]
    }
   ],
   "source": [
    "dev1.fullName()"
   ]
  },
  {
   "cell_type": "code",
   "execution_count": 16,
   "id": "65395eda",
   "metadata": {},
   "outputs": [
    {
     "data": {
      "text/plain": [
       "employee ('riyan ','samsher','20000')"
      ]
     },
     "execution_count": 16,
     "metadata": {},
     "output_type": "execute_result"
    }
   ],
   "source": [
    "dev1"
   ]
  },
  {
   "cell_type": "code",
   "execution_count": 17,
   "id": "4d2763c6",
   "metadata": {},
   "outputs": [
    {
     "data": {
      "text/plain": [
       "'firstName:riyan, last name samsher, salary 20000'"
      ]
     },
     "execution_count": 17,
     "metadata": {},
     "output_type": "execute_result"
    }
   ],
   "source": [
    "str(dev1) # >> because i already define __str__ method in employee class"
   ]
  },
  {
   "cell_type": "code",
   "execution_count": 18,
   "id": "68d7e869",
   "metadata": {},
   "outputs": [
    {
     "data": {
      "text/plain": [
       "\"employee ('riyan ','samsher','20000')\""
      ]
     },
     "execution_count": 18,
     "metadata": {},
     "output_type": "execute_result"
    }
   ],
   "source": [
    "repr(dev1)"
   ]
  },
  {
   "cell_type": "code",
   "execution_count": 19,
   "id": "a5801db0",
   "metadata": {},
   "outputs": [
    {
     "data": {
      "text/plain": [
       "\"employee ('riyan ','samsher','20000')\""
      ]
     },
     "execution_count": 19,
     "metadata": {},
     "output_type": "execute_result"
    }
   ],
   "source": [
    "dev1.__repr__()"
   ]
  },
  {
   "cell_type": "code",
   "execution_count": 20,
   "id": "e8ba0a6d",
   "metadata": {},
   "outputs": [],
   "source": [
    "# when __str__() is not defined then it's automatically use __repr__()"
   ]
  },
  {
   "cell_type": "code",
   "execution_count": 21,
   "id": "683d5166",
   "metadata": {},
   "outputs": [
    {
     "name": "stdout",
     "output_type": "stream",
     "text": [
      "3\n"
     ]
    }
   ],
   "source": [
    "print(1+2)"
   ]
  },
  {
   "cell_type": "code",
   "execution_count": 22,
   "id": "73fc23b0",
   "metadata": {},
   "outputs": [
    {
     "name": "stdout",
     "output_type": "stream",
     "text": [
      "3\n"
     ]
    }
   ],
   "source": [
    "print(int.__add__(1,2))"
   ]
  },
  {
   "cell_type": "code",
   "execution_count": 30,
   "id": "a9649214",
   "metadata": {},
   "outputs": [],
   "source": [
    "dev2 = developer('rakesh','dayal',200000,'ruby')"
   ]
  },
  {
   "cell_type": "code",
   "execution_count": 33,
   "id": "48756872",
   "metadata": {},
   "outputs": [
    {
     "data": {
      "text/plain": [
       "employee ('riyan ','samsher','20000')"
      ]
     },
     "execution_count": 33,
     "metadata": {},
     "output_type": "execute_result"
    }
   ],
   "source": [
    "dev1"
   ]
  },
  {
   "cell_type": "code",
   "execution_count": 32,
   "id": "fb88e8ee",
   "metadata": {},
   "outputs": [
    {
     "data": {
      "text/plain": [
       "employee ('rakesh ','dayal','200000')"
      ]
     },
     "execution_count": 32,
     "metadata": {},
     "output_type": "execute_result"
    }
   ],
   "source": [
    "dev2"
   ]
  },
  {
   "cell_type": "code",
   "execution_count": 37,
   "id": "7608821b",
   "metadata": {},
   "outputs": [
    {
     "data": {
      "text/plain": [
       "220000"
      ]
     },
     "execution_count": 37,
     "metadata": {},
     "output_type": "execute_result"
    }
   ],
   "source": [
    "dev1 + dev2"
   ]
  },
  {
   "cell_type": "code",
   "execution_count": null,
   "id": "1319a358",
   "metadata": {},
   "outputs": [],
   "source": []
  }
 ],
 "metadata": {
  "kernelspec": {
   "display_name": "base",
   "language": "python",
   "name": "python3"
  },
  "language_info": {
   "codemirror_mode": {
    "name": "ipython",
    "version": 3
   },
   "file_extension": ".py",
   "mimetype": "text/x-python",
   "name": "python",
   "nbconvert_exporter": "python",
   "pygments_lexer": "ipython3",
   "version": "3.11.5"
  }
 },
 "nbformat": 4,
 "nbformat_minor": 5
}
