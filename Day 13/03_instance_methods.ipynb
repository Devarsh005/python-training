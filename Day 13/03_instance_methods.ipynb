{
 "cells": [
  {
   "cell_type": "markdown",
   "id": "833e648b",
   "metadata": {},
   "source": [
    "## Create a Car class with two instance attributes:\n",
    "\n",
    "- .color, which stores the name of the car’s color as a string\n",
    "- .mileage, which stores the number of miles on the car as an integer\n",
    "- Then create two Car objects—a blue car with twenty thousand miles and a red car with thirty thousand miles—and print out their colors and mileage. Your output should look like this:\n",
    "\n",
    "- The blue car has 20,000 miles\n",
    "- The red car has 30,000 miles"
   ]
  },
  {
   "cell_type": "code",
   "execution_count": 12,
   "id": "cc1ec15b",
   "metadata": {},
   "outputs": [],
   "source": [
    "class car:\n",
    "    def __init__(self,color,milage):\n",
    "        self.color = color\n",
    "        self.milage = milage\n",
    "    def __str__(self):\n",
    "       return f'the {self.color} car has {self.milage} miles'\n",
    "blue_car = car('blue',30_000)\n",
    "red_car = car('red',20_000)\n"
   ]
  },
  {
   "cell_type": "code",
   "execution_count": 13,
   "id": "24ea10a1",
   "metadata": {},
   "outputs": [
    {
     "name": "stdout",
     "output_type": "stream",
     "text": [
      "the blue car has 30000 miles\n",
      "the red car has 20000 miles\n"
     ]
    }
   ],
   "source": [
    "print(blue_car)\n",
    "print(red_car)"
   ]
  },
  {
   "cell_type": "code",
   "execution_count": null,
   "id": "a956870d",
   "metadata": {},
   "outputs": [],
   "source": []
  },
  {
   "cell_type": "code",
   "execution_count": null,
   "id": "12dac748",
   "metadata": {},
   "outputs": [],
   "source": []
  }
 ],
 "metadata": {
  "kernelspec": {
   "display_name": "base",
   "language": "python",
   "name": "python3"
  },
  "language_info": {
   "codemirror_mode": {
    "name": "ipython",
    "version": 3
   },
   "file_extension": ".py",
   "mimetype": "text/x-python",
   "name": "python",
   "nbconvert_exporter": "python",
   "pygments_lexer": "ipython3",
   "version": "3.11.5"
  }
 },
 "nbformat": 4,
 "nbformat_minor": 5
}
