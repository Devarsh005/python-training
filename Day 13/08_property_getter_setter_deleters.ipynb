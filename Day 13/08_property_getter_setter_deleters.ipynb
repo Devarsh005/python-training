{
 "cells": [
  {
   "cell_type": "code",
   "execution_count": 8,
   "id": "2f4130a9",
   "metadata": {},
   "outputs": [],
   "source": [
    "class employee:\n",
    "    num_of_emp = 0\n",
    "    raise_amount = 1.05\n",
    "\n",
    "    def __init__(self,first_name,last_name,salary):\n",
    "        self.first_name = first_name\n",
    "        self.last_name = last_name\n",
    "        self.salary = salary\n",
    "    def __str__(self):\n",
    "        return f\"firstName:{self.first_name}, last name {self.last_name}, salary {self.salary}\"\n",
    "    def __repr__(self):\n",
    "        return f\"employee ('{self.first_name} ','{self.last_name}','{self.salary}')\"\n",
    "    def __add__(self,other):\n",
    "        return self.salary + other.salary\n",
    "    @property\n",
    "    def fullName(self):\n",
    "        print(f\"{self.first_name} {self.last_name}\")\n",
    "    def updated_salary(self):\n",
    "        print(f'before increment {self.salary}')\n",
    "        self.salary = self.salary*self.raise_amount\n",
    "        return self.salary\n",
    "    # if i want to change in the class level variable then i nedd to doing through class method\n",
    "    @classmethod\n",
    "    def change_raise(cls,amount):\n",
    "        cls.raise_amount = amount\n",
    "\n",
    "    \n",
    "    "
   ]
  },
  {
   "cell_type": "code",
   "execution_count": 9,
   "id": "a25b0564",
   "metadata": {},
   "outputs": [],
   "source": [
    "# object of employee\n",
    "employee1 = employee('Avinash','prajapati',1_00_000)"
   ]
  },
  {
   "cell_type": "code",
   "execution_count": 4,
   "id": "bf32b7e3",
   "metadata": {},
   "outputs": [
    {
     "data": {
      "text/plain": [
       "__main__.employee"
      ]
     },
     "execution_count": 4,
     "metadata": {},
     "output_type": "execute_result"
    }
   ],
   "source": [
    "type(employee1)"
   ]
  },
  {
   "cell_type": "code",
   "execution_count": 10,
   "id": "4b771e70",
   "metadata": {},
   "outputs": [
    {
     "name": "stdout",
     "output_type": "stream",
     "text": [
      "Avinash prajapati\n"
     ]
    }
   ],
   "source": [
    "employee1.fullName"
   ]
  },
  {
   "cell_type": "code",
   "execution_count": null,
   "id": "8d322c05",
   "metadata": {},
   "outputs": [],
   "source": []
  }
 ],
 "metadata": {
  "kernelspec": {
   "display_name": "base",
   "language": "python",
   "name": "python3"
  },
  "language_info": {
   "codemirror_mode": {
    "name": "ipython",
    "version": 3
   },
   "file_extension": ".py",
   "mimetype": "text/x-python",
   "name": "python",
   "nbconvert_exporter": "python",
   "pygments_lexer": "ipython3",
   "version": "3.11.5"
  }
 },
 "nbformat": 4,
 "nbformat_minor": 5
}
