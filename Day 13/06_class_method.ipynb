{
 "cells": [
  {
   "cell_type": "code",
   "execution_count": 1,
   "id": "b65d96ae",
   "metadata": {},
   "outputs": [],
   "source": [
    "class employee:\n",
    "    num_of_emp = 0\n",
    "    raise_amount = 1.05\n",
    "\n",
    "    def __init__(self,first_name,last_name,salary):\n",
    "        self.first_name = first_name\n",
    "        self.last_name = last_name\n",
    "        self.salary = salary\n",
    "    def __str__(self):\n",
    "        return f\"firstName:{self.first_name}, last name {self.last_name}, salary {self.salary}\"\n",
    "    def fullName(self):\n",
    "        print(f\"{self.first_name} {self.last_name}\")\n",
    "    def updated_salary(self):\n",
    "        print(f'before increment {self.salary}')\n",
    "        self.salary = self.salary*self.raise_amount\n",
    "        return self.salary\n",
    "    # if i want to change in the class level variable then i nedd to doing through class method\n",
    "    @classmethod\n",
    "    def change_raise(cls,amount):\n",
    "        cls.raise_amount = amount\n",
    "\n",
    "    \n",
    "    "
   ]
  },
  {
   "cell_type": "code",
   "execution_count": 2,
   "id": "17045bb4",
   "metadata": {},
   "outputs": [],
   "source": [
    "em1 = employee('Mohit','prajapati',20_000)\n",
    "em2 = employee('avi','prajapati',30_000)\n",
    "em3 = employee('champak','ghada',15_000)\n"
   ]
  },
  {
   "cell_type": "code",
   "execution_count": 8,
   "id": "d23407c0",
   "metadata": {},
   "outputs": [
    {
     "name": "stdout",
     "output_type": "stream",
     "text": [
      "before increment 20000\n"
     ]
    },
    {
     "data": {
      "text/plain": [
       "21000.0"
      ]
     },
     "execution_count": 8,
     "metadata": {},
     "output_type": "execute_result"
    }
   ],
   "source": [
    "em1.updated_salary()"
   ]
  },
  {
   "cell_type": "code",
   "execution_count": 10,
   "id": "9bfd4e49",
   "metadata": {},
   "outputs": [],
   "source": [
    "# change rais amount\n",
    "employee.change_raise(1.8)"
   ]
  },
  {
   "cell_type": "code",
   "execution_count": 11,
   "id": "fea444d6",
   "metadata": {},
   "outputs": [
    {
     "data": {
      "text/plain": [
       "1.8"
      ]
     },
     "execution_count": 11,
     "metadata": {},
     "output_type": "execute_result"
    }
   ],
   "source": [
    "em1.raise_amount"
   ]
  },
  {
   "cell_type": "code",
   "execution_count": 12,
   "id": "0674fda3",
   "metadata": {},
   "outputs": [
    {
     "data": {
      "text/plain": [
       "1.8"
      ]
     },
     "execution_count": 12,
     "metadata": {},
     "output_type": "execute_result"
    }
   ],
   "source": [
    "em2.raise_amount"
   ]
  },
  {
   "cell_type": "code",
   "execution_count": 13,
   "id": "0948e47f",
   "metadata": {},
   "outputs": [
    {
     "data": {
      "text/plain": [
       "1.8"
      ]
     },
     "execution_count": 13,
     "metadata": {},
     "output_type": "execute_result"
    }
   ],
   "source": [
    "em3.raise_amount"
   ]
  },
  {
   "cell_type": "code",
   "execution_count": 15,
   "id": "fcfa95b1",
   "metadata": {},
   "outputs": [
    {
     "name": "stdout",
     "output_type": "stream",
     "text": [
      "before increment 21000.0\n"
     ]
    },
    {
     "data": {
      "text/plain": [
       "37800.0"
      ]
     },
     "execution_count": 15,
     "metadata": {},
     "output_type": "execute_result"
    }
   ],
   "source": [
    "# after change the rais amount \n",
    "# what is the salary of aviansh and mohit\n",
    "em1.updated_salary()"
   ]
  },
  {
   "cell_type": "code",
   "execution_count": 17,
   "id": "70ceb90b",
   "metadata": {},
   "outputs": [
    {
     "name": "stdout",
     "output_type": "stream",
     "text": [
      "before increment 30000\n"
     ]
    },
    {
     "data": {
      "text/plain": [
       "54000.0"
      ]
     },
     "execution_count": 17,
     "metadata": {},
     "output_type": "execute_result"
    }
   ],
   "source": [
    "em2.updated_salary()"
   ]
  },
  {
   "cell_type": "code",
   "execution_count": 14,
   "id": "ef5684c6",
   "metadata": {},
   "outputs": [
    {
     "name": "stdout",
     "output_type": "stream",
     "text": [
      "primary school\n",
      "primary school\n",
      "\n",
      "goverment school\n",
      "student name is Devarsh and age is 22\n"
     ]
    }
   ],
   "source": [
    "class Student:\n",
    "    school_name = \"primary school\"\n",
    "    \n",
    "    def __init__(self,name,age):\n",
    "        self.name = name\n",
    "        self.d = age\n",
    "    def display(self):\n",
    "        print(f\"student name is {self.name} and age is {self.d}\")\n",
    "        \n",
    "    @classmethod\n",
    "    def change_school_name(cls,name):\n",
    "        print(cls.school_name)\n",
    "        cls.school_name = name\n",
    "        print()\n",
    "school1 = Student(\"Devarsh\",22)\n",
    "print(Student.school_name)\n",
    "Student.change_school_name(\"goverment school\")\n",
    "print(Student.school_name)\n",
    "# Student.display()\n",
    "school1.display()\n"
   ]
  },
  {
   "cell_type": "markdown",
   "id": "df73b7f6",
   "metadata": {},
   "source": [
    "## static Method"
   ]
  },
  {
   "cell_type": "code",
   "execution_count": 17,
   "id": "359f0355",
   "metadata": {},
   "outputs": [
    {
     "name": "stdout",
     "output_type": "stream",
     "text": [
      "This is static Method,the value of x is 20\n",
      "This is static Method,the value of x is 30\n"
     ]
    }
   ],
   "source": [
    "class Employee:\n",
    "    @staticmethod\n",
    "    def sample(x):\n",
    "        print(\"This is static Method,the value of x is\",x)\n",
    "Employee.sample(20)\n",
    "# create a object\n",
    "emp = Employee()\n",
    "emp.sample(30)"
   ]
  }
 ],
 "metadata": {
  "kernelspec": {
   "display_name": "base",
   "language": "python",
   "name": "python3"
  },
  "language_info": {
   "codemirror_mode": {
    "name": "ipython",
    "version": 3
   },
   "file_extension": ".py",
   "mimetype": "text/x-python",
   "name": "python",
   "nbconvert_exporter": "python",
   "pygments_lexer": "ipython3",
   "version": "3.11.5"
  }
 },
 "nbformat": 4,
 "nbformat_minor": 5
}
