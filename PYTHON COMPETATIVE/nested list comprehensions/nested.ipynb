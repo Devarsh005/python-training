{
 "cells": [
  {
   "cell_type": "markdown",
   "id": "cc05a6e7",
   "metadata": {},
   "source": [
    "### 1. Flatten [[1, 2], [3, 4], [5, 6]] using list comprehension"
   ]
  },
  {
   "cell_type": "code",
   "execution_count": 12,
   "id": "ce6fb121",
   "metadata": {},
   "outputs": [
    {
     "data": {
      "text/plain": [
       "[1, 2, 3, 4, 5, 6]"
      ]
     },
     "execution_count": 12,
     "metadata": {},
     "output_type": "execute_result"
    }
   ],
   "source": [
    "list_2d = [[1, 2], [3, 4], [5, 6]]\n",
    "flatten_list = [item for sublist in list_2d for item in sublist]\n",
    "flatten_list"
   ]
  },
  {
   "cell_type": "markdown",
   "id": "72c84b23",
   "metadata": {},
   "source": [
    "### 2.\tTranspose a matrix [[1, 2, 3], [4, 5, 6]] using list comprehension."
   ]
  },
  {
   "cell_type": "code",
   "execution_count": null,
   "id": "9faefa47",
   "metadata": {},
   "outputs": [
    {
     "name": "stdout",
     "output_type": "stream",
     "text": [
      "0 1\n",
      "1 2\n",
      "2 3\n",
      "0 4\n",
      "1 5\n",
      "2 6\n"
     ]
    }
   ],
   "source": [
    "origional_list = [[1, 2, 3], [4, 5, 6]]\n",
    "transpose_list = list()\n",
    "for item in origional_list:\n",
    "    for j,numbre in enumerate(item):\n",
    "        print(j,numbre)\n",
    "    "
   ]
  },
  {
   "cell_type": "code",
   "execution_count": null,
   "id": "4789c944",
   "metadata": {},
   "outputs": [],
   "source": []
  }
 ],
 "metadata": {
  "kernelspec": {
   "display_name": "base",
   "language": "python",
   "name": "python3"
  },
  "language_info": {
   "codemirror_mode": {
    "name": "ipython",
    "version": 3
   },
   "file_extension": ".py",
   "mimetype": "text/x-python",
   "name": "python",
   "nbconvert_exporter": "python",
   "pygments_lexer": "ipython3",
   "version": "3.11.5"
  }
 },
 "nbformat": 4,
 "nbformat_minor": 5
}
