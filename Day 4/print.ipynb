{
 "cells": [
  {
   "cell_type": "code",
   "execution_count": 2,
   "id": "924e44e6",
   "metadata": {},
   "outputs": [
    {
     "name": "stdout",
     "output_type": "stream",
     "text": [
      "Printing in a Nutshell*\n",
      " Calling Print\n",
      " * Separating Multiple Arguments\n",
      " * Preventing Line Breaks\n"
     ]
    }
   ],
   "source": [
    "print('Printing in a Nutshell', end='*\\n ')\n",
    "print('Calling Print', end='\\n * ')\n",
    "print('Separating Multiple Arguments', end='\\n * ')\n",
    "print('Preventing Line Breaks')"
   ]
  },
  {
   "cell_type": "markdown",
   "id": "efb670b8",
   "metadata": {},
   "source": [
    "four methods\n",
    "all firts three method remove whitespaces and new line\n",
    "strip - from both end and start\n",
    "lstrip - from begining only\n",
    "rstrip - from end only\n",
    "replace - it's different from above three\n"
   ]
  },
  {
   "cell_type": "code",
   "execution_count": 7,
   "id": "f8dc3b7c",
   "metadata": {},
   "outputs": [
    {
     "name": "stdout",
     "output_type": "stream",
     "text": [
      "Hello, W\n",
      "orld!\n"
     ]
    }
   ],
   "source": [
    "text = \"\\n\\n  Hello, W\\norld!  \\n\\n\"\n",
    "clean_text = text.strip()\n",
    "print(clean_text)  # Output: \"Hello, World!\""
   ]
  },
  {
   "cell_type": "code",
   "execution_count": null,
   "id": "1cb76c36",
   "metadata": {},
   "outputs": [
    {
     "name": "stdout",
     "output_type": "stream",
     "text": [
      "Hello\n",
      "World\n",
      "\n"
     ]
    }
   ],
   "source": [
    "text = \"Hel lo\\n World\\n\"\n",
    "clean_text = text.replace(\" \", \"\")\n",
    "print(clean_text)  # Output: \"HelloWorld\""
   ]
  },
  {
   "cell_type": "code",
   "execution_count": 4,
   "id": "060c585b",
   "metadata": {},
   "outputs": [],
   "source": [
    "with open('file.txt', mode='w') as file_object:\n",
    "    print('hello world', file=file_object)"
   ]
  },
  {
   "cell_type": "code",
   "execution_count": 2,
   "id": "a32848b0",
   "metadata": {},
   "outputs": [],
   "source": [
    "with open('file.dat', 'wb') as file_object:\n",
    "    file_object.write(bytes(4))\n",
    "    file_object.write(b'\\xff')\n",
    "    "
   ]
  },
  {
   "cell_type": "code",
   "execution_count": 5,
   "id": "a001989a",
   "metadata": {},
   "outputs": [],
   "source": [
    "with open('file.txt', mode='a', encoding='iso-8859-1') as file_object:\n",
    "    print('über naïve café', file=file_object)"
   ]
  },
  {
   "cell_type": "code",
   "execution_count": 7,
   "id": "512682a3",
   "metadata": {},
   "outputs": [],
   "source": [
    "with open('file.txt', mode='a', encoding='utf-8') as file_object:\n",
    "    print('über naïve café', file=file_object)"
   ]
  },
  {
   "cell_type": "code",
   "execution_count": null,
   "id": "6128a6ef",
   "metadata": {},
   "outputs": [],
   "source": []
  },
  {
   "cell_type": "code",
   "execution_count": 30,
   "id": "6fc41dac",
   "metadata": {},
   "outputs": [
    {
     "name": "stdout",
     "output_type": "stream",
     "text": [
      "person(name='Devarsh', carname='gwagon', age=22)\n",
      "<class '__main__.person'>\n",
      "this is the custom data type example \n"
     ]
    }
   ],
   "source": [
    "from collections import namedtuple\n",
    "person = namedtuple('person','name carname age')\n",
    "mohit = person(\"Devarsh\",\"gwagon\",22)\n",
    "print(mohit)\n",
    "print(type(mohit))\n",
    "print(\"this is the custom data type example \\\n",
    "\")\n"
   ]
  },
  {
   "cell_type": "code",
   "execution_count": 14,
   "id": "96665a7c",
   "metadata": {},
   "outputs": [
    {
     "name": "stdout",
     "output_type": "stream",
     "text": [
      "Person(name='John Doe', age=42)\n"
     ]
    },
    {
     "data": {
      "text/plain": [
       "Person(name='John Doe', age=42)"
      ]
     },
     "execution_count": 14,
     "metadata": {},
     "output_type": "execute_result"
    }
   ],
   "source": [
    "from collections import namedtuple\n",
    "Person = namedtuple('Person', 'name age')\n",
    "doe = Person('John Doe', 42)\n",
    "print(jdoe)\n",
    "Person(name='John Doe', age=42)"
   ]
  },
  {
   "cell_type": "code",
   "execution_count": 35,
   "id": "50ce0d88",
   "metadata": {},
   "outputs": [
    {
     "data": {
      "text/plain": [
       "\"person(name='Devarsh', carname='gwagon', age=22)\""
      ]
     },
     "execution_count": 35,
     "metadata": {},
     "output_type": "execute_result"
    }
   ],
   "source": [
    "repr(mohit)"
   ]
  },
  {
   "cell_type": "code",
   "execution_count": 32,
   "id": "41a50341",
   "metadata": {},
   "outputs": [
    {
     "data": {
      "text/plain": [
       "\"person(name='Devarsh', carname='gwagon', age=22)\""
      ]
     },
     "execution_count": 32,
     "metadata": {},
     "output_type": "execute_result"
    }
   ],
   "source": [
    "str(mohit)"
   ]
  },
  {
   "cell_type": "code",
   "execution_count": 44,
   "id": "a061eb04",
   "metadata": {},
   "outputs": [
    {
     "data": {
      "text/plain": [
       "<function print(*args, sep=' ', end='\\n', file=None, flush=False)>"
      ]
     },
     "execution_count": 44,
     "metadata": {},
     "output_type": "execute_result"
    }
   ],
   "source": [
    "print"
   ]
  },
  {
   "cell_type": "code",
   "execution_count": null,
   "id": "a4b42d54",
   "metadata": {},
   "outputs": [
    {
     "data": {
      "text/plain": [
       "<function print(*args, sep=' ', end='\\n', file=None, flush=False)>"
      ]
     },
     "execution_count": 39,
     "metadata": {},
     "output_type": "execute_result"
    }
   ],
   "source": []
  },
  {
   "cell_type": "code",
   "execution_count": 46,
   "id": "52492ce8",
   "metadata": {},
   "outputs": [
    {
     "name": "stdout",
     "output_type": "stream",
     "text": [
      " zindagi\n"
     ]
    }
   ],
   "source": [
    "# carriage return\n",
    "print(\"hello \\r zindagi\")"
   ]
  },
  {
   "cell_type": "code",
   "execution_count": 47,
   "id": "7e1c4b8d",
   "metadata": {},
   "outputs": [
    {
     "name": "stdout",
     "output_type": "stream",
     "text": [
      "hellzindagi\n"
     ]
    }
   ],
   "source": [
    "print(\"hello\\bzindagi\")"
   ]
  },
  {
   "cell_type": "code",
   "execution_count": null,
   "id": "db941781",
   "metadata": {},
   "outputs": [],
   "source": []
  }
 ],
 "metadata": {
  "kernelspec": {
   "display_name": "base",
   "language": "python",
   "name": "python3"
  },
  "language_info": {
   "codemirror_mode": {
    "name": "ipython",
    "version": 3
   },
   "file_extension": ".py",
   "mimetype": "text/x-python",
   "name": "python",
   "nbconvert_exporter": "python",
   "pygments_lexer": "ipython3",
   "version": "3.11.5"
  }
 },
 "nbformat": 4,
 "nbformat_minor": 5
}
