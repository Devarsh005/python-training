{
 "cells": [
  {
   "cell_type": "code",
   "execution_count": 2,
   "id": "57b280d3",
   "metadata": {},
   "outputs": [
    {
     "name": "stdout",
     "output_type": "stream",
     "text": [
      "ChainMap({'b': 98, 'c': 99}, {'a': 65, 'b': 66})\n"
     ]
    }
   ],
   "source": [
    "import collections\n",
    "\n",
    "dict1 = {\"a\":65 , 'b':66}\n",
    "dict2 = {'b':98 , 'c':99}\n",
    "# create a chain using ChainMap\n",
    "chain = collections.ChainMap(dict2,dict1)\n",
    "\n",
    "# display chainmap how it's look\n",
    "print(chain)\n",
    "\n",
    "\n",
    "\n",
    "\n"
   ]
  },
  {
   "cell_type": "code",
   "execution_count": 5,
   "id": "30c5fb05",
   "metadata": {},
   "outputs": [
    {
     "name": "stdout",
     "output_type": "stream",
     "text": [
      "<class 'collections.ChainMap'>\n",
      "['a', 'b', 'c']\n",
      "[{'b': 98, 'c': 99}, {'a': 65, 'b': 66}]\n"
     ]
    }
   ],
   "source": [
    "# check the type of chain\n",
    "print(type(chain))\n",
    "\n",
    "# print(list(chain.keys()))\n",
    "print(list(chain.keys()))\n",
    "# print(list(chain.values()))\n",
    "print(chain.maps)"
   ]
  },
  {
   "cell_type": "code",
   "execution_count": 6,
   "id": "381a505e",
   "metadata": {},
   "outputs": [
    {
     "data": {
      "text/plain": [
       "ChainMap({'b': 98, 'c': 99}, {'a': 65, 'b': 66})"
      ]
     },
     "execution_count": 6,
     "metadata": {},
     "output_type": "execute_result"
    }
   ],
   "source": [
    "chain"
   ]
  },
  {
   "cell_type": "code",
   "execution_count": 7,
   "id": "7857065e",
   "metadata": {},
   "outputs": [
    {
     "name": "stdout",
     "output_type": "stream",
     "text": [
      "a\n",
      "b\n",
      "c\n"
     ]
    }
   ],
   "source": [
    "for key in chain:\n",
    "    print(key)"
   ]
  },
  {
   "cell_type": "code",
   "execution_count": 9,
   "id": "c23a10a8",
   "metadata": {},
   "outputs": [
    {
     "name": "stdout",
     "output_type": "stream",
     "text": [
      "65\n",
      "98\n",
      "99\n"
     ]
    }
   ],
   "source": [
    "for value in chain.values():\n",
    "    print(value)"
   ]
  },
  {
   "cell_type": "code",
   "execution_count": 11,
   "id": "8c5b6245",
   "metadata": {},
   "outputs": [
    {
     "name": "stdout",
     "output_type": "stream",
     "text": [
      " a : 65 \n",
      " b : 98 \n",
      " c : 99 \n"
     ]
    }
   ],
   "source": [
    "for key,value in chain.items():\n",
    "    print(f\" {key} : {value} \")"
   ]
  },
  {
   "cell_type": "code",
   "execution_count": 18,
   "id": "05ae904a",
   "metadata": {},
   "outputs": [],
   "source": [
    "a = {'123': {'player': 1,\n",
    "             'opponent': 2},\n",
    "     '18': {'player': 10,\n",
    "            'opponent': 12}\n",
    "    }\n",
    "\n",
    "\n",
    "b = {'123': {'winner': 1},\n",
    "     '180': {'winner': 2}\n",
    "    }\n",
    "\n",
    "merged_dictionary = collections.ChainMap(a,b)"
   ]
  },
  {
   "cell_type": "code",
   "execution_count": 24,
   "id": "bb2f454f",
   "metadata": {},
   "outputs": [
    {
     "data": {
      "text/plain": [
       "{'123': {'player': 1, 'opponent': 2},\n",
       " '180': {'winner': 2},\n",
       " '18': {'player': 10, 'opponent': 12}}"
      ]
     },
     "execution_count": 24,
     "metadata": {},
     "output_type": "execute_result"
    }
   ],
   "source": [
    "dict(merged_dictionary)"
   ]
  },
  {
   "cell_type": "code",
   "execution_count": 27,
   "id": "14ceca59",
   "metadata": {},
   "outputs": [
    {
     "name": "stdout",
     "output_type": "stream",
     "text": [
      "{'18': {'player': 10, 'opponent': 12}, '180': {'winner': 2}, '123': {'player': 1, 'opponent': 2}}\n"
     ]
    }
   ],
   "source": [
    "# can ChainMap combine two or more dictionaries\n",
    "dictionary1 ={'123': {'player': 1,\n",
    "             'opponent': 2},}\n",
    "dictionary2 = {'18': {'player': 10,\n",
    "            'opponent': 12}}\n",
    "dictionary3 = {'180': {'winner': 2}}\n",
    "dictionary4 = {'18': {'winner': 2}}\n",
    "\n",
    "combined_dictionary = collections.ChainMap(dictionary1,dictionary2,dictionary3,dictionary4)\n",
    "\n",
    "print(dict(combined_dictionary))"
   ]
  },
  {
   "cell_type": "code",
   "execution_count": 28,
   "id": "d87a4083",
   "metadata": {},
   "outputs": [
    {
     "data": {
      "text/plain": [
       "66"
      ]
     },
     "execution_count": 28,
     "metadata": {},
     "output_type": "execute_result"
    }
   ],
   "source": [
    "dict1 = {\"a\":65 , 'b':66}\n",
    "dict2 = {'b':98 , 'c':99}\n",
    "\n",
    "# heres b is common and b value is depent on order \n",
    "\n",
    "chain = collections.ChainMap(dict1,dict2)\n",
    "chain['b']"
   ]
  },
  {
   "cell_type": "code",
   "execution_count": 29,
   "id": "42447beb",
   "metadata": {},
   "outputs": [
    {
     "data": {
      "text/plain": [
       "98"
      ]
     },
     "execution_count": 29,
     "metadata": {},
     "output_type": "execute_result"
    }
   ],
   "source": [
    "chain = collections.ChainMap(dict2,dict1)\n",
    "chain['b']"
   ]
  },
  {
   "cell_type": "markdown",
   "id": "f28a2b33",
   "metadata": {},
   "source": [
    "### new_child"
   ]
  },
  {
   "cell_type": "code",
   "execution_count": 41,
   "id": "996f14ae",
   "metadata": {},
   "outputs": [],
   "source": [
    "chain = chain.new_child({'b':20,'a':9})\n"
   ]
  },
  {
   "cell_type": "code",
   "execution_count": 42,
   "id": "e992a168",
   "metadata": {},
   "outputs": [
    {
     "name": "stdout",
     "output_type": "stream",
     "text": [
      "[{'b': 20, 'a': 9}, {'b': 20}, {'b': 98, 'c': 99}, {'a': 65, 'b': 66}]\n"
     ]
    }
   ],
   "source": [
    "print((chain.maps))"
   ]
  },
  {
   "cell_type": "markdown",
   "id": "7191af44",
   "metadata": {},
   "source": [
    "### start again"
   ]
  },
  {
   "cell_type": "code",
   "execution_count": 1,
   "id": "0bea1f7b",
   "metadata": {},
   "outputs": [
    {
     "name": "stdout",
     "output_type": "stream",
     "text": [
      "[{'b': 3, 'c': 4}, {'a': 1, 'b': 2}]\n"
     ]
    }
   ],
   "source": [
    "import collections\n",
    "dict1 = { 'a' : 1, 'b' : 2 } \n",
    "dict2 = { 'b' : 3, 'c' : 4 } \n",
    "\n",
    "chain = collections.ChainMap(dict2,dict1)\n",
    "\n",
    "print(chain.maps)"
   ]
  },
  {
   "cell_type": "code",
   "execution_count": 5,
   "id": "a6f076dc",
   "metadata": {},
   "outputs": [
    {
     "name": "stdout",
     "output_type": "stream",
     "text": [
      "['a', 'b', 'c']\n"
     ]
    }
   ],
   "source": [
    "# keys\n",
    "print(list(chain.keys()))"
   ]
  },
  {
   "cell_type": "code",
   "execution_count": 6,
   "id": "3905fa48",
   "metadata": {},
   "outputs": [
    {
     "name": "stdout",
     "output_type": "stream",
     "text": [
      "[1, 3, 4]\n"
     ]
    }
   ],
   "source": [
    "# values\n",
    "print(list(chain.values()))"
   ]
  },
  {
   "cell_type": "code",
   "execution_count": 7,
   "id": "e5ddd145",
   "metadata": {},
   "outputs": [
    {
     "name": "stdout",
     "output_type": "stream",
     "text": [
      "{'a': 1, 'b': 3, 'c': 4}\n"
     ]
    }
   ],
   "source": [
    "# items\n",
    "print(dict(chain.items()))"
   ]
  },
  {
   "cell_type": "code",
   "execution_count": 9,
   "id": "38a6f823",
   "metadata": {},
   "outputs": [
    {
     "name": "stdout",
     "output_type": "stream",
     "text": [
      "1\n",
      "4\n",
      "3\n"
     ]
    }
   ],
   "source": [
    "print(chain['a'])\n",
    "print(chain['c'])\n",
    "print(chain['b'])"
   ]
  },
  {
   "cell_type": "code",
   "execution_count": 12,
   "id": "2c38dbe3",
   "metadata": {},
   "outputs": [
    {
     "name": "stdout",
     "output_type": "stream",
     "text": [
      "ChainMap({'b': 3, 'c': 4}, {'a': 1, 'b': 2})\n"
     ]
    }
   ],
   "source": [
    "c = chain\n",
    "print(c)"
   ]
  },
  {
   "cell_type": "code",
   "execution_count": 13,
   "id": "b91c661a",
   "metadata": {},
   "outputs": [
    {
     "name": "stdout",
     "output_type": "stream",
     "text": [
      "{'a': 1, 'b': 3, 'c': 4}\n"
     ]
    }
   ],
   "source": [
    "print(dict(c))"
   ]
  },
  {
   "cell_type": "code",
   "execution_count": 14,
   "id": "4a591188",
   "metadata": {},
   "outputs": [
    {
     "name": "stdout",
     "output_type": "stream",
     "text": [
      "{'a': 1, 'b': 3, 'c': 4, 'd': 4, 'e': 5, 'f': 6}\n"
     ]
    }
   ],
   "source": [
    "d = c.new_child({'d':4,'e':5,'f':6})\n",
    "print(dict(d))"
   ]
  },
  {
   "cell_type": "code",
   "execution_count": 5,
   "id": "95a698e8",
   "metadata": {},
   "outputs": [],
   "source": [
    "e = d.new_child({'h':2,'i':10})\n"
   ]
  },
  {
   "cell_type": "code",
   "execution_count": 6,
   "id": "6f536532",
   "metadata": {},
   "outputs": [
    {
     "name": "stdout",
     "output_type": "stream",
     "text": [
      "{'a': 1, 'b': 3, 'c': 4, 'd': 4, 'e': 5, 'f': 6, 'h': 2, 'i': 10}\n"
     ]
    }
   ],
   "source": [
    "print(dict(e))"
   ]
  },
  {
   "cell_type": "code",
   "execution_count": 7,
   "id": "79bd6b93",
   "metadata": {},
   "outputs": [
    {
     "data": {
      "text/plain": [
       "ChainMap({'d': 4, 'e': 5, 'f': 6}, {'a': 1, 'b': 3, 'c': 4})"
      ]
     },
     "execution_count": 7,
     "metadata": {},
     "output_type": "execute_result"
    }
   ],
   "source": [
    "e.parents"
   ]
  },
  {
   "cell_type": "code",
   "execution_count": 8,
   "id": "23dae52e",
   "metadata": {},
   "outputs": [
    {
     "name": "stdout",
     "output_type": "stream",
     "text": [
      "['a', 'b', 'c', 'd', 'e', 'f', 'h', 'i']\n"
     ]
    }
   ],
   "source": [
    "print(list(e))"
   ]
  },
  {
   "cell_type": "code",
   "execution_count": null,
   "id": "8268c613",
   "metadata": {},
   "outputs": [],
   "source": []
  }
 ],
 "metadata": {
  "kernelspec": {
   "display_name": "base",
   "language": "python",
   "name": "python3"
  },
  "language_info": {
   "codemirror_mode": {
    "name": "ipython",
    "version": 3
   },
   "file_extension": ".py",
   "mimetype": "text/x-python",
   "name": "python",
   "nbconvert_exporter": "python",
   "pygments_lexer": "ipython3",
   "version": "3.11.5"
  }
 },
 "nbformat": 4,
 "nbformat_minor": 5
}
