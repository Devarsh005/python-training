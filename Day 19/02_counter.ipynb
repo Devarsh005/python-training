{
 "cells": [
  {
   "cell_type": "markdown",
   "id": "2e0e8752",
   "metadata": {},
   "source": [
    "- a counter is dict subclass for counting hashable objects.\n",
    "- it is a collection where elements are stored"
   ]
  },
  {
   "cell_type": "code",
   "execution_count": 2,
   "id": "b185d4be",
   "metadata": {},
   "outputs": [],
   "source": [
    "from collections import Counter"
   ]
  },
  {
   "cell_type": "code",
   "execution_count": 12,
   "id": "10c2d870",
   "metadata": {},
   "outputs": [
    {
     "data": {
      "text/plain": [
       "Counter()"
      ]
     },
     "execution_count": 12,
     "metadata": {},
     "output_type": "execute_result"
    }
   ],
   "source": [
    "c = Counter() \n",
    "c"
   ]
  },
  {
   "cell_type": "code",
   "execution_count": 17,
   "id": "9db2a37c",
   "metadata": {},
   "outputs": [
    {
     "data": {
      "text/plain": [
       "Counter({'a': 2,\n",
       "         's': 2,\n",
       "         'n': 2,\n",
       "         'p': 1,\n",
       "         ' ': 1,\n",
       "         'y': 1,\n",
       "         't': 1,\n",
       "         'h': 1,\n",
       "         'i': 1,\n",
       "         'g': 1})"
      ]
     },
     "execution_count": 17,
     "metadata": {},
     "output_type": "execute_result"
    }
   ],
   "source": [
    "c =  Counter('pass anything')\n",
    "c"
   ]
  },
  {
   "cell_type": "code",
   "execution_count": 18,
   "id": "6dd8f315",
   "metadata": {},
   "outputs": [
    {
     "data": {
      "text/plain": [
       "Counter({'blue': 5, 'red': 4})"
      ]
     },
     "execution_count": 18,
     "metadata": {},
     "output_type": "execute_result"
    }
   ],
   "source": [
    "c = Counter({'red':4 , 'blue':5})\n",
    "c"
   ]
  },
  {
   "cell_type": "code",
   "execution_count": 20,
   "id": "bb3df48c",
   "metadata": {},
   "outputs": [
    {
     "name": "stdout",
     "output_type": "stream",
     "text": [
      "Counter({'cats': 20, 'dogs': 10})\n",
      "20\n"
     ]
    }
   ],
   "source": [
    "c = Counter(cats = 20 , dogs = 10)\n",
    "print(c)\n",
    "print(c['cats'])"
   ]
  },
  {
   "cell_type": "code",
   "execution_count": 22,
   "id": "1b22ae2a",
   "metadata": {},
   "outputs": [
    {
     "name": "stdout",
     "output_type": "stream",
     "text": [
      "0\n",
      "1\n",
      "2\n"
     ]
    }
   ],
   "source": [
    "c = Counter(['eggs','ham','eggs'])\n",
    "print(c['egg'])\n",
    "print(c['ham'])\n",
    "print(c['eggs'])"
   ]
  },
  {
   "cell_type": "code",
   "execution_count": 32,
   "id": "fada8221",
   "metadata": {},
   "outputs": [
    {
     "name": "stdout",
     "output_type": "stream",
     "text": [
      "Counter({'blue': 3, 'red': 2, 'green': 1})\n",
      "Counter({'blue': 3, 'red': 2, 'green': 1})\n",
      "[('blue', 3)]\n",
      "[('blue', 3), ('red', 2)]\n"
     ]
    }
   ],
   "source": [
    "cn = Counter()\n",
    "\n",
    "list_of_colors = ['red', 'blue', 'red', 'green', 'blue', 'blue']\n",
    "\n",
    "for word in list_of_colors:\n",
    "    cn[word]+= 1\n",
    "print(cn)\n",
    "print(Counter(list_of_colors))\n",
    "\n",
    "# most common color in the list\n",
    "print(cn.most_common(1))\n",
    "print(cn.most_common(2))"
   ]
  },
  {
   "cell_type": "code",
   "execution_count": 36,
   "id": "bdf593ba",
   "metadata": {},
   "outputs": [
    {
     "name": "stdout",
     "output_type": "stream",
     "text": [
      "Counter({10: 3, 20: 2, 30: 2, 5: 2, 7: 2, 50: 1, 4: 1, 3: 1, 2: 1, 6: 1})\n",
      "[10, 10, 10, 20, 20, 30, 30, 50, 5, 5, 4, 3, 2, 6, 7, 7]\n"
     ]
    }
   ],
   "source": [
    "numbers = [10,20,30,10,50,5,4,3,2,10,30,20,5,6,7,7]\n",
    "c = Counter(numbers)\n",
    "print(c)\n",
    "print(list(c.elements()))"
   ]
  },
  {
   "cell_type": "code",
   "execution_count": 38,
   "id": "61efdff6",
   "metadata": {},
   "outputs": [
    {
     "name": "stdout",
     "output_type": "stream",
     "text": [
      "[(10, 3)]\n"
     ]
    }
   ],
   "source": [
    "# most common element\n",
    "print(c.most_common(1))"
   ]
  },
  {
   "cell_type": "code",
   "execution_count": 40,
   "id": "d0f8dc15",
   "metadata": {},
   "outputs": [
    {
     "data": {
      "text/plain": [
       "Counter({'a': 3, 'b': 0, 'c': -3, 'e': -5, 'd': -6})"
      ]
     },
     "execution_count": 40,
     "metadata": {},
     "output_type": "execute_result"
    }
   ],
   "source": [
    "c = Counter(a=4, b=2, c=0, d=-2)\n",
    "d = Counter(a=1, b=2, c=3, d=4, e=5)\n",
    "c.subtract(d)\n",
    "c"
   ]
  },
  {
   "cell_type": "code",
   "execution_count": 3,
   "id": "add393f1",
   "metadata": {},
   "outputs": [
    {
     "data": {
      "text/plain": [
       "{'devarsh': 22, 'mohit': 22, 'bhopo': 22}"
      ]
     },
     "execution_count": 3,
     "metadata": {},
     "output_type": "execute_result"
    }
   ],
   "source": [
    "# create a new ductionary using fromkeys\n",
    "\n",
    "key =['devarsh','mohit','bhopo']\n",
    "value = 22\n",
    "\n",
    "d = dict.fromkeys(key,value)\n",
    "d"
   ]
  },
  {
   "cell_type": "code",
   "execution_count": 6,
   "id": "9bbacfb0",
   "metadata": {},
   "outputs": [
    {
     "data": {
      "text/plain": [
       "Counter({'devarsh': 22, 'mohit': 22, 'bhopo': 22})"
      ]
     },
     "execution_count": 6,
     "metadata": {},
     "output_type": "execute_result"
    }
   ],
   "source": [
    "f = Counter(d)\n",
    "f"
   ]
  },
  {
   "cell_type": "code",
   "execution_count": 7,
   "id": "6e025ad9",
   "metadata": {},
   "outputs": [],
   "source": [
    "normal_dictionary = {'dog':30,'cat':'red','buffelow':'black','hiipo':'not pet','dog':'black','hiipo':20}\n"
   ]
  },
  {
   "cell_type": "code",
   "execution_count": 8,
   "id": "ad819fad",
   "metadata": {},
   "outputs": [],
   "source": [
    "x = Counter(normal_dictionary)"
   ]
  },
  {
   "cell_type": "code",
   "execution_count": 9,
   "id": "b6d2a762",
   "metadata": {},
   "outputs": [
    {
     "data": {
      "text/plain": [
       "'black'"
      ]
     },
     "execution_count": 9,
     "metadata": {},
     "output_type": "execute_result"
    }
   ],
   "source": [
    "x['buffelow']"
   ]
  },
  {
   "cell_type": "code",
   "execution_count": 11,
   "id": "35b34c25",
   "metadata": {},
   "outputs": [
    {
     "name": "stdout",
     "output_type": "stream",
     "text": [
      "Counter({3: 3, 1: 2, 4: 2, 2: 1})\n",
      "dict_keys([1, 2, 3, 4])\n"
     ]
    }
   ],
   "source": [
    "multiset = Counter([1, 1, 2, 3, 3, 3, 4, 4])\n",
    "print(multiset)\n",
    "# print the hashable key\n",
    "print(multiset.keys())"
   ]
  },
  {
   "cell_type": "code",
   "execution_count": 31,
   "id": "2565a2ac",
   "metadata": {},
   "outputs": [
    {
     "name": "stdout",
     "output_type": "stream",
     "text": [
      "course    : $ 97.99 × 1 = $  97.99\n",
      "book      : $ 54.99 × 3 = $ 164.97\n",
      "wallpaper : $  4.99 × 2 = $   9.98\n"
     ]
    }
   ],
   "source": [
    "# i copied this code from realpython blog\n",
    "from collections import Counter\n",
    "\n",
    "prices = {\"course\": 97.99, \"book\": 54.99, \"wallpaper\": 4.99}\n",
    "cart = Counter(course=1, book=3, wallpaper=2)\n",
    "\n",
    "for product, units in cart.items():\n",
    "    subtotal = units * prices[product]\n",
    "    price = prices[product]\n",
    "    print(f\"{product:10}: ${price:6.2f} × {units} = ${subtotal:7.2f}\")\n",
    "\n"
   ]
  },
  {
   "cell_type": "markdown",
   "id": "3ec0c65c",
   "metadata": {},
   "source": [
    "## As an exercise, you can modify the example above to calculate the total amount to pay at checkout."
   ]
  },
  {
   "cell_type": "code",
   "execution_count": 14,
   "id": "31674014",
   "metadata": {},
   "outputs": [
    {
     "name": "stdout",
     "output_type": "stream",
     "text": [
      "the total amount of the products is 272.94\n"
     ]
    }
   ],
   "source": [
    "total = 0 \n",
    "\n",
    "for product , number_of_product in cart.items():\n",
    "    total += prices[product] * number_of_product\n",
    "print(f\"the total amount of the products is {total}\")"
   ]
  },
  {
   "cell_type": "code",
   "execution_count": 35,
   "id": "e653241a",
   "metadata": {},
   "outputs": [
    {
     "name": "stdout",
     "output_type": "stream",
     "text": [
      "Counter({'book': 3, 'wallpaper': 2, 'course': 1})\n",
      "['course', 'book', 'book', 'book', 'wallpaper', 'wallpaper']\n"
     ]
    }
   ],
   "source": [
    "# what is element in collections.Counter\n",
    "# element return element \n",
    "print(cart)\n",
    "# now look cart is counter okay\n",
    "# here elements is 'book' , 'wallpaper' ...\n",
    "print(list(cart.elements()))"
   ]
  },
  {
   "cell_type": "code",
   "execution_count": null,
   "id": "97f3389e",
   "metadata": {},
   "outputs": [],
   "source": []
  }
 ],
 "metadata": {
  "kernelspec": {
   "display_name": "base",
   "language": "python",
   "name": "python3"
  },
  "language_info": {
   "codemirror_mode": {
    "name": "ipython",
    "version": 3
   },
   "file_extension": ".py",
   "mimetype": "text/x-python",
   "name": "python",
   "nbconvert_exporter": "python",
   "pygments_lexer": "ipython3",
   "version": "3.11.5"
  }
 },
 "nbformat": 4,
 "nbformat_minor": 5
}
