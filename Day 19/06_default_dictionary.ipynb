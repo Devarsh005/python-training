{
 "cells": [
  {
   "cell_type": "code",
   "execution_count": 3,
   "id": "66cc432d",
   "metadata": {},
   "outputs": [
    {
     "name": "stdout",
     "output_type": "stream",
     "text": [
      "2\n"
     ]
    },
    {
     "ename": "KeyError",
     "evalue": "'chikoo'",
     "output_type": "error",
     "traceback": [
      "\u001b[1;31m---------------------------------------------------------------------------\u001b[0m",
      "\u001b[1;31mKeyError\u001b[0m                                  Traceback (most recent call last)",
      "Cell \u001b[1;32mIn[3], line 5\u001b[0m\n\u001b[0;32m      3\u001b[0m fruits \u001b[38;5;241m=\u001b[39m {\u001b[38;5;124m\"\u001b[39m\u001b[38;5;124mapple\u001b[39m\u001b[38;5;124m\"\u001b[39m:\u001b[38;5;241m2\u001b[39m , \u001b[38;5;124m\"\u001b[39m\u001b[38;5;124mbanana\u001b[39m\u001b[38;5;124m\"\u001b[39m:\u001b[38;5;241m3\u001b[39m}\n\u001b[0;32m      4\u001b[0m \u001b[38;5;28mprint\u001b[39m(fruits[\u001b[38;5;124m\"\u001b[39m\u001b[38;5;124mapple\u001b[39m\u001b[38;5;124m\"\u001b[39m])\n\u001b[1;32m----> 5\u001b[0m \u001b[38;5;28mprint\u001b[39m(fruits[\u001b[38;5;124m'\u001b[39m\u001b[38;5;124mchikoo\u001b[39m\u001b[38;5;124m'\u001b[39m])\n",
      "\u001b[1;31mKeyError\u001b[0m: 'chikoo'"
     ]
    }
   ],
   "source": [
    "# default dictionary -->> when the key is not in dictionary then without raising an error default dictionary create a element with default value\n",
    "from collections import defaultdict\n",
    "fruits = {\"apple\":2 , \"banana\":3}\n",
    "print(fruits[\"apple\"])\n",
    "print(fruits['chikoo'])"
   ]
  },
  {
   "cell_type": "code",
   "execution_count": 18,
   "id": "a5d41ba6",
   "metadata": {},
   "outputs": [
    {
     "name": "stdout",
     "output_type": "stream",
     "text": [
      "defaultdict(<class 'int'>, {'apple': 0, 'banana': 0})\n"
     ]
    }
   ],
   "source": [
    "fruit = defaultdict(int)\n",
    "fruit['apple']\n",
    "fruit['banana']\n",
    "print(fruit)"
   ]
  },
  {
   "cell_type": "markdown",
   "id": "a89da23e",
   "metadata": {},
   "source": [
    "### ordered dictionary "
   ]
  },
  {
   "cell_type": "markdown",
   "id": "eb39a925",
   "metadata": {},
   "source": [
    "- dictionary and ordered dictionary main diffrence is dictionary is unordered where ordered dictionary is ordered"
   ]
  },
  {
   "cell_type": "code",
   "execution_count": 24,
   "id": "91686e37",
   "metadata": {},
   "outputs": [
    {
     "name": "stdout",
     "output_type": "stream",
     "text": [
      "before\n",
      "a:1\n",
      "b:2\n",
      "d:4\n",
      "c:3\n",
      "after\n",
      "a:1\n",
      "b:2\n",
      "d:2\n",
      "c:3\n"
     ]
    }
   ],
   "source": [
    "dic ={}\n",
    "dic['a'] = 1\n",
    "dic['b'] = 2\n",
    "dic['d'] = 4\n",
    "dic['c'] = 3\n",
    "print(\"before\")\n",
    "for key,value in dic.items():\n",
    "    print(f\"{key}:{value}\")\n",
    "# now chang the d value\n",
    "dic[\"d\"] =2\n",
    "print(\"after\")\n",
    "for key,value in dic.items():\n",
    "    print(f\"{key}:{value}\")"
   ]
  },
  {
   "cell_type": "code",
   "execution_count": 25,
   "id": "e08f494a",
   "metadata": {},
   "outputs": [
    {
     "name": "stdout",
     "output_type": "stream",
     "text": [
      "True\n"
     ]
    }
   ],
   "source": [
    "dic1 = {'a':2,'b':1,'d':2}\n",
    "dic2 = {'d':2,'a':2,'b':1}\n",
    "\n",
    "print(dic1 == dic2)"
   ]
  },
  {
   "cell_type": "code",
   "execution_count": 30,
   "id": "402ca04b",
   "metadata": {},
   "outputs": [
    {
     "name": "stdout",
     "output_type": "stream",
     "text": [
      "False\n"
     ]
    }
   ],
   "source": [
    "# create a ordered dictionary and chcek \n",
    "from collections import OrderedDict\n",
    "ordered_dictionary1 = OrderedDict({'a':20,'v':10,'d':30})\n",
    "ordered_dictionary2 = OrderedDict({'v':10,'d':30,'a':20})\n",
    "print(ordered_dictionary1 == ordered_dictionary2)"
   ]
  },
  {
   "cell_type": "code",
   "execution_count": null,
   "id": "ff461a87",
   "metadata": {},
   "outputs": [],
   "source": []
  }
 ],
 "metadata": {
  "kernelspec": {
   "display_name": "base",
   "language": "python",
   "name": "python3"
  },
  "language_info": {
   "codemirror_mode": {
    "name": "ipython",
    "version": 3
   },
   "file_extension": ".py",
   "mimetype": "text/x-python",
   "name": "python",
   "nbconvert_exporter": "python",
   "pygments_lexer": "ipython3",
   "version": "3.11.5"
  }
 },
 "nbformat": 4,
 "nbformat_minor": 5
}
