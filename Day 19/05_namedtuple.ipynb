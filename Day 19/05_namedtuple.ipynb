{
 "cells": [
  {
   "cell_type": "code",
   "execution_count": 8,
   "id": "54a0b9e0",
   "metadata": {},
   "outputs": [],
   "source": [
    "from collections import namedtuple\n"
   ]
  },
  {
   "cell_type": "code",
   "execution_count": 1,
   "id": "11b41cd3",
   "metadata": {},
   "outputs": [
    {
     "data": {
      "text/plain": [
       "(2, 2)"
      ]
     },
     "execution_count": 1,
     "metadata": {},
     "output_type": "execute_result"
    }
   ],
   "source": [
    "divmod(12,5)"
   ]
  },
  {
   "cell_type": "code",
   "execution_count": 33,
   "id": "6b67a86b",
   "metadata": {},
   "outputs": [],
   "source": [
    "# above divmode return tuple , can you understand that?\n",
    "# because there is not mention it\n",
    "\n",
    "# now we are create a readable using namedtuple module\n",
    "\n",
    "def custom_devmod(x,y):\n",
    "    Divmod = namedtuple(\"DIV\",\"quotiennt remainder\")\n",
    "    return Divmod(*divmod(x,y))"
   ]
  },
  {
   "cell_type": "code",
   "execution_count": 34,
   "id": "e730a7f7",
   "metadata": {},
   "outputs": [
    {
     "data": {
      "text/plain": [
       "DIV(quotiennt=2, remainder=2)"
      ]
     },
     "execution_count": 34,
     "metadata": {},
     "output_type": "execute_result"
    }
   ],
   "source": [
    "custom_devmod(12,5)\n"
   ]
  },
  {
   "cell_type": "code",
   "execution_count": 35,
   "id": "4ca3ac37",
   "metadata": {},
   "outputs": [
    {
     "data": {
      "text/plain": [
       "DIV(quotiennt=5, remainder=0)"
      ]
     },
     "execution_count": 35,
     "metadata": {},
     "output_type": "execute_result"
    }
   ],
   "source": [
    "result = custom_devmod(25,5)\n",
    "result"
   ]
  },
  {
   "cell_type": "code",
   "execution_count": 36,
   "id": "a997e29b",
   "metadata": {},
   "outputs": [
    {
     "data": {
      "text/plain": [
       "5"
      ]
     },
     "execution_count": 36,
     "metadata": {},
     "output_type": "execute_result"
    }
   ],
   "source": [
    "result.quotiennt"
   ]
  },
  {
   "cell_type": "code",
   "execution_count": 37,
   "id": "a53063b5",
   "metadata": {},
   "outputs": [
    {
     "data": {
      "text/plain": [
       "0"
      ]
     },
     "execution_count": 37,
     "metadata": {},
     "output_type": "execute_result"
    }
   ],
   "source": [
    "result.remainder"
   ]
  },
  {
   "cell_type": "code",
   "execution_count": 18,
   "id": "c8424b33",
   "metadata": {},
   "outputs": [
    {
     "data": {
      "text/plain": [
       "(2, 2)"
      ]
     },
     "execution_count": 18,
     "metadata": {},
     "output_type": "execute_result"
    }
   ],
   "source": [
    "divmod(12,5)"
   ]
  },
  {
   "cell_type": "code",
   "execution_count": 21,
   "id": "2adbc9c8",
   "metadata": {},
   "outputs": [
    {
     "name": "stdout",
     "output_type": "stream",
     "text": [
      "2 2\n"
     ]
    }
   ],
   "source": [
    "print(*divmod(12,5))"
   ]
  },
  {
   "cell_type": "code",
   "execution_count": null,
   "id": "7b9d7a08",
   "metadata": {},
   "outputs": [],
   "source": []
  },
  {
   "cell_type": "markdown",
   "id": "540d7a13",
   "metadata": {},
   "source": [
    "## create new tuple subclass using namedtuple\n"
   ]
  },
  {
   "cell_type": "code",
   "execution_count": 52,
   "id": "940ec5ee",
   "metadata": {},
   "outputs": [],
   "source": [
    "# using list of strings as a field name\n",
    "\n",
    "list_of_string = [\"first\",\"second\"]\n",
    "object = namedtuple(\"coordinates\",list_of_string)\n",
    "obj1 = object(180,270)"
   ]
  },
  {
   "cell_type": "code",
   "execution_count": 53,
   "id": "c23bdca0",
   "metadata": {},
   "outputs": [
    {
     "data": {
      "text/plain": [
       "coordinates(first=180, second=270)"
      ]
     },
     "execution_count": 53,
     "metadata": {},
     "output_type": "execute_result"
    }
   ],
   "source": [
    "obj1"
   ]
  },
  {
   "cell_type": "code",
   "execution_count": 54,
   "id": "3e1d4836",
   "metadata": {},
   "outputs": [
    {
     "data": {
      "text/plain": [
       "180"
      ]
     },
     "execution_count": 54,
     "metadata": {},
     "output_type": "execute_result"
    }
   ],
   "source": [
    "obj1.first"
   ]
  },
  {
   "cell_type": "code",
   "execution_count": 55,
   "id": "0ac67a5a",
   "metadata": {},
   "outputs": [
    {
     "data": {
      "text/plain": [
       "270"
      ]
     },
     "execution_count": 55,
     "metadata": {},
     "output_type": "execute_result"
    }
   ],
   "source": [
    "obj1.second"
   ]
  },
  {
   "cell_type": "code",
   "execution_count": 59,
   "id": "71bb83df",
   "metadata": {},
   "outputs": [
    {
     "name": "stdout",
     "output_type": "stream",
     "text": [
      "tuplename(x=20, y=400)\n",
      "20\n",
      "400\n"
     ]
    }
   ],
   "source": [
    "# use a generator expression as a field names\n",
    "obj2 = namedtuple(\"tuplename\",[fieldname for fieldname in \"xy\"])\n",
    "z = obj2(20,400)\n",
    "print(z)\n",
    "print(z.x)\n",
    "print(z.y)"
   ]
  },
  {
   "cell_type": "code",
   "execution_count": 60,
   "id": "63a3191e",
   "metadata": {},
   "outputs": [
    {
     "name": "stdout",
     "output_type": "stream",
     "text": [
      "tuplename(x=222, y=333)\n",
      "222\n"
     ]
    }
   ],
   "source": [
    "# # Use a string with comma-separated field names\n",
    "obj3 = namedtuple('tuplename',\"x,y\")\n",
    "v = obj3(222,333)\n",
    "print(v)\n",
    "print(v.x)"
   ]
  },
  {
   "cell_type": "code",
   "execution_count": 61,
   "id": "46d5479d",
   "metadata": {},
   "outputs": [
    {
     "name": "stdout",
     "output_type": "stream",
     "text": [
      "tuplename(x=47, y=93)\n",
      "47\n"
     ]
    }
   ],
   "source": [
    "# >>>  Use a string with space-separated field names\n",
    "obj4 = namedtuple(\"tuplename\",\"x y\")\n",
    "b = obj4(47,93)\n",
    "print(b)\n",
    "print(b.x)"
   ]
  },
  {
   "cell_type": "code",
   "execution_count": null,
   "id": "c63b376f",
   "metadata": {},
   "outputs": [],
   "source": []
  },
  {
   "cell_type": "code",
   "execution_count": 66,
   "id": "3d7bb2bb",
   "metadata": {},
   "outputs": [
    {
     "name": "stdout",
     "output_type": "stream",
     "text": [
      "prson(name='mohit', job='trader')\n",
      "prson(name='Avinash', job='python develo...')\n",
      "prson(name='Deva', job='python developer')\n"
     ]
    }
   ],
   "source": [
    "# create a namedtuple for person which have name and job\n",
    "\n",
    "person = namedtuple(\"prson\",\"name job\",defaults=['python developer'])\n",
    "\n",
    "p1 = person(\"mohit\",\"trader\")\n",
    "print(p1)\n",
    "p2 = person(\"Avinash\",\"python develo...\")\n",
    "print(p2)\n",
    "p3 = person(\"Deva\")\n",
    "print(p3)"
   ]
  },
  {
   "cell_type": "code",
   "execution_count": null,
   "id": "b9996260",
   "metadata": {},
   "outputs": [
    {
     "name": "stdout",
     "output_type": "stream",
     "text": [
      "prson(name='Deva', job='python developer')\n",
      "<class '__main__.prson'>\n"
     ]
    },
    {
     "data": {
      "text/plain": [
       "{'name': 'Deva', 'job': 'python developer'}"
      ]
     },
     "execution_count": 70,
     "metadata": {},
     "output_type": "execute_result"
    }
   ],
   "source": [
    "# create a dictionary from a namedtuple\n",
    "print(p3)\n",
    "print(type(p3))\n",
    "p3._asdict() # -->this is a dictionary format"
   ]
  },
  {
   "cell_type": "code",
   "execution_count": null,
   "id": "7317805f",
   "metadata": {},
   "outputs": [],
   "source": []
  }
 ],
 "metadata": {
  "kernelspec": {
   "display_name": "base",
   "language": "python",
   "name": "python3"
  },
  "language_info": {
   "codemirror_mode": {
    "name": "ipython",
    "version": 3
   },
   "file_extension": ".py",
   "mimetype": "text/x-python",
   "name": "python",
   "nbconvert_exporter": "python",
   "pygments_lexer": "ipython3",
   "version": "3.11.5"
  }
 },
 "nbformat": 4,
 "nbformat_minor": 5
}
