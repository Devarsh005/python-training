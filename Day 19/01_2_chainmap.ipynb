{
 "cells": [
  {
   "cell_type": "markdown",
   "id": "534a4926",
   "metadata": {},
   "source": [
    "### collections chainmap"
   ]
  },
  {
   "cell_type": "markdown",
   "id": "37c1eb29",
   "metadata": {},
   "source": [
    "#### chainmap is encapsulate more dictionary into one unit"
   ]
  },
  {
   "cell_type": "code",
   "execution_count": 40,
   "id": "9c4a4b72",
   "metadata": {},
   "outputs": [
    {
     "name": "stdout",
     "output_type": "stream",
     "text": [
      "ChainMap({'name': 'Devarsh', 'age': 25}, {'name': 'Mohit', 'age': 24, 'address': 'Methan'})\n"
     ]
    }
   ],
   "source": [
    "dict1 = {\"name\":\"Devarsh\",\"age\":25}\n",
    "dict2 = {\"name\":\"Mohit\", \"age\":24,\"address\":\"Methan\"}\n",
    "\n",
    "from collections import ChainMap\n",
    "chain = ChainMap(dict1,dict2)\n",
    "\n",
    "print(chain)"
   ]
  },
  {
   "cell_type": "code",
   "execution_count": 41,
   "id": "389a1972",
   "metadata": {},
   "outputs": [
    {
     "name": "stdout",
     "output_type": "stream",
     "text": [
      "[{'name': 'Devarsh', 'age': 25}, {'name': 'Mohit', 'age': 24, 'address': 'Methan'}]\n"
     ]
    }
   ],
   "source": [
    "# chaimap.maps -> which gives you item with key to correspoding values\n",
    "print(chain.maps)"
   ]
  },
  {
   "cell_type": "code",
   "execution_count": 42,
   "id": "25a5b031",
   "metadata": {},
   "outputs": [
    {
     "name": "stdout",
     "output_type": "stream",
     "text": [
      "['name', 'age', 'address']\n"
     ]
    }
   ],
   "source": [
    "# chainmap.values() --> which gives you a list of keys\n",
    "print(list(chain.keys()))"
   ]
  },
  {
   "cell_type": "code",
   "execution_count": 43,
   "id": "604b2ae2",
   "metadata": {},
   "outputs": [
    {
     "name": "stdout",
     "output_type": "stream",
     "text": [
      "['Devarsh', 25, 'Methan']\n"
     ]
    }
   ],
   "source": [
    "# chainmap.values() --> whixh gives you to values of first of value \n",
    "# in that i have three keys okay , and values are three return means mohit and 24 is not giving because chainmap is gives the first value of the keys \n",
    "print(list(chain.values()))"
   ]
  },
  {
   "cell_type": "code",
   "execution_count": 44,
   "id": "cd678def",
   "metadata": {},
   "outputs": [
    {
     "name": "stdout",
     "output_type": "stream",
     "text": [
      "[{'name': 'Devarsh', 'age': 25}, {'name': 'Mohit', 'age': 24, 'address': 'Methan'}]\n",
      "2107201859280\n",
      "2107201981968\n",
      "[{'height': 5.11}, {'name': 'Devarsh', 'age': 25}, {'name': 'Mohit', 'age': 24, 'address': 'Methan'}]\n"
     ]
    }
   ],
   "source": [
    "# new_child() --> it is function which is add a new key-value pair , let's see\n",
    "print(chain.maps)\n",
    "print(id(chain))\n",
    "chain = chain.new_child({\"height\": 5.11})\n",
    "print(id(chain))\n",
    "print(chain.maps)"
   ]
  },
  {
   "cell_type": "code",
   "execution_count": 45,
   "id": "25be220e",
   "metadata": {},
   "outputs": [
    {
     "name": "stdout",
     "output_type": "stream",
     "text": [
      "[{'height': 5.11}, {'name': 'Devarsh', 'age': 25}, {'name': 'Mohit', 'age': 24, 'address': 'Methan'}]\n"
     ]
    }
   ],
   "source": [
    "print(chain.maps)"
   ]
  },
  {
   "cell_type": "code",
   "execution_count": 46,
   "id": "598efa3b",
   "metadata": {},
   "outputs": [
    {
     "data": {
      "text/plain": [
       "'Devarsh'"
      ]
     },
     "execution_count": 46,
     "metadata": {},
     "output_type": "execute_result"
    }
   ],
   "source": [
    "# when i particular find the key of value then it will always first one key \n",
    "chain['name']"
   ]
  },
  {
   "cell_type": "code",
   "execution_count": 47,
   "id": "52da4e77",
   "metadata": {},
   "outputs": [
    {
     "name": "stdout",
     "output_type": "stream",
     "text": [
      "ItemsView(ChainMap({'height': 5.11}, {'name': 'Devarsh', 'age': 25}, {'name': 'Mohit', 'age': 24, 'address': 'Methan'}))\n"
     ]
    }
   ],
   "source": [
    "# print the chain items through --> chain.items()\n",
    "print(chain.items())"
   ]
  },
  {
   "cell_type": "code",
   "execution_count": 48,
   "id": "6829fbbc",
   "metadata": {},
   "outputs": [
    {
     "name": "stdout",
     "output_type": "stream",
     "text": [
      "ItemsView(ChainMap({'height': 5.11}, {'name': 'Devarsh', 'age': 25}, {'name': 'Mohit', 'age': 24, 'address': 'kakoshi'}))\n"
     ]
    }
   ],
   "source": [
    "# updating chain value \n",
    "dict2['address'] = \"kakoshi\"\n",
    "print(chain.items())"
   ]
  },
  {
   "cell_type": "code",
   "execution_count": 49,
   "id": "f3f610b0",
   "metadata": {},
   "outputs": [
    {
     "name": "stdout",
     "output_type": "stream",
     "text": [
      "{'name': 'Devarsh', 'age': 25}\n",
      "{'name': 'Mohit', 'age': 24, 'address': 'kakoshi'}\n",
      "ItemsView(ChainMap({'height': 5.11, 'address': 'methan'}, {'name': 'Devarsh', 'age': 25}, {'name': 'Mohit', 'age': 24, 'address': 'kakoshi'}))\n",
      "kakoshi\n"
     ]
    }
   ],
   "source": [
    "# reverse updating \n",
    "print(dict1)\n",
    "print(dict2)\n",
    "\n",
    "# now i just change the address of chain\n",
    "\n",
    "chain['address'] = \"methan\"\n",
    "print(chain.items())\n",
    "print(dict2['address'])\n"
   ]
  },
  {
   "cell_type": "code",
   "execution_count": null,
   "id": "d7520396",
   "metadata": {},
   "outputs": [
    {
     "name": "stdout",
     "output_type": "stream",
     "text": [
      "[{'height': 5.11, 'address': 'methan', 'name': 'priyank'}, {'name': 'Devarsh', 'age': 25}, {'name': 'Mohit', 'age': 24, 'address': 'kakoshi'}]\n",
      "Devarsh\n",
      "Mohit\n"
     ]
    }
   ],
   "source": [
    "# take one more example\n",
    "# that is not work what i expected , i expect when i change into chain for common key that change the value of first occurence of dictinary 1\n",
    "chain['name'] = \"priyank\"\n",
    "print(chain.maps)\n",
    "print(dict1['name'])\n",
    "print(dict2['name'])"
   ]
  },
  {
   "cell_type": "code",
   "execution_count": 51,
   "id": "f1a53f85",
   "metadata": {},
   "outputs": [
    {
     "name": "stdout",
     "output_type": "stream",
     "text": [
      "['c', 'd', 'e', 'a', 'b']\n"
     ]
    },
    {
     "data": {
      "text/plain": [
       "3"
      ]
     },
     "execution_count": 51,
     "metadata": {},
     "output_type": "execute_result"
    }
   ],
   "source": [
    "# now i take tapan bhai reference example and check it work's or not?\n",
    "a = {'a': 1, 'b': 2, 'c': 3}\n",
    "b = {'c': 4, 'd': 5, 'e': 6}\n",
    "\n",
    "combined = ChainMap(a, b)\n",
    "\n",
    "print(list(combined))\n",
    "combined['c']"
   ]
  },
  {
   "cell_type": "code",
   "execution_count": 52,
   "id": "b1785758",
   "metadata": {},
   "outputs": [
    {
     "name": "stdout",
     "output_type": "stream",
     "text": [
      "dict_items([('a', 1), ('b', 2), ('c', 100)])\n",
      "ItemsView(ChainMap({'a': 1, 'b': 2, 'c': 100}, {'c': 4, 'd': 5, 'e': 6}))\n"
     ]
    }
   ],
   "source": [
    "# updating dictioanry a and see what happend in combined chainmap\n",
    "\n",
    "a['c'] = 100\n",
    "print(a.items())\n",
    "print(combined.items())"
   ]
  },
  {
   "cell_type": "code",
   "execution_count": 53,
   "id": "50bc8466",
   "metadata": {},
   "outputs": [
    {
     "name": "stdout",
     "output_type": "stream",
     "text": [
      "10\n",
      "4\n",
      "ItemsView(ChainMap({'a': 1, 'b': 2, 'c': 10}, {'c': 4, 'd': 5, 'e': 6}))\n"
     ]
    }
   ],
   "source": [
    "# so above when we change actual dictionary which is a , then it's reflect to combined chainmap\n",
    "# now i check when i change into the combined chainmap and check will it change the actual dictionary->a\n",
    "combined['c'] = 10\n",
    "\n",
    "print(a['c'])\n",
    "\n",
    "print(b['c'])\n",
    "\n",
    "print(combined.items())"
   ]
  },
  {
   "cell_type": "code",
   "execution_count": 54,
   "id": "ba96c2be",
   "metadata": {},
   "outputs": [
    {
     "name": "stdout",
     "output_type": "stream",
     "text": [
      "{'name': 'Devarsh', 'age': 25}\n",
      "{'name': 'Mohit', 'age': 24, 'address': 'kakoshi'}\n"
     ]
    }
   ],
   "source": [
    "# above here it will work , but in my example it will not work\n",
    "# -->> Blocker --> when i change into the chainmap it will not reflect into the original one dictionary\n",
    "# now i am trying again and will check it what mistake i do \n",
    "print(dict1)\n",
    "print(dict2)"
   ]
  },
  {
   "cell_type": "code",
   "execution_count": 56,
   "id": "7d52bb63",
   "metadata": {},
   "outputs": [
    {
     "name": "stdout",
     "output_type": "stream",
     "text": [
      "ItemsView(ChainMap({'name': 'Devarsh', 'age': 25}, {'name': 'Mohit', 'age': 24, 'address': 'kakoshi'}))\n",
      "Ronak bhai\n",
      "Mohit\n",
      "ItemsView(ChainMap({'name': 'Ronak bhai', 'age': 25}, {'name': 'Mohit', 'age': 24, 'address': 'kakoshi'}))\n"
     ]
    }
   ],
   "source": [
    "# here above two dictionary which common keys are -> 'name' , 'age' \n",
    "# now i create a new chainmap which is chain two dictionary\n",
    "\n",
    "new_chainmap = ChainMap(dict1,dict2)\n",
    "# print the chainmap items \n",
    "print(new_chainmap.items())\n",
    "# now i change the name of chainmap and will check it \n",
    "new_chainmap['name'] = \"Ronak bhai\"\n",
    "# check the dict1->name\n",
    "print(dict1['name'])\n",
    "# check the dict2 -> name\n",
    "print(dict2['name'])\n",
    "#  check the chainmap items\n",
    "print(new_chainmap.items())"
   ]
  },
  {
   "cell_type": "code",
   "execution_count": 57,
   "id": "2b0a821e",
   "metadata": {},
   "outputs": [],
   "source": [
    "# above here's it's work completly fine "
   ]
  },
  {
   "cell_type": "code",
   "execution_count": 59,
   "id": "fd164a4c",
   "metadata": {},
   "outputs": [
    {
     "name": "stdout",
     "output_type": "stream",
     "text": [
      "('name', 'Ronak bhai')\n",
      "('age', 25)\n",
      "('address', 'kakoshi')\n"
     ]
    }
   ],
   "source": [
    "# now move forward\n",
    "# now iterate over the chainmap\n",
    "\n",
    "for i in new_chainmap.items():\n",
    "    print(i)"
   ]
  },
  {
   "cell_type": "code",
   "execution_count": null,
   "id": "bda10272",
   "metadata": {},
   "outputs": [
    {
     "name": "stdout",
     "output_type": "stream",
     "text": [
      "True\n",
      "False\n",
      "Rupin bhai\n",
      "Mohit\n"
     ]
    }
   ],
   "source": [
    "# when we are doing update , delete and write it's happend in the first dictionary of chainmap and \n",
    "# when we are search it will check the first dictionary and if it not found then check in the next dictionary ans so on \n",
    "# above two lines tell the behaviour of chainmap\n",
    "# now lets look into example\n",
    "print(\"name\" in new_chainmap)\n",
    "print(\"Mohit\" in new_chainmap)\n",
    "# now update the name \n",
    "new_chainmap['name'] = \"Rupin bhai\"\n",
    "print(dict1['name'])\n",
    "print(dict2['name'])\n",
    "\n",
    "del new_chainmap['name']\n",
    "\n"
   ]
  },
  {
   "cell_type": "code",
   "execution_count": 70,
   "id": "d6c6bc84",
   "metadata": {},
   "outputs": [
    {
     "name": "stdout",
     "output_type": "stream",
     "text": [
      "Mohit\n"
     ]
    }
   ],
   "source": [
    "print(dict2['name'])"
   ]
  },
  {
   "cell_type": "code",
   "execution_count": 71,
   "id": "6f148468",
   "metadata": {},
   "outputs": [
    {
     "ename": "KeyError",
     "evalue": "'name'",
     "output_type": "error",
     "traceback": [
      "\u001b[1;31m---------------------------------------------------------------------------\u001b[0m",
      "\u001b[1;31mKeyError\u001b[0m                                  Traceback (most recent call last)",
      "Cell \u001b[1;32mIn[71], line 1\u001b[0m\n\u001b[1;32m----> 1\u001b[0m \u001b[38;5;28mprint\u001b[39m(dict1[\u001b[38;5;124m'\u001b[39m\u001b[38;5;124mname\u001b[39m\u001b[38;5;124m'\u001b[39m])\n",
      "\u001b[1;31mKeyError\u001b[0m: 'name'"
     ]
    }
   ],
   "source": [
    "print(dict1['name'])\n"
   ]
  },
  {
   "cell_type": "code",
   "execution_count": 73,
   "id": "1a1a0912",
   "metadata": {},
   "outputs": [],
   "source": [
    "new_chainmap['name'] = \"Ronak bhai\""
   ]
  },
  {
   "cell_type": "code",
   "execution_count": 84,
   "id": "4ddbc7f9",
   "metadata": {},
   "outputs": [
    {
     "name": "stdout",
     "output_type": "stream",
     "text": [
      "before : \n",
      " [{'age': 25, 'name': 'Ronak bhai'}, {'name': 'Devarsh', 'age': 24, 'address': 'kakoshi'}]\n",
      "the type of chainmap.maps is <class 'list'>\n",
      "first dictionary : \n",
      " {'age': 25, 'name': 'Ronak bhai'}\n",
      "second dictionary : \n",
      " {'name': 'Devarsh', 'age': 24, 'address': 'kakoshi'}\n",
      "after updating the value of mohit to Devarsh ; \n",
      " [{'age': 25, 'name': 'Ronak bhai'}, {'name': 'Devarsh', 'age': 24, 'address': 'kakoshi'}]\n",
      "first dictionary : \n",
      " {'age': 25, 'name': 'Ronak bhai'}\n",
      "second dictionary : \n",
      " {'name': 'Devarsh', 'age': 24, 'address': 'kakoshi'}\n"
     ]
    }
   ],
   "source": [
    "# so you can see above chainmap delete the name key into the first dictionary also\n",
    "\n",
    "# now the task is --> how to update the deeper level \n",
    "\n",
    "print(f\"before : \\n {new_chainmap.maps}\")\n",
    "# change the value of \"MOhit\"\n",
    "print(f\"the type of chainmap.maps is {type(new_chainmap.maps)}\")\n",
    "print(f\"first dictionary : \\n {new_chainmap.maps[0]}\")\n",
    "print(f\"second dictionary : \\n {new_chainmap.maps[1]}\")\n",
    "new_chainmap.maps[1]['name'] = \"Devarsh\"\n",
    "print(f\"after updating the value of mohit to Devarsh ; \\n {new_chainmap.maps}\")\n",
    "print(f\"first dictionary : \\n {new_chainmap.maps[0]}\")\n",
    "print(f\"second dictionary : \\n {new_chainmap.maps[1]}\")"
   ]
  },
  {
   "cell_type": "code",
   "execution_count": null,
   "id": "71aa81d8",
   "metadata": {},
   "outputs": [],
   "source": []
  },
  {
   "cell_type": "code",
   "execution_count": null,
   "id": "0b082ae4",
   "metadata": {},
   "outputs": [],
   "source": []
  }
 ],
 "metadata": {
  "kernelspec": {
   "display_name": "base",
   "language": "python",
   "name": "python3"
  },
  "language_info": {
   "codemirror_mode": {
    "name": "ipython",
    "version": 3
   },
   "file_extension": ".py",
   "mimetype": "text/x-python",
   "name": "python",
   "nbconvert_exporter": "python",
   "pygments_lexer": "ipython3",
   "version": "3.11.5"
  }
 },
 "nbformat": 4,
 "nbformat_minor": 5
}
