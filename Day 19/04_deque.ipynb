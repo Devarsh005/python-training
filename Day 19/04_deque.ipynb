{
 "cells": [
  {
   "cell_type": "code",
   "execution_count": 1,
   "id": "f2cb92d3",
   "metadata": {},
   "outputs": [],
   "source": [
    "from collections import deque"
   ]
  },
  {
   "cell_type": "code",
   "execution_count": 3,
   "id": "25ea4545",
   "metadata": {},
   "outputs": [
    {
     "data": {
      "text/plain": [
       "deque([])"
      ]
     },
     "execution_count": 3,
     "metadata": {},
     "output_type": "execute_result"
    }
   ],
   "source": [
    "ticket_list = deque()\n",
    "ticket_list"
   ]
  },
  {
   "cell_type": "code",
   "execution_count": 12,
   "id": "cc3ae99f",
   "metadata": {},
   "outputs": [],
   "source": [
    "ticket_list.append(\"kapo\")\n",
    "ticket_list.append('bhopo')"
   ]
  },
  {
   "cell_type": "code",
   "execution_count": 13,
   "id": "c551b2f8",
   "metadata": {},
   "outputs": [
    {
     "data": {
      "text/plain": [
       "deque(['kapo', 'bhopo'])"
      ]
     },
     "execution_count": 13,
     "metadata": {},
     "output_type": "execute_result"
    }
   ],
   "source": [
    "ticket_list"
   ]
  },
  {
   "cell_type": "code",
   "execution_count": 14,
   "id": "b4da9e26",
   "metadata": {},
   "outputs": [
    {
     "data": {
      "text/plain": [
       "'kapo'"
      ]
     },
     "execution_count": 14,
     "metadata": {},
     "output_type": "execute_result"
    }
   ],
   "source": [
    "ticket_list.popleft()"
   ]
  },
  {
   "cell_type": "code",
   "execution_count": 15,
   "id": "06e46574",
   "metadata": {},
   "outputs": [
    {
     "data": {
      "text/plain": [
       "deque(['bhopo'])"
      ]
     },
     "execution_count": 15,
     "metadata": {},
     "output_type": "execute_result"
    }
   ],
   "source": [
    "ticket_list"
   ]
  },
  {
   "cell_type": "code",
   "execution_count": 16,
   "id": "4fb9aba3",
   "metadata": {},
   "outputs": [
    {
     "data": {
      "text/plain": [
       "'bhopo'"
      ]
     },
     "execution_count": 16,
     "metadata": {},
     "output_type": "execute_result"
    }
   ],
   "source": [
    "ticket_list.popleft()"
   ]
  },
  {
   "cell_type": "code",
   "execution_count": 17,
   "id": "7525acb9",
   "metadata": {},
   "outputs": [
    {
     "data": {
      "text/plain": [
       "deque([])"
      ]
     },
     "execution_count": 17,
     "metadata": {},
     "output_type": "execute_result"
    }
   ],
   "source": [
    "ticket_list"
   ]
  },
  {
   "cell_type": "code",
   "execution_count": 18,
   "id": "dc4acff0",
   "metadata": {},
   "outputs": [
    {
     "ename": "IndexError",
     "evalue": "pop from an empty deque",
     "output_type": "error",
     "traceback": [
      "\u001b[1;31m---------------------------------------------------------------------------\u001b[0m",
      "\u001b[1;31mIndexError\u001b[0m                                Traceback (most recent call last)",
      "Cell \u001b[1;32mIn[18], line 1\u001b[0m\n\u001b[1;32m----> 1\u001b[0m ticket_list\u001b[38;5;241m.\u001b[39mpopleft()\n",
      "\u001b[1;31mIndexError\u001b[0m: pop from an empty deque"
     ]
    }
   ],
   "source": [
    "ticket_list.popleft()"
   ]
  },
  {
   "cell_type": "code",
   "execution_count": null,
   "id": "d14076a8",
   "metadata": {},
   "outputs": [],
   "source": []
  },
  {
   "cell_type": "code",
   "execution_count": 19,
   "id": "56adef58",
   "metadata": {},
   "outputs": [],
   "source": [
    "# maxlen"
   ]
  },
  {
   "cell_type": "code",
   "execution_count": 22,
   "id": "d02de5c6",
   "metadata": {},
   "outputs": [
    {
     "name": "stdout",
     "output_type": "stream",
     "text": [
      "deque(['first.txt', 'second.txt', 'third.txt'], maxlen=3)\n",
      "deque(['fourth.txt', 'first.txt', 'second.txt'], maxlen=3)\n"
     ]
    }
   ],
   "source": [
    "recent_files = deque([\"first.txt\",\"second.txt\",'third.txt'],maxlen=3)\n",
    "print(recent_files)\n",
    "recent_files.appendleft(\"fourth.txt\")\n",
    "print(recent_files)"
   ]
  },
  {
   "cell_type": "code",
   "execution_count": 23,
   "id": "e7d637b5",
   "metadata": {},
   "outputs": [],
   "source": [
    "# iterable"
   ]
  },
  {
   "cell_type": "markdown",
   "id": "c935544b",
   "metadata": {},
   "source": [
    "## topic : deque -- Date : 21-05-2025\n",
    "### starting from scratch \n",
    "#### Reference : Tapanbhai code book -- name --> \"17 collections.ipynb\"\n"
   ]
  },
  {
   "cell_type": "code",
   "execution_count": null,
   "id": "35ede268",
   "metadata": {},
   "outputs": [
    {
     "name": "stdout",
     "output_type": "stream",
     "text": [
      "deque(['g', 'h'])\n",
      "<class 'collections.deque'>\n",
      "2100864430816\n",
      "g h \n",
      "deque(['g', 'h', 't'])\n",
      "deque(['i', 'g', 'h', 't'])\n",
      "deque(['i', 'g', 'h'])\n",
      "deque(['g', 'h'])\n",
      "left most g\n",
      "right most h\n",
      "deque(['f', 'i', 'g', 'h', 't'])\n",
      "reversed deeue is ['t', 'h', 'g', 'i', 'f']\n",
      "g in deque : True\n",
      "deque(['f', 'i', 'g', 'h', 't', 'h', 'e', 'l', 'l', 'o'])\n",
      "right rotation : None\n",
      "right rotation : None\n",
      "right rotation : None\n",
      "right rotation : None\n",
      "right rotation : None\n",
      "deque(['h', 't', 'h', 'e', 'l', 'l', 'o', 'f', 'i', 'g'])\n",
      "8\n",
      "deque(['h', 't', 'h', 'e', 'l', 20, 'l', 'o', 'f', 'i', 'g'])\n",
      "11\n",
      "2\n",
      "after remove 'h'deque(['t', 'h', 'e', 'l', 20, 'l', 'o', 'f', 'i', 'g'])\n"
     ]
    }
   ],
   "source": [
    "from collections import deque\n",
    "# create a deque with two items \n",
    "deque_string = deque(\"gh\")\n",
    "print(deque_string)\n",
    "print(type(deque_string))\n",
    "print(id(deque_string))\n",
    "# iterate over deque\n",
    "for elements in deque_string:\n",
    "    print(elements,end= \" \")\n",
    "print()\n",
    "# now append t \n",
    "deque_string.append(\"t\")\n",
    "print(deque_string)\n",
    "# now appendleft i\n",
    "deque_string.appendleft(\"i\")\n",
    "print(deque_string)\n",
    "# pop \n",
    "deque_string.pop()\n",
    "print(deque_string)\n",
    "# popleft\n",
    "deque_string.popleft()\n",
    "print(deque_string)\n",
    "# print leftmost\n",
    "print(f\"left most {deque_string[0]}\")\n",
    "# print right most\n",
    "print(f\"right most {deque_string[-1]}\")\n",
    "deque_string.appendleft(\"i\")\n",
    "deque_string.appendleft(\"f\")\n",
    "deque_string.append(\"t\")\n",
    "print(deque_string)\n",
    "print(f\"reversed deeue is {list(reversed(deque_string))}\")\n",
    "# search in deque \n",
    "print(f\"g in deque : {('g' in deque_string)}\")\n",
    "# add multiple item at once\n",
    "deque_string.extend(\"hello\")\n",
    "print(deque_string)\n",
    "# right rotation\n",
    "print(f\"right rotation : {deque_string.rotate()}\")\n",
    "print(f\"right rotation : {deque_string.rotate()}\")\n",
    "print(f\"right rotation : {deque_string.rotate(-1)}\")\n",
    "print(f\"right rotation : {deque_string.rotate(-1)}\")\n",
    "print(f\"right rotation : {deque_string.rotate(-3)}\")\n",
    "# extend left \n",
    "# deque_string.extendleft(\"do you wanna\")\n",
    "print(deque_string)\n",
    "print(deque_string.index(\"i\"))\n",
    "# insert at x position\n",
    "deque_string.insert(5,20)\n",
    "print(deque_string)\n",
    "# count the number of element\n",
    "print(len(deque_string))\n",
    "print(deque_string.count(\"h\"))\n",
    "# remove the occurence of the value\n",
    "deque_string.remove(\"h\")\n",
    "print(f\"after remove  first occurence of 'h'{deque_string}\")\n"
   ]
  },
  {
   "cell_type": "code",
   "execution_count": null,
   "id": "787c4e3d",
   "metadata": {},
   "outputs": [],
   "source": []
  }
 ],
 "metadata": {
  "kernelspec": {
   "display_name": "base",
   "language": "python",
   "name": "python3"
  },
  "language_info": {
   "codemirror_mode": {
    "name": "ipython",
    "version": 3
   },
   "file_extension": ".py",
   "mimetype": "text/x-python",
   "name": "python",
   "nbconvert_exporter": "python",
   "pygments_lexer": "ipython3",
   "version": "3.11.5"
  }
 },
 "nbformat": 4,
 "nbformat_minor": 5
}
