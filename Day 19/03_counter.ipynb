{
 "cells": [
  {
   "cell_type": "markdown",
   "id": "7779ad2c",
   "metadata": {},
   "source": [
    "## Element()"
   ]
  },
  {
   "cell_type": "code",
   "execution_count": null,
   "id": "4ea3eae7",
   "metadata": {
    "vscode": {
     "languageId": "plaintext"
    }
   },
   "outputs": [],
   "source": []
  }
 ],
 "metadata": {
  "language_info": {
   "name": "python"
  }
 },
 "nbformat": 4,
 "nbformat_minor": 5
}
