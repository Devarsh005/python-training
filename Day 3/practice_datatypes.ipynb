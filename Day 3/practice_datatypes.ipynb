{
 "cells": [
  {
   "cell_type": "markdown",
   "id": "39b3eee7",
   "metadata": {},
   "source": [
    "isinstance method"
   ]
  },
  {
   "cell_type": "code",
   "execution_count": 61,
   "id": "a40674ed",
   "metadata": {},
   "outputs": [
    {
     "data": {
      "text/plain": [
       "False"
      ]
     },
     "execution_count": 61,
     "metadata": {},
     "output_type": "execute_result"
    }
   ],
   "source": [
    "num =10\n",
    "isinstance(num,float)\n"
   ]
  },
  {
   "cell_type": "markdown",
   "id": "60ccb223",
   "metadata": {},
   "source": [
    "# Dictionary"
   ]
  },
  {
   "cell_type": "code",
   "execution_count": 62,
   "id": "daea5a9e",
   "metadata": {},
   "outputs": [
    {
     "data": {
      "text/plain": [
       "{}"
      ]
     },
     "execution_count": 62,
     "metadata": {},
     "output_type": "execute_result"
    }
   ],
   "source": [
    "empty_dict = {}\n",
    "empty_dict"
   ]
  },
  {
   "cell_type": "code",
   "execution_count": 63,
   "id": "6a471a99",
   "metadata": {},
   "outputs": [
    {
     "data": {
      "text/plain": [
       "'palanpur'"
      ]
     },
     "execution_count": 63,
     "metadata": {},
     "output_type": "execute_result"
    }
   ],
   "source": [
    "person ={'name':'Devarsh' , 'age' :30 , 'city':'palanpur'}\n",
    "person['city']"
   ]
  },
  {
   "cell_type": "code",
   "execution_count": 64,
   "id": "717d4ce4",
   "metadata": {},
   "outputs": [
    {
     "data": {
      "text/plain": [
       "{'name': 'Devarsh', 'age': 30}"
      ]
     },
     "execution_count": 64,
     "metadata": {},
     "output_type": "execute_result"
    }
   ],
   "source": [
    "del person['city']\n",
    "person"
   ]
  },
  {
   "cell_type": "code",
   "execution_count": 65,
   "id": "d58ea6fb",
   "metadata": {},
   "outputs": [
    {
     "data": {
      "text/plain": [
       "'Devarsh'"
      ]
     },
     "execution_count": 65,
     "metadata": {},
     "output_type": "execute_result"
    }
   ],
   "source": [
    "person = dict(name='Devarsh')\n",
    "person['name']"
   ]
  },
  {
   "cell_type": "code",
   "execution_count": 66,
   "id": "fb5967c5",
   "metadata": {},
   "outputs": [],
   "source": [
    "person.clear()"
   ]
  },
  {
   "cell_type": "code",
   "execution_count": 67,
   "id": "9cf73e0e",
   "metadata": {},
   "outputs": [
    {
     "data": {
      "text/plain": [
       "{}"
      ]
     },
     "execution_count": 67,
     "metadata": {},
     "output_type": "execute_result"
    }
   ],
   "source": [
    "person"
   ]
  },
  {
   "cell_type": "code",
   "execution_count": 68,
   "id": "7d7fefcc",
   "metadata": {},
   "outputs": [],
   "source": [
    "person = dict(name='devarsh',age=22,city='palanpur',id=1123213)"
   ]
  },
  {
   "cell_type": "code",
   "execution_count": 69,
   "id": "1159f382",
   "metadata": {},
   "outputs": [
    {
     "data": {
      "text/plain": [
       "{'name': 'devarsh', 'age': 22, 'city': 'palanpur', 'id': 1123213}"
      ]
     },
     "execution_count": 69,
     "metadata": {},
     "output_type": "execute_result"
    }
   ],
   "source": [
    "person"
   ]
  },
  {
   "cell_type": "code",
   "execution_count": 70,
   "id": "cd38c7ce",
   "metadata": {},
   "outputs": [],
   "source": [
    "copy_of_person = person.copy()"
   ]
  },
  {
   "cell_type": "code",
   "execution_count": 71,
   "id": "80bb8287",
   "metadata": {},
   "outputs": [
    {
     "data": {
      "text/plain": [
       "{'name': 'devarsh', 'age': 22, 'city': 'palanpur', 'id': 1123213}"
      ]
     },
     "execution_count": 71,
     "metadata": {},
     "output_type": "execute_result"
    }
   ],
   "source": [
    "copy_of_person"
   ]
  },
  {
   "cell_type": "code",
   "execution_count": 72,
   "id": "dc7b7e9a",
   "metadata": {},
   "outputs": [],
   "source": [
    "person['age']=33"
   ]
  },
  {
   "cell_type": "code",
   "execution_count": 73,
   "id": "96431ab0",
   "metadata": {},
   "outputs": [
    {
     "data": {
      "text/plain": [
       "22"
      ]
     },
     "execution_count": 73,
     "metadata": {},
     "output_type": "execute_result"
    }
   ],
   "source": [
    "copy_of_person['age']"
   ]
  },
  {
   "cell_type": "code",
   "execution_count": 74,
   "id": "6f4e9b66",
   "metadata": {},
   "outputs": [
    {
     "data": {
      "text/plain": [
       "33"
      ]
     },
     "execution_count": 74,
     "metadata": {},
     "output_type": "execute_result"
    }
   ],
   "source": [
    "person['age']"
   ]
  },
  {
   "cell_type": "code",
   "execution_count": 75,
   "id": "05ac9cbf",
   "metadata": {},
   "outputs": [
    {
     "data": {
      "text/plain": [
       "{'name': 'devarsh', 'age': 33, 'city': 'palanpur', 'id': 1123213}"
      ]
     },
     "execution_count": 75,
     "metadata": {},
     "output_type": "execute_result"
    }
   ],
   "source": [
    "person"
   ]
  },
  {
   "cell_type": "code",
   "execution_count": 76,
   "id": "311b9e47",
   "metadata": {},
   "outputs": [
    {
     "name": "stdout",
     "output_type": "stream",
     "text": [
      "palanpur\n"
     ]
    }
   ],
   "source": [
    "print(person.get('city'))"
   ]
  },
  {
   "cell_type": "code",
   "execution_count": 77,
   "id": "5d3aa868",
   "metadata": {},
   "outputs": [
    {
     "name": "stdout",
     "output_type": "stream",
     "text": [
      "None\n"
     ]
    }
   ],
   "source": [
    "# The get() method is especially useful because it avoids raising a KeyError when a key is not present in the dictionary. \n",
    "print(person.get('schoolName'))"
   ]
  },
  {
   "cell_type": "code",
   "execution_count": 82,
   "id": "356a1c12",
   "metadata": {},
   "outputs": [
    {
     "name": "stdout",
     "output_type": "stream",
     "text": [
      "mp momin\n"
     ]
    }
   ],
   "source": [
    "print(person.get('schoolName','mp momin'))"
   ]
  },
  {
   "cell_type": "code",
   "execution_count": 84,
   "id": "78e55855",
   "metadata": {},
   "outputs": [],
   "source": [
    "person.get('s')"
   ]
  },
  {
   "cell_type": "code",
   "execution_count": 91,
   "id": "f69b461e",
   "metadata": {},
   "outputs": [
    {
     "data": {
      "text/plain": [
       "{'n': None, 'a': None, 'm': None, 'e': None}"
      ]
     },
     "execution_count": 91,
     "metadata": {},
     "output_type": "execute_result"
    }
   ],
   "source": [
    "person.fromkeys('name')"
   ]
  },
  {
   "cell_type": "code",
   "execution_count": 94,
   "id": "db18c57f",
   "metadata": {},
   "outputs": [
    {
     "data": {
      "text/plain": [
       "{'user': None, 'id': None, 'config': None}"
      ]
     },
     "execution_count": 94,
     "metadata": {},
     "output_type": "execute_result"
    }
   ],
   "source": [
    "key = ['user','id','config']\n",
    "new = dict.fromkeys(key)\n",
    "new"
   ]
  },
  {
   "cell_type": "code",
   "execution_count": 96,
   "id": "56aac9a0",
   "metadata": {},
   "outputs": [
    {
     "ename": "TypeError",
     "evalue": "fromkeys expected at most 2 arguments, got 4",
     "output_type": "error",
     "traceback": [
      "\u001b[1;31m---------------------------------------------------------------------------\u001b[0m",
      "\u001b[1;31mTypeError\u001b[0m                                 Traceback (most recent call last)",
      "Cell \u001b[1;32mIn[96], line 1\u001b[0m\n\u001b[1;32m----> 1\u001b[0m new \u001b[38;5;241m=\u001b[39m \u001b[38;5;28mdict\u001b[39m\u001b[38;5;241m.\u001b[39mfromkeys(key,\u001b[38;5;124m'\u001b[39m\u001b[38;5;124mdevarsh\u001b[39m\u001b[38;5;124m'\u001b[39m,\u001b[38;5;241m898\u001b[39m,\u001b[38;5;124m'\u001b[39m\u001b[38;5;124mDevarsh__002\u001b[39m\u001b[38;5;124m'\u001b[39m)\n",
      "\u001b[1;31mTypeError\u001b[0m: fromkeys expected at most 2 arguments, got 4"
     ]
    }
   ],
   "source": [
    "new = dict.fromkeys(key,'devarsh',898,'Devarsh__002')"
   ]
  },
  {
   "cell_type": "markdown",
   "id": "da1ac36e",
   "metadata": {},
   "source": [
    "- This method is helpful when you need to initialize a dictionary with predefined keys and assign them uniform values."
   ]
  },
  {
   "cell_type": "code",
   "execution_count": 99,
   "id": "daba6a1e",
   "metadata": {},
   "outputs": [
    {
     "data": {
      "text/plain": [
       "{'user': 'devarsh', 'id': 'devarsh', 'config': 'devarsh'}"
      ]
     },
     "execution_count": 99,
     "metadata": {},
     "output_type": "execute_result"
    }
   ],
   "source": [
    "new = dict.fromkeys(key,'devarsh')\n",
    "new"
   ]
  },
  {
   "cell_type": "code",
   "execution_count": 106,
   "id": "8db70e06",
   "metadata": {},
   "outputs": [
    {
     "data": {
      "text/plain": [
       "dict_keys(['user', 'id', 'config'])"
      ]
     },
     "execution_count": 106,
     "metadata": {},
     "output_type": "execute_result"
    }
   ],
   "source": [
    "new.keys()"
   ]
  },
  {
   "cell_type": "code",
   "execution_count": 107,
   "id": "4b16e2d6",
   "metadata": {},
   "outputs": [
    {
     "name": "stdout",
     "output_type": "stream",
     "text": [
      "user id config "
     ]
    }
   ],
   "source": [
    "for i in new.keys():\n",
    "    print(i,end =\" \")"
   ]
  },
  {
   "cell_type": "markdown",
   "id": "224c3b34",
   "metadata": {},
   "source": [
    "#### modifynig key"
   ]
  },
  {
   "cell_type": "code",
   "execution_count": 108,
   "id": "d7cc47c4",
   "metadata": {},
   "outputs": [
    {
     "data": {
      "text/plain": [
       "{'user': 'Devarsh', 'id': 'devarsh', 'config': 'devarsh'}"
      ]
     },
     "execution_count": 108,
     "metadata": {},
     "output_type": "execute_result"
    }
   ],
   "source": [
    "new['user']='Devarsh'\n",
    "new"
   ]
  },
  {
   "cell_type": "markdown",
   "id": "a7c2f4b2",
   "metadata": {},
   "source": [
    "#### keys converting into a list"
   ]
  },
  {
   "cell_type": "code",
   "execution_count": 111,
   "id": "5c9049b4",
   "metadata": {},
   "outputs": [
    {
     "data": {
      "text/plain": [
       "['user', 'id', 'config']"
      ]
     },
     "execution_count": 111,
     "metadata": {},
     "output_type": "execute_result"
    }
   ],
   "source": [
    "key = new.keys()\n",
    "li = list(key)\n",
    "li"
   ]
  },
  {
   "cell_type": "markdown",
   "id": "4338870f",
   "metadata": {},
   "source": [
    "#### POP Method"
   ]
  },
  {
   "cell_type": "code",
   "execution_count": 113,
   "id": "2ecc6d30",
   "metadata": {},
   "outputs": [
    {
     "ename": "TypeError",
     "evalue": "pop expected at least 1 argument, got 0",
     "output_type": "error",
     "traceback": [
      "\u001b[1;31m---------------------------------------------------------------------------\u001b[0m",
      "\u001b[1;31mTypeError\u001b[0m                                 Traceback (most recent call last)",
      "Cell \u001b[1;32mIn[113], line 2\u001b[0m\n\u001b[0;32m      1\u001b[0m dictionary_example \u001b[38;5;241m=\u001b[39m \u001b[38;5;28mdict\u001b[39m()\n\u001b[1;32m----> 2\u001b[0m dictionary_example\u001b[38;5;241m.\u001b[39mpop()\n",
      "\u001b[1;31mTypeError\u001b[0m: pop expected at least 1 argument, got 0"
     ]
    }
   ],
   "source": [
    "dictionary_example = dict()\n",
    "dictionary_example.pop()"
   ]
  },
  {
   "cell_type": "code",
   "execution_count": 114,
   "id": "d6afa9b4",
   "metadata": {},
   "outputs": [
    {
     "data": {
      "text/plain": [
       "{'user': 'Devarsh', 'id': 'devarsh', 'config': 'devarsh'}"
      ]
     },
     "execution_count": 114,
     "metadata": {},
     "output_type": "execute_result"
    }
   ],
   "source": [
    "new"
   ]
  },
  {
   "cell_type": "code",
   "execution_count": 117,
   "id": "f9b566fb",
   "metadata": {},
   "outputs": [
    {
     "data": {
      "text/plain": [
       "'Devarsh'"
      ]
     },
     "execution_count": 117,
     "metadata": {},
     "output_type": "execute_result"
    }
   ],
   "source": [
    "new.pop('user')"
   ]
  },
  {
   "cell_type": "code",
   "execution_count": 118,
   "id": "8b7796b0",
   "metadata": {},
   "outputs": [
    {
     "data": {
      "text/plain": [
       "{'id': 'devarsh', 'config': 'devarsh'}"
      ]
     },
     "execution_count": 118,
     "metadata": {},
     "output_type": "execute_result"
    }
   ],
   "source": [
    "new"
   ]
  },
  {
   "cell_type": "code",
   "execution_count": 119,
   "id": "e546acfa",
   "metadata": {},
   "outputs": [
    {
     "data": {
      "text/plain": [
       "'not found'"
      ]
     },
     "execution_count": 119,
     "metadata": {},
     "output_type": "execute_result"
    }
   ],
   "source": [
    "new.pop('user','not found')"
   ]
  },
  {
   "cell_type": "markdown",
   "id": "d74511cf",
   "metadata": {},
   "source": [
    "#### popitem"
   ]
  },
  {
   "cell_type": "code",
   "execution_count": 120,
   "id": "54d5b68b",
   "metadata": {},
   "outputs": [
    {
     "data": {
      "text/plain": [
       "{'id': 'devarsh', 'config': 'devarsh'}"
      ]
     },
     "execution_count": 120,
     "metadata": {},
     "output_type": "execute_result"
    }
   ],
   "source": [
    "new"
   ]
  },
  {
   "cell_type": "code",
   "execution_count": 121,
   "id": "0dae2482",
   "metadata": {},
   "outputs": [
    {
     "data": {
      "text/plain": [
       "('config', 'devarsh')"
      ]
     },
     "execution_count": 121,
     "metadata": {},
     "output_type": "execute_result"
    }
   ],
   "source": [
    "new.popitem()"
   ]
  },
  {
   "cell_type": "code",
   "execution_count": 128,
   "id": "5e0a8d79",
   "metadata": {},
   "outputs": [
    {
     "data": {
      "text/plain": [
       "{}"
      ]
     },
     "execution_count": 128,
     "metadata": {},
     "output_type": "execute_result"
    }
   ],
   "source": [
    "new"
   ]
  },
  {
   "cell_type": "code",
   "execution_count": 127,
   "id": "10ed1c8d",
   "metadata": {},
   "outputs": [
    {
     "ename": "KeyError",
     "evalue": "'popitem(): dictionary is empty'",
     "output_type": "error",
     "traceback": [
      "\u001b[1;31m---------------------------------------------------------------------------\u001b[0m",
      "\u001b[1;31mKeyError\u001b[0m                                  Traceback (most recent call last)",
      "Cell \u001b[1;32mIn[127], line 1\u001b[0m\n\u001b[1;32m----> 1\u001b[0m new\u001b[38;5;241m.\u001b[39mpopitem()\n",
      "\u001b[1;31mKeyError\u001b[0m: 'popitem(): dictionary is empty'"
     ]
    }
   ],
   "source": [
    "new.popitem()"
   ]
  },
  {
   "cell_type": "code",
   "execution_count": null,
   "id": "440cb8da",
   "metadata": {},
   "outputs": [],
   "source": []
  },
  {
   "cell_type": "code",
   "execution_count": 126,
   "id": "3b62dfba",
   "metadata": {},
   "outputs": [
    {
     "data": {
      "text/plain": [
       "dict_values([])"
      ]
     },
     "execution_count": 126,
     "metadata": {},
     "output_type": "execute_result"
    }
   ],
   "source": [
    "new.values()"
   ]
  },
  {
   "cell_type": "code",
   "execution_count": null,
   "id": "66d901a8",
   "metadata": {},
   "outputs": [],
   "source": []
  }
 ],
 "metadata": {
  "kernelspec": {
   "display_name": "base",
   "language": "python",
   "name": "python3"
  },
  "language_info": {
   "codemirror_mode": {
    "name": "ipython",
    "version": 3
   },
   "file_extension": ".py",
   "mimetype": "text/x-python",
   "name": "python",
   "nbconvert_exporter": "python",
   "pygments_lexer": "ipython3",
   "version": "3.11.5"
  }
 },
 "nbformat": 4,
 "nbformat_minor": 5
}
