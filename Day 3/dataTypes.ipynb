{
 "cells": [
  {
   "cell_type": "markdown",
   "id": "e4f7da48",
   "metadata": {},
   "source": [
    "str"
   ]
  },
  {
   "cell_type": "code",
   "execution_count": 2,
   "id": "1721a88d",
   "metadata": {},
   "outputs": [
    {
     "name": "stdout",
     "output_type": "stream",
     "text": [
      "<class 'str'>\n",
      "length of the sequence is: 18\n",
      "Character at 7th position is: s\n"
     ]
    }
   ],
   "source": [
    "my_str = \"This is a sequence\"\n",
    "print(type(my_str))\n",
    "print(\"length of the sequence is: {}\".format(len(my_str)))\n",
    "print(\"Character at 7th position is: {}\".format(my_str[6]))"
   ]
  },
  {
   "cell_type": "code",
   "execution_count": 3,
   "id": "0430d085",
   "metadata": {},
   "outputs": [
    {
     "name": "stdout",
     "output_type": "stream",
     "text": [
      "T h i s   i s   a   s e q u e n c e "
     ]
    }
   ],
   "source": [
    "for i in my_str:\n",
    "    print(i,end=' ')"
   ]
  },
  {
   "cell_type": "code",
   "execution_count": 4,
   "id": "0db2cc0a",
   "metadata": {},
   "outputs": [
    {
     "ename": "TypeError",
     "evalue": "'str' object does not support item assignment",
     "output_type": "error",
     "traceback": [
      "\u001b[1;31m---------------------------------------------------------------------------\u001b[0m",
      "\u001b[1;31mTypeError\u001b[0m                                 Traceback (most recent call last)",
      "Cell \u001b[1;32mIn[4], line 1\u001b[0m\n\u001b[1;32m----> 1\u001b[0m my_str[\u001b[38;5;241m5\u001b[39m] \u001b[38;5;241m=\u001b[39m \u001b[38;5;124m\"\u001b[39m\u001b[38;5;124mA\u001b[39m\u001b[38;5;124m\"\u001b[39m\n",
      "\u001b[1;31mTypeError\u001b[0m: 'str' object does not support item assignment"
     ]
    }
   ],
   "source": [
    "my_str[5] = \"A\""
   ]
  },
  {
   "cell_type": "code",
   "execution_count": 15,
   "id": "f3a3a7a3",
   "metadata": {},
   "outputs": [
    {
     "name": "stdout",
     "output_type": "stream",
     "text": [
      "yes\n"
     ]
    }
   ],
   "source": [
    "my_str = \"whoes said string cannot change once it assigned\"\n",
    "if \"string\" in my_str:\n",
    "    print(\"yes\")"
   ]
  },
  {
   "cell_type": "code",
   "execution_count": 25,
   "id": "e38f0f65",
   "metadata": {},
   "outputs": [
    {
     "name": "stdout",
     "output_type": "stream",
     "text": [
      "140729660753832\n",
      "140729660753776\n"
     ]
    }
   ],
   "source": [
    "a=\"abcd\"\n",
    "b=\"c\"\n",
    "print(id(a[3]))\n",
    "print(id(b[0]))"
   ]
  },
  {
   "cell_type": "markdown",
   "id": "c9ea58db",
   "metadata": {},
   "source": [
    "tuple"
   ]
  },
  {
   "cell_type": "code",
   "execution_count": 40,
   "id": "cb4750a4",
   "metadata": {},
   "outputs": [
    {
     "name": "stdout",
     "output_type": "stream",
     "text": [
      "<class 'tuple'>\n",
      "<class 'tuple'>\n",
      "<class 'tuple'>\n",
      "<class 'tuple'>\n",
      "('h', 'e', 'l', 'l', 'o')\n",
      "<class 'tuple'>\n"
     ]
    }
   ],
   "source": [
    "a=1,2,3\n",
    "# print(a)\n",
    "print(type(a))\n",
    "\n",
    "b=(1,2,3)\n",
    "print(type(b))\n",
    "\n",
    "c=()\n",
    "print(type(c))\n",
    "\n",
    "d=1,\n",
    "print(type(d))\n",
    "\n",
    "e = tuple(\"hello\")\n",
    "print(e)\n",
    "print(type(e))"
   ]
  },
  {
   "cell_type": "code",
   "execution_count": 44,
   "id": "0a06d18f",
   "metadata": {},
   "outputs": [
    {
     "name": "stdout",
     "output_type": "stream",
     "text": [
      "(2, 3, 4, 6, 2, 6, 'jex')\n",
      "<class 'tuple'>\n"
     ]
    }
   ],
   "source": [
    "# operation on tuples \n",
    "x = 2,3,4,6,2,6,\"jex\"\n",
    "print(x)\n",
    "print(type(x))"
   ]
  },
  {
   "cell_type": "code",
   "execution_count": 46,
   "id": "2fb80fe7",
   "metadata": {},
   "outputs": [
    {
     "data": {
      "text/plain": [
       "7"
      ]
     },
     "execution_count": 46,
     "metadata": {},
     "output_type": "execute_result"
    }
   ],
   "source": [
    "len(x)"
   ]
  },
  {
   "cell_type": "code",
   "execution_count": 48,
   "id": "86b77755",
   "metadata": {},
   "outputs": [
    {
     "name": "stdout",
     "output_type": "stream",
     "text": [
      "yes\n"
     ]
    }
   ],
   "source": [
    "if \"jex\" in x:\n",
    "    print(\"yes\")"
   ]
  },
  {
   "cell_type": "code",
   "execution_count": 50,
   "id": "be0dd092",
   "metadata": {},
   "outputs": [
    {
     "name": "stdout",
     "output_type": "stream",
     "text": [
      "yes\n"
     ]
    }
   ],
   "source": [
    "if 2 in x:\n",
    "    print('yes')"
   ]
  },
  {
   "cell_type": "code",
   "execution_count": 52,
   "id": "bce3ea81",
   "metadata": {},
   "outputs": [
    {
     "name": "stdout",
     "output_type": "stream",
     "text": [
      "no\n"
     ]
    }
   ],
   "source": [
    "if 20 in x:\n",
    "    print(\"yes\")\n",
    "else:\n",
    "    print(\"no\")"
   ]
  },
  {
   "cell_type": "code",
   "execution_count": 61,
   "id": "bbc5bdae",
   "metadata": {},
   "outputs": [
    {
     "name": "stdout",
     "output_type": "stream",
     "text": [
      "(2, 3, 'wills', 5, 6, 'jex')\n",
      "z = tuple1 + tuple2->(2, 3, 'wills', 5, 6, 'jex')\n"
     ]
    }
   ],
   "source": [
    "tuple1 = (2,3,\"wills\")\n",
    "tuple2 = (5,6,\"jex\")\n",
    "z = tuple1+tuple2\n",
    "print(z)\n",
    "print(\"z = tuple1 + tuple2->{}\".format(z))"
   ]
  },
  {
   "cell_type": "code",
   "execution_count": 73,
   "id": "ba322f92",
   "metadata": {},
   "outputs": [
    {
     "name": "stdout",
     "output_type": "stream",
     "text": [
      "[] -> <class 'list'>\n",
      "[1, 2, 3, 'naran'] -> <class 'list'>\n",
      "[]\n",
      "('hello', 3)\n"
     ]
    }
   ],
   "source": [
    "# list\n",
    "a = [] \n",
    "print(a,end=\" -> \")\n",
    "print(type(a))\n",
    "b=[1,2,3,\"naran\"]\n",
    "print(b, end=\" -> \")\n",
    "print(type(b))\n",
    "c = list()\n",
    "d =('hello',3)\n",
    "print(c)\n",
    "print(d)"
   ]
  },
  {
   "cell_type": "code",
   "execution_count": 102,
   "id": "b8c2b64c",
   "metadata": {},
   "outputs": [
    {
     "name": "stdout",
     "output_type": "stream",
     "text": [
      "2317525044544\n",
      "[2, 1, 99.37, 'dev', 45.3, 'shambhu', '$']\n",
      "2317525044544\n",
      "id doesn not change after the adding an element\n",
      "[2, 1, 99.37, 'dev', 45.3, 'shambhu', '$', '7', 8, (2, 3, 'st'), 'unique']\n",
      "['7', 8, 'inserted element', (2, 3, 'st'), 'unique']\n",
      "5\n",
      "11\n",
      "1\n",
      "4\n",
      "before poping [2, 5, 2, 5, 9, 7, 9, 3, 7]\n",
      "after poping [2, 5, 2, 5, 9, 7, 9, 3]\n",
      "[3, 9, 7, 9, 5, 2, 5, 2]\n",
      "[2, 2, 3, 5, 5, 7, 9, 9]\n",
      "[]\n"
     ]
    }
   ],
   "source": [
    "# craeting a list\n",
    "d = [2,1,99.37,\"dev\",45.3,'shambhu']\n",
    "print(id(d))\n",
    "# adding item in list\n",
    "d.append(\"$\")\n",
    "print(d)\n",
    "print(id(d))\n",
    "print(\"id doesn not change after the adding an element\")\n",
    "# craete another list\n",
    "f =[\"7\",8,(2,3,\"st\"),'unique']\n",
    "# extend list d with f list\n",
    "d.extend(f)\n",
    "print(d)\n",
    "# insert an element at particular index\n",
    "f.insert(2,\"inserted element\")\n",
    "print(f)\n",
    "# total number in given list\n",
    "print(len(f))\n",
    "print(len(d))\n",
    "# use count either len\n",
    "print(f.count(8))\n",
    "# create another list which elememnts ocuurence are more than 1\n",
    "g = [2,5,2,5,9,7,9,3,7]\n",
    "# find the first index of given element\n",
    "print(g.index(9))\n",
    "# pop last element from given list\n",
    "print(\"before poping\",g)\n",
    "g.pop()\n",
    "print(\"after poping\",g)\n",
    "# reversing a list\n",
    "g.reverse()\n",
    "print(g)\n",
    "# sort the list\n",
    "g.sort()\n",
    "print(g)\n",
    "g.clear()\n",
    "print(g)"
   ]
  },
  {
   "cell_type": "code",
   "execution_count": 136,
   "id": "81dc87e7",
   "metadata": {},
   "outputs": [
    {
     "name": "stdout",
     "output_type": "stream",
     "text": [
      "set()\n",
      "<class 'set'>\n",
      "<class 'set'>\n",
      "{2, 3, 4, 5, 6, 7, '11', 9, 10, 8, '8'}\n",
      "{2, 3, 4, 5, 6, 7, '11', 9, 10, 8, '8', 20}\n",
      "{2, 3, 4, 5, 6, 7, 9, 10, 8, '8', 20}\n",
      "{2, 3, 4, 5, 6, 7, 9, 10, 8, '8'}\n",
      "set()\n",
      "{2, 3, 4, 5, 6, 7, 8, 9, 10, '8'}\n"
     ]
    },
    {
     "ename": "NameError",
     "evalue": "name 'p' is not defined",
     "output_type": "error",
     "traceback": [
      "\u001b[1;31m---------------------------------------------------------------------------\u001b[0m",
      "\u001b[1;31mNameError\u001b[0m                                 Traceback (most recent call last)",
      "Cell \u001b[1;32mIn[136], line 25\u001b[0m\n\u001b[0;32m     23\u001b[0m \u001b[38;5;28mprint\u001b[39m(p)\n\u001b[0;32m     24\u001b[0m \u001b[38;5;28;01mdel\u001b[39;00m p\n\u001b[1;32m---> 25\u001b[0m \u001b[38;5;28mprint\u001b[39m(p)\n",
      "\u001b[1;31mNameError\u001b[0m: name 'p' is not defined"
     ]
    }
   ],
   "source": [
    "# sets\n",
    "p = set()\n",
    "print(p)\n",
    "print(type(p))\n",
    "p = {2,3,4,5,6,7,\"8\",9,10,\"11\"}\n",
    "print(type(p))\n",
    "# add one item into set\n",
    "p.add(8)\n",
    "print(p)\n",
    "# update a set \n",
    "p.update([20,9,\"8\"])\n",
    "print(p)\n",
    "# remove an element from set\n",
    "p.remove('11')\n",
    "print(p)\n",
    "# discarded items from a set\n",
    "p.discard(20)\n",
    "print(p)\n",
    "# clear a set\n",
    "p.clear()\n",
    "print(p)\n",
    "p = {2, 3, 4, 5, 6, 7, 9, 10, 8, '8'}\n",
    "print(p)\n",
    "del p\n",
    "print(p)\n",
    "\n"
   ]
  },
  {
   "cell_type": "code",
   "execution_count": 140,
   "id": "d6e0b6d5",
   "metadata": {},
   "outputs": [
    {
     "name": "stdout",
     "output_type": "stream",
     "text": [
      "frozenset({40, 100, 20})\n"
     ]
    },
    {
     "ename": "AttributeError",
     "evalue": "'frozenset' object has no attribute 'add'",
     "output_type": "error",
     "traceback": [
      "\u001b[1;31m---------------------------------------------------------------------------\u001b[0m",
      "\u001b[1;31mAttributeError\u001b[0m                            Traceback (most recent call last)",
      "Cell \u001b[1;32mIn[140], line 4\u001b[0m\n\u001b[0;32m      2\u001b[0m q \u001b[38;5;241m=\u001b[39m \u001b[38;5;28mfrozenset\u001b[39m([\u001b[38;5;241m20\u001b[39m,\u001b[38;5;241m40\u001b[39m,\u001b[38;5;241m100\u001b[39m])\n\u001b[0;32m      3\u001b[0m \u001b[38;5;28mprint\u001b[39m(q)\n\u001b[1;32m----> 4\u001b[0m q\u001b[38;5;241m.\u001b[39madd(\u001b[38;5;241m30\u001b[39m)\n\u001b[0;32m      5\u001b[0m \u001b[38;5;28mprint\u001b[39m(q)\n",
      "\u001b[1;31mAttributeError\u001b[0m: 'frozenset' object has no attribute 'add'"
     ]
    }
   ],
   "source": [
    "# frozen set\n",
    "q = frozenset([20,40,100])\n",
    "print(q)\n",
    "q.add(30)\n",
    "print(q)"
   ]
  },
  {
   "cell_type": "code",
   "execution_count": 142,
   "id": "b757c955",
   "metadata": {},
   "outputs": [
    {
     "name": "stdout",
     "output_type": "stream",
     "text": [
      "{}\n"
     ]
    }
   ],
   "source": [
    "# creating a dictonary\n",
    "s= dict()\n",
    "print(s)"
   ]
  },
  {
   "cell_type": "code",
   "execution_count": 144,
   "id": "feba87f2",
   "metadata": {},
   "outputs": [
    {
     "name": "stdout",
     "output_type": "stream",
     "text": [
      "{}\n"
     ]
    }
   ],
   "source": [
    "s={}\n",
    "print(s)"
   ]
  },
  {
   "cell_type": "code",
   "execution_count": 146,
   "id": "3dd19d88",
   "metadata": {},
   "outputs": [
    {
     "name": "stdout",
     "output_type": "stream",
     "text": [
      "{0: 'something', 1: 'is', 2: 'not', 3: True, 'what?': 'maybe'}\n"
     ]
    }
   ],
   "source": [
    "s = {\n",
    "0:\"something\",\n",
    "1:\"is\",\n",
    "2:\"not\",\n",
    "3:True,\n",
    "\"what?\":\"maybe\"\n",
    "}\n",
    "print(s)"
   ]
  },
  {
   "cell_type": "code",
   "execution_count": 152,
   "id": "0f0cc68b",
   "metadata": {},
   "outputs": [
    {
     "name": "stdout",
     "output_type": "stream",
     "text": [
      "maybe\n",
      "True\n",
      "not\n"
     ]
    }
   ],
   "source": [
    "print(s[\"what?\"])\n",
    "print(s[3])\n",
    "print(s[2])"
   ]
  },
  {
   "cell_type": "code",
   "execution_count": 155,
   "id": "f52bcf1f",
   "metadata": {},
   "outputs": [
    {
     "name": "stdout",
     "output_type": "stream",
     "text": [
      "{'one': 1, 'two': 2, 'three': 3}\n"
     ]
    }
   ],
   "source": [
    "s = dict(one =1 , two =2 , three =3)\n",
    "print(s)"
   ]
  },
  {
   "cell_type": "code",
   "execution_count": 157,
   "id": "05e69044",
   "metadata": {},
   "outputs": [
    {
     "name": "stdout",
     "output_type": "stream",
     "text": [
      "{1: 4, 2: 5, 3: 6}\n"
     ]
    }
   ],
   "source": [
    "r =dict(zip([1,2,3],[4,5,6]))\n",
    "print(r)"
   ]
  },
  {
   "cell_type": "code",
   "execution_count": 159,
   "id": "b0772169",
   "metadata": {},
   "outputs": [
    {
     "name": "stdout",
     "output_type": "stream",
     "text": [
      "{'one': 1, 'two': 2, 'three': 3}\n"
     ]
    }
   ],
   "source": [
    "t = dict([('one',1),('two',2),('three',3)])\n",
    "print(t)"
   ]
  },
  {
   "cell_type": "code",
   "execution_count": 164,
   "id": "88e52c54",
   "metadata": {},
   "outputs": [
    {
     "name": "stdout",
     "output_type": "stream",
     "text": [
      "dict_keys([1, 2, 3])\n",
      "dict_values([4, 5, 6])\n",
      "[1, 2, 3]\n"
     ]
    }
   ],
   "source": [
    "# listing the key of dictionary\n",
    "print(r.keys())\n",
    "print(r.values())\n",
    "print(list(r))"
   ]
  },
  {
   "cell_type": "code",
   "execution_count": 168,
   "id": "70ae757d",
   "metadata": {},
   "outputs": [
    {
     "name": "stdout",
     "output_type": "stream",
     "text": [
      "{1: 4, 2: 5, 3: 6}\n",
      "6\n"
     ]
    }
   ],
   "source": [
    "# accesing items by key\n",
    "print(r)\n",
    "print(r[3])"
   ]
  },
  {
   "cell_type": "code",
   "execution_count": 171,
   "id": "c3b2275d",
   "metadata": {},
   "outputs": [
    {
     "name": "stdout",
     "output_type": "stream",
     "text": [
      "{1: 4, 2: 5, 3: 6}\n"
     ]
    },
    {
     "ename": "KeyError",
     "evalue": "5",
     "output_type": "error",
     "traceback": [
      "\u001b[1;31m---------------------------------------------------------------------------\u001b[0m",
      "\u001b[1;31mKeyError\u001b[0m                                  Traceback (most recent call last)",
      "Cell \u001b[1;32mIn[171], line 3\u001b[0m\n\u001b[0;32m      1\u001b[0m \u001b[38;5;66;03m# keyerror if key is not present\u001b[39;00m\n\u001b[0;32m      2\u001b[0m \u001b[38;5;28mprint\u001b[39m(r)\n\u001b[1;32m----> 3\u001b[0m \u001b[38;5;28mprint\u001b[39m(r[\u001b[38;5;241m5\u001b[39m])\n",
      "\u001b[1;31mKeyError\u001b[0m: 5"
     ]
    }
   ],
   "source": [
    "# keyerror if key is not present\n",
    "print(r)\n",
    "print(r[5])\n"
   ]
  },
  {
   "cell_type": "code",
   "execution_count": 173,
   "id": "42b889b3",
   "metadata": {},
   "outputs": [
    {
     "name": "stdout",
     "output_type": "stream",
     "text": [
      "{1: 4, 2: 5, 3: 6}\n",
      "None\n"
     ]
    }
   ],
   "source": [
    "# return none if key is not present\n",
    "print(r)\n",
    "print(r.get(4))"
   ]
  },
  {
   "cell_type": "code",
   "execution_count": 176,
   "id": "911339b4",
   "metadata": {},
   "outputs": [
    {
     "name": "stdout",
     "output_type": "stream",
     "text": [
      "{1: 4, 2: 5, 3: 6}\n",
      "None keyError , key is not presented in the dictionary\n"
     ]
    }
   ],
   "source": [
    "# you can also give default value to return if key is not found\n",
    "print(r)\n",
    "print(r.get(20),\"keyError , key is not presented in the dictionary\")"
   ]
  },
  {
   "cell_type": "code",
   "execution_count": 192,
   "id": "e862d32f",
   "metadata": {},
   "outputs": [
    {
     "name": "stdout",
     "output_type": "stream",
     "text": [
      "{2: 5, 3: 6, 1: 3000}\n",
      "{2: 5, 3: 6, 1: 30000}\n",
      "{2: 5, 3: 6}\n",
      "{2: 5, 3: 6, 1: 3000}\n"
     ]
    }
   ],
   "source": [
    "# changing value at key\n",
    "print(r)\n",
    "# r.pop('1')\n",
    "r[1]= 30000\n",
    "print(r)\n",
    "r.pop(1)\n",
    "print(r)\n",
    "r[1]=3000\n",
    "print(r)"
   ]
  },
  {
   "cell_type": "code",
   "execution_count": 194,
   "id": "70e85ba4",
   "metadata": {},
   "outputs": [
    {
     "name": "stdout",
     "output_type": "stream",
     "text": [
      "yes\n"
     ]
    }
   ],
   "source": [
    "# checking if key is there in dict\n",
    "if 1 in r:\n",
    "    print('yes')"
   ]
  },
  {
   "cell_type": "code",
   "execution_count": 196,
   "id": "4c0b3e83",
   "metadata": {},
   "outputs": [
    {
     "data": {
      "text/plain": [
       "(3, 6)"
      ]
     },
     "execution_count": 196,
     "metadata": {},
     "output_type": "execute_result"
    }
   ],
   "source": [
    "r.popitem()\n"
   ]
  },
  {
   "cell_type": "code",
   "execution_count": 198,
   "id": "af0846c8",
   "metadata": {},
   "outputs": [
    {
     "name": "stdout",
     "output_type": "stream",
     "text": [
      "{2: 5}\n"
     ]
    }
   ],
   "source": [
    "print(r)"
   ]
  },
  {
   "cell_type": "code",
   "execution_count": null,
   "id": "2d4a0aaf",
   "metadata": {},
   "outputs": [],
   "source": []
  },
  {
   "cell_type": "code",
   "execution_count": 208,
   "id": "f119ef6a",
   "metadata": {},
   "outputs": [
    {
     "data": {
      "text/plain": [
       "122"
      ]
     },
     "execution_count": 208,
     "metadata": {},
     "output_type": "execute_result"
    }
   ],
   "source": [
    "# ord() -> this function\n",
    "string = \"z\"\n",
    "ord(string)"
   ]
  },
  {
   "cell_type": "code",
   "execution_count": 214,
   "id": "8b22a4f5",
   "metadata": {},
   "outputs": [
    {
     "name": "stdout",
     "output_type": "stream",
     "text": [
      "a\n"
     ]
    }
   ],
   "source": [
    "# chr \n",
    "integer = 97\n",
    "print(chr(integer))"
   ]
  },
  {
   "cell_type": "code",
   "execution_count": 221,
   "id": "7561f116",
   "metadata": {},
   "outputs": [
    {
     "name": "stdout",
     "output_type": "stream",
     "text": [
      "b\"this is the string now it's converting into the bytescode\"\n"
     ]
    }
   ],
   "source": [
    "# str.encode()\n",
    "string=\"this is the string now it's converting into the bytescode\"\n",
    "print(str.encode(string))\n"
   ]
  },
  {
   "cell_type": "code",
   "execution_count": 222,
   "id": "a55f3b86",
   "metadata": {},
   "outputs": [
    {
     "data": {
      "text/plain": [
       "\"this is the string now it's converting into the bytescode\""
      ]
     },
     "execution_count": 222,
     "metadata": {},
     "output_type": "execute_result"
    }
   ],
   "source": [
    "# bytes.decode()\n",
    "bytes.decode(b\"this is the string now it's converting into the bytescode\")"
   ]
  }
 ],
 "metadata": {
  "kernelspec": {
   "display_name": "base",
   "language": "python",
   "name": "python3"
  },
  "language_info": {
   "codemirror_mode": {
    "name": "ipython",
    "version": 3
   },
   "file_extension": ".py",
   "mimetype": "text/x-python",
   "name": "python",
   "nbconvert_exporter": "python",
   "pygments_lexer": "ipython3",
   "version": "3.11.5"
  }
 },
 "nbformat": 4,
 "nbformat_minor": 5
}
