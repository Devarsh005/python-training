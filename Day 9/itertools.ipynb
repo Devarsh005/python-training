{
 "cells": [
  {
   "cell_type": "markdown",
   "id": "539849ea",
   "metadata": {},
   "source": [
    "### what is itertool?\n",
    "    - itertool is module , which have a multiple inbuilt function , which is helpful to iterate the iterable.\n",
    "- ### list of itertool functions .\n",
    "    + chain()\n",
    "    + zip()\n",
    "    + zip_longest\n",
    "    + map()\n",
    "    + starmap()\n",
    "    + islice()\n",
    "    + count()\n",
    "    + repeat()\n",
    "    + cycle()\n",
    "    + tee()\n",
    "    + dropwhile()\n",
    "    + takewhile()\n"
   ]
  },
  {
   "cell_type": "code",
   "execution_count": 1,
   "id": "689dcd77",
   "metadata": {},
   "outputs": [],
   "source": [
    "from itertools import *"
   ]
  },
  {
   "cell_type": "markdown",
   "id": "b9d4b89c",
   "metadata": {},
   "source": [
    "### chain() method\n",
    "- take a multiple iterable and give a one single iterable"
   ]
  },
  {
   "cell_type": "code",
   "execution_count": 3,
   "id": "7d23890d",
   "metadata": {},
   "outputs": [],
   "source": [
    "# create a list\n",
    "numbers =[1,2,3,4,5]\n",
    "alphabet = ['a','b','c','d']\n",
    "\n",
    "Number_alphabet = chain(numbers,alphabet)"
   ]
  },
  {
   "cell_type": "code",
   "execution_count": null,
   "id": "f76347d7",
   "metadata": {},
   "outputs": [],
   "source": [
    "print(next(Number_alphabet))\n",
    "print(next(Number_alphabet))\n",
    "print(next(Number_alphabet))\n",
    "print(next(Number_alphabet))\n",
    "print(next(Number_alphabet))\n",
    "print(next(Number_alphabet))"
   ]
  },
  {
   "cell_type": "code",
   "execution_count": null,
   "id": "cf464465",
   "metadata": {},
   "outputs": [],
   "source": [
    "for i in chain(Number_alphabet):\n",
    "    print(i,end=' ')"
   ]
  },
  {
   "cell_type": "markdown",
   "id": "4599f962",
   "metadata": {},
   "source": [
    "### make iterable to chain\n"
   ]
  },
  {
   "cell_type": "code",
   "execution_count": null,
   "id": "601c45b8",
   "metadata": {},
   "outputs": [],
   "source": [
    "def make_iterable_to_chain():\n",
    "    num_odd_lt_40 = []\n",
    "    num_even_gt_40 = []\n",
    "\n",
    "    for num in range(100):\n",
    "        if num%2 and num <=40:\n",
    "            num_odd_lt_40.append(num)\n",
    "        elif not num%2 and num>=40:\n",
    "            num_even_gt_40.append(num)\n",
    "    yield num_even_gt_40\n",
    "    yield num_odd_lt_40"
   ]
  },
  {
   "cell_type": "code",
   "execution_count": null,
   "id": "458a744a",
   "metadata": {},
   "outputs": [],
   "source": [
    "# create a object first\n",
    "\n",
    "iterable_chain = chain.from_iterable(make_iterable_to_chain())\n",
    "print(next(iterable_chain))\n",
    "print(next(iterable_chain))\n",
    "print(next(iterable_chain))\n",
    "print(next(iterable_chain))\n",
    "print(next(iterable_chain))\n",
    "print(next(iterable_chain))\n",
    "print(next(iterable_chain))\n",
    "print(next(iterable_chain))\n",
    "print(next(iterable_chain))\n",
    "print(next(iterable_chain))\n",
    "print(next(iterable_chain))"
   ]
  },
  {
   "cell_type": "code",
   "execution_count": null,
   "id": "94d4cdb2",
   "metadata": {},
   "outputs": [],
   "source": [
    "for i in chain.from_iterable(make_iterable_to_chain()):\n",
    "    print(i,end=' ')"
   ]
  },
  {
   "cell_type": "markdown",
   "id": "3d582cee",
   "metadata": {},
   "source": [
    "## zip iterator"
   ]
  },
  {
   "cell_type": "code",
   "execution_count": 8,
   "id": "2227d675",
   "metadata": {},
   "outputs": [
    {
     "name": "stdout",
     "output_type": "stream",
     "text": [
      "(1, 'a')\n",
      "(2, 'b')\n",
      "(3, 'c')\n",
      "(4, 'd')\n"
     ]
    }
   ],
   "source": [
    "# i have a two list \n",
    "# and i want to combine it\n",
    "numbers =[1,2,3,4,5]\n",
    "alphabet = ['a','b','c','d']\n",
    "\n",
    "new = zip(numbers,alphabet)\n",
    "print(next(new))\n",
    "print(next(new))\n",
    "print(next(new))\n",
    "print(next(new))"
   ]
  },
  {
   "cell_type": "code",
   "execution_count": 6,
   "id": "a292e4e6",
   "metadata": {},
   "outputs": [
    {
     "name": "stdout",
     "output_type": "stream",
     "text": [
      "1:a 2:b 3:c 4:d "
     ]
    }
   ],
   "source": [
    "for i,j in zip(numbers,alphabet):\n",
    "    print(f\"{i}:{j}\",end=\" \")"
   ]
  },
  {
   "cell_type": "markdown",
   "id": "2a2cbf02",
   "metadata": {},
   "source": [
    "## zip longest\n",
    "- same as zip , but if size is not match than zip longest used"
   ]
  },
  {
   "cell_type": "code",
   "execution_count": 9,
   "id": "db794366",
   "metadata": {},
   "outputs": [
    {
     "name": "stdout",
     "output_type": "stream",
     "text": [
      "<itertools.zip_longest object at 0x000001DDC8391850>\n",
      "(1, 'a')\n",
      "(2, 'b')\n",
      "(3, 'c')\n",
      "(4, 'd')\n",
      "(5, None)\n",
      "(9, None)\n",
      "(8, None)\n",
      "(7, None)\n",
      "(6, None)\n",
      "(2, None)\n"
     ]
    }
   ],
   "source": [
    "numbers =[1,2,3,4,5,9,8,7,6,2]\n",
    "alphabet = ['a','b','c','d']\n",
    "\n",
    "new = zip_longest(numbers,alphabet)\n",
    "print(new)\n",
    "print(next(new))\n",
    "print(next(new))\n",
    "print(next(new))\n",
    "print(next(new))\n",
    "print(next(new))\n",
    "print(next(new))\n",
    "print(next(new))\n",
    "print(next(new))\n",
    "print(next(new))\n",
    "print(next(new))\n"
   ]
  },
  {
   "cell_type": "code",
   "execution_count": 10,
   "id": "2aae2aca",
   "metadata": {},
   "outputs": [
    {
     "name": "stdout",
     "output_type": "stream",
     "text": [
      "1 : a 2 : b 3 : c 4 : d 5 : None 9 : None 8 : None 7 : None 6 : None 2 : None "
     ]
    }
   ],
   "source": [
    "\n",
    "for num , alph in zip_longest(numbers,alphabet):\n",
    "    print(f'{num} : {alph}',end=' ')"
   ]
  },
  {
   "cell_type": "markdown",
   "id": "654578e1",
   "metadata": {},
   "source": [
    "### isslice()"
   ]
  },
  {
   "cell_type": "code",
   "execution_count": 11,
   "id": "0a151287",
   "metadata": {},
   "outputs": [],
   "source": [
    "a_dict = {'a': 0, 'b': 1, 'c': 2, 'd': 3, 'e': 4, 'f': 5, 'g': 6, 'h': 7, 'i': 8, 'j': 9}\n",
    "\n",
    "# create a object\n",
    "slice_object = islice(a_dict,6)"
   ]
  },
  {
   "cell_type": "code",
   "execution_count": 12,
   "id": "663dfa63",
   "metadata": {},
   "outputs": [
    {
     "name": "stdout",
     "output_type": "stream",
     "text": [
      "<itertools.islice object at 0x000001DDC77026B0>\n",
      "a\n",
      "b\n",
      "c\n",
      "d\n",
      "e\n",
      "f\n"
     ]
    },
    {
     "ename": "StopIteration",
     "evalue": "",
     "output_type": "error",
     "traceback": [
      "\u001b[1;31m---------------------------------------------------------------------------\u001b[0m",
      "\u001b[1;31mStopIteration\u001b[0m                             Traceback (most recent call last)",
      "Cell \u001b[1;32mIn[12], line 8\u001b[0m\n\u001b[0;32m      6\u001b[0m \u001b[38;5;28mprint\u001b[39m(\u001b[38;5;28mnext\u001b[39m(slice_object))\n\u001b[0;32m      7\u001b[0m \u001b[38;5;28mprint\u001b[39m(\u001b[38;5;28mnext\u001b[39m(slice_object))\n\u001b[1;32m----> 8\u001b[0m \u001b[38;5;28mprint\u001b[39m(\u001b[38;5;28mnext\u001b[39m(slice_object))\n\u001b[0;32m      9\u001b[0m \u001b[38;5;28mprint\u001b[39m(\u001b[38;5;28mnext\u001b[39m(slice_object))\n",
      "\u001b[1;31mStopIteration\u001b[0m: "
     ]
    }
   ],
   "source": [
    "print(slice_object)\n",
    "print(next(slice_object))\n",
    "print(next(slice_object))\n",
    "print(next(slice_object))\n",
    "print(next(slice_object))\n",
    "print(next(slice_object))\n",
    "print(next(slice_object))\n",
    "print(next(slice_object))\n",
    "print(next(slice_object))"
   ]
  },
  {
   "cell_type": "code",
   "execution_count": 13,
   "id": "dfe7c3bc",
   "metadata": {},
   "outputs": [
    {
     "name": "stdout",
     "output_type": "stream",
     "text": [
      "<itertools.islice object at 0x000001DDC7702700>\n",
      "d\n",
      "e\n",
      "f\n"
     ]
    },
    {
     "ename": "StopIteration",
     "evalue": "",
     "output_type": "error",
     "traceback": [
      "\u001b[1;31m---------------------------------------------------------------------------\u001b[0m",
      "\u001b[1;31mStopIteration\u001b[0m                             Traceback (most recent call last)",
      "Cell \u001b[1;32mIn[13], line 7\u001b[0m\n\u001b[0;32m      5\u001b[0m \u001b[38;5;28mprint\u001b[39m(\u001b[38;5;28mnext\u001b[39m(slice_object2))\n\u001b[0;32m      6\u001b[0m \u001b[38;5;28mprint\u001b[39m(\u001b[38;5;28mnext\u001b[39m(slice_object2))\n\u001b[1;32m----> 7\u001b[0m \u001b[38;5;28mprint\u001b[39m(\u001b[38;5;28mnext\u001b[39m(slice_object2))\n\u001b[0;32m      8\u001b[0m \u001b[38;5;28mprint\u001b[39m(\u001b[38;5;28mnext\u001b[39m(slice_object2))\n",
      "\u001b[1;31mStopIteration\u001b[0m: "
     ]
    }
   ],
   "source": [
    "# now slice start = 3 end = 6\n",
    "slice_object2 = islice(a_dict,3,6)\n",
    "print(slice_object2)\n",
    "print(next(slice_object2))\n",
    "print(next(slice_object2))\n",
    "print(next(slice_object2))\n",
    "print(next(slice_object2))\n",
    "print(next(slice_object2))"
   ]
  },
  {
   "cell_type": "code",
   "execution_count": 14,
   "id": "6a62eb8f",
   "metadata": {},
   "outputs": [
    {
     "name": "stdout",
     "output_type": "stream",
     "text": [
      "<itertools.islice object at 0x000001DDC83BBA60>\n",
      "c\n",
      "e\n",
      "g\n"
     ]
    }
   ],
   "source": [
    "# now start = 2 end=7 step =2 \n",
    "slice_object3 = islice(a_dict,2,7,2)\n",
    "print(slice_object3)\n",
    "print(next(slice_object3))\n",
    "print(next(slice_object3))\n",
    "print(next(slice_object3))"
   ]
  },
  {
   "cell_type": "code",
   "execution_count": 15,
   "id": "01504c37",
   "metadata": {},
   "outputs": [
    {
     "name": "stdout",
     "output_type": "stream",
     "text": [
      "a c e g "
     ]
    }
   ],
   "source": [
    "for i in islice(a_dict,0,8,2):\n",
    "    print(i,end=' ')"
   ]
  },
  {
   "cell_type": "markdown",
   "id": "5b1cf4d2",
   "metadata": {},
   "source": [
    "## tee() \n",
    "- return multiple iterator \n",
    "- default value is 2 , in below example it's default"
   ]
  },
  {
   "cell_type": "code",
   "execution_count": 16,
   "id": "957c35bc",
   "metadata": {},
   "outputs": [
    {
     "name": "stdout",
     "output_type": "stream",
     "text": [
      "D\n",
      "e\n",
      "v\n",
      "a\n",
      "D\n",
      "e\n",
      "v\n",
      "a\n",
      "r\n",
      "s\n",
      "h\n"
     ]
    }
   ],
   "source": [
    "a_string = 'Devarsh'\n",
    "\n",
    "t1,t2 = tee(a_string)\n",
    "print(next(t1))\n",
    "print(next(t1))\n",
    "print(next(t1))\n",
    "print(next(t1))\n",
    "print(next(t2))\n",
    "print(next(t2))\n",
    "print(next(t2))\n",
    "print(next(t2))\n",
    "print(next(t2))\n",
    "print(next(t2))\n",
    "print(next(t2))"
   ]
  },
  {
   "cell_type": "code",
   "execution_count": 17,
   "id": "1a871d91",
   "metadata": {},
   "outputs": [
    {
     "name": "stdout",
     "output_type": "stream",
     "text": [
      "D e v a r s h \n",
      "D e v a r s h "
     ]
    }
   ],
   "source": [
    "a_string = 'Devarsh'\n",
    "\n",
    "t1,t2,t3,t4,t5 = tee(a_string,5)\n",
    "# print(next(t1),end=\" \")\n",
    "# print(next(t1),end=\" \")\n",
    "# print(next(t1),end=\" \")\n",
    "# print(next(t1),end=\" \")\n",
    "# print(next(t2),end=\" \")\n",
    "# print(next(t2),end=\" \")\n",
    "# print(next(t3),end=\" \")\n",
    "# print(next(t3),end=\" \")\n",
    "# print(next(t3),end=\" \")\n",
    "# print(next(t3),end=\" \")\n",
    "# print(next(t4),end=\" \")\n",
    "# print(next(t4),end=\" \")\n",
    "# print(next(t4),end=\" \")\n",
    "# print(next(t4),end=\" \")\n",
    "# print(next(t5),end=\" \")\n",
    "# print(next(t5),end=\" \")\n",
    "\n",
    "\n",
    "# in for loop\n",
    "t1,t2,t3,t4,t5 = tee(a_string,5)\n",
    "for i in t1:\n",
    "    print(i,end=' ')\n",
    "print()\n",
    "for i in t2:\n",
    "    print(i,end=' ')\n"
   ]
  },
  {
   "cell_type": "markdown",
   "id": "4bd8a4cb",
   "metadata": {},
   "source": [
    "## map()\n",
    "- ### what does map function?\n",
    "    + if you want to apply that function on over all elements \n",
    "    + so , that time map function gives you to functionality\n",
    "    + you give function and iterable , map function iterate over iterable one by one and perform the function and store the value"
   ]
  },
  {
   "cell_type": "code",
   "execution_count": 18,
   "id": "8aa33ce5",
   "metadata": {},
   "outputs": [
    {
     "name": "stdout",
     "output_type": "stream",
     "text": [
      "5 10 15 20 25 30 35 "
     ]
    }
   ],
   "source": [
    "def division(n):\n",
    "    return n//2 \n",
    "li= [10,20,30,40,50,60,70]\n",
    "result = map(division,li)\n",
    "\n",
    "# results\n",
    "print(next(result),end=\" \")\n",
    "print(next(result),end=\" \")\n",
    "print(next(result),end=\" \")\n",
    "print(next(result),end=\" \")\n",
    "print(next(result),end=\" \")\n",
    "print(next(result),end=\" \")\n",
    "print(next(result),end=\" \")"
   ]
  },
  {
   "cell_type": "code",
   "execution_count": 19,
   "id": "9699c6e7",
   "metadata": {},
   "outputs": [
    {
     "name": "stdout",
     "output_type": "stream",
     "text": [
      "5 10 15 20 25 30 35 "
     ]
    }
   ],
   "source": [
    "# now using loop\n",
    "\n",
    "for i in map(division,li):\n",
    "    print(i,end=\" \")\n"
   ]
  },
  {
   "cell_type": "markdown",
   "id": "8d9c4169",
   "metadata": {},
   "source": [
    "### starmap()\n",
    "-  in that the function takes two argument then we can use this\n"
   ]
  },
  {
   "cell_type": "code",
   "execution_count": null,
   "id": "a2f95c59",
   "metadata": {},
   "outputs": [],
   "source": [
    "import math \n",
    "\n",
    "li = [(20,2),(30,6),(35,7)]\n",
    "\n",
    "result = starmap(math.pow(),li)\n",
    "print(result)"
   ]
  },
  {
   "cell_type": "markdown",
   "id": "395f01c3",
   "metadata": {},
   "source": [
    "### cycle()"
   ]
  },
  {
   "cell_type": "code",
   "execution_count": 22,
   "id": "bae842f6",
   "metadata": {},
   "outputs": [
    {
     "name": "stdout",
     "output_type": "stream",
     "text": [
      "(0, 20)\n",
      "(1, 30)\n",
      "(2, 40)\n",
      "(3, 20)\n",
      "(4, 30)\n"
     ]
    }
   ],
   "source": [
    "for i in zip(range(5),cycle([20,30,40])):\n",
    "    print(i)"
   ]
  },
  {
   "cell_type": "markdown",
   "id": "2345cde0",
   "metadata": {},
   "source": [
    "### repeat()"
   ]
  },
  {
   "cell_type": "code",
   "execution_count": 23,
   "id": "4b57ee78",
   "metadata": {},
   "outputs": [
    {
     "name": "stdout",
     "output_type": "stream",
     "text": [
      "[10, 20]\n",
      "[10, 20]\n",
      "[10, 20]\n"
     ]
    }
   ],
   "source": [
    "for i in repeat([10,20],3):\n",
    "    print(i)"
   ]
  },
  {
   "cell_type": "markdown",
   "id": "061a99db",
   "metadata": {},
   "source": [
    "### counter()"
   ]
  },
  {
   "cell_type": "code",
   "execution_count": 24,
   "id": "2af34044",
   "metadata": {},
   "outputs": [
    {
     "name": "stdout",
     "output_type": "stream",
     "text": [
      "0 1 2 3 4 5 6 7 8 9 10 11 12 13 14 15 16 17 18 19 20 21 22 23 24 25 26 27 28 \n",
      "5 6 7 8 9 10 \n",
      "20 25 30 35 40 \n",
      "0 1 2 3 4 5 6 7 8 9 10 11 12 13 14 15 16 17 18 19 20 21 22 23 24 25 26 27 28 29 30 31 32 33 34 35 36 37 38 39 40 41 42 43 44 45 46 47 48 49 50 51 52 53 54 55 56 57 58 59 60 61 62 63 64 65 66 67 68 69 70 71 72 73 74 75 76 77 78 79 80 81 82 83 84 85 86 87 88 89 90 91 92 93 94 95 96 97 98 99 "
     ]
    }
   ],
   "source": [
    "counter = count()\n",
    "\n",
    "print(next(counter),end=\" \")\n",
    "print(next(counter),end=\" \")\n",
    "print(next(counter),end=\" \")\n",
    "print(next(counter),end=\" \")\n",
    "print(next(counter),end=\" \")\n",
    "print(next(counter),end=\" \")\n",
    "print(next(counter),end=\" \")\n",
    "print(next(counter),end=\" \")\n",
    "print(next(counter),end=\" \")\n",
    "print(next(counter),end=\" \")\n",
    "print(next(counter),end=\" \")\n",
    "print(next(counter),end=\" \")\n",
    "print(next(counter),end=\" \")\n",
    "print(next(counter),end=\" \")\n",
    "print(next(counter),end=\" \")\n",
    "print(next(counter),end=\" \")\n",
    "print(next(counter),end=\" \")\n",
    "print(next(counter),end=\" \")\n",
    "print(next(counter),end=\" \")\n",
    "print(next(counter),end=\" \")\n",
    "print(next(counter),end=\" \")\n",
    "print(next(counter),end=\" \")\n",
    "print(next(counter),end=\" \")\n",
    "print(next(counter),end=\" \")\n",
    "print(next(counter),end=\" \")\n",
    "print(next(counter),end=\" \")\n",
    "print(next(counter),end=\" \")\n",
    "print(next(counter),end=\" \")\n",
    "print(next(counter),end=\" \")\n",
    "print()\n",
    "# start with 5\n",
    "counter1 = count(5)\n",
    "print(next(counter1),end=\" \")\n",
    "print(next(counter1),end=\" \")\n",
    "print(next(counter1),end=\" \")\n",
    "print(next(counter1),end=\" \")\n",
    "print(next(counter1),end=\" \")\n",
    "print(next(counter1),end=\" \")\n",
    "print()\n",
    "# start with 5 and 5 steps\n",
    "counter2 = count(20,5)\n",
    "print(next(counter2),end=\" \")\n",
    "print(next(counter2),end=\" \")\n",
    "print(next(counter2),end=\" \")\n",
    "print(next(counter2),end=\" \")\n",
    "print(next(counter2),end=\" \")\n",
    "print()\n",
    "# for loop\n",
    "counter4 = count()\n",
    "for i in counter4:\n",
    "    if i<100:\n",
    "        print(i,end=\" \")\n",
    "    else:\n",
    "        break\n"
   ]
  },
  {
   "cell_type": "markdown",
   "id": "4c755f46",
   "metadata": {},
   "source": [
    "### dropwhile() \n",
    "    ## steps\n",
    "        - iterate over itrable\n",
    "        - if function giving false after that print all remaining element print without further checking"
   ]
  },
  {
   "cell_type": "code",
   "execution_count": 25,
   "id": "6d39335f",
   "metadata": {},
   "outputs": [
    {
     "name": "stdout",
     "output_type": "stream",
     "text": [
      "-22\n",
      "-4\n",
      "8\n",
      "9\n"
     ]
    }
   ],
   "source": [
    "def greaterthanZero(n):\n",
    "    return n > 0\n",
    "number_of_list=[6,90,2,3,-22,-4,8,9]\n",
    "for i in dropwhile(greaterthanZero,number_of_list):\n",
    "    print(i)"
   ]
  },
  {
   "cell_type": "markdown",
   "id": "9844a4e5",
   "metadata": {},
   "source": [
    "### takewhile()\n",
    "    ## steps\n",
    "        - opposite of dropwhile.\n",
    "        - iterate over iterable .\n",
    "        - print iterable one by one even condition is not giving False.\n",
    "        - when function giving false it's terminate the iteration and stop there."
   ]
  },
  {
   "cell_type": "code",
   "execution_count": 26,
   "id": "934a520e",
   "metadata": {},
   "outputs": [
    {
     "name": "stdout",
     "output_type": "stream",
     "text": [
      "6\n",
      "90\n",
      "2\n",
      "3\n"
     ]
    }
   ],
   "source": [
    "for i in takewhile(greaterthanZero,number_of_list):\n",
    "    print(i)"
   ]
  },
  {
   "cell_type": "markdown",
   "id": "88559a32",
   "metadata": {},
   "source": [
    "### filter()\n",
    "    # steps\n",
    "        - check one by one element of iterator object and return or print only whose match the function conditions."
   ]
  },
  {
   "cell_type": "code",
   "execution_count": 27,
   "id": "c9e0090e",
   "metadata": {},
   "outputs": [
    {
     "name": "stdout",
     "output_type": "stream",
     "text": [
      "6\n",
      "90\n",
      "2\n",
      "3\n",
      "8\n",
      "9\n"
     ]
    }
   ],
   "source": [
    "for i in filter(greaterthanZero,number_of_list):\n",
    "    print(i)"
   ]
  },
  {
   "cell_type": "markdown",
   "id": "09a56596",
   "metadata": {},
   "source": [
    "### filterfalse()\n",
    "    # steps\n",
    "- opposite of filter()\n",
    "-   check one by one element of iterator object and return only the False statements"
   ]
  },
  {
   "cell_type": "code",
   "execution_count": 28,
   "id": "c0df3f6f",
   "metadata": {},
   "outputs": [
    {
     "name": "stdout",
     "output_type": "stream",
     "text": [
      "-22\n",
      "-4\n"
     ]
    }
   ],
   "source": [
    "for i in filterfalse(greaterthanZero,number_of_list):\n",
    "    print(i)"
   ]
  },
  {
   "cell_type": "code",
   "execution_count": 29,
   "id": "60231c7f",
   "metadata": {},
   "outputs": [
    {
     "name": "stdout",
     "output_type": "stream",
     "text": [
      "3\n",
      "6\n",
      "9\n"
     ]
    }
   ],
   "source": [
    "selectors = cycle([False,False,True])\n",
    "for i in compress(range(1,10),selectors):\n",
    "    print(i)"
   ]
  },
  {
   "cell_type": "markdown",
   "id": "3a08c40f",
   "metadata": {},
   "source": [
    "### groupby()"
   ]
  },
  {
   "cell_type": "code",
   "execution_count": 50,
   "id": "5dfc05dc",
   "metadata": {},
   "outputs": [
    {
     "name": "stdout",
     "output_type": "stream",
     "text": [
      "animal\n",
      "bear duck \n",
      "plant\n",
      "cactus \n",
      "vehicle\n",
      "speed boat school bus \n"
     ]
    }
   ],
   "source": [
    "things = [(\"animal\", \"bear\"), (\"animal\", \"duck\"), \n",
    "          (\"plant\", \"cactus\"), (\"vehicle\", \"speed boat\"), \n",
    "          (\"vehicle\", \"school bus\")]\n",
    "def things_groupby(thing_group):\n",
    "    for item in thing_group:\n",
    "        return thing_group[0]\n",
    "for key,group in groupby(things,key=things_groupby):\n",
    "    print(f'{key}')\n",
    "    for thing in group:\n",
    "        print(thing[1],end=' ')\n",
    "    print()"
   ]
  },
  {
   "cell_type": "markdown",
   "id": "02f86030",
   "metadata": {},
   "source": [
    "### Accumulate()"
   ]
  },
  {
   "cell_type": "code",
   "execution_count": 30,
   "id": "93a82d72",
   "metadata": {},
   "outputs": [
    {
     "name": "stdout",
     "output_type": "stream",
     "text": [
      "1\n",
      "3\n",
      "6\n",
      "10\n",
      "14\n",
      "23\n",
      "31\n",
      "38\n",
      "44\n",
      "Devarsh\n",
      "Devarshharshil\n",
      "Devarshharshildivanshu\n",
      "Devarshharshildivanshumohit\n"
     ]
    }
   ],
   "source": [
    "number_of_list = [1,2,3,4,4,9,8,7,6]\n",
    "for i in accumulate(number_of_list):\n",
    "    print(i)\n",
    "\n",
    "list_of_name = ['Devarsh','harshil','divanshu','mohit']\n",
    "for i in accumulate(list_of_name):\n",
    "    print(i)"
   ]
  },
  {
   "cell_type": "code",
   "execution_count": 31,
   "id": "bf0b7c06",
   "metadata": {},
   "outputs": [
    {
     "name": "stdout",
     "output_type": "stream",
     "text": [
      "(1, 4)\n",
      "(1, 5)\n",
      "(1, 6)\n",
      "(2, 4)\n",
      "(2, 5)\n",
      "(2, 6)\n",
      "(3, 4)\n",
      "(3, 5)\n",
      "(3, 6)\n"
     ]
    }
   ],
   "source": [
    "num1 = [1,2,3]\n",
    "num2 = [4,5,6]\n",
    "\n",
    "for num in product(num1,num2):\n",
    "    print(num)"
   ]
  },
  {
   "cell_type": "code",
   "execution_count": 32,
   "id": "093fb327",
   "metadata": {},
   "outputs": [
    {
     "name": "stdout",
     "output_type": "stream",
     "text": [
      "(1, 'Devarsh')\n",
      "(1, 'deva')\n",
      "(2, 'Devarsh')\n",
      "(2, 'deva')\n",
      "(3, 'Devarsh')\n",
      "(3, 'deva')\n"
     ]
    }
   ],
   "source": [
    "num1 = [1,2,3]\n",
    "num2 = ['Devarsh','deva']\n",
    "\n",
    "for num in product(num1,num2):\n",
    "    print(num)"
   ]
  },
  {
   "cell_type": "code",
   "execution_count": 33,
   "id": "2bf9e352",
   "metadata": {},
   "outputs": [
    {
     "name": "stdout",
     "output_type": "stream",
     "text": [
      "('Devarsh', 1)\n",
      "('Devarsh', 2)\n",
      "('Devarsh', 3)\n",
      "('deva', 1)\n",
      "('deva', 2)\n",
      "('deva', 3)\n"
     ]
    }
   ],
   "source": [
    "num1 = [1,2,3]\n",
    "num2 = ['Devarsh','deva']\n",
    "\n",
    "for num in product(num2,num1):\n",
    "    print(num)"
   ]
  },
  {
   "cell_type": "code",
   "execution_count": 34,
   "id": "16956d77",
   "metadata": {},
   "outputs": [
    {
     "name": "stdout",
     "output_type": "stream",
     "text": [
      "(1, 1)\n",
      "(1, 2)\n",
      "(1, 3)\n",
      "(2, 1)\n",
      "(2, 2)\n",
      "(2, 3)\n",
      "(3, 1)\n",
      "(3, 2)\n",
      "(3, 3)\n"
     ]
    }
   ],
   "source": [
    "num1 = [1,2,3]\n",
    "\n",
    "for num in product(num1,num1):\n",
    "    print(num)"
   ]
  },
  {
   "cell_type": "markdown",
   "id": "d24f3db4",
   "metadata": {},
   "source": [
    "### permutation"
   ]
  },
  {
   "cell_type": "code",
   "execution_count": 35,
   "id": "34df03f2",
   "metadata": {},
   "outputs": [
    {
     "name": "stdout",
     "output_type": "stream",
     "text": [
      "(('a', 'b', 'c'), ('a', 'c', 'b'), ('b', 'a', 'c'), ('b', 'c', 'a'), ('c', 'a', 'b'), ('c', 'b', 'a'))\n"
     ]
    }
   ],
   "source": [
    "print(tuple(permutations('abc')))"
   ]
  },
  {
   "cell_type": "code",
   "execution_count": 36,
   "id": "1f1cdea4",
   "metadata": {},
   "outputs": [
    {
     "name": "stdout",
     "output_type": "stream",
     "text": [
      "(('a',), ('b',), ('c',))\n"
     ]
    }
   ],
   "source": [
    "print(tuple(permutations('abc',r=1)))"
   ]
  },
  {
   "cell_type": "code",
   "execution_count": 37,
   "id": "70bba68e",
   "metadata": {},
   "outputs": [
    {
     "name": "stdout",
     "output_type": "stream",
     "text": [
      "(('a', 'b'), ('a', 'c'), ('b', 'a'), ('b', 'c'), ('c', 'a'), ('c', 'b'))\n"
     ]
    }
   ],
   "source": [
    "print(tuple(permutations('abc',r=2)))"
   ]
  },
  {
   "cell_type": "code",
   "execution_count": 38,
   "id": "0f731ce9",
   "metadata": {},
   "outputs": [
    {
     "name": "stdout",
     "output_type": "stream",
     "text": [
      "()\n"
     ]
    }
   ],
   "source": [
    "print(tuple(permutations('abc',r=4)))"
   ]
  },
  {
   "cell_type": "code",
   "execution_count": 39,
   "id": "417ac55b",
   "metadata": {},
   "outputs": [
    {
     "name": "stdout",
     "output_type": "stream",
     "text": [
      "((),)\n"
     ]
    }
   ],
   "source": [
    "print(tuple(permutations('abc',r=0)))"
   ]
  },
  {
   "cell_type": "code",
   "execution_count": 40,
   "id": "7c1f1cd9",
   "metadata": {},
   "outputs": [
    {
     "name": "stdout",
     "output_type": "stream",
     "text": [
      "()\n"
     ]
    }
   ],
   "source": [
    "print(tuple(permutations('abc',r=5)))"
   ]
  },
  {
   "cell_type": "code",
   "execution_count": 41,
   "id": "8582c220",
   "metadata": {},
   "outputs": [
    {
     "name": "stdout",
     "output_type": "stream",
     "text": [
      "((1, 2), (1, 3), (1, 4), (1, 5), (2, 1), (2, 3), (2, 4), (2, 5), (3, 1), (3, 2), (3, 4), (3, 5), (4, 1), (4, 2), (4, 3), (4, 5), (5, 1), (5, 2), (5, 3), (5, 4))\n"
     ]
    }
   ],
   "source": [
    "print(tuple(permutations([1,2,3,4,5],r=2)))"
   ]
  },
  {
   "cell_type": "code",
   "execution_count": 44,
   "id": "b55ef262",
   "metadata": {},
   "outputs": [
    {
     "name": "stdout",
     "output_type": "stream",
     "text": [
      "((1, 2), (1, 3), (1, 6), (2, 1), (2, 3), (2, 6), (3, 1), (3, 2), (3, 6), (6, 1), (6, 2), (6, 3))\n"
     ]
    }
   ],
   "source": [
    "print(tuple(permutations([1,2,3,6],r=2)))"
   ]
  },
  {
   "cell_type": "code",
   "execution_count": 42,
   "id": "bbf32c69",
   "metadata": {},
   "outputs": [
    {
     "name": "stdout",
     "output_type": "stream",
     "text": [
      "((1, 2), (1, 3), (1, 6), (2, 3), (2, 6), (3, 6))\n"
     ]
    }
   ],
   "source": [
    "print(tuple(combinations([1,2,3,6],r=2)))"
   ]
  },
  {
   "cell_type": "code",
   "execution_count": 43,
   "id": "b09ec659",
   "metadata": {},
   "outputs": [
    {
     "name": "stdout",
     "output_type": "stream",
     "text": [
      "((1, 2, 3), (1, 2, 5), (1, 2, 8), (1, 2, 6), (1, 3, 5), (1, 3, 8), (1, 3, 6), (1, 5, 8), (1, 5, 6), (1, 8, 6), (2, 3, 5), (2, 3, 8), (2, 3, 6), (2, 5, 8), (2, 5, 6), (2, 8, 6), (3, 5, 8), (3, 5, 6), (3, 8, 6), (5, 8, 6))\n"
     ]
    }
   ],
   "source": [
    "print(tuple(combinations([1,2,3,5,8,6],r=3)))"
   ]
  },
  {
   "cell_type": "markdown",
   "id": "28854613",
   "metadata": {},
   "source": [
    "### combination with replacement items"
   ]
  },
  {
   "cell_type": "code",
   "execution_count": 45,
   "id": "28287b78",
   "metadata": {},
   "outputs": [
    {
     "data": {
      "text/plain": [
       "((2, 2),\n",
       " (2, 3),\n",
       " (2, 1),\n",
       " (2, 6),\n",
       " (3, 3),\n",
       " (3, 1),\n",
       " (3, 6),\n",
       " (1, 1),\n",
       " (1, 6),\n",
       " (6, 6))"
      ]
     },
     "execution_count": 45,
     "metadata": {},
     "output_type": "execute_result"
    }
   ],
   "source": [
    "tuple(combinations_with_replacement((2,3,1,6),r=2))"
   ]
  },
  {
   "cell_type": "code",
   "execution_count": 46,
   "id": "5848c7cd",
   "metadata": {},
   "outputs": [
    {
     "data": {
      "text/plain": [
       "((2, 2, 2),\n",
       " (2, 2, 3),\n",
       " (2, 2, 1),\n",
       " (2, 2, 6),\n",
       " (2, 3, 3),\n",
       " (2, 3, 1),\n",
       " (2, 3, 6),\n",
       " (2, 1, 1),\n",
       " (2, 1, 6),\n",
       " (2, 6, 6),\n",
       " (3, 3, 3),\n",
       " (3, 3, 1),\n",
       " (3, 3, 6),\n",
       " (3, 1, 1),\n",
       " (3, 1, 6),\n",
       " (3, 6, 6),\n",
       " (1, 1, 1),\n",
       " (1, 1, 6),\n",
       " (1, 6, 6),\n",
       " (6, 6, 6))"
      ]
     },
     "execution_count": 46,
     "metadata": {},
     "output_type": "execute_result"
    }
   ],
   "source": [
    "tuple(combinations_with_replacement((2,3,1,6),r=3))"
   ]
  },
  {
   "cell_type": "code",
   "execution_count": 47,
   "id": "513cfe56",
   "metadata": {},
   "outputs": [
    {
     "name": "stdout",
     "output_type": "stream",
     "text": [
      "((1, 4), (2, 5), (3, 6))\n"
     ]
    }
   ],
   "source": [
    "p = [[1,2,3],[4,5,6]]\n",
    "print(tuple(zip(*p)))"
   ]
  },
  {
   "cell_type": "code",
   "execution_count": 48,
   "id": "62e78dc2",
   "metadata": {},
   "outputs": [
    {
     "name": "stdout",
     "output_type": "stream",
     "text": [
      "((1, 2, 3), (4, 5, 6))\n"
     ]
    }
   ],
   "source": [
    "print(tuple(zip((1, 4), (2, 5), (3, 6))))"
   ]
  },
  {
   "cell_type": "code",
   "execution_count": 49,
   "id": "4749435f",
   "metadata": {},
   "outputs": [
    {
     "name": "stdout",
     "output_type": "stream",
     "text": [
      "((1, 1), (2, 2), (3, 3), (5, 5), (6, 6))\n"
     ]
    }
   ],
   "source": [
    "p = [[1,2,3,5,6],[1,2,3,5,6]]\n",
    "print(tuple(zip(*p)))"
   ]
  },
  {
   "cell_type": "code",
   "execution_count": null,
   "id": "c10288b9",
   "metadata": {},
   "outputs": [],
   "source": []
  }
 ],
 "metadata": {
  "kernelspec": {
   "display_name": "base",
   "language": "python",
   "name": "python3"
  },
  "language_info": {
   "codemirror_mode": {
    "name": "ipython",
    "version": 3
   },
   "file_extension": ".py",
   "mimetype": "text/x-python",
   "name": "python",
   "nbconvert_exporter": "python",
   "pygments_lexer": "ipython3",
   "version": "3.11.5"
  }
 },
 "nbformat": 4,
 "nbformat_minor": 5
}
