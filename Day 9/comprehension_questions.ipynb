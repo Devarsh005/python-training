{
 "cells": [
  {
   "cell_type": "markdown",
   "id": "f5c2b74d",
   "metadata": {},
   "source": [
    "## list comprehension questions"
   ]
  },
  {
   "cell_type": "markdown",
   "id": "e68df918",
   "metadata": {},
   "source": [
    "### 1.\tCreate a list of squares for numbers between 1 to 20, but only for even numbers"
   ]
  },
  {
   "cell_type": "code",
   "execution_count": 7,
   "id": "ecb9bc89",
   "metadata": {},
   "outputs": [
    {
     "data": {
      "text/plain": [
       "[4, 16, 36, 64, 100, 144, 196, 256, 324]"
      ]
     },
     "execution_count": 7,
     "metadata": {},
     "output_type": "execute_result"
    }
   ],
   "source": [
    "[numer**2 for numer in range(1,20) if numer%2==0]"
   ]
  },
  {
   "cell_type": "markdown",
   "id": "0dcece3b",
   "metadata": {},
   "source": [
    "### 2.\tReturn all words with length greater than 5 from a sentence using list comprehension"
   ]
  },
  {
   "cell_type": "code",
   "execution_count": 9,
   "id": "605c0d55",
   "metadata": {},
   "outputs": [
    {
     "data": {
      "text/plain": [
       "['banana', 'grapes', 'watermelon', 'pineple']"
      ]
     },
     "execution_count": 9,
     "metadata": {},
     "output_type": "execute_result"
    }
   ],
   "source": [
    "fruits = ['apple','banana','grapes','watermelon','gauva','pineple']\n",
    "[words for words in fruits if len(words)>5]"
   ]
  },
  {
   "cell_type": "markdown",
   "id": "43546425",
   "metadata": {},
   "source": [
    "### 3.\tExtract only digits from the string \"abc123xyz456\" using list comprehension."
   ]
  },
  {
   "cell_type": "code",
   "execution_count": 1,
   "id": "c02a7b6d",
   "metadata": {},
   "outputs": [
    {
     "data": {
      "text/plain": [
       "['1', '2', '3', '4', '5', '6']"
      ]
     },
     "execution_count": 1,
     "metadata": {},
     "output_type": "execute_result"
    }
   ],
   "source": [
    "string = 'abc123xyz456'\n",
    "[digit for digit in string if digit.isdigit()]"
   ]
  },
  {
   "cell_type": "markdown",
   "id": "f2f443f2",
   "metadata": {},
   "source": [
    "### 4.\tConvert all strings in [\"HELLO\", \"WORLD\", \"PYTHON\"] to lowercase using list comprehension."
   ]
  },
  {
   "cell_type": "code",
   "execution_count": 6,
   "id": "9641d8a7",
   "metadata": {},
   "outputs": [
    {
     "data": {
      "text/plain": [
       "['hello', 'world', 'python']"
      ]
     },
     "execution_count": 6,
     "metadata": {},
     "output_type": "execute_result"
    }
   ],
   "source": [
    "words_of_list = ['HELLO', 'WORLD', 'PYTHON']\n",
    "[string_upper.lower() for string_upper in words_of_list]"
   ]
  },
  {
   "cell_type": "markdown",
   "id": "53855539",
   "metadata": {},
   "source": [
    "### 5.\tGet all prime numbers between 10 and 50 using list comprehension and a helper function."
   ]
  },
  {
   "cell_type": "code",
   "execution_count": 6,
   "id": "829ba2c1",
   "metadata": {},
   "outputs": [
    {
     "data": {
      "text/plain": [
       "[{10: False},\n",
       " {11: True},\n",
       " {12: False},\n",
       " {13: True},\n",
       " {14: False},\n",
       " {15: False},\n",
       " {16: False},\n",
       " {17: True},\n",
       " {18: False},\n",
       " {19: True},\n",
       " {20: False},\n",
       " {21: False},\n",
       " {22: False},\n",
       " {23: True},\n",
       " {24: False},\n",
       " {25: False},\n",
       " {26: False},\n",
       " {27: False},\n",
       " {28: False},\n",
       " {29: True},\n",
       " {30: False},\n",
       " {31: True},\n",
       " {32: False},\n",
       " {33: False},\n",
       " {34: False},\n",
       " {35: False},\n",
       " {36: False},\n",
       " {37: True},\n",
       " {38: False},\n",
       " {39: False},\n",
       " {40: False},\n",
       " {41: True},\n",
       " {42: False},\n",
       " {43: True},\n",
       " {44: False},\n",
       " {45: False},\n",
       " {46: False},\n",
       " {47: True},\n",
       " {48: False},\n",
       " {49: False}]"
      ]
     },
     "execution_count": 6,
     "metadata": {},
     "output_type": "execute_result"
    }
   ],
   "source": [
    "def  is_prime(number):\n",
    "    for i in range(2,int(number**0.5)+1):\n",
    "        if number % i == 0:\n",
    "            return {number:False}\n",
    "    else:\n",
    "        return {number:True}\n",
    "x =list(map(is_prime,list(range(10,50))))\n",
    "x\n",
    "# [number for number in map(is_prime,)]"
   ]
  },
  {
   "cell_type": "code",
   "execution_count": null,
   "id": "84c21371",
   "metadata": {},
   "outputs": [],
   "source": []
  }
 ],
 "metadata": {
  "kernelspec": {
   "display_name": "base",
   "language": "python",
   "name": "python3"
  },
  "language_info": {
   "codemirror_mode": {
    "name": "ipython",
    "version": 3
   },
   "file_extension": ".py",
   "mimetype": "text/x-python",
   "name": "python",
   "nbconvert_exporter": "python",
   "pygments_lexer": "ipython3",
   "version": "3.11.5"
  }
 },
 "nbformat": 4,
 "nbformat_minor": 5
}
