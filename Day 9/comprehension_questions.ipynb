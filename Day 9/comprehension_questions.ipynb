{
 "cells": [
  {
   "cell_type": "markdown",
   "id": "f5c2b74d",
   "metadata": {},
   "source": [
    "## list comprehension questions"
   ]
  },
  {
   "cell_type": "markdown",
   "id": "e68df918",
   "metadata": {},
   "source": [
    "### 1.\tCreate a list of squares for numbers between 1 to 20, but only for even numbers"
   ]
  },
  {
   "cell_type": "code",
   "execution_count": 7,
   "id": "ecb9bc89",
   "metadata": {},
   "outputs": [
    {
     "data": {
      "text/plain": [
       "[4, 16, 36, 64, 100, 144, 196, 256, 324]"
      ]
     },
     "execution_count": 7,
     "metadata": {},
     "output_type": "execute_result"
    }
   ],
   "source": [
    "[numer**2 for numer in range(1,20) if numer%2==0]"
   ]
  },
  {
   "cell_type": "markdown",
   "id": "0dcece3b",
   "metadata": {},
   "source": [
    "### 2.\tReturn all words with length greater than 5 from a sentence using list comprehension"
   ]
  },
  {
   "cell_type": "code",
   "execution_count": 9,
   "id": "605c0d55",
   "metadata": {},
   "outputs": [
    {
     "data": {
      "text/plain": [
       "['banana', 'grapes', 'watermelon', 'pineple']"
      ]
     },
     "execution_count": 9,
     "metadata": {},
     "output_type": "execute_result"
    }
   ],
   "source": [
    "fruits = ['apple','banana','grapes','watermelon','gauva','pineple']\n",
    "[words for words in fruits if len(words)>5]"
   ]
  },
  {
   "cell_type": "markdown",
   "id": "43546425",
   "metadata": {},
   "source": [
    "### 3.\tExtract only digits from the string \"abc123xyz456\" using list comprehension."
   ]
  },
  {
   "cell_type": "code",
   "execution_count": 1,
   "id": "c02a7b6d",
   "metadata": {},
   "outputs": [
    {
     "data": {
      "text/plain": [
       "['1', '2', '3', '4', '5', '6']"
      ]
     },
     "execution_count": 1,
     "metadata": {},
     "output_type": "execute_result"
    }
   ],
   "source": [
    "string = 'abc123xyz456'\n",
    "[digit for digit in string if digit.isdigit()]"
   ]
  },
  {
   "cell_type": "markdown",
   "id": "f2f443f2",
   "metadata": {},
   "source": [
    "### 4.\tConvert all strings in [\"HELLO\", \"WORLD\", \"PYTHON\"] to lowercase using list comprehension."
   ]
  },
  {
   "cell_type": "code",
   "execution_count": 6,
   "id": "9641d8a7",
   "metadata": {},
   "outputs": [
    {
     "data": {
      "text/plain": [
       "['hello', 'world', 'python']"
      ]
     },
     "execution_count": 6,
     "metadata": {},
     "output_type": "execute_result"
    }
   ],
   "source": [
    "words_of_list = ['HELLO', 'WORLD', 'PYTHON']\n",
    "[string_upper.lower() for string_upper in words_of_list]"
   ]
  },
  {
   "cell_type": "markdown",
   "id": "53855539",
   "metadata": {},
   "source": [
    "### 5.\tGet all prime numbers between 10 and 50 using list comprehension and a helper function."
   ]
  },
  {
   "cell_type": "code",
   "execution_count": 11,
   "id": "829ba2c1",
   "metadata": {},
   "outputs": [
    {
     "ename": "TypeError",
     "evalue": "'float' object cannot be interpreted as an integer",
     "output_type": "error",
     "traceback": [
      "\u001b[1;31m---------------------------------------------------------------------------\u001b[0m",
      "\u001b[1;31mTypeError\u001b[0m                                 Traceback (most recent call last)",
      "Cell \u001b[1;32mIn[11], line 7\u001b[0m\n\u001b[0;32m      5\u001b[0m     \u001b[38;5;28;01melse\u001b[39;00m:\n\u001b[0;32m      6\u001b[0m         \u001b[38;5;28;01mreturn\u001b[39;00m \u001b[38;5;28;01mTrue\u001b[39;00m\n\u001b[1;32m----> 7\u001b[0m x \u001b[38;5;241m=\u001b[39m\u001b[38;5;28mlist\u001b[39m(\u001b[38;5;28mmap\u001b[39m(is_prime,\u001b[38;5;28mlist\u001b[39m(\u001b[38;5;28mrange\u001b[39m(\u001b[38;5;241m10\u001b[39m,\u001b[38;5;241m50\u001b[39m))))\n\u001b[0;32m      8\u001b[0m x\n",
      "Cell \u001b[1;32mIn[11], line 2\u001b[0m, in \u001b[0;36mis_prime\u001b[1;34m(number)\u001b[0m\n\u001b[0;32m      1\u001b[0m \u001b[38;5;28;01mdef\u001b[39;00m  \u001b[38;5;21mis_prime\u001b[39m(number):\n\u001b[1;32m----> 2\u001b[0m     \u001b[38;5;28;01mfor\u001b[39;00m i \u001b[38;5;129;01min\u001b[39;00m \u001b[38;5;28mrange\u001b[39m(\u001b[38;5;241m2\u001b[39m,number\u001b[38;5;241m*\u001b[39m\u001b[38;5;241m*\u001b[39m\u001b[38;5;241m0.5\u001b[39m):\n\u001b[0;32m      3\u001b[0m         \u001b[38;5;28;01mif\u001b[39;00m number \u001b[38;5;241m%\u001b[39m i \u001b[38;5;241m==\u001b[39m \u001b[38;5;241m0\u001b[39m:\n\u001b[0;32m      4\u001b[0m             \u001b[38;5;28;01mreturn\u001b[39;00m \u001b[38;5;28;01mFalse\u001b[39;00m\n",
      "\u001b[1;31mTypeError\u001b[0m: 'float' object cannot be interpreted as an integer"
     ]
    }
   ],
   "source": [
    "def  is_prime(number):\n",
    "    for i in range(2,number**0.5):\n",
    "        if number % i == 0:\n",
    "            return False\n",
    "    else:\n",
    "        return True\n",
    "x =list(map(is_prime,list(range(10,50))))\n",
    "x\n",
    "# [number for number in map(is_prime,)]"
   ]
  },
  {
   "cell_type": "code",
   "execution_count": null,
   "id": "84c21371",
   "metadata": {},
   "outputs": [],
   "source": []
  }
 ],
 "metadata": {
  "kernelspec": {
   "display_name": "base",
   "language": "python",
   "name": "python3"
  },
  "language_info": {
   "codemirror_mode": {
    "name": "ipython",
    "version": 3
   },
   "file_extension": ".py",
   "mimetype": "text/x-python",
   "name": "python",
   "nbconvert_exporter": "python",
   "pygments_lexer": "ipython3",
   "version": "3.11.5"
  }
 },
 "nbformat": 4,
 "nbformat_minor": 5
}
