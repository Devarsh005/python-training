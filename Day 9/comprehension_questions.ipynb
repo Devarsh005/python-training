{
 "cells": [
  {
   "cell_type": "markdown",
   "id": "f5c2b74d",
   "metadata": {},
   "source": [
    "## list comprehension questions"
   ]
  },
  {
   "cell_type": "markdown",
   "id": "e68df918",
   "metadata": {},
   "source": [
    "### 1.\tCreate a list of squares for numbers between 1 to 20, but only for even numbers"
   ]
  },
  {
   "cell_type": "code",
   "execution_count": 7,
   "id": "ecb9bc89",
   "metadata": {},
   "outputs": [
    {
     "data": {
      "text/plain": [
       "[4, 16, 36, 64, 100, 144, 196, 256, 324]"
      ]
     },
     "execution_count": 7,
     "metadata": {},
     "output_type": "execute_result"
    }
   ],
   "source": [
    "[numer**2 for numer in range(1,20) if numer%2==0]"
   ]
  },
  {
   "cell_type": "markdown",
   "id": "0dcece3b",
   "metadata": {},
   "source": [
    "### 2.\tReturn all words with length greater than 5 from a sentence using list comprehension"
   ]
  },
  {
   "cell_type": "code",
   "execution_count": 9,
   "id": "605c0d55",
   "metadata": {},
   "outputs": [
    {
     "data": {
      "text/plain": [
       "['banana', 'grapes', 'watermelon', 'pineple']"
      ]
     },
     "execution_count": 9,
     "metadata": {},
     "output_type": "execute_result"
    }
   ],
   "source": [
    "fruits = ['apple','banana','grapes','watermelon','gauva','pineple']\n",
    "[words for words in fruits if len(words)>5]"
   ]
  },
  {
   "cell_type": "code",
   "execution_count": null,
   "id": "c02a7b6d",
   "metadata": {},
   "outputs": [],
   "source": []
  }
 ],
 "metadata": {
  "kernelspec": {
   "display_name": "base",
   "language": "python",
   "name": "python3"
  },
  "language_info": {
   "codemirror_mode": {
    "name": "ipython",
    "version": 3
   },
   "file_extension": ".py",
   "mimetype": "text/x-python",
   "name": "python",
   "nbconvert_exporter": "python",
   "pygments_lexer": "ipython3",
   "version": "3.11.5"
  }
 },
 "nbformat": 4,
 "nbformat_minor": 5
}
