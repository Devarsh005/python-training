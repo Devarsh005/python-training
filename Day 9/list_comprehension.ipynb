{
 "cells": [
  {
   "cell_type": "code",
   "execution_count": 1,
   "id": "7b4812da",
   "metadata": {},
   "outputs": [],
   "source": [
    "number = [1,2,3,4]\n"
   ]
  },
  {
   "cell_type": "code",
   "execution_count": 2,
   "id": "a14e4252",
   "metadata": {},
   "outputs": [],
   "source": [
    "sum = [num+1 for num in number]"
   ]
  },
  {
   "cell_type": "code",
   "execution_count": 4,
   "id": "70836cc9",
   "metadata": {},
   "outputs": [
    {
     "data": {
      "text/plain": [
       "[2, 3, 4, 5]"
      ]
     },
     "execution_count": 4,
     "metadata": {},
     "output_type": "execute_result"
    }
   ],
   "source": [
    "sum"
   ]
  },
  {
   "cell_type": "code",
   "execution_count": 6,
   "id": "6b68052b",
   "metadata": {},
   "outputs": [],
   "source": [
    "square = [ num*2 for num in number]"
   ]
  },
  {
   "cell_type": "code",
   "execution_count": 8,
   "id": "fcfc9fca",
   "metadata": {},
   "outputs": [
    {
     "data": {
      "text/plain": [
       "[2, 4, 6, 8]"
      ]
     },
     "execution_count": 8,
     "metadata": {},
     "output_type": "execute_result"
    }
   ],
   "source": [
    "square"
   ]
  },
  {
   "cell_type": "markdown",
   "id": "6839a703",
   "metadata": {},
   "source": [
    "## list comprehensio with if conditions"
   ]
  },
  {
   "cell_type": "code",
   "execution_count": 12,
   "id": "7058b232",
   "metadata": {},
   "outputs": [],
   "source": [
    "even = [num for num in number if num %2 ==0]"
   ]
  },
  {
   "cell_type": "code",
   "execution_count": 13,
   "id": "010c2327",
   "metadata": {},
   "outputs": [
    {
     "data": {
      "text/plain": [
       "[2, 4]"
      ]
     },
     "execution_count": 13,
     "metadata": {},
     "output_type": "execute_result"
    }
   ],
   "source": [
    "even"
   ]
  },
  {
   "cell_type": "code",
   "execution_count": 18,
   "id": "e2b6c47d",
   "metadata": {},
   "outputs": [],
   "source": [
    "sentence = \"Well, Python is different than others!\"\n",
    "\n",
    "vowels = \"aeiou\"\n",
    "\n",
    "# vowel in sentense\n",
    "vowel_in_sentence = [vowel for vowel in sentence if vowel in vowels]"
   ]
  },
  {
   "cell_type": "code",
   "execution_count": 19,
   "id": "5380e6f6",
   "metadata": {},
   "outputs": [
    {
     "data": {
      "text/plain": [
       "['e', 'o', 'i', 'i', 'e', 'e', 'a', 'o', 'e']"
      ]
     },
     "execution_count": 19,
     "metadata": {},
     "output_type": "execute_result"
    }
   ],
   "source": [
    "vowel_in_sentence"
   ]
  },
  {
   "cell_type": "code",
   "execution_count": null,
   "id": "d54f37c6",
   "metadata": {},
   "outputs": [],
   "source": [
    "# if i%2 -> odd\n",
    "# if not i%2 -> even"
   ]
  },
  {
   "cell_type": "code",
   "execution_count": 29,
   "id": "05c1060f",
   "metadata": {},
   "outputs": [],
   "source": [
    "# get squares of even numbers and cubes of odd numbers in a range.\n",
    "range_of_number = list(range(1,20))\n",
    "\n",
    "square_and_cube = [num**2 if num%2==0 else num**3 for num in range_of_number]"
   ]
  },
  {
   "cell_type": "code",
   "execution_count": 30,
   "id": "49e78f95",
   "metadata": {},
   "outputs": [
    {
     "data": {
      "text/plain": [
       "[1,\n",
       " 4,\n",
       " 27,\n",
       " 16,\n",
       " 125,\n",
       " 36,\n",
       " 343,\n",
       " 64,\n",
       " 729,\n",
       " 100,\n",
       " 1331,\n",
       " 144,\n",
       " 2197,\n",
       " 196,\n",
       " 3375,\n",
       " 256,\n",
       " 4913,\n",
       " 324,\n",
       " 6859]"
      ]
     },
     "execution_count": 30,
     "metadata": {},
     "output_type": "execute_result"
    }
   ],
   "source": [
    "square_and_cube"
   ]
  },
  {
   "cell_type": "code",
   "execution_count": 32,
   "id": "f3357131",
   "metadata": {},
   "outputs": [
    {
     "name": "stdout",
     "output_type": "stream",
     "text": [
      "['e', 'o', 'i', 'i', 'e', 'e', 'a', 'o', 'e']\n"
     ]
    }
   ],
   "source": [
    "sentence = \"Well, Python is different than others!\"\n",
    "\n",
    "vowels = \"aeiou\"\n",
    "\n",
    "# vowel in sentense\n",
    "vowel_in_sentence = [vowel for vowel in sentence if vowel in vowels]\n",
    "print(vowel_in_sentence)"
   ]
  },
  {
   "cell_type": "code",
   "execution_count": 33,
   "id": "dd1f350e",
   "metadata": {},
   "outputs": [
    {
     "name": "stdout",
     "output_type": "stream",
     "text": [
      "{'a', 'i', 'o', 'e'}\n"
     ]
    }
   ],
   "source": [
    "vowel_in_set = {char for char in sentence if  char in vowels}\n",
    "print(vowel_in_set)"
   ]
  },
  {
   "cell_type": "markdown",
   "id": "0f7ef590",
   "metadata": {},
   "source": [
    "## dictionary comprehension"
   ]
  },
  {
   "cell_type": "code",
   "execution_count": 34,
   "id": "7b000bfb",
   "metadata": {},
   "outputs": [
    {
     "name": "stdout",
     "output_type": "stream",
     "text": [
      "{0: 0, 1: 1, 2: 4, 3: 9, 4: 16, 5: 25, 6: 36, 7: 49, 8: 64, 9: 81, 10: 100, 11: 121, 12: 144, 13: 169, 14: 196, 15: 225, 16: 256, 17: 289, 18: 324, 19: 361}\n"
     ]
    }
   ],
   "source": [
    "number_and_square = {num:num*num for num in range(0,20)}\n",
    "print(number_and_square)"
   ]
  },
  {
   "cell_type": "code",
   "execution_count": null,
   "id": "19e54c84",
   "metadata": {},
   "outputs": [],
   "source": []
  }
 ],
 "metadata": {
  "kernelspec": {
   "display_name": "base",
   "language": "python",
   "name": "python3"
  },
  "language_info": {
   "codemirror_mode": {
    "name": "ipython",
    "version": 3
   },
   "file_extension": ".py",
   "mimetype": "text/x-python",
   "name": "python",
   "nbconvert_exporter": "python",
   "pygments_lexer": "ipython3",
   "version": "3.11.5"
  }
 },
 "nbformat": 4,
 "nbformat_minor": 5
}
