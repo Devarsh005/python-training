{
 "cells": [
  {
   "cell_type": "markdown",
   "id": "62081880",
   "metadata": {},
   "source": [
    "### Extract the first 5 characters from the string \"PythonSlicing\"."
   ]
  },
  {
   "cell_type": "code",
   "execution_count": 1,
   "id": "107b4b65",
   "metadata": {},
   "outputs": [
    {
     "name": "stdout",
     "output_type": "stream",
     "text": [
      "pytho\n"
     ]
    }
   ],
   "source": [
    "single_string = 'pythonslicing'\n",
    "\n",
    "print(single_string[0:5])"
   ]
  },
  {
   "cell_type": "markdown",
   "id": "40caf4fd",
   "metadata": {},
   "source": [
    "### Slice \"Programming\" to return \"gram\"."
   ]
  },
  {
   "cell_type": "code",
   "execution_count": 3,
   "id": "041ccfb6",
   "metadata": {},
   "outputs": [
    {
     "data": {
      "text/plain": [
       "'gram'"
      ]
     },
     "execution_count": 3,
     "metadata": {},
     "output_type": "execute_result"
    }
   ],
   "source": [
    "str = 'programming'\n",
    "str[3:7]"
   ]
  },
  {
   "cell_type": "markdown",
   "id": "6f28b25c",
   "metadata": {},
   "source": [
    "### From a list ['a', 'b', 'c', 'd', 'e'], extract ['b', 'd']."
   ]
  },
  {
   "cell_type": "code",
   "execution_count": 4,
   "id": "45fce7de",
   "metadata": {},
   "outputs": [
    {
     "name": "stdout",
     "output_type": "stream",
     "text": [
      "['b', 'd']\n"
     ]
    }
   ],
   "source": [
    "li = ['a', 'b', 'c', 'd', 'e']\n",
    "\n",
    "print(li[1::2])"
   ]
  },
  {
   "cell_type": "markdown",
   "id": "97c99580",
   "metadata": {},
   "source": [
    "### Use negative indexing to get \"thon\" from \"Python\""
   ]
  },
  {
   "cell_type": "code",
   "execution_count": 16,
   "id": "682ba000",
   "metadata": {},
   "outputs": [
    {
     "name": "stdout",
     "output_type": "stream",
     "text": [
      "thon\n"
     ]
    },
    {
     "data": {
      "text/plain": [
       "'thon'"
      ]
     },
     "execution_count": 16,
     "metadata": {},
     "output_type": "execute_result"
    }
   ],
   "source": [
    "python = 'python'\n",
    "print(python[::-1][:4][::-1])\n",
    "python[-4::]"
   ]
  },
  {
   "cell_type": "markdown",
   "id": "8d97e56c",
   "metadata": {},
   "source": [
    "### Use slicing to return ['g', 'e', 'c', 'a'] from ['a', 'b', 'c', 'd', 'e', 'f', 'g']."
   ]
  },
  {
   "cell_type": "code",
   "execution_count": 8,
   "id": "0dd6964b",
   "metadata": {},
   "outputs": [
    {
     "data": {
      "text/plain": [
       "['g', 'e', 'c', 'a']"
      ]
     },
     "execution_count": 8,
     "metadata": {},
     "output_type": "execute_result"
    }
   ],
   "source": [
    "li = ['a', 'b', 'c', 'd', 'e','f','g']\n",
    "li[::-2]\n"
   ]
  },
  {
   "cell_type": "markdown",
   "id": "2abf9508",
   "metadata": {},
   "source": [
    "### Slice \"ABCDEFGHIJ\" to get \"GFED\" using negative steps."
   ]
  },
  {
   "cell_type": "code",
   "execution_count": 15,
   "id": "73029798",
   "metadata": {},
   "outputs": [
    {
     "data": {
      "text/plain": [
       "'gfed'"
      ]
     },
     "execution_count": 15,
     "metadata": {},
     "output_type": "execute_result"
    }
   ],
   "source": [
    "str = \"abcdefghij\"\n",
    "# str.index('d')\n",
    "str[6:2:-1]\n"
   ]
  },
  {
   "cell_type": "markdown",
   "id": "98fce55a",
   "metadata": {},
   "source": [
    "### Get the last 5 elements of the list [100, 200, ..., 1000]."
   ]
  },
  {
   "cell_type": "code",
   "execution_count": 18,
   "id": "95ff4ce1",
   "metadata": {},
   "outputs": [
    {
     "data": {
      "text/plain": [
       "[600, 700, 800, 900, 1000]"
      ]
     },
     "execution_count": 18,
     "metadata": {},
     "output_type": "execute_result"
    }
   ],
   "source": [
    "li = list(range(100,1001,100))\n",
    "li[-5:]"
   ]
  },
  {
   "cell_type": "markdown",
   "id": "ac9f32b9",
   "metadata": {},
   "source": [
    "### From the string \"SlicingPractice\", get \"Practice\" using negative indexing."
   ]
  },
  {
   "cell_type": "code",
   "execution_count": 21,
   "id": "1c46a432",
   "metadata": {},
   "outputs": [
    {
     "data": {
      "text/plain": [
       "'practice'"
      ]
     },
     "execution_count": 21,
     "metadata": {},
     "output_type": "execute_result"
    }
   ],
   "source": [
    "str = 'slicingpractice'\n",
    "# str.index(\"p\")\n",
    "str[7:]"
   ]
  },
  {
   "cell_type": "markdown",
   "id": "a7217031",
   "metadata": {},
   "source": [
    "### Edge Cases\n",
    "- Slice an empty string from \"Hello\" using start and stop.\n",
    "\n",
    "- Slice the whole list using [:].\n",
    "\n",
    "- What happens when you slice with a start index > stop index without a negative step?\n",
    "\n",
    "- Slice with step 0 (and explain the error).\n",
    "\n",
    "- Slice a string using out-of-bound indices (e.g., \"Hi\"[0:100])."
   ]
  },
  {
   "cell_type": "code",
   "execution_count": 25,
   "id": "a6585514",
   "metadata": {},
   "outputs": [
    {
     "data": {
      "text/plain": [
       "''"
      ]
     },
     "execution_count": 25,
     "metadata": {},
     "output_type": "execute_result"
    }
   ],
   "source": [
    "hello = 'hello'\n",
    "hello[1:1]"
   ]
  },
  {
   "cell_type": "code",
   "execution_count": 27,
   "id": "1486d378",
   "metadata": {},
   "outputs": [
    {
     "data": {
      "text/plain": [
       "''"
      ]
     },
     "execution_count": 27,
     "metadata": {},
     "output_type": "execute_result"
    }
   ],
   "source": [
    "hello[3:1]"
   ]
  },
  {
   "cell_type": "code",
   "execution_count": 28,
   "id": "e698c8f3",
   "metadata": {},
   "outputs": [
    {
     "ename": "ValueError",
     "evalue": "slice step cannot be zero",
     "output_type": "error",
     "traceback": [
      "\u001b[1;31m---------------------------------------------------------------------------\u001b[0m",
      "\u001b[1;31mValueError\u001b[0m                                Traceback (most recent call last)",
      "Cell \u001b[1;32mIn[28], line 1\u001b[0m\n\u001b[1;32m----> 1\u001b[0m hello[::\u001b[38;5;241m0\u001b[39m]\n",
      "\u001b[1;31mValueError\u001b[0m: slice step cannot be zero"
     ]
    }
   ],
   "source": [
    "hello[::0]"
   ]
  },
  {
   "cell_type": "code",
   "execution_count": 29,
   "id": "8baf958c",
   "metadata": {},
   "outputs": [
    {
     "data": {
      "text/plain": [
       "'hello'"
      ]
     },
     "execution_count": 29,
     "metadata": {},
     "output_type": "execute_result"
    }
   ],
   "source": [
    "hello[:100]"
   ]
  },
  {
   "cell_type": "markdown",
   "id": "619ad70d",
   "metadata": {},
   "source": [
    "### 🔹 Practice with Nested Slicing\n",
    "Slice the last 3 characters of the reversed string \"DataScience\".\n",
    "\n",
    "From \"ArtificialIntelligence\", get \"Intelligence\" then reverse it using nested slicing.\n",
    "\n",
    "Slice every second word from a list of words: [\"I\", \"love\", \"Python\", \"and\", \"slicing\", \"too\"].\n",
    "\n",
    "From a matrix [[1,2,3],[4,5,6],[7,8,9]], slice the first two rows.\n",
    "\n",
    "Flatten a list of characters and slice every 3rd character: [['a','b'],['c','d'],['e','f'],['g','h']].\n",
    "\n"
   ]
  },
  {
   "cell_type": "code",
   "execution_count": 31,
   "id": "5e8d9c4f",
   "metadata": {},
   "outputs": [
    {
     "data": {
      "text/plain": [
       "'ecn'"
      ]
     },
     "execution_count": 31,
     "metadata": {},
     "output_type": "execute_result"
    }
   ],
   "source": [
    "str = 'Datascience'\n",
    "str[::-1][:3]"
   ]
  },
  {
   "cell_type": "code",
   "execution_count": 36,
   "id": "45810454",
   "metadata": {},
   "outputs": [
    {
     "data": {
      "text/plain": [
       "'ecnegilletnI'"
      ]
     },
     "execution_count": 36,
     "metadata": {},
     "output_type": "execute_result"
    }
   ],
   "source": [
    "str = 'ArtificialIntelligence'\n",
    "# str.index('Int')\n",
    "str[10:][::-1]"
   ]
  },
  {
   "cell_type": "code",
   "execution_count": 37,
   "id": "51c60447",
   "metadata": {},
   "outputs": [
    {
     "data": {
      "text/plain": [
       "['love', 'and', 'too']"
      ]
     },
     "execution_count": 37,
     "metadata": {},
     "output_type": "execute_result"
    }
   ],
   "source": [
    "li = [\"I\", \"love\", \"Python\", \"and\", \"slicing\", \"too\"]\n",
    "li[1::2]"
   ]
  },
  {
   "cell_type": "code",
   "execution_count": 46,
   "id": "bede74fb",
   "metadata": {},
   "outputs": [
    {
     "data": {
      "text/plain": [
       "[[1, 2, 3], [4, 5, 6]]"
      ]
     },
     "execution_count": 46,
     "metadata": {},
     "output_type": "execute_result"
    }
   ],
   "source": [
    "matrix = [[1,2,3],[4,5,6],[7,8,9]]\n",
    "matrix[0:2]"
   ]
  },
  {
   "cell_type": "code",
   "execution_count": 47,
   "id": "acf7830d",
   "metadata": {},
   "outputs": [
    {
     "data": {
      "text/plain": [
       "[['a', 'b'], ['c', 'd'], ['e', 'f'], ['g', 'h']]"
      ]
     },
     "execution_count": 47,
     "metadata": {},
     "output_type": "execute_result"
    }
   ],
   "source": [
    "li = [['a','b'],['c','d'],['e','f'],['g','h']]\n",
    "li"
   ]
  },
  {
   "cell_type": "code",
   "execution_count": 51,
   "id": "a41f41e5",
   "metadata": {},
   "outputs": [
    {
     "data": {
      "text/plain": [
       "['a', 'b', 'c', 'd', 'e', 'f', 'g', 'h']"
      ]
     },
     "execution_count": 51,
     "metadata": {},
     "output_type": "execute_result"
    }
   ],
   "source": [
    "[char for sub in li for char in sub]"
   ]
  },
  {
   "cell_type": "code",
   "execution_count": null,
   "id": "067b01bc",
   "metadata": {},
   "outputs": [],
   "source": []
  }
 ],
 "metadata": {
  "kernelspec": {
   "display_name": "base",
   "language": "python",
   "name": "python3"
  },
  "language_info": {
   "codemirror_mode": {
    "name": "ipython",
    "version": 3
   },
   "file_extension": ".py",
   "mimetype": "text/x-python",
   "name": "python",
   "nbconvert_exporter": "python",
   "pygments_lexer": "ipython3",
   "version": "3.11.5"
  }
 },
 "nbformat": 4,
 "nbformat_minor": 5
}
