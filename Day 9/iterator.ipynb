{
 "cells": [
  {
   "cell_type": "markdown",
   "id": "198b1481",
   "metadata": {},
   "source": [
    "# iterable and iteravtor"
   ]
  },
  {
   "cell_type": "code",
   "execution_count": 8,
   "id": "6dd91878",
   "metadata": {},
   "outputs": [],
   "source": [
    "# now we are trying to create a custom iterator\n",
    "\n",
    "# take a list\n",
    "li = [1,2,3,4,5,6,7,8,9,0,9,8,7,6,9]"
   ]
  },
  {
   "cell_type": "code",
   "execution_count": 9,
   "id": "805534b0",
   "metadata": {},
   "outputs": [
    {
     "data": {
      "text/plain": [
       "[1, 2, 3, 4, 5, 6, 7, 8, 9, 0, 9, 8, 7, 6, 9]"
      ]
     },
     "execution_count": 9,
     "metadata": {},
     "output_type": "execute_result"
    }
   ],
   "source": [
    "li"
   ]
  },
  {
   "cell_type": "code",
   "execution_count": 35,
   "id": "b7130075",
   "metadata": {},
   "outputs": [],
   "source": [
    "# create a object\n",
    "\n",
    "object = iter(li)\n"
   ]
  },
  {
   "cell_type": "code",
   "execution_count": 12,
   "id": "895c1d90",
   "metadata": {},
   "outputs": [
    {
     "data": {
      "text/plain": [
       "<list_iterator at 0x254f630b3a0>"
      ]
     },
     "execution_count": 12,
     "metadata": {},
     "output_type": "execute_result"
    }
   ],
   "source": [
    "object"
   ]
  },
  {
   "cell_type": "code",
   "execution_count": 28,
   "id": "b56b4993",
   "metadata": {},
   "outputs": [
    {
     "data": {
      "text/plain": [
       "1"
      ]
     },
     "execution_count": 28,
     "metadata": {},
     "output_type": "execute_result"
    }
   ],
   "source": [
    "object.__next__()"
   ]
  },
  {
   "cell_type": "code",
   "execution_count": 37,
   "id": "d888de51",
   "metadata": {},
   "outputs": [
    {
     "name": "stdout",
     "output_type": "stream",
     "text": [
      "1 2 3 4 5 6 7 8 9 0 9 8 7 6 9 "
     ]
    }
   ],
   "source": [
    "for i in li:\n",
    "    print(i,end=' ')"
   ]
  },
  {
   "cell_type": "code",
   "execution_count": 40,
   "id": "83c50c45",
   "metadata": {},
   "outputs": [
    {
     "name": "stdout",
     "output_type": "stream",
     "text": [
      "1 2 3 4 5 6 7 8 9 0 9 8 7 6 9 "
     ]
    }
   ],
   "source": [
    "object = iter(li)\n",
    "while True :\n",
    "    try:\n",
    "        print(next(object),end=\" \")\n",
    "    except StopIteration:\n",
    "        break\n"
   ]
  },
  {
   "cell_type": "markdown",
   "id": "ea14a271",
   "metadata": {},
   "source": [
    "## create a custom string iterator  "
   ]
  },
  {
   "cell_type": "code",
   "execution_count": 1,
   "id": "126ff7c2",
   "metadata": {},
   "outputs": [
    {
     "name": "stdout",
     "output_type": "stream",
     "text": [
      "c\n",
      "r\n",
      "i\n",
      "c\n",
      "<class 'str_iterator'>\n"
     ]
    }
   ],
   "source": [
    "'''let's take one string'''\n",
    "game = 'cricket'\n",
    "\n",
    "'''create a object of string iterable'''\n",
    "string_object = iter(game)\n",
    "print(next(string_object))\n",
    "print(next(string_object))\n",
    "print(next(string_object))\n",
    "print(next(string_object))\n",
    "print(type(string_object))"
   ]
  },
  {
   "cell_type": "code",
   "execution_count": 54,
   "id": "b8c076ee",
   "metadata": {},
   "outputs": [
    {
     "name": "stdout",
     "output_type": "stream",
     "text": [
      "1\n",
      "2\n",
      "3\n",
      "4\n",
      "5\n",
      "6\n"
     ]
    }
   ],
   "source": [
    "'''class iterartor'''\n",
    "class mygame:\n",
    "    def __iter__(self):\n",
    "        self.a = 1\n",
    "        return self\n",
    "    def __next__(self):\n",
    "        x = self.a\n",
    "        self.a = self.a +1\n",
    "        return x\n",
    "class_object = mygame()\n",
    "class_iter = iter(class_object)\n",
    "print(next(class_object))\n",
    "print(next(class_object))\n",
    "print(next(class_object))\n",
    "print(next(class_object))\n",
    "print(next(class_object))\n",
    "print(next(class_object))\n"
   ]
  }
 ],
 "metadata": {
  "kernelspec": {
   "display_name": "Python 3",
   "language": "python",
   "name": "python3"
  },
  "language_info": {
   "codemirror_mode": {
    "name": "ipython",
    "version": 3
   },
   "file_extension": ".py",
   "mimetype": "text/x-python",
   "name": "python",
   "nbconvert_exporter": "python",
   "pygments_lexer": "ipython3",
   "version": "3.10.10"
  }
 },
 "nbformat": 4,
 "nbformat_minor": 5
}
