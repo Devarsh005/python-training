{
 "cells": [
  {
   "cell_type": "markdown",
   "id": "9e65f776",
   "metadata": {},
   "source": [
    "### seialization and deserialization in python\n"
   ]
  },
  {
   "cell_type": "markdown",
   "id": "648a035f",
   "metadata": {},
   "source": [
    "### what is serialization?\n",
    "-- serialization means convert python object to byte stream.\n",
    "### what is deserialization?\n",
    "-- deserialization means convert bytes stream to python object."
   ]
  },
  {
   "cell_type": "markdown",
   "id": "22b54935",
   "metadata": {},
   "source": [
    "-- in python many to doing it.\n",
    "1. pickle\n",
    "2. json\n",
    "3. YAML\n"
   ]
  },
  {
   "cell_type": "code",
   "execution_count": null,
   "id": "c035cf05",
   "metadata": {},
   "outputs": [
    {
     "name": "stdout",
     "output_type": "stream",
     "text": [
      "{'a': [1, 2, 3, 4], 'b': ('string', 'unicode string'), 'c': None}\n"
     ]
    }
   ],
   "source": [
    "# import pickle file \n",
    "import pickle\n",
    "# this is the data which i wannna store into pickle file.\n",
    "data = {'a':[1,2,3,4] , 'b':('string' , u'unicode string') , 'c':None}\n",
    "# create or open serialization.pkl file \n",
    "with open('serialization.pkl','wb') as pkl_file:\n",
    "    # dump is a method to convert data to the byted code and store into the serialization.pkl file\n",
    "    pickle.dump(data,pkl_file)\n",
    "with open('serialization.pkl','rb') as file:\n",
    "    # pickle.load file which is useful to convert bytecode to object code \n",
    "    redable_file = pickle.load(file)\n",
    "print(redable_file)"
   ]
  },
  {
   "cell_type": "code",
   "execution_count": null,
   "id": "0a3494ea",
   "metadata": {},
   "outputs": [
    {
     "name": "stdout",
     "output_type": "stream",
     "text": [
      "{\n",
      "    \"a\": [\n",
      "        1,\n",
      "        2,\n",
      "        3,\n",
      "        4\n",
      "    ],\n",
      "    \"b\": [\n",
      "        \"string\",\n",
      "        \"unicode string\"\n",
      "    ],\n",
      "    \"c\": null\n",
      "}\n",
      "{'a': [1, 2, 3, 4], 'b': ['string', 'unicode string'], 'c': None}\n"
     ]
    }
   ],
   "source": [
    "# json , which is human readable format\n",
    "import json\n",
    "data = {'a':[1,2,3,4] , 'b':('string' , u'unicode string') , 'c':None}\n",
    "# json.dumps return string , take object and convert into json format like dictionary.\n",
    "json_format = json.dumps(data,indent =4)\n",
    "print(json_format)\n",
    "print(json.loads(json_format))"
   ]
  },
  {
   "cell_type": "code",
   "execution_count": null,
   "id": "af223542",
   "metadata": {},
   "outputs": [
    {
     "name": "stdout",
     "output_type": "stream",
     "text": [
      "{'a': [1, 2, 3, 4], 'b': ['string', 'unicode string'], 'c': None}\n"
     ]
    }
   ],
   "source": [
    "import json\n",
    "data = {'a':[1,2,3,4] , 'b':('string' , u'unicode string') , 'c':None}\n",
    "with open(\"serialization.json\",\"w\") as json_file:\n",
    "    # json.dump method ,which is convert object to json and store into file\n",
    "    json.dump(data,json_file)\n",
    "with open('serialization.json','r') as file:\n",
    "    # which help to retrive data back\n",
    "    readable = json.load(file)\n",
    "print(readable)"
   ]
  },
  {
   "cell_type": "markdown",
   "id": "b62ef8ff",
   "metadata": {},
   "source": [
    "### store machine learning model as a pickle file "
   ]
  },
  {
   "cell_type": "code",
   "execution_count": 15,
   "id": "5569b982",
   "metadata": {},
   "outputs": [
    {
     "name": "stdout",
     "output_type": "stream",
     "text": [
      "coefficient is  [17.48182049 57.09975665 51.89176745 99.67461647]\n",
      "intercept is  0.0029303130648337117\n",
      "score is  0.9999993480586697\n"
     ]
    }
   ],
   "source": [
    "from sklearn.linear_model import LinearRegression\n",
    "from sklearn.datasets import make_regression\n",
    "\n",
    "# generate rregression dataset\n",
    "X , y = make_regression(n_features=4,n_samples=100, random_state=1, noise=0.1)\n",
    "\n",
    "# create a model \n",
    "model = LinearRegression()\n",
    "# fit the model to my data\n",
    "model.fit(X,y)\n",
    "\n",
    "# check coefficients , intercept and score\n",
    "\n",
    "print(\"coefficient is \",model.coef_)\n",
    "print(\"intercept is \",model.intercept_)\n",
    "print(\"score is \",model.score(X,y))"
   ]
  },
  {
   "cell_type": "code",
   "execution_count": 17,
   "id": "ec83968a",
   "metadata": {},
   "outputs": [],
   "source": [
    "# now i srialize the model into one file , which name is model_file\n",
    "import pickle\n",
    "with open(\"model_file\" , \"wb\") as file:\n",
    "    pickle.dump(model,file)\n"
   ]
  },
  {
   "cell_type": "code",
   "execution_count": 21,
   "id": "0c1a6d08",
   "metadata": {},
   "outputs": [
    {
     "name": "stdout",
     "output_type": "stream",
     "text": [
      "LinearRegression()\n",
      "the coefficient is  [17.48182049 57.09975665 51.89176745 99.67461647]\n",
      "the score is  99.99993480586697\n"
     ]
    }
   ],
   "source": [
    "# now i check after doing unpickled\n",
    "with open(\"model_file\",\"rb\") as file:\n",
    "    my_model = pickle.load(file)\n",
    "print(my_model)\n",
    "# check the functionality which is changed or not\n",
    "print(\"the coefficient is \",my_model.coef_)\n",
    "print(\"the score is \",my_model.score(X,y)*100)"
   ]
  },
  {
   "cell_type": "code",
   "execution_count": null,
   "id": "4d56aecb",
   "metadata": {},
   "outputs": [],
   "source": []
  }
 ],
 "metadata": {
  "kernelspec": {
   "display_name": "base",
   "language": "python",
   "name": "python3"
  },
  "language_info": {
   "codemirror_mode": {
    "name": "ipython",
    "version": 3
   },
   "file_extension": ".py",
   "mimetype": "text/x-python",
   "name": "python",
   "nbconvert_exporter": "python",
   "pygments_lexer": "ipython3",
   "version": "3.11.5"
  }
 },
 "nbformat": 4,
 "nbformat_minor": 5
}
