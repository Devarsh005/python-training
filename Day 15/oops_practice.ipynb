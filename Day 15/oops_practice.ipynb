{
 "cells": [
  {
   "cell_type": "code",
   "execution_count": 1,
   "id": "41a82e0d",
   "metadata": {},
   "outputs": [],
   "source": [
    "class phone:\n",
    "    company = 'motorola'\n",
    "    model = 'Moto X'\n",
    "    price = 15_000\n"
   ]
  },
  {
   "cell_type": "code",
   "execution_count": 3,
   "id": "8c5e70b6",
   "metadata": {},
   "outputs": [
    {
     "name": "stdout",
     "output_type": "stream",
     "text": [
      "motorola\n",
      "Moto X\n",
      "15000\n"
     ]
    }
   ],
   "source": [
    "myPhone1 = phone()\n",
    "print(myPhone1.company)\n",
    "print(myPhone1.model)\n",
    "print(myPhone1.price)"
   ]
  },
  {
   "cell_type": "code",
   "execution_count": 11,
   "id": "5bf51a4d",
   "metadata": {},
   "outputs": [],
   "source": [
    "class car:\n",
    "\t\t\n",
    "\tdef set_info (self, model, number):\n",
    "\t\t\n",
    "\t\tself.model = model\n",
    "\t\t\n",
    "\t\tself.number = number\n",
    "\t\n",
    "\tdef get_info (self):\n",
    "\t\n",
    "\t\tprint (\"Phone model is\", self.model)\n",
    "\t\t\n",
    "\t\tprint (\"Phone number is \", self.number)\n",
    "\n",
    "cellphone1 = car()\n",
    "cellphone1.set_info('_i10',3535)"
   ]
  },
  {
   "cell_type": "code",
   "execution_count": 12,
   "id": "c54290aa",
   "metadata": {},
   "outputs": [
    {
     "name": "stdout",
     "output_type": "stream",
     "text": [
      "Phone model is _i10\n",
      "Phone number is  3535\n"
     ]
    }
   ],
   "source": [
    "cellphone1.get_info()"
   ]
  },
  {
   "cell_type": "code",
   "execution_count": null,
   "id": "7ac683b0",
   "metadata": {},
   "outputs": [],
   "source": []
  }
 ],
 "metadata": {
  "kernelspec": {
   "display_name": "base",
   "language": "python",
   "name": "python3"
  },
  "language_info": {
   "codemirror_mode": {
    "name": "ipython",
    "version": 3
   },
   "file_extension": ".py",
   "mimetype": "text/x-python",
   "name": "python",
   "nbconvert_exporter": "python",
   "pygments_lexer": "ipython3",
   "version": "3.11.5"
  }
 },
 "nbformat": 4,
 "nbformat_minor": 5
}
