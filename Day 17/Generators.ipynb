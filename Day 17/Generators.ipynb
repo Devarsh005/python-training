{
 "cells": [
  {
   "cell_type": "markdown",
   "id": "5a08133d",
   "metadata": {},
   "source": [
    "## what is Genartors."
   ]
  },
  {
   "cell_type": "markdown",
   "id": "c9b04c17",
   "metadata": {},
   "source": [
    "### in generator use yield instead of return becuase yield remember the last state where it's left and after start from left point not at the begining point."
   ]
  },
  {
   "cell_type": "code",
   "execution_count": 1,
   "id": "e29f6cdc",
   "metadata": {},
   "outputs": [
    {
     "name": "stdout",
     "output_type": "stream",
     "text": [
      "machine learning\n",
      "business analytics\n",
      "java\n",
      "python\n"
     ]
    }
   ],
   "source": [
    "def subjects():\n",
    "    yield \"machine learning\"\n",
    "    yield \"business analytics\"\n",
    "    yield \"java\"\n",
    "    yield \"python\"\n",
    "\n",
    "for i in subjects():\n",
    "  print(i)"
   ]
  },
  {
   "cell_type": "code",
   "execution_count": 6,
   "id": "2128ce1b",
   "metadata": {},
   "outputs": [],
   "source": [
    "d = subjects()"
   ]
  },
  {
   "cell_type": "code",
   "execution_count": 11,
   "id": "6b90f650",
   "metadata": {},
   "outputs": [
    {
     "ename": "StopIteration",
     "evalue": "",
     "output_type": "error",
     "traceback": [
      "\u001b[1;31m---------------------------------------------------------------------------\u001b[0m",
      "\u001b[1;31mStopIteration\u001b[0m                             Traceback (most recent call last)",
      "Cell \u001b[1;32mIn[11], line 1\u001b[0m\n\u001b[1;32m----> 1\u001b[0m \u001b[38;5;28mnext\u001b[39m(d)\n",
      "\u001b[1;31mStopIteration\u001b[0m: "
     ]
    }
   ],
   "source": [
    "next(d)"
   ]
  },
  {
   "cell_type": "code",
   "execution_count": 16,
   "id": "6b639555",
   "metadata": {},
   "outputs": [],
   "source": [
    "def fizz_buzz(number):\n",
    "    li = []\n",
    "    for i in range(1,number+1):\n",
    "        if i%3 == 0 and i%5 == 0 :\n",
    "            li.append(\"fizzBUzz\")\n",
    "            \n",
    "        elif i%3 == 0 :\n",
    "            li.append(\"fizz\")\n",
    "        elif i % 5 == 0:\n",
    "            li.append(\"buzz\")\n",
    "        else:\n",
    "            li.append(i)\n",
    "        \n",
    "    return li\n"
   ]
  },
  {
   "cell_type": "code",
   "execution_count": 17,
   "id": "d463ae85",
   "metadata": {},
   "outputs": [
    {
     "data": {
      "text/plain": [
       "[1,\n",
       " 2,\n",
       " 'fizz',\n",
       " 4,\n",
       " 'buzz',\n",
       " 'fizz',\n",
       " 7,\n",
       " 8,\n",
       " 'fizz',\n",
       " 'buzz',\n",
       " 11,\n",
       " 'fizz',\n",
       " 13,\n",
       " 14,\n",
       " 'fizzBUzz']"
      ]
     },
     "execution_count": 17,
     "metadata": {},
     "output_type": "execute_result"
    }
   ],
   "source": [
    "fizz_buzz(15)"
   ]
  },
  {
   "cell_type": "code",
   "execution_count": null,
   "id": "1adfae9b",
   "metadata": {},
   "outputs": [],
   "source": [
    " if i/3 == 0 or i/5 == 0:\n",
    "            li.append((\"3\".replace(\"fizz\")) or (\"5\".replace(\"buzz\")))"
   ]
  },
  {
   "cell_type": "code",
   "execution_count": 16,
   "id": "acc8f789",
   "metadata": {},
   "outputs": [],
   "source": [
    "def remove_duplicates(s):\n",
    "    seen = set()\n",
    "    res =\"\"\n",
    "    for char in s:\n",
    "        if char not in seen:\n",
    "            seen.add(char)\n",
    "            res+=char\n",
    "    return res\n"
   ]
  },
  {
   "cell_type": "code",
   "execution_count": 17,
   "id": "8a16de6e",
   "metadata": {},
   "outputs": [
    {
     "data": {
      "text/plain": [
       "'progamin'"
      ]
     },
     "execution_count": 17,
     "metadata": {},
     "output_type": "execute_result"
    }
   ],
   "source": [
    "remove_duplicates(\"programming\")  # Returns \"progamin\"\n"
   ]
  },
  {
   "cell_type": "code",
   "execution_count": 18,
   "id": "71295ecc",
   "metadata": {},
   "outputs": [
    {
     "ename": "NameError",
     "evalue": "name 'flatten_list' is not defined",
     "output_type": "error",
     "traceback": [
      "\u001b[1;31m---------------------------------------------------------------------------\u001b[0m",
      "\u001b[1;31mNameError\u001b[0m                                 Traceback (most recent call last)",
      "Cell \u001b[1;32mIn[18], line 1\u001b[0m\n\u001b[1;32m----> 1\u001b[0m flatten_list([[\u001b[38;5;241m1\u001b[39m, \u001b[38;5;241m2\u001b[39m], [\u001b[38;5;241m3\u001b[39m, \u001b[38;5;241m4\u001b[39m], [\u001b[38;5;241m5\u001b[39m]])\n",
      "\u001b[1;31mNameError\u001b[0m: name 'flatten_list' is not defined"
     ]
    }
   ],
   "source": [
    "flatten_list([[1, 2], [3, 4], [5]])  # Returns [1, 2, 3, 4, 5]\n"
   ]
  },
  {
   "cell_type": "code",
   "execution_count": 25,
   "id": "3355caab",
   "metadata": {},
   "outputs": [],
   "source": [
    "def flatten_list(nested_list):\n",
    "    empty_list = list()\n",
    "    for i in nested_list:\n",
    "        for j in i:\n",
    "            empty_list.append(j)\n",
    "    return empty_list"
   ]
  },
  {
   "cell_type": "code",
   "execution_count": 26,
   "id": "1c099f06",
   "metadata": {},
   "outputs": [
    {
     "data": {
      "text/plain": [
       "[1, 2, 3, 4, 5]"
      ]
     },
     "execution_count": 26,
     "metadata": {},
     "output_type": "execute_result"
    }
   ],
   "source": [
    "flatten_list([[1, 2], [3, 4], [5]])  # Returns [1, 2, 3, 4, 5]\n"
   ]
  },
  {
   "cell_type": "markdown",
   "id": "acdda3db",
   "metadata": {},
   "source": [
    "Write a function count_characters(s) that takes a string s and returns a dictionary where:\n",
    "\n",
    "Keys are the characters in the string\n",
    "\n",
    "Values are the count of each character\n",
    "\n",
    "Ignore spaces and make the count case-insensitive (treat uppercase and lowercase as the same).\n",
    "\n"
   ]
  },
  {
   "cell_type": "code",
   "execution_count": 35,
   "id": "a0ab4bd7",
   "metadata": {},
   "outputs": [],
   "source": [
    "def count_character(s):\n",
    "    em_dict = dict()\n",
    "    for char in s:\n",
    "        em_dict.update({char:s.count(char)})\n",
    "    return em_dict\n"
   ]
  },
  {
   "cell_type": "code",
   "execution_count": 36,
   "id": "23224438",
   "metadata": {},
   "outputs": [
    {
     "data": {
      "text/plain": [
       "{'h': 1, 'e': 1, 'l': 2, 'o': 1}"
      ]
     },
     "execution_count": 36,
     "metadata": {},
     "output_type": "execute_result"
    }
   ],
   "source": [
    "count_character(\"hello\")"
   ]
  },
  {
   "cell_type": "code",
   "execution_count": 34,
   "id": "271b50c0",
   "metadata": {},
   "outputs": [
    {
     "data": {
      "text/plain": [
       "{'g': 1}"
      ]
     },
     "execution_count": 34,
     "metadata": {},
     "output_type": "execute_result"
    }
   ],
   "source": [
    "s = dict()\n",
    "s={'f':1}\n",
    "s={'g':1}\n",
    "s"
   ]
  },
  {
   "cell_type": "code",
   "execution_count": null,
   "id": "7a7912e2",
   "metadata": {},
   "outputs": [],
   "source": []
  }
 ],
 "metadata": {
  "kernelspec": {
   "display_name": "base",
   "language": "python",
   "name": "python3"
  },
  "language_info": {
   "codemirror_mode": {
    "name": "ipython",
    "version": 3
   },
   "file_extension": ".py",
   "mimetype": "text/x-python",
   "name": "python",
   "nbconvert_exporter": "python",
   "pygments_lexer": "ipython3",
   "version": "3.11.5"
  }
 },
 "nbformat": 4,
 "nbformat_minor": 5
}
