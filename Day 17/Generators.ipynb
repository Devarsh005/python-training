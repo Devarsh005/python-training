{
 "cells": [
  {
   "cell_type": "markdown",
   "id": "5a08133d",
   "metadata": {},
   "source": [
    "## what is Genartors."
   ]
  },
  {
   "cell_type": "markdown",
   "id": "c9b04c17",
   "metadata": {},
   "source": [
    "### in generator use yield instead of return becuase yield remember the last state where it's left and after start from left point not at the begining point."
   ]
  },
  {
   "cell_type": "code",
   "execution_count": 1,
   "id": "e29f6cdc",
   "metadata": {},
   "outputs": [
    {
     "name": "stdout",
     "output_type": "stream",
     "text": [
      "machine learning\n",
      "business analytics\n",
      "java\n",
      "python\n"
     ]
    }
   ],
   "source": [
    "def subjects():\n",
    "    yield \"machine learning\"\n",
    "    yield \"business analytics\"\n",
    "    yield \"java\"\n",
    "    yield \"python\"\n",
    "\n",
    "for i in subjects():\n",
    "  print(i)"
   ]
  },
  {
   "cell_type": "code",
   "execution_count": 6,
   "id": "2128ce1b",
   "metadata": {},
   "outputs": [],
   "source": [
    "d = subjects()"
   ]
  },
  {
   "cell_type": "code",
   "execution_count": 11,
   "id": "6b90f650",
   "metadata": {},
   "outputs": [
    {
     "ename": "StopIteration",
     "evalue": "",
     "output_type": "error",
     "traceback": [
      "\u001b[1;31m---------------------------------------------------------------------------\u001b[0m",
      "\u001b[1;31mStopIteration\u001b[0m                             Traceback (most recent call last)",
      "Cell \u001b[1;32mIn[11], line 1\u001b[0m\n\u001b[1;32m----> 1\u001b[0m \u001b[38;5;28mnext\u001b[39m(d)\n",
      "\u001b[1;31mStopIteration\u001b[0m: "
     ]
    }
   ],
   "source": [
    "next(d)"
   ]
  }
 ],
 "metadata": {
  "kernelspec": {
   "display_name": "base",
   "language": "python",
   "name": "python3"
  },
  "language_info": {
   "codemirror_mode": {
    "name": "ipython",
    "version": 3
   },
   "file_extension": ".py",
   "mimetype": "text/x-python",
   "name": "python",
   "nbconvert_exporter": "python",
   "pygments_lexer": "ipython3",
   "version": "3.11.5"
  }
 },
 "nbformat": 4,
 "nbformat_minor": 5
}
