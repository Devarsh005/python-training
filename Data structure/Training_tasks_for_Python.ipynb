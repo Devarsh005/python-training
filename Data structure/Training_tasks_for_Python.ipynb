{
 "cells": [
  {
   "cell_type": "markdown",
   "metadata": {
    "id": "-qanPr7gLhCs"
   },
   "source": [
    "## W.A.P. that replicates a calculator / Convert this to function/class based script when you learn about them"
   ]
  },
  {
   "cell_type": "code",
   "execution_count": null,
   "metadata": {
    "id": "bAeImkV7LhCv"
   },
   "outputs": [],
   "source": [
    "# create naive script here\n",
    "import logging\n",
    "logging.basicConfig(format=\"{asctime} - {levelname} - {message}\",style=\"{\",datefmt=\"%Y-%m-%d %H:%M\",)\n",
    "# logging.warning(\"Hello, Warning!\")\n",
    "try:\n",
    "    first_number = float(input(\"enter numeric number\"))\n",
    "    second_number = float(input(\"enter numeric number \"))  \n",
    "    operator = input(\"choose one of them (+ , - , * , / , % )\")  \n",
    "    match operator:\n",
    "        case \"+\":\n",
    "            print(f'{first_number + second_number:.2f}')\n",
    "        case \"-\":\n",
    "            print(f'{first_number - second_number:.2f}')\n",
    "        case \"*\":\n",
    "            print(f'{first_number * second_number:.2f}')\n",
    "        case \"/\":\n",
    "            print(f'{first_number / second_number:.2f}')\n",
    "        case \"%\":\n",
    "            print(f'{first_number % second_number:.2f}')\n",
    "except Exception as e:\n",
    "    logging.warning(e)"
   ]
  },
  {
   "cell_type": "code",
   "execution_count": null,
   "metadata": {
    "id": "eoAzYhw0LhCw"
   },
   "outputs": [],
   "source": [
    "# create function based script here\n",
    "def sums(*args):\n",
    "    sum=0\n",
    "    for i in args:\n",
    "        sum+=i\n",
    "    return sum\n",
    "def substraction(first_value,second_value):\n",
    "    return f'{first_value - second_value:.2f}'\n",
    "def multiplication(first_value,second_value):\n",
    "    return f\"{first_value * second_value:.2f}\"\n",
    "def division(first_value,second_value):\n",
    "    return f'{first_value/second_value:.2f}'\n",
    "def modulo(first_value,second_value):\n",
    "    return f'{first_value%second_value:.2f}'\n",
    "def calculate():\n",
    "    try:\n",
    "        number1 = float(input(\"enter a numeric value\"))\n",
    "        number2 = float(input(\"enter another numeric value\"))\n",
    "        operator = input(\"choose one from -> (+ , - , * , / , % )\")\n",
    "        match operator:\n",
    "            case \"+\":\n",
    "                result = sums(number1,number2)\n",
    "                return f\"sum of {number1} and {number2} is {result}\"\n",
    "            case \"-\":\n",
    "                result = substraction(number1,number2)\n",
    "                return f\"substraction of {number1} and {number2} is {result}\"\n",
    "            case \"*\":\n",
    "                result = multiplication(number1,number2)\n",
    "                return f\"multiplication of {number1} and {number2} is {result}\"\n",
    "            case \"/\":\n",
    "                result = division(number1,number2)\n",
    "                return f\"division of {number1} and {number2} is {result}\"    \n",
    "            case \"%\":\n",
    "                result = modulo(number1,number2)\n",
    "                return f\"remainder of {number1} and {number2} is {result}\"\n",
    "            case _:\n",
    "                return f\"please choose from (+ , - , * , / , % )\"\n",
    "    except Exception as e:\n",
    "        return e\n",
    "        \n",
    "calculate()\n",
    "\n",
    "# sums(10,20,30)"
   ]
  },
  {
   "cell_type": "code",
   "execution_count": null,
   "metadata": {},
   "outputs": [],
   "source": [
    "# create a class based script here\n",
    "import logging\n",
    "logging.basicConfig(format=\"{asctime} - {levelname} - {message}\",style=\"{\",datefmt=\"%Y-%m-%d %H:%M\",)\n",
    "class calculate:\n",
    "    def __init__(self,num1,num2,operator):\n",
    "        self.num1 = num1\n",
    "        self.num2 = num2\n",
    "        self.operator = operator\n",
    "    def add(self):\n",
    "        return f'sum of {self.num1} and {self.num2} is {self.num1+self.num2}'\n",
    "    def substraction(self):\n",
    "        return f'substraction of {self.num1} and {self.num2} is {self.num1-self.num2}'\n",
    "    def multiplication(self):\n",
    "        return f'multiplication of {self.num1} and {self.num2} is {self.num1*self.num2}'\n",
    "    def division(self):\n",
    "        return f'division of {self.num1} and {self.num2} is {self.num1/self.num2}'\n",
    "    def remainder(self):\n",
    "        return f'remainder of {self.num1} and {self.num2} is {self.num1%self.num2}'\n",
    "def main():\n",
    "    try:\n",
    "        num1 = float(input(\"enter the numeric number\"))\n",
    "        num2 = float(input(\"enter the numeric number\"))\n",
    "        operator = input(\"choose from (+ , - , * , / , % )\")\n",
    "        object = calculate(num1,num2,operator)\n",
    "        match operator:\n",
    "            case \"+\":\n",
    "                return object.add()\n",
    "            case \"-\":\n",
    "                return object.substraction()\n",
    "            case \"*\":\n",
    "                return object.multiplication()\n",
    "            case \"/\":\n",
    "                return object.division()\n",
    "            case \"%\":\n",
    "                return object.remainder()\n",
    "    except Exception as e:\n",
    "        logging.warning(e)\n",
    "main()\n"
   ]
  },
  {
   "cell_type": "markdown",
   "metadata": {
    "id": "JMuZIkttLhCw"
   },
   "source": [
    "## W.A.P. that calculates result of a student. Student has given exam for five subjects. Passing marks are 23 out of 70"
   ]
  },
  {
   "cell_type": "code",
   "execution_count": null,
   "metadata": {
    "id": "tKYr_DX9LhCw"
   },
   "outputs": [],
   "source": [
    "# create naive script here\n",
    "student_marks = [65,50,35,22,62]\n",
    "result = 0 \n",
    "flag = True\n",
    "for i in student_marks:\n",
    "    if i > 23:\n",
    "        result += i\n",
    "    else:\n",
    "        result += i\n",
    "        flag = False\n",
    "average = result / len(student_marks)\n",
    "if flag:\n",
    "    print(f\"student is passed by {average}\")\n",
    "else:\n",
    "    print(f\"student is failed by {average}\")\n",
    "# print(f\"student result is {average}\")\n",
    "\n",
    "# Passing marks are 23 out of 70"
   ]
  },
  {
   "cell_type": "code",
   "execution_count": null,
   "metadata": {
    "id": "nqw5YYFzLhCx"
   },
   "outputs": [],
   "source": [
    "# create function based script here\n",
    "def calculate_result(marks):\n",
    "    average = 0\n",
    "    flag = False\n",
    "    number_of_subjects = len(marks)\n",
    "    for i in marks:\n",
    "        if i > 23:\n",
    "            average += i\n",
    "        else:\n",
    "            average += i\n",
    "            flag = True\n",
    "    if flag:\n",
    "        return f\"student is failed and his average score is {average/number_of_subjects}\"\n",
    "    else:\n",
    "        return f\"student is passed and his average score is {average/number_of_subjects}\"\n",
    "\n",
    "subject_marks = [65,50,2,54,62]\n",
    "result = calculate_result(subject_marks)\n",
    "print(result)"
   ]
  },
  {
   "cell_type": "code",
   "execution_count": null,
   "metadata": {
    "id": "sOVteaLELhCx"
   },
   "outputs": [],
   "source": [
    "# create class based script here\n",
    "class Student:\n",
    "    def __init__(self,name,mark):\n",
    "        self.name = name\n",
    "        self.marks = mark\n",
    "    def calculate_result(self):\n",
    "        average = 0\n",
    "        flag = True\n",
    "        number_of_subjects = len(self.marks)\n",
    "        for i in self.marks:\n",
    "            if i > 23:\n",
    "                average += i\n",
    "            else:\n",
    "                average += i\n",
    "                flag = False\n",
    "        if flag:\n",
    "            return f'passed and his score is {average/number_of_subjects:.2f}%'\n",
    "        else:\n",
    "            return f'failed and his score is {average/number_of_subjects:.2f}%'\n",
    "    def __str__(self):\n",
    "        return f\"{self.name} Result is {self.calculate_result()}\"\n",
    "mohit = Student(\"Mohit\",[65,50,35,54,62])\n",
    "print(mohit)\n",
    "avinasg = Student(\"Avinash\",[65,50,20,34,61])\n",
    "print(avinasg)"
   ]
  },
  {
   "cell_type": "markdown",
   "metadata": {
    "id": "UtbNazJCLhCx"
   },
   "source": [
    "## create scripts to draw below given patterns\n",
    "### Take input n = some number which is total number of row/column/lines to draw"
   ]
  },
  {
   "cell_type": "code",
   "execution_count": null,
   "metadata": {
    "id": "khorUyjGLhCx",
    "outputId": "9e8003bc-55f6-4838-c9a6-0e800f0c4184"
   },
   "outputs": [],
   "source": [
    "\"\"\"\n",
    "*\n",
    "**\n",
    "***\n",
    "****\n",
    "\"\"\""
   ]
  },
  {
   "cell_type": "code",
   "execution_count": null,
   "metadata": {},
   "outputs": [],
   "source": [
    "number_of_line = int(input(\"enter number of line for drawnig pattern\"))\n",
    "\n",
    "for i in range(number_of_line):\n",
    "    for _ in range(i+1):\n",
    "        print(\"*\",end=\"\")\n",
    "    print()"
   ]
  },
  {
   "cell_type": "code",
   "execution_count": null,
   "metadata": {
    "id": "IRFw1dXjLhCy",
    "outputId": "541a49cb-f962-4612-c35b-06393c777966"
   },
   "outputs": [],
   "source": [
    "\"\"\"\n",
    "****\n",
    "***\n",
    "**\n",
    "*\n",
    "\"\"\""
   ]
  },
  {
   "cell_type": "code",
   "execution_count": null,
   "metadata": {},
   "outputs": [],
   "source": [
    "number_of_line = int(input(\"enter number of line for drawnig pattern\"))\n",
    "\n",
    "for i in range(number_of_line,0,-1):\n",
    "    for _ in range(i):\n",
    "        print(\"*\",end=\"\")\n",
    "    print()"
   ]
  },
  {
   "cell_type": "code",
   "execution_count": null,
   "metadata": {},
   "outputs": [],
   "source": [
    "number_of_line = int(input(\"enter number of line for drawnig pattern\"))\n",
    "\n",
    "for i in range(number_of_line):\n",
    "    for _ in range(number_of_line-i):\n",
    "        print(\"*\",end=\"\")\n",
    "    print()"
   ]
  },
  {
   "cell_type": "code",
   "execution_count": null,
   "metadata": {
    "id": "pcD4yH05LhCy",
    "outputId": "e13eb62e-455c-400b-c926-11493f2332b4"
   },
   "outputs": [],
   "source": [
    "\"\"\"\n",
    "1\n",
    "2 3\n",
    "4 5 6\n",
    "7 8 9 10\n",
    "\"\"\""
   ]
  },
  {
   "cell_type": "code",
   "execution_count": null,
   "metadata": {},
   "outputs": [],
   "source": [
    "number_of_line = int(input(\"enter number of line for drawnig pattern\"))\n",
    "start = 1\n",
    "\n",
    "for i in range(number_of_line):\n",
    "    for _ in range(i):\n",
    "        print(start,end=' ')\n",
    "        start+=1\n",
    "    print()"
   ]
  },
  {
   "cell_type": "code",
   "execution_count": null,
   "metadata": {
    "id": "diyVhY52LhCy",
    "outputId": "3f6d433d-df8b-401a-9217-74ba6bf753b5"
   },
   "outputs": [],
   "source": [
    "\"\"\"\n",
    "1\n",
    "1 2\n",
    "1 2 3\n",
    "1 2 3 4\n",
    "\"\"\""
   ]
  },
  {
   "cell_type": "code",
   "execution_count": null,
   "metadata": {},
   "outputs": [],
   "source": [
    "number_of_line = int(input(\"enter number of line for drawnig pattern\"))\n",
    "\n",
    "for i in range(1,number_of_line):\n",
    "    for j in range(1,i+1):\n",
    "        print(j,end = \" \")\n",
    "    print()"
   ]
  },
  {
   "cell_type": "code",
   "execution_count": null,
   "metadata": {
    "id": "3BqjOR6MLhCz",
    "outputId": "2fb45e41-0215-4c15-a1f5-dc783fa47e58"
   },
   "outputs": [],
   "source": [
    "\"\"\"\n",
    "10 9 8 7\n",
    "6 5 4\n",
    "3 2\n",
    "1\n",
    "\"\"\""
   ]
  },
  {
   "cell_type": "code",
   "execution_count": null,
   "metadata": {},
   "outputs": [],
   "source": [
    "number_of_line = int(input(\"enter number of line for drawnig pattern\"))\n",
    "number = number_of_line*2\n",
    "\n",
    "for i in range(1,number_of_line):\n",
    "    for j in range(number_of_line-i):\n",
    "        print(number,end=\" \")\n",
    "        number-=1\n",
    "    print()"
   ]
  },
  {
   "cell_type": "code",
   "execution_count": null,
   "metadata": {
    "id": "nqe5D61uLhCz",
    "outputId": "d719ec9f-643f-4992-ed4b-3cd4f0fdc27a"
   },
   "outputs": [],
   "source": [
    "\"\"\"\n",
    "5 4 3 2 1\n",
    "4 3 2 1\n",
    "3 2 1\n",
    "2 1\n",
    "1\n",
    "\"\"\""
   ]
  },
  {
   "cell_type": "code",
   "execution_count": null,
   "metadata": {},
   "outputs": [],
   "source": [
    "number_of_line = int(input(\"enter number of line for drawnig pattern\"))\n",
    "\n",
    "for i in range(number_of_line):\n",
    "    for j in range(number_of_line-i,0,-1):\n",
    "        print(j,end=\" \")\n",
    "    print()\n"
   ]
  },
  {
   "cell_type": "code",
   "execution_count": null,
   "metadata": {
    "id": "rJHN9ExFLhCz",
    "outputId": "3b713ec4-7f0e-4582-ec09-ce3f4ba1b787"
   },
   "outputs": [],
   "source": [
    "\"\"\"\n",
    "*     *\n",
    "**   **\n",
    "*** ***\n",
    "*******\n",
    "\"\"\""
   ]
  },
  {
   "cell_type": "code",
   "execution_count": null,
   "metadata": {},
   "outputs": [],
   "source": [
    "number_of_line = int(input(\"enter number of line for drawnig pattern\"))\n",
    "number_of_vertical_line = number_of_line*2 - 1\n",
    "\n",
    "for i in range(number_of_line):\n",
    "    for j in range(number_of_vertical_line):\n",
    "        if j <i+1:\n",
    "            print(\"*\",end=\"\")\n",
    "        elif j>number_of_vertical_line-(i+2):\n",
    "            print(\"*\",end=\"\")\n",
    "        else:\n",
    "            print(\" \",end=\"\")\n",
    "    print()"
   ]
  },
  {
   "cell_type": "code",
   "execution_count": null,
   "metadata": {
    "id": "YL5-JhwjLhCz",
    "outputId": "7093b213-0d2b-464b-d17f-61bc24f099f3"
   },
   "outputs": [],
   "source": [
    "\"\"\"\n",
    "*******\n",
    "*** ***\n",
    "**   **\n",
    "*     *\n",
    "\"\"\""
   ]
  },
  {
   "cell_type": "code",
   "execution_count": null,
   "metadata": {},
   "outputs": [],
   "source": [
    "import time\n",
    "start = time.time()\n",
    "number_of_line = int(input(\"enter number of line for drawnig pattern\"))\n",
    "number_of_vertical_line = (number_of_line*2)-1\n",
    "for i in range(number_of_line):\n",
    "    for j in range(number_of_vertical_line):\n",
    "        if j< number_of_line-i or j>=(number_of_line-1)+i:\n",
    "            print(\"*\",end=\"\")\n",
    "        else:\n",
    "            print(\" \",end=\"\")\n",
    "    print()\n",
    "end = time.time()\n",
    "print(f\"execution time is {end -start}\")"
   ]
  },
  {
   "cell_type": "code",
   "execution_count": null,
   "metadata": {
    "id": "7eBbV2QvLhCz",
    "outputId": "748dfa96-3602-47ca-9158-32b3c6065636"
   },
   "outputs": [],
   "source": [
    "\"\"\"\n",
    "*******\n",
    "*** ***\n",
    "**   **\n",
    "*     *\n",
    "**   **\n",
    "*** ***\n",
    "*******\n",
    "\"\"\""
   ]
  },
  {
   "cell_type": "code",
   "execution_count": 13,
   "metadata": {},
   "outputs": [
    {
     "name": "stdout",
     "output_type": "stream",
     "text": [
      "*********\n",
      "**** ****\n",
      "***   ***\n",
      "**     **\n",
      "*       *\n",
      "**     **\n",
      "***   ***\n",
      "**** ****\n",
      "*********\n"
     ]
    }
   ],
   "source": [
    "number_of_line = int(input(\"enter number of line\"))\n",
    "\n",
    "for i in range(1,number_of_line*2):\n",
    "    for j in range(1,number_of_line*2):\n",
    "        if i <= number_of_line and (j <=number_of_line-i+1 or j >=(number_of_line-1)+i):\n",
    "            print(\"*\" , end= \"\")\n",
    "        elif i > number_of_line and (j <= i-number_of_line+1 or j >=(number_of_line*2)-(i-number_of_line+1)):\n",
    "            print(\"*\" , end= \"\")\n",
    "        else:\n",
    "            print(\" \",end=\"\")\n",
    "    print()\n",
    "\n",
    "\n",
    "\n",
    "\n",
    "\n",
    "\n",
    "\n",
    "# for i in range(number*2-1):\n",
    "#     for j in range(number*2-1):\n",
    "#         if i<=number-1 and (j<number-i or j>=(number-1)+i):\n",
    "#             print(\"*\",end=\"\")\n",
    "#         elif i>number-1 and (j<=i-number+1 or j > (number*2-1)-(i-number+3)):\n",
    "#             print(\"*\",end=\"\")\n",
    "#         else:\n",
    "#             print(\" \",end=\"\")\n",
    "#     print()\n",
    "        "
   ]
  },
  {
   "cell_type": "code",
   "execution_count": null,
   "metadata": {
    "id": "00irEEUPLhCz",
    "outputId": "9289ddf0-2b99-4ed1-9c8f-a0f77f20064f"
   },
   "outputs": [],
   "source": [
    "\"\"\"\n",
    "*       *       *       *\n",
    " *     * *     * *     * *\n",
    "  *   *   *   *   *   *   *\n",
    "   * *     * *     * *     * \n",
    "    *       *       *       *\n",
    "\"\"\""
   ]
  },
  {
   "cell_type": "code",
   "execution_count": null,
   "metadata": {},
   "outputs": [],
   "source": [
    "# for i in range(5):\n",
    "#     for j in range(5):\n",
    "#         if j ==i:\n",
    "#            print(\"*\",end=\"\")\n",
    "#         else:\n",
    "#             print(\" \",end=\"\")\n",
    "#     print()\n",
    "        "
   ]
  },
  {
   "cell_type": "markdown",
   "metadata": {
    "id": "7NDc931lLhC0"
   },
   "source": [
    "## Implement stack"
   ]
  },
  {
   "cell_type": "code",
   "execution_count": null,
   "metadata": {
    "id": "Fb6sGMfXLhC0"
   },
   "outputs": [],
   "source": [
    "# create naive script here\n",
    "# stack = []\n",
    "# stack.append(1)\n",
    "# stack.append(\"Devarsh\")\n",
    "# stack.append(\"Harshil\")\n",
    "# stack.append(\"mohit\")\n",
    "# stack.append(\"javid\")\n",
    "# stack.append(\"haso\")\n",
    "# stack.append([1,2,3,])\n",
    "# stack.append((1,))\n",
    "# print(stack)\n",
    "# print(stack.pop())\n",
    "# print(stack.pop())\n",
    "# print(stack.pop())\n",
    "# print(stack.pop())\n"
   ]
  },
  {
   "cell_type": "code",
   "execution_count": null,
   "metadata": {},
   "outputs": [
    {
     "name": "stdout",
     "output_type": "stream",
     "text": [
      "press integer for operation \n",
      " 1: push items \n",
      " 2: pop items \n",
      " 3: find the Top item \n",
      " 4: check isempty \n",
      " 5: get size of stack \n",
      " 6: check stack is full \n",
      " 7: display stack\n",
      " 8: exit\n",
      "0\n",
      "10 is pushed successfully\n",
      "1\n",
      "20 is pushed successfully\n",
      "2\n",
      "30 is pushed successfully\n",
      "Stack is overflow\n",
      "Top element at index is :  2\n",
      "stack is ['10', '20', '30']\n",
      "stack is empty False\n",
      "size of the stack is 2\n",
      "stack is full True\n",
      "stack is ['10', '20', '30']\n",
      "30 is removed\n",
      "size of the stack is 1\n",
      "stack is full False\n",
      "stack is empty False\n",
      "20 is removed\n",
      "10 is removed\n",
      "stack is empty True\n",
      "size of the stack is -1\n",
      "stack is full False\n",
      "exit successfully\n"
     ]
    }
   ],
   "source": [
    "      \n",
    "def create_stack(max_size):\n",
    "    \"\"\"Create stack function create a empty list for new stack \"\"\"\n",
    "    new_list = [None]*max_size\n",
    "    return new_list\n",
    "def get_size(top):\n",
    "    \"\"\"return the length of the stack\"\"\"\n",
    "    return top\n",
    "\n",
    "def is_empty(top):\n",
    "    \"\"\"check the stack isempty or not\"\"\"\n",
    "    if top == -1:\n",
    "        return True\n",
    "    else:\n",
    "        return False\n",
    "def top(top):\n",
    "    \"\"\"return the top element of stack\"\"\"\n",
    "    return top\n",
    "def is_full(top , max_size):\n",
    "    \"\"\"check if the stack is full or not\"\"\"\n",
    "    if top == max_size-1:\n",
    "        return True\n",
    "    else:\n",
    "        return False\n",
    "def push(stack,new_element,top,max_size):\n",
    "        \"\"\"add element in the stack at top\"\"\"\n",
    "        if is_full(top,max_size):\n",
    "            raise OverflowError(\"Stack is overflow\")\n",
    "        else:\n",
    "            top = top+1\n",
    "            stack[top] = new_element\n",
    "            return top\n",
    "        \n",
    "def pop(stack,top_element):\n",
    "    \"\"\"remove the element from the stack at the top\"\"\"\n",
    "    if is_empty(top_element):\n",
    "        raise IndexError(\"stack is underflow\")\n",
    "    else:\n",
    "        poped_element = stack[top_element]\n",
    "        stack[top_element] = None\n",
    "        top_element -= 1\n",
    "        return top_element , poped_element\n",
    "# create naive script here\n",
    "\n",
    "def main():\n",
    "    max_size = int(input(\"enter the size of stack\"))\n",
    "    stack = create_stack(max_size)\n",
    "    top = -1\n",
    "\n",
    "    menuSelection = (\n",
    "    \"press integer for operation \\n \"\n",
    "    \"1: push items \\n \"\n",
    "    \"2: pop items \\n \"\n",
    "    \"3: find the Top item \\n \"\n",
    "    \"4: check isempty \\n \"\n",
    "    \"5: get size of stack \\n \"\n",
    "    \"6: check stack is full \\n \"\n",
    "    \"7: display stack\\n \"\n",
    "    \"8: exit\")\n",
    "    print(menuSelection)\n",
    "\n",
    "    flag = True\n",
    "    while flag:\n",
    "        select_from_menuselection = input(\"enter your choice\")\n",
    "        match select_from_menuselection:\n",
    "            case \"1\":\n",
    "                try:\n",
    "                    element = input(\"enter element\")\n",
    "                    top  = push(stack,element,top,max_size)\n",
    "                    print(top)\n",
    "                    print(f\"{element} is pushed successfully\")\n",
    "                except OverflowError as e:\n",
    "                    print(e)\n",
    "            case \"2\":\n",
    "                try:\n",
    "                    top , poped_element = pop(stack,top)\n",
    "                    print(f\"{poped_element} is removed\")\n",
    "                except IndexError as e:\n",
    "                    print(e)\n",
    "            case \"3\":\n",
    "                print(f\"Top element at index is :  {top(top)}\")\n",
    "            case \"4\":\n",
    "                print(f\"stack is empty {is_empty(top)}\")\n",
    "            case \"5\":\n",
    "                print(f\"size of the stack is {get_size(top)}\")\n",
    "            case \"6\":\n",
    "                print(f\"stack is full {is_full(top,max_size)}\")\n",
    "            case \"7\":\n",
    "                print(f\"stack is {stack}\")\n",
    "            case \"8\":\n",
    "                print(f\"exit successfully\")\n",
    "                flag = False\n",
    "            case _:\n",
    "                print(\"invalid choice , please select from 1 to 8\")\n",
    "    return\n",
    "\n",
    "main()\n",
    "\n"
   ]
  },
  {
   "cell_type": "code",
   "execution_count": null,
   "metadata": {
    "id": "hvar96n6LhC0"
   },
   "outputs": [
    {
     "name": "stdout",
     "output_type": "stream",
     "text": [
      "press integer for operation \n",
      " 1: push items \n",
      " 2: pop items \n",
      " 3: find the Top item \n",
      " 4: check isempty \n",
      " 5: get size of stack \n",
      " 6: check stack is full \n",
      " 7: display stack\n",
      " 8: exit\n",
      "w is successfully pushed\n",
      "stack is ['w', None, None]\n"
     ]
    }
   ],
   "source": [
    "# create class based script here\n",
    "\n",
    "class Stack:\n",
    "    def __init__(self,size):\n",
    "        \"\"\"initialization of stack\"\"\"\n",
    "        self.size = size\n",
    "        self.data = [None]*self.size\n",
    "        self.top = -1\n",
    "    def push(self,new_element):\n",
    "        if self.is_full():\n",
    "            raise over\\(\"stack is full\")\n",
    "        else:\n",
    "            self.top = self.top +1 \n",
    "            self.data[self.top] = new_element\n",
    "            return self.top\n",
    "    def pop(self):\n",
    "        if self.is_empty():\n",
    "            raise IndexError(\"stack is empty\")\n",
    "        else:\n",
    "            poped_element = self.data[self.top]\n",
    "            self.data[self.top] = None\n",
    "            self.top = self.top -1\n",
    "            return self.top , poped_element\n",
    "    def peak(self):\n",
    "        return self.data[self.top]\n",
    "    def is_empty(self):\n",
    "        if self.top == -1:\n",
    "            return True\n",
    "        else:\n",
    "            return False\n",
    "    def is_full(self):\n",
    "        if self.top == self.size -1:\n",
    "            return True\n",
    "        else:\n",
    "            return False\n",
    "def main():\n",
    "    \"\"\"main script\"\"\"\n",
    "stack_size = int(input(\"enter the size of stack\"))\n",
    "stack= Stack(stack_size)\n",
    "\n",
    "menuSelection = (\n",
    "    \"press integer for operation \\n \"\n",
    "    \"1: push items \\n \"\n",
    "    \"2: pop items \\n \"\n",
    "    \"3: find the Top item \\n \"\n",
    "    \"4: check isempty \\n \"\n",
    "    \"5: get size of stack \\n \"\n",
    "    \"6: check stack is full \\n \"\n",
    "    \"7: display stack\\n \"\n",
    "    \"8: exit\")\n",
    "print(menuSelection)\n",
    "\n",
    "flag = True\n",
    "while flag:\n",
    "    choice = input(\"choose integer from the Menu Selection\")\n",
    "    match choice:\n",
    "        case \"1\":\n",
    "            try:\n",
    "                element = input(\"enter element\")\n",
    "                stack.push(element)\n",
    "                print(f\"{element} is successfully pushed\")\n",
    "            except IndexError as e:\n",
    "                print(e)\n",
    "\n",
    "        case \"2\":\n",
    "            try:\n",
    "                top_element , poped_elememt = stack.pop()\n",
    "                print(f\"{poped_elememt} is successfully popped\")\n",
    "            except IndexError as e:\n",
    "                print(e)\n",
    "        case \"3\":\n",
    "            print(f\"top element is {stack.peak()}\")\n",
    "        case \"4\":\n",
    "            if stack.is_empty():\n",
    "                print(\"stack is empty\")\n",
    "            else:\n",
    "                print(\"stack is not empty\")\n",
    "        case \"5\":\n",
    "            print(f\"stack current size is {stack.top+1}\")\n",
    "        case \"6\":\n",
    "            if stack.is_full():\n",
    "                print(\"stack is full\")\n",
    "            else:\n",
    "                print(\"stack is not full\")\n",
    "        case \"7\":\n",
    "            print(f\"stack is {stack.data}\")\n",
    "        case \"8\":\n",
    "            flag = False\n",
    "        case _:\n",
    "            print(\"choose between 1 to 8\")\n",
    "    \n",
    "if __name__ == \"__main__\":\n",
    "    main()\n",
    "        \n",
    "    "
   ]
  },
  {
   "cell_type": "markdown",
   "metadata": {
    "id": "zVz7c_abLhC0"
   },
   "source": [
    "## Implement queue"
   ]
  },
  {
   "cell_type": "code",
   "execution_count": null,
   "metadata": {
    "id": "boCxXGONLhC0"
   },
   "outputs": [],
   "source": [
    "# create naive script here\n",
    "from collections import deque\n",
    "students_name = deque()\n",
    "students_name.append(\"Devarsh\")\n",
    "students_name.appendleft(\"Mohit\")\n",
    "students_name.extendleft([\"Darshan\" , \"vaibhav\" , \"viru\"  , \"Ronak\" , \"Rupin\"])\n",
    "students_name.extend((\"kalu\" , \"kali\" , \"dholi\" , \"bhuro\"))\n",
    "print(students_name)\n",
    "students_name.popleft()\n",
    "print(students_name)\n"
   ]
  },
  {
   "cell_type": "code",
   "execution_count": null,
   "metadata": {},
   "outputs": [],
   "source": [
    "# create naive script here\n",
    "# craete a queue using a list\n",
    "\n",
    "# take a empty list to store element\n",
    "queue = []\n",
    "# using append method ican append element into that\n",
    "queue.append(10)\n",
    "queue.append(\"Devarsh\")\n",
    "queue.append(30)\n",
    "# check if correctly appended or not?\n",
    "print(queue)\n",
    "# now popped the element , but one thing is unique is that queue is follow the FIFI(first in first out flow)\n",
    "queue.pop(0)\n",
    "print(queue)\n",
    "queue.pop(0)\n",
    "queue.pop(0)\n",
    "print(queue)\n"
   ]
  },
  {
   "cell_type": "code",
   "execution_count": null,
   "metadata": {
    "id": "06hbpEKELhC0"
   },
   "outputs": [],
   "source": [
    "# create function based script here\n",
    "import logging\n",
    "logging.basicConfig(format=\"{asctime} - {levelname} - {message}\",style=\"{\",datefmt=\"%Y-%m-%d %H:%M\",)\n",
    "def add_element_end(element):\n",
    "    \"\"\"this function is added element to the end \"\"\"\n",
    "    try:\n",
    "        if element is not None:\n",
    "            QUeue.append(element)\n",
    "            return f\"{element} is adde into the queue\"\n",
    "        else:\n",
    "            raise TypeError\n",
    "    except Exception as e:\n",
    "        return e\n",
    "def del_element_begin():\n",
    "    \"\"\"this function is removed element from the front\"\"\"\n",
    "    element = QUeue.pop(0)\n",
    "    return f\"{element} is popped\"\n",
    "\n",
    "def create_a_queue():\n",
    "    QUeue = []\n",
    "    return QUeue\n",
    "# take a input from user and choose one of task\n",
    "flag = True\n",
    "while flag:\n",
    "    operation = input(\"1 : create a queue \\n 2: add a element\\n 3: poped element\\n 4:display the quque \")\n",
    "    try:\n",
    "        match operation:\n",
    "            case \"1\":\n",
    "                create_a_queue()\n",
    "                print(f\"Empty queue is created successfully\")\n",
    "            case \"2\":\n",
    "                element = int(input(\"enter element\"))\n",
    "                print(add_element_end(element))\n",
    "            case \"3\":\n",
    "                print(del_element_begin())\n",
    "            case \"4\":\n",
    "                print(f\"queue is {QUeue}\")\n",
    "            case _:\n",
    "                flag = False\n",
    "    except Exception as e:\n",
    "        logging.warning(e)\n",
    "\n",
    "\n",
    "\n",
    "\n",
    "# print(QUeue)"
   ]
  },
  {
   "cell_type": "code",
   "execution_count": null,
   "metadata": {
    "id": "rNTBLGPyLhC0"
   },
   "outputs": [],
   "source": [
    "# create class based script here\n",
    "class queue:\n",
    "    def __init__(self):\n",
    "        self.data = []\n",
    "    def append(self,value):\n",
    "        self.data.append(value)\n",
    "        return self.data\n",
    "    def pop(self):\n",
    "        return self.data.pop(0)\n",
    "    def display(self):\n",
    "        return f\"custom_queue = {self.data}\"\n",
    "flag = True\n",
    "while flag:\n",
    "    operation = input(\"1 : create a queue \\n 2: add a element\\n 3: poped element\\n 4:display the quque \")\n",
    "    try:\n",
    "        match operation:\n",
    "            case \"1\":\n",
    "                custom_queue = queue()\n",
    "                print(f\"Empty queue is created successfully\")\n",
    "            case \"2\":\n",
    "                element = int(input(\"enter element\"))\n",
    "                print(custom_queue.append(element))\n",
    "            case \"3\":\n",
    "                print(custom_queue.pop())\n",
    "            case \"4\":\n",
    "                print(custom_queue.display())\n",
    "            case _:\n",
    "                flag = False\n",
    "    except Exception as e:\n",
    "        logging.warning(e)\n",
    "\n"
   ]
  },
  {
   "cell_type": "code",
   "execution_count": null,
   "metadata": {},
   "outputs": [],
   "source": []
  },
  {
   "cell_type": "markdown",
   "metadata": {
    "id": "2luU7KB_LhC1"
   },
   "source": [
    "## Implement dqueue"
   ]
  },
  {
   "cell_type": "code",
   "execution_count": null,
   "metadata": {
    "id": "xD6yB4lxLhC1"
   },
   "outputs": [],
   "source": [
    "# create naive script here"
   ]
  },
  {
   "cell_type": "code",
   "execution_count": null,
   "metadata": {
    "id": "DKw3ye05LhC1"
   },
   "outputs": [],
   "source": [
    "# create function based script here"
   ]
  },
  {
   "cell_type": "code",
   "execution_count": null,
   "metadata": {
    "id": "0VlVSx9fLhC1"
   },
   "outputs": [],
   "source": [
    "# create class based script here"
   ]
  },
  {
   "cell_type": "markdown",
   "metadata": {
    "id": "H9-dDNWGLhC1"
   },
   "source": [
    "## Sorting algorithms"
   ]
  },
  {
   "cell_type": "markdown",
   "metadata": {
    "id": "qdpJtriPLhC1"
   },
   "source": [
    "#### Selection Sort"
   ]
  },
  {
   "cell_type": "code",
   "execution_count": null,
   "metadata": {
    "id": "gR7ubFNdLhC1"
   },
   "outputs": [],
   "source": []
  },
  {
   "cell_type": "markdown",
   "metadata": {
    "id": "jdpe7Y9OLhC1"
   },
   "source": [
    "#### Bubble Sort"
   ]
  },
  {
   "cell_type": "code",
   "execution_count": null,
   "metadata": {
    "id": "WHvoYovoLhC1"
   },
   "outputs": [],
   "source": []
  },
  {
   "cell_type": "markdown",
   "metadata": {
    "id": "A_y7QbxHLhC1"
   },
   "source": [
    "#### Insertion Sort"
   ]
  },
  {
   "cell_type": "code",
   "execution_count": null,
   "metadata": {
    "id": "_JO787rwLhC2"
   },
   "outputs": [],
   "source": []
  },
  {
   "cell_type": "markdown",
   "metadata": {
    "id": "_iqq79i-LhC2"
   },
   "source": [
    "#### Merge Sort"
   ]
  },
  {
   "cell_type": "code",
   "execution_count": null,
   "metadata": {
    "id": "4aPAM_GLLhC2"
   },
   "outputs": [],
   "source": []
  },
  {
   "cell_type": "markdown",
   "metadata": {
    "id": "TO0GBw8wLhC2"
   },
   "source": [
    "#### Quick Sort"
   ]
  },
  {
   "cell_type": "code",
   "execution_count": null,
   "metadata": {
    "id": "q18SafUDLhC2"
   },
   "outputs": [],
   "source": []
  },
  {
   "cell_type": "markdown",
   "metadata": {
    "id": "aD28a9ZMLhC2"
   },
   "source": [
    "## Searching Algorithms"
   ]
  },
  {
   "cell_type": "markdown",
   "metadata": {
    "id": "q31gjdcXLhC2"
   },
   "source": [
    "#### Linear Search"
   ]
  },
  {
   "cell_type": "code",
   "execution_count": null,
   "metadata": {
    "id": "25X1WrHqLhC2"
   },
   "outputs": [],
   "source": []
  },
  {
   "cell_type": "markdown",
   "metadata": {
    "id": "CTZ_ekMNLhC2"
   },
   "source": [
    "#### Binary Search"
   ]
  },
  {
   "cell_type": "code",
   "execution_count": null,
   "metadata": {
    "id": "18dlNIPcLhC2"
   },
   "outputs": [],
   "source": []
  },
  {
   "cell_type": "markdown",
   "metadata": {
    "id": "viarJeFQLhC2"
   },
   "source": [
    "## Remove duplicates from a given list"
   ]
  },
  {
   "cell_type": "code",
   "execution_count": null,
   "metadata": {
    "id": "1CJqZpDNLhC3"
   },
   "outputs": [],
   "source": []
  },
  {
   "cell_type": "markdown",
   "metadata": {
    "id": "AdVzpBb3LhC3"
   },
   "source": [
    "## W.A.P. that replicates a complete banking system. User should be able to perform below given tasks.\n",
    "\n",
    "- __Open account__\n",
    "- __login using account number and password__\n",
    "- __logout__\n",
    "- __add/withdraw money__\n",
    "- __close account__\n",
    "- __transfer amount__\n",
    "- __keep track of transactions (all)__\n",
    "- __maintain total amount of money that bank has__\n",
    "- __take loan from bank at 7% interest rate for a time periode and pay EMIs__\n",
    "- __Do this without an external database__\n",
    "- __Use a JSON file as database__\n",
    "- __Use postgresql as database__\n"
   ]
  },
  {
   "cell_type": "code",
   "execution_count": null,
   "metadata": {
    "id": "Noykd01YLhC3"
   },
   "outputs": [],
   "source": []
  },
  {
   "cell_type": "markdown",
   "metadata": {
    "id": "gA49EpirMwi-"
   },
   "source": [
    "## Practice Hacker Rank and Leetcode problems\n",
    "\n",
    "From now on just create profiles on and start solving problems there\n",
    "\n",
    "1. https://www.hackerrank.com/domains/python\n",
    "2. https://leetcode.com/\n",
    "\n",
    "Still not satisfied?? --> Look into **Python CookBook**\n",
    "\n",
    "\n",
    "Or there are more resources to learn data structures and algorithms\n",
    "\n",
    "1. https://github.com/keon/algorithms\n",
    "2. https://github.com/TheAlgorithms/Python\n",
    "\n"
   ]
  },
  {
   "cell_type": "code",
   "execution_count": null,
   "metadata": {
    "id": "hI4KhE2ONDlv"
   },
   "outputs": [],
   "source": []
  }
 ],
 "metadata": {
  "colab": {
   "provenance": []
  },
  "kernelspec": {
   "display_name": "base",
   "language": "python",
   "name": "python3"
  },
  "language_info": {
   "codemirror_mode": {
    "name": "ipython",
    "version": 3
   },
   "file_extension": ".py",
   "mimetype": "text/x-python",
   "name": "python",
   "nbconvert_exporter": "python",
   "pygments_lexer": "ipython3",
   "version": "3.11.5"
  }
 },
 "nbformat": 4,
 "nbformat_minor": 4
}
