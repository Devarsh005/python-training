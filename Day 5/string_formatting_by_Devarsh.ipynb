{
 "cells": [
  {
   "cell_type": "code",
   "execution_count": 1,
   "id": "fc5a04e5",
   "metadata": {},
   "outputs": [
    {
     "name": "stdout",
     "output_type": "stream",
     "text": [
      "hello developers\n"
     ]
    }
   ],
   "source": [
    "print(\"hello {}\".format(\"developers\"))"
   ]
  },
  {
   "cell_type": "code",
   "execution_count": null,
   "id": "c3392aca",
   "metadata": {},
   "outputs": [
    {
     "name": "stdout",
     "output_type": "stream",
     "text": [
      "hello Developers this is ten:10 and this is nine9\n"
     ]
    }
   ],
   "source": [
    "nine = 9\n",
    "ten =10 \n",
    "print('hello {1} this is ten:{2} and this is nine:{0}'.format(nine,\"Developers\",ten))"
   ]
  },
  {
   "cell_type": "code",
   "execution_count": 6,
   "id": "2aba7748",
   "metadata": {},
   "outputs": [
    {
     "name": "stdout",
     "output_type": "stream",
     "text": [
      "hello Developers\n"
     ]
    }
   ],
   "source": [
    "var = \"Developers\"\n",
    "print(\"hello {}\".format(var))"
   ]
  },
  {
   "cell_type": "code",
   "execution_count": 3,
   "id": "e8b77eb2",
   "metadata": {},
   "outputs": [
    {
     "name": "stdout",
     "output_type": "stream",
     "text": [
      "developers list {1: 'Devarsh', 2: 'Mohit', 3: 'Devarsh', 4: 'avinash'}\n"
     ]
    }
   ],
   "source": [
    "# now let's print dictionary by the .format\n",
    "dicts = {\n",
    "    1:'Devarsh',\n",
    "    2:'Mohit',\n",
    "    3:'Devarsh',\n",
    "    4:'avinash'\n",
    "}\n",
    "print(\"developers list {}\".format(dicts))"
   ]
  },
  {
   "cell_type": "code",
   "execution_count": 6,
   "id": "f4fbcb74",
   "metadata": {},
   "outputs": [
    {
     "name": "stdout",
     "output_type": "stream",
     "text": [
      "this is the 95\n"
     ]
    }
   ],
   "source": [
    "# fstring\n",
    "print(f\"this is the {95}\")"
   ]
  },
  {
   "cell_type": "code",
   "execution_count": 8,
   "id": "7d283308",
   "metadata": {},
   "outputs": [
    {
     "name": "stdout",
     "output_type": "stream",
     "text": [
      "this is the 95.00\n"
     ]
    }
   ],
   "source": [
    "print(f\"this is the {95:.2f}\")"
   ]
  },
  {
   "cell_type": "code",
   "execution_count": 1,
   "id": "ee9edd2f",
   "metadata": {},
   "outputs": [
    {
     "name": "stdout",
     "output_type": "stream",
     "text": [
      "multiplication of 25 and 25 625\n"
     ]
    }
   ],
   "source": [
    "# math opeartion\n",
    "print(f\"multiplication of 25 and 25 {25*25}\")"
   ]
  },
  {
   "cell_type": "code",
   "execution_count": 19,
   "id": "97011990",
   "metadata": {},
   "outputs": [
    {
     "name": "stdout",
     "output_type": "stream",
     "text": [
      "price expensive\n"
     ]
    }
   ],
   "source": [
    "price =200\n",
    "print(f\"price {'expensive' if price > 50 else 'cheap' }\")"
   ]
  },
  {
   "cell_type": "code",
   "execution_count": null,
   "id": "42303846",
   "metadata": {},
   "outputs": [
    {
     "name": "stdout",
     "output_type": "stream",
     "text": [
      "fruit name is APPLE\n"
     ]
    }
   ],
   "source": [
    "# string.upper()\n",
    "fruit = \"apple\"\n",
    "print(f'fruit name is {fruit.upper()}')"
   ]
  },
  {
   "cell_type": "code",
   "execution_count": null,
   "id": "f2d997d9",
   "metadata": {},
   "outputs": [
    {
     "name": "stdout",
     "output_type": "stream",
     "text": [
      "generate random number using \"generateRandomNumber\" function 3\n"
     ]
    }
   ],
   "source": [
    "# we can use inside our own function as well\n",
    "import random\n",
    "def generateRandomNumber(given_range):\n",
    "    store = random.randrange(given_range)\n",
    "    return store\n",
    "fstring = f'generate random number using \"generateRandomNumber\" function {generateRandomNumber(20)}'\n",
    "print(fstring)\n",
    "\n",
    "    "
   ]
  },
  {
   "cell_type": "code",
   "execution_count": 101,
   "id": "9d2a267e",
   "metadata": {},
   "outputs": [
    {
     "name": "stdout",
     "output_type": "stream",
     "text": [
      "[0, 1, 4, 9, 16, 25, 36, 49, 64, 81]\n"
     ]
    }
   ],
   "source": [
    "fstring = f\"{[i**2 for i in range(0,10)]}\"\n",
    "print(fstring)"
   ]
  },
  {
   "cell_type": "code",
   "execution_count": 110,
   "id": "a3602525",
   "metadata": {},
   "outputs": [
    {
     "name": "stdout",
     "output_type": "stream",
     "text": [
      "                                          centered string                                           \n"
     ]
    }
   ],
   "source": [
    "# centered string\n",
    "print(f'{\"centered string\":^100}')"
   ]
  },
  {
   "cell_type": "code",
   "execution_count": 1,
   "id": "f279fe2f",
   "metadata": {},
   "outputs": [
    {
     "name": "stdout",
     "output_type": "stream",
     "text": [
      "1,000,000\n"
     ]
    }
   ],
   "source": [
    "# comma separator after thousand\n",
    "print(f\"{1000000:,}\")"
   ]
  },
  {
   "cell_type": "code",
   "execution_count": 2,
   "id": "eb22e74c",
   "metadata": {},
   "outputs": [
    {
     "name": "stdout",
     "output_type": "stream",
     "text": [
      "1_000_000_000_000_000\n"
     ]
    }
   ],
   "source": [
    "print(f\"{1000000000000000:_}\")"
   ]
  },
  {
   "cell_type": "markdown",
   "id": "333cdf9a",
   "metadata": {},
   "source": [
    "# conversion flags"
   ]
  },
  {
   "cell_type": "code",
   "execution_count": 24,
   "id": "971975d4",
   "metadata": {},
   "outputs": [
    {
     "name": "stdout",
     "output_type": "stream",
     "text": [
      "10\n",
      "hello\n",
      "'hello'\n",
      "'\\xb5'\n",
      "b'a'\n"
     ]
    }
   ],
   "source": [
    "num =10\n",
    "string = 'hello'\n",
    "x = 'µ'\n",
    "y = b'a'\n",
    "print('{!s}'.format(num))\n",
    "print('{!s}'.format(string))\n",
    "print('{!r}'.format(string))\n",
    "print('{!a}'.format(x))\n",
    "print('{!a}'.format(y))"
   ]
  },
  {
   "cell_type": "markdown",
   "id": "e2954cf5",
   "metadata": {},
   "source": [
    "### Template "
   ]
  },
  {
   "cell_type": "code",
   "execution_count": 6,
   "id": "f09c9486",
   "metadata": {},
   "outputs": [
    {
     "name": "stdout",
     "output_type": "stream",
     "text": [
      "this is a = 100\n"
     ]
    }
   ],
   "source": [
    "from string import Template\n",
    "a= 100\n",
    "my_string = Template(\"this is a = $a\")\n",
    "print(my_string.substitute(a=a))\n"
   ]
  },
  {
   "cell_type": "markdown",
   "id": "dc12556f",
   "metadata": {},
   "source": [
    "## pyhton documentation"
   ]
  },
  {
   "cell_type": "code",
   "execution_count": 7,
   "id": "b6ec95a0",
   "metadata": {},
   "outputs": [],
   "source": [
    "users = {'Hans': 'active', 'Éléonore': 'inactive', '景太郎': 'active'}\n",
    "\n",
    "# Strategy:  Iterate over a copy\n",
    "for user, status in users.copy().items():\n",
    "    if status == 'inactive':\n",
    "        del users[user]\n",
    "\n",
    "# Strategy:  Create a new collection\n",
    "active_users = {}\n",
    "for user, status in users.items():\n",
    "    if status == 'active':\n",
    "        active_users[user] = status"
   ]
  },
  {
   "cell_type": "code",
   "execution_count": null,
   "id": "cf195d7c",
   "metadata": {},
   "outputs": [],
   "source": []
  }
 ],
 "metadata": {
  "kernelspec": {
   "display_name": "Python 3",
   "language": "python",
   "name": "python3"
  },
  "language_info": {
   "codemirror_mode": {
    "name": "ipython",
    "version": 3
   },
   "file_extension": ".py",
   "mimetype": "text/x-python",
   "name": "python",
   "nbconvert_exporter": "python",
   "pygments_lexer": "ipython3",
   "version": "3.10.10"
  }
 },
 "nbformat": 4,
 "nbformat_minor": 5
}
