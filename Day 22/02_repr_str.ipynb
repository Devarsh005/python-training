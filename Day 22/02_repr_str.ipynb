{
 "cells": [
  {
   "cell_type": "markdown",
   "id": "96a1a24e",
   "metadata": {},
   "source": [
    "- __str__ and __repr__ methods"
   ]
  },
  {
   "cell_type": "code",
   "execution_count": 6,
   "id": "b215889a",
   "metadata": {},
   "outputs": [],
   "source": [
    "class Account :\n",
    "    'this is Acccount class'\n",
    "    def __init__(self , owner , amount = 0):\n",
    "        'this is init dunder method which is used to create a object of class'\n",
    "        self.owner = owner\n",
    "        self.amount = amount\n",
    "        self.transaction = [] \n",
    "    def __repr__(self):\n",
    "        'this is informal and nicely print statements'\n",
    "        return 'Account({!r} , {!r})'.format(self.owner, self.amount)\n",
    "    def __str__(self):\n",
    "        'this method is return official way to represent '\n",
    "        return F'account holder name {self.owner} and amount is {self.amount}'\n",
    "        \n",
    "    "
   ]
  },
  {
   "cell_type": "code",
   "execution_count": 7,
   "id": "bacb548b",
   "metadata": {},
   "outputs": [
    {
     "name": "stdout",
     "output_type": "stream",
     "text": [
      "account holder name Devarsh and amount is 100\n"
     ]
    },
    {
     "data": {
      "text/plain": [
       "\"Account('Devarsh' , 100)\""
      ]
     },
     "execution_count": 7,
     "metadata": {},
     "output_type": "execute_result"
    }
   ],
   "source": [
    "acc = Account(\"Devarsh\",100)\n",
    "print(acc)\n",
    "repr(acc)"
   ]
  },
  {
   "cell_type": "code",
   "execution_count": null,
   "id": "5b868554",
   "metadata": {},
   "outputs": [],
   "source": []
  }
 ],
 "metadata": {
  "kernelspec": {
   "display_name": "base",
   "language": "python",
   "name": "python3"
  },
  "language_info": {
   "codemirror_mode": {
    "name": "ipython",
    "version": 3
   },
   "file_extension": ".py",
   "mimetype": "text/x-python",
   "name": "python",
   "nbconvert_exporter": "python",
   "pygments_lexer": "ipython3",
   "version": "3.11.5"
  }
 },
 "nbformat": 4,
 "nbformat_minor": 5
}
