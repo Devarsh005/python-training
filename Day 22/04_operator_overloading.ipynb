{
 "cells": [
  {
   "cell_type": "markdown",
   "id": "551120f0",
   "metadata": {},
   "source": [
    "### operator overloading \n",
    "- eq\n",
    "- lt"
   ]
  },
  {
   "cell_type": "markdown",
   "id": "ef4d4c4f",
   "metadata": {},
   "source": []
  }
 ],
 "metadata": {
  "language_info": {
   "name": "python"
  }
 },
 "nbformat": 4,
 "nbformat_minor": 5
}
