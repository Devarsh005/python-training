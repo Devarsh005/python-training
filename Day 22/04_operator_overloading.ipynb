{
 "cells": [
  {
   "cell_type": "markdown",
   "id": "551120f0",
   "metadata": {},
   "source": [
    "### operator overloading \n",
    "- eq\n",
    "- lt"
   ]
  },
  {
   "cell_type": "markdown",
   "id": "ef4d4c4f",
   "metadata": {},
   "source": []
  },
  {
   "cell_type": "code",
   "execution_count": null,
   "id": "a05e4d80",
   "metadata": {},
   "outputs": [],
   "source": [
    "class Account :\n",
    "    'this is Acccount class'\n",
    "    def __init__(self , owner , amount = 0):\n",
    "        'this is init dunder method which is used to create a object of class'\n",
    "        self.owner = owner\n",
    "        self.amount = amount\n",
    "        self._transaction = [] \n",
    "    def __repr__(self):\n",
    "        'this is informal and nicely print statements'\n",
    "        return 'Account({!r} , {!r})'.format(self.owner, self.amount)\n",
    "    def __str__(self):\n",
    "        'this method is return official way to represent '\n",
    "        return F'account holder name {self.owner} and amount is {self.amount}'\n",
    "    def add_transaction(self,deposit):\n",
    "        'this method is add transction into transaction list if and only when amount is int'\n",
    "        if isinstance(deposit, int):    \n",
    "            self._transaction.append(deposit)\n",
    "        else:\n",
    "            raise ValueError('please use int for amount')\n",
    "    @property\n",
    "    def balance(self):\n",
    "        return f'total balance is {self.amount + sum(self._transaction)}'\n",
    "    def __len__(self):\n",
    "        return len(self._transaction)\n",
    "    def __getitem__(self,position):\n",
    "        item = self._transaction[position]\n",
    "        return item\n",
    "    def __reversed__(self):\n",
    "        return self[::-1]\n",
    "    def __add__(self,other_object):\n",
    "        \n",
    "    "
   ]
  },
  {
   "cell_type": "code",
   "execution_count": 8,
   "id": "03d7aba6",
   "metadata": {},
   "outputs": [
    {
     "ename": "TypeError",
     "evalue": "unsupported operand type(s) for +: 'Account' and 'Account'",
     "output_type": "error",
     "traceback": [
      "\u001b[1;31m---------------------------------------------------------------------------\u001b[0m",
      "\u001b[1;31mTypeError\u001b[0m                                 Traceback (most recent call last)",
      "Cell \u001b[1;32mIn[8], line 3\u001b[0m\n\u001b[0;32m      1\u001b[0m acc \u001b[38;5;241m=\u001b[39m Account(\u001b[38;5;124m\"\u001b[39m\u001b[38;5;124mDevarsh\u001b[39m\u001b[38;5;124m\"\u001b[39m,\u001b[38;5;241m100\u001b[39m)\n\u001b[0;32m      2\u001b[0m acc2 \u001b[38;5;241m=\u001b[39m Account(\u001b[38;5;124m'\u001b[39m\u001b[38;5;124mbhai\u001b[39m\u001b[38;5;124m'\u001b[39m)\n\u001b[1;32m----> 3\u001b[0m acc\u001b[38;5;241m+\u001b[39macc2\n",
      "\u001b[1;31mTypeError\u001b[0m: unsupported operand type(s) for +: 'Account' and 'Account'"
     ]
    }
   ],
   "source": [
    "acc = Account(\"Devarsh\",100)\n",
    "acc2 = Account('bhai')\n",
    "acc+acc2"
   ]
  },
  {
   "cell_type": "code",
   "execution_count": null,
   "id": "f64b82bb",
   "metadata": {},
   "outputs": [],
   "source": []
  }
 ],
 "metadata": {
  "kernelspec": {
   "display_name": "base",
   "language": "python",
   "name": "python3"
  },
  "language_info": {
   "codemirror_mode": {
    "name": "ipython",
    "version": 3
   },
   "file_extension": ".py",
   "mimetype": "text/x-python",
   "name": "python",
   "nbconvert_exporter": "python",
   "pygments_lexer": "ipython3",
   "version": "3.11.5"
  }
 },
 "nbformat": 4,
 "nbformat_minor": 5
}
