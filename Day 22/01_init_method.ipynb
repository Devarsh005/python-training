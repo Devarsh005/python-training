{
 "cells": [
  {
   "cell_type": "markdown",
   "id": "3f0871f8",
   "metadata": {},
   "source": [
    "### dunder method (magic methods)\n",
    "- double underscore (dunder method) - the name dunder come from double underscore "
   ]
  },
  {
   "cell_type": "code",
   "execution_count": 2,
   "id": "c7f30c95",
   "metadata": {},
   "outputs": [
    {
     "name": "stdout",
     "output_type": "stream",
     "text": [
      "the length of name string is 7\n"
     ]
    }
   ],
   "source": [
    "name = \"Devarsh\"\n",
    "print(F\"the length of name string is {len(name)}\")"
   ]
  },
  {
   "cell_type": "markdown",
   "id": "81730198",
   "metadata": {},
   "source": [
    "### __init__ "
   ]
  },
  {
   "cell_type": "code",
   "execution_count": null,
   "id": "0498553b",
   "metadata": {},
   "outputs": [],
   "source": [
    "class Account :\n",
    "    'this is Acccount class'\n",
    "    def __init__(self , owner , amount = 0):\n",
    "        'this is init dunder method which is used to create a object of class'\n",
    "        self.owner = owner\n",
    "        self.amount = amount\n",
    "        self.transaction = [] \n"
   ]
  },
  {
   "cell_type": "code",
   "execution_count": 10,
   "id": "2acbed01",
   "metadata": {},
   "outputs": [],
   "source": [
    "# 'creating a object of Account class'\n",
    "acc = Account('Devarsh')\n",
    "acc2 = Account('Mohit',2_00_00_000)"
   ]
  },
  {
   "cell_type": "markdown",
   "id": "675c9901",
   "metadata": {},
   "source": [
    "- __str__ and __repr__ methods"
   ]
  },
  {
   "cell_type": "code",
   "execution_count": null,
   "id": "632d662a",
   "metadata": {},
   "outputs": [],
   "source": []
  }
 ],
 "metadata": {
  "kernelspec": {
   "display_name": "base",
   "language": "python",
   "name": "python3"
  },
  "language_info": {
   "codemirror_mode": {
    "name": "ipython",
    "version": 3
   },
   "file_extension": ".py",
   "mimetype": "text/x-python",
   "name": "python",
   "nbconvert_exporter": "python",
   "pygments_lexer": "ipython3",
   "version": "3.11.5"
  }
 },
 "nbformat": 4,
 "nbformat_minor": 5
}
