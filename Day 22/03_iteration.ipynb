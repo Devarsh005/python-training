{
 "cells": [
  {
   "cell_type": "markdown",
   "id": "2e94a576",
   "metadata": {},
   "source": [
    "## iteration - \n",
    "- len\n",
    "- getitem\n",
    "- reversed"
   ]
  },
  {
   "cell_type": "code",
   "execution_count": 15,
   "id": "f1e911b7",
   "metadata": {},
   "outputs": [],
   "source": [
    "class Account :\n",
    "    'this is Acccount class'\n",
    "    def __init__(self , owner , amount = 0):\n",
    "        'this is init dunder method which is used to create a object of class'\n",
    "        self.owner = owner\n",
    "        self.amount = amount\n",
    "        self._transaction = [] \n",
    "    def __repr__(self):\n",
    "        'this is informal and nicely print statements'\n",
    "        return 'Account({!r} , {!r})'.format(self.owner, self.amount)\n",
    "    def __str__(self):\n",
    "        'this method is return official way to represent '\n",
    "        return F'account holder name {self.owner} and amount is {self.amount}'\n",
    "    def add_transaction(self,deposit):\n",
    "        'this method is add transction into transaction list if and only when amount is int'\n",
    "        if isinstance(deposit, int):    \n",
    "            self._transaction.append(deposit)\n",
    "        else:\n",
    "            raise ValueError('please use int for amount')\n",
    "    def balance(self):\n",
    "        return f'total balance is {self.amount + sum(self._transaction)}'\n",
    "    "
   ]
  },
  {
   "cell_type": "code",
   "execution_count": 17,
   "id": "45b42788",
   "metadata": {},
   "outputs": [
    {
     "name": "stdout",
     "output_type": "stream",
     "text": [
      "total balance is 10\n",
      "total balance is 420\n"
     ]
    }
   ],
   "source": [
    "acc = Account(\"Devarsh\",10)\n",
    "repr(acc)\n",
    "print(acc.balance())\n",
    "acc.add_transaction(200)\n",
    "acc.add_transaction(10)\n",
    "acc.add_transaction(30)\n",
    "acc.add_transaction(80)\n",
    "acc.add_transaction(90)\n",
    "print(acc.balance())"
   ]
  },
  {
   "cell_type": "code",
   "execution_count": null,
   "id": "9efe2485",
   "metadata": {},
   "outputs": [],
   "source": []
  }
 ],
 "metadata": {
  "kernelspec": {
   "display_name": "base",
   "language": "python",
   "name": "python3"
  },
  "language_info": {
   "codemirror_mode": {
    "name": "ipython",
    "version": 3
   },
   "file_extension": ".py",
   "mimetype": "text/x-python",
   "name": "python",
   "nbconvert_exporter": "python",
   "pygments_lexer": "ipython3",
   "version": "3.11.5"
  }
 },
 "nbformat": 4,
 "nbformat_minor": 5
}
