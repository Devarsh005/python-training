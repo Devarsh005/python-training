{
 "cells": [
  {
   "cell_type": "markdown",
   "id": "2e94a576",
   "metadata": {},
   "source": [
    "## iteration - \n",
    "- len\n",
    "- getitem\n",
    "- reversed"
   ]
  },
  {
   "cell_type": "code",
   "execution_count": 53,
   "id": "f1e911b7",
   "metadata": {},
   "outputs": [],
   "source": [
    "class Account :\n",
    "    'this is Acccount class'\n",
    "    def __init__(self , owner , amount = 0):\n",
    "        'this is init dunder method which is used to create a object of class'\n",
    "        self.owner = owner\n",
    "        self.amount = amount\n",
    "        self._transaction = [] \n",
    "    def __repr__(self):\n",
    "        'this is informal and nicely print statements'\n",
    "        return 'Account({!r} , {!r})'.format(self.owner, self.amount)\n",
    "    def __str__(self):\n",
    "        'this method is return official way to represent '\n",
    "        return F'account holder name {self.owner} and amount is {self.amount}'\n",
    "    def add_transaction(self,deposit):\n",
    "        'this method is add transction into transaction list if and only when amount is int'\n",
    "        if isinstance(deposit, int):    \n",
    "            self._transaction.append(deposit)\n",
    "        else:\n",
    "            raise ValueError('please use int for amount')\n",
    "    @property\n",
    "    def balance(self):\n",
    "        return f'total balance is {self.amount + sum(self._transaction)}'\n",
    "    def __len__(self):\n",
    "        return len(self._transaction)\n",
    "    def __getitem__(self,position):\n",
    "        item = self._transaction[position]\n",
    "        return item\n",
    "    def __reversed__(self):\n",
    "        return self[::-1]\n",
    "    "
   ]
  },
  {
   "cell_type": "code",
   "execution_count": 54,
   "id": "45b42788",
   "metadata": {},
   "outputs": [
    {
     "name": "stdout",
     "output_type": "stream",
     "text": [
      "total balance is 10\n",
      "total balance is 420\n"
     ]
    }
   ],
   "source": [
    "acc = Account(\"Devarsh\",10)\n",
    "repr(acc)\n",
    "print(acc.balance)\n",
    "acc.add_transaction(200)\n",
    "acc.add_transaction(10)\n",
    "acc.add_transaction(30)\n",
    "acc.add_transaction(80)\n",
    "acc.add_transaction(90)\n",
    "print(acc.balance)\n"
   ]
  },
  {
   "cell_type": "code",
   "execution_count": null,
   "id": "9efe2485",
   "metadata": {},
   "outputs": [
    {
     "ename": "TypeError",
     "evalue": "object of type 'Account' has no len()",
     "output_type": "error",
     "traceback": [
      "\u001b[1;31m---------------------------------------------------------------------------\u001b[0m",
      "\u001b[1;31mTypeError\u001b[0m                                 Traceback (most recent call last)",
      "Cell \u001b[1;32mIn[27], line 1\u001b[0m\n\u001b[1;32m----> 1\u001b[0m \u001b[38;5;28mprint\u001b[39m(\u001b[38;5;28mlen\u001b[39m(acc))\n",
      "\u001b[1;31mTypeError\u001b[0m: object of type 'Account' has no len()"
     ]
    }
   ],
   "source": [
    "len(acc)\n"
   ]
  },
  {
   "cell_type": "code",
   "execution_count": 26,
   "id": "bf1289e6",
   "metadata": {},
   "outputs": [
    {
     "ename": "TypeError",
     "evalue": "'Account' object is not iterable",
     "output_type": "error",
     "traceback": [
      "\u001b[1;31m---------------------------------------------------------------------------\u001b[0m",
      "\u001b[1;31mTypeError\u001b[0m                                 Traceback (most recent call last)",
      "Cell \u001b[1;32mIn[26], line 1\u001b[0m\n\u001b[1;32m----> 1\u001b[0m \u001b[38;5;28;01mfor\u001b[39;00m i \u001b[38;5;129;01min\u001b[39;00m acc:\n\u001b[0;32m      2\u001b[0m     \u001b[38;5;28mprint\u001b[39m(i)\n",
      "\u001b[1;31mTypeError\u001b[0m: 'Account' object is not iterable"
     ]
    }
   ],
   "source": [
    "for i in acc:\n",
    "    print(i)"
   ]
  },
  {
   "cell_type": "code",
   "execution_count": 29,
   "id": "aba102bc",
   "metadata": {},
   "outputs": [
    {
     "ename": "TypeError",
     "evalue": "'Account' object is not subscriptable",
     "output_type": "error",
     "traceback": [
      "\u001b[1;31m---------------------------------------------------------------------------\u001b[0m",
      "\u001b[1;31mTypeError\u001b[0m                                 Traceback (most recent call last)",
      "Cell \u001b[1;32mIn[29], line 1\u001b[0m\n\u001b[1;32m----> 1\u001b[0m acc[\u001b[38;5;241m0\u001b[39m:\u001b[38;5;241m2\u001b[39m]\n",
      "\u001b[1;31mTypeError\u001b[0m: 'Account' object is not subscriptable"
     ]
    }
   ],
   "source": [
    "acc[0:2]"
   ]
  },
  {
   "cell_type": "code",
   "execution_count": 36,
   "id": "4cbcb035",
   "metadata": {},
   "outputs": [
    {
     "data": {
      "text/plain": [
       "5"
      ]
     },
     "execution_count": 36,
     "metadata": {},
     "output_type": "execute_result"
    }
   ],
   "source": [
    "len(acc)"
   ]
  },
  {
   "cell_type": "code",
   "execution_count": 48,
   "id": "f19a7e27",
   "metadata": {},
   "outputs": [
    {
     "name": "stdout",
     "output_type": "stream",
     "text": [
      "200\n",
      "10\n",
      "30\n",
      "80\n",
      "90\n"
     ]
    }
   ],
   "source": [
    "for i in acc:\n",
    "    print(i)"
   ]
  },
  {
   "cell_type": "code",
   "execution_count": 50,
   "id": "9f8ffac4",
   "metadata": {},
   "outputs": [
    {
     "data": {
      "text/plain": [
       "30"
      ]
     },
     "execution_count": 50,
     "metadata": {},
     "output_type": "execute_result"
    }
   ],
   "source": [
    "acc[2]"
   ]
  },
  {
   "cell_type": "code",
   "execution_count": 51,
   "id": "fe381f21",
   "metadata": {},
   "outputs": [
    {
     "data": {
      "text/plain": [
       "[200, 10, 30, 80, 90]"
      ]
     },
     "execution_count": 51,
     "metadata": {},
     "output_type": "execute_result"
    }
   ],
   "source": [
    "acc[:]"
   ]
  },
  {
   "cell_type": "code",
   "execution_count": 52,
   "id": "25d1b34f",
   "metadata": {},
   "outputs": [
    {
     "data": {
      "text/plain": [
       "[30, 80, 90]"
      ]
     },
     "execution_count": 52,
     "metadata": {},
     "output_type": "execute_result"
    }
   ],
   "source": [
    "acc[2:]"
   ]
  },
  {
   "cell_type": "code",
   "execution_count": 55,
   "id": "d7000173",
   "metadata": {},
   "outputs": [
    {
     "data": {
      "text/plain": [
       "[90, 80, 30, 10, 200]"
      ]
     },
     "execution_count": 55,
     "metadata": {},
     "output_type": "execute_result"
    }
   ],
   "source": [
    "reversed(acc)"
   ]
  },
  {
   "cell_type": "code",
   "execution_count": null,
   "id": "8dea3d5a",
   "metadata": {},
   "outputs": [],
   "source": []
  }
 ],
 "metadata": {
  "kernelspec": {
   "display_name": "base",
   "language": "python",
   "name": "python3"
  },
  "language_info": {
   "codemirror_mode": {
    "name": "ipython",
    "version": 3
   },
   "file_extension": ".py",
   "mimetype": "text/x-python",
   "name": "python",
   "nbconvert_exporter": "python",
   "pygments_lexer": "ipython3",
   "version": "3.11.5"
  }
 },
 "nbformat": 4,
 "nbformat_minor": 5
}
